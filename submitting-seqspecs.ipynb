{
 "cells": [
  {
   "cell_type": "markdown",
   "id": "expected-boutique",
   "metadata": {
    "slideshow": {
     "slide_type": "slide"
    }
   },
   "source": [
    "# Thousands of seqspecs\n",
    "\n",
    "- github https://github.com/detrout/igvf-seq-spec-demo/\n",
    "- Presentation https://woldlab.caltech.edu/~diane/igvf-seq-spec-demo/submitting-seqspecs.slides.html#/\n",
    "- Notebook https://woldlab.caltech.edu/~diane/igvf-seq-spec-demo/submitting-seqspecs.html#"
   ]
  },
  {
   "cell_type": "markdown",
   "id": "9f563e65",
   "metadata": {
    "slideshow": {
     "slide_type": "slide"
    }
   },
   "source": [
    "# Outline\n",
    "\n",
    "This is a simplification of my figuring out how to submit seqspec files to the IGVF DACC.\n",
    "\n",
    "- [Python environment setup](#Setup)\n",
    "- [Jinja Templating](#Jinja)\n",
    "- [Seqspec template function](#Template)\n",
    "- [Find datasets missing seqspecs](#Find-datasets-missing-seqspecs)\n",
    "- [Generating a seqspec](#Generating-a-seqspec)\n",
    "- [Seqspec submission functions](#Seqspec-Submission-functions)\n",
    "- [Create seqspec objects for remaining fastqs](#Create-seqspec-objects-for-remaining-fastqs)"
   ]
  },
  {
   "cell_type": "markdown",
   "id": "6121b169",
   "metadata": {
    "slideshow": {
     "slide_type": "slide"
    }
   },
   "source": [
    "# Why seqspec?\n",
    "\n",
    "In ENCODE there were some experiments where the details of the barcode structure were never provided so when the person who did the experiment moved on there was no way to reprocess those samples.\n",
    "\n",
    "And thus seqspec\n",
    "\n",
    "However no one wants to generate thousands of seqspec, so I started working on automating seqspec generation."
   ]
  },
  {
   "cell_type": "markdown",
   "id": "a9e9ec57",
   "metadata": {
    "slideshow": {
     "slide_type": "slide"
    }
   },
   "source": [
    "Seqspec needs a fairly significant amount of information which can come from a local LIMS or spreadsheets, to make a more general example, I decided to try to generate seqspec files from information posted on the portal.\n",
    "\n",
    "For me, this required that my measurements set have the following properties.\n",
    "\n",
    "- protocols\n",
    "- platform id\n",
    "- sequencing kit information\n",
    "- submitted fastqs"
   ]
  },
  {
   "cell_type": "markdown",
   "id": "1322bf09",
   "metadata": {
    "slideshow": {
     "slide_type": "slide"
    }
   },
   "source": [
    "With that information,\n",
    "\n",
    "- a templating engine\n",
    "- the IGVF portal API\n",
    "- and a few hard coded variables\n",
    "\n",
    "I was able to create valid seqspecs files and attach them to the measurement set and the fastqs associated with a single sequencing run."
   ]
  },
  {
   "cell_type": "markdown",
   "id": "67bc1f6c",
   "metadata": {
    "slideshow": {
     "slide_type": "slide"
    }
   },
   "source": [
    "One measurement run will have several fastqs attached to it organized by illumina read type and sequencing run.  The number of different read types will vary depending on the assay.\n",
    "\n",
    "<table>\n",
    "    <thead>\n",
    "        <tr><td>sequencing_run</td><td><b>R1</b></td><td><b>R2</b></td><td><b>I1</b></td><td><b>[R3/I2]...</b></td></tr>\n",
    "    </thead>\n",
    "    <tbody>\n",
    "        <tr>\n",
    "            <td><b>1</b>\n",
    "            <td>run1/Sublibrary_7_S7_L001_R1_001.fastq.gz</td>\n",
    "            <td>run1/Sublibrary_7_S7_L001_R2_001.fastq.gz</td>\n",
    "            <td>run1/Sublibrary_7_S7_L001_I1_001.fastq.gz</td>\n",
    "            <td>...</td>\n",
    "        </tr>\n",
    "        <tr>\n",
    "            <td><b>2</b>\n",
    "            <td>run1/Sublibrary_7_S7_L002_R1_001.fastq.gz</td>\n",
    "            <td>run1/Sublibrary_7_S7_L002_R2_001.fastq.gz</td>\n",
    "            <td>run1/Sublibrary_7_S7_L002_I1_001.fastq.gz</td>\n",
    "            <td>...</td>\n",
    "        </tr>\n",
    "        <tr>\n",
    "            <td><b>3</b>\n",
    "            <td>run2/Sublibrary_7_S7_L002_R1_001.fastq.gz</td>\n",
    "            <td>run2/Sublibrary_7_S7_L002_R2_001.fastq.gz</td>\n",
    "            <td>run2/Sublibrary_7_S7_L002_I1_001.fastq.gz</td>\n",
    "            <td>...</td>\n",
    "        </tr>\n",
    "    </tbody>\n",
    "</table>\n",
    "\n",
    "you'll need a seqspec for each set of files that should be treated as a single set.\n",
    "\n",
    "The rest of this notebook is about grouping those runs and generating a seqspec for each one."
   ]
  },
  {
   "cell_type": "markdown",
   "id": "systematic-binary",
   "metadata": {
    "slideshow": {
     "slide_type": "slide"
    }
   },
   "source": [
    "# Setup\n",
    "\n",
    "We will need to import a variety of standard python components, boto3, and jinja\n",
    "\n",
    "Navigate down for the detailed code blocks"
   ]
  },
  {
   "cell_type": "code",
   "execution_count": 1,
   "id": "irish-queue",
   "metadata": {
    "slideshow": {
     "slide_type": "subslide"
    }
   },
   "outputs": [],
   "source": [
    "import enum\n",
    "import gzip\n",
    "import hashlib\n",
    "from io import StringIO, BytesIO\n",
    "import json\n",
    "from jsonschema import Draft4Validator\n",
    "import logging\n",
    "import numpy\n",
    "import os\n",
    "from pathlib import Path\n",
    "import pandas\n",
    "import requests\n",
    "import sys\n",
    "from urllib.parse import urlparse, urljoin\n",
    "import yaml"
   ]
  },
  {
   "cell_type": "code",
   "execution_count": 2,
   "id": "least-senate",
   "metadata": {
    "slideshow": {
     "slide_type": "subslide"
    }
   },
   "outputs": [],
   "source": [
    "try:\n",
    "    import boto3\n",
    "except ImportError:\n",
    "    !{sys.executable} -m pip install --user boto3\n",
    "    import boto3\n",
    "    \n",
    "from botocore.exceptions import ClientError\n",
    "    "
   ]
  },
  {
   "cell_type": "code",
   "execution_count": 3,
   "id": "double-break",
   "metadata": {
    "slideshow": {
     "slide_type": "subslide"
    }
   },
   "outputs": [],
   "source": [
    "try:\n",
    "    from jinja2 import Environment\n",
    "except ImportError:\n",
    "    !{sys.executable} -m pip install --user jinja2\n",
    "    from jinja2 import Environment\n",
    "\n",
    "from jinja2 import FileSystemLoader, select_autoescape, Undefined, StrictUndefined, make_logging_undefined\n",
    "\n",
    "logger = logging.getLogger(__name__)\n",
    "LoggingUndefined = make_logging_undefined(\n",
    "    logger=logger,\n",
    "    base=Undefined\n",
    ")\n",
    "\n",
    "env = Environment(\n",
    "    loader=FileSystemLoader(\"templates\"),\n",
    "    autoescape=select_autoescape(),\n",
    "    undefined=LoggingUndefined,\n",
    ")"
   ]
  },
  {
   "cell_type": "code",
   "execution_count": null,
   "id": "be39f4f0",
   "metadata": {
    "slideshow": {
     "slide_type": "subslide"
    }
   },
   "outputs": [],
   "source": []
  },
  {
   "cell_type": "markdown",
   "id": "bcb29fd2",
   "metadata": {
    "slideshow": {
     "slide_type": "slide"
    }
   },
   "source": [
    "# Import seqspec validator\n",
    "\n",
    "To make sure our seqspecs are valid before submitting, I imported the parts seqspec necessary for running them from code instead of using the command line interface.\n",
    "\n",
    "I have the repository checked out into ~/proj/seqspec. This block should either import it for me, or install it if someone elese runs it.\n",
    "\n",
    "See below for details"
   ]
  },
  {
   "cell_type": "code",
   "execution_count": 4,
   "id": "fleet-pillow",
   "metadata": {
    "slideshow": {
     "slide_type": "subslide"
    }
   },
   "outputs": [],
   "source": [
    "try:\n",
    "    import seqspec\n",
    "except ImportError:\n",
    "    # change ~/proj/seqspec to whever you have seqspec cloned to.\n",
    "    seqspec_root = Path(\"~/proj/seqspec\").expanduser()\n",
    "    if seqspec_root.exists() and str(seqspec_root) not in sys.path:\n",
    "        sys.path.append(str(seqspec_root))\n",
    "    else:\n",
    "        # Once seqspec is updated\n",
    "        #!{sys.executable} -m pip install --user seqspec\n",
    "        # Currently the IGVF pipelines need a development branch\n",
    "        # On linux systems with newer versions of python you might need --break-system-packages or to \n",
    "        # use a virtualenv or conda See https://peps.python.org/pep-0668/ for discussion \n",
    "        !{sys.executable} -m python3 -m pip install --user git+https://github.com/pachterlab/seqspec.git#e1ae2eb7e3fe18a3e1b73c4f97dc803d68e76a69\n",
    "    import seqspec"
   ]
  },
  {
   "cell_type": "markdown",
   "id": "usual-census",
   "metadata": {
    "slideshow": {
     "slide_type": "subslide"
    }
   },
   "source": [
    "Import pieces of seqspec that we need for this notebook."
   ]
  },
  {
   "cell_type": "code",
   "execution_count": 5,
   "id": "entire-faculty",
   "metadata": {
    "slideshow": {
     "slide_type": "-"
    }
   },
   "outputs": [],
   "source": [
    "from seqspec.Assay import Assay\n",
    "from seqspec.Region import Region\n",
    "from seqspec.Region import Onlist\n",
    "from seqspec.utils import load_spec_stream\n",
    "from seqspec.seqspec_index import run_index, get_index\n",
    "from seqspec.seqspec_print import run_print_sequence_spec, run_print_library_tree, run_print_library_png\n",
    "from seqspec.seqspec_onlist import run_list_onlists, run_onlist_read, run_find_by_type"
   ]
  },
  {
   "cell_type": "markdown",
   "id": "64ae9253",
   "metadata": {
    "slideshow": {
     "slide_type": "subslide"
    }
   },
   "source": [
    "## Utilities for seqspec validation\n",
    "\n",
    "Some helper functions because the seqspec library wasn't really written for this use case."
   ]
  },
  {
   "cell_type": "code",
   "execution_count": 6,
   "id": "nearby-canon",
   "metadata": {
    "slideshow": {
     "slide_type": "-"
    }
   },
   "outputs": [],
   "source": [
    "def seqspec_validate(schema, spec):\n",
    "    \"\"\"Validate a yaml object against a json schema\n",
    "    \"\"\"\n",
    "    validator = Draft4Validator(schema)\n",
    "\n",
    "    for idx, error in enumerate(validator.iter_errors(spec), 1):\n",
    "        print(f\"[{idx}] {error.message}\")\n",
    "\n",
    "def load_spec(filename):\n",
    "    with open(filename, \"rt\") as instream:\n",
    "        data = yaml.load(instream, Loader=yaml.Loader)\n",
    "        for r in data.assay_spec:\n",
    "            r.set_parent_id(None)\n",
    "    return data\n",
    "\n",
    "schema_path = seqspec_root / \"seqspec\"/ \"schema\" / \"seqspec.schema.json\"\n",
    "with open(schema_path, \"rt\") as instream:\n",
    "    seqspec_schema = json.load(instream)        "
   ]
  },
  {
   "cell_type": "markdown",
   "id": "sharp-quick",
   "metadata": {
    "slideshow": {
     "slide_type": "slide"
    }
   },
   "source": [
    "# Import portal API\n",
    "\n",
    "I have my own API <a href=\"https://github.com/detrout/encoded_client\">encoded_client</a> for interacting with the IGVF database server (which is very much like the old ENCODE database server) it is similar in purpose to <a href=\"https://igvf-utils.readthedocs.io/\">igvf-utils</a>.\n",
    "\n",
    "See below for details"
   ]
  },
  {
   "cell_type": "code",
   "execution_count": 7,
   "id": "vocal-nutrition",
   "metadata": {
    "slideshow": {
     "slide_type": "subslide"
    }
   },
   "outputs": [],
   "source": [
    "try:\n",
    "    from encoded_client import encoded\n",
    "except ImportError:\n",
    "    encoded_root = Path(\"~/proj/encoded_client\").expanduser()\n",
    "    if encoded_root.exists() and str(encoded_root) not in sys.path:\n",
    "        sys.path.append(str(encoded_root))\n",
    "    else:\n",
    "        !{sys.executable} -m pip install --user encoded_client\n",
    "        \n",
    "    from encoded_client import encoded\n",
    "\n",
    "from encoded_client.encoded import filter_aws_credentials\n",
    "from encoded_client.submission import parse_s3_url"
   ]
  },
  {
   "cell_type": "markdown",
   "id": "increasing-entity",
   "metadata": {
    "slideshow": {
     "slide_type": "subslide"
    }
   },
   "source": [
    "encoded_client will pull submitter credentials from either DCC_API_KEY and DCC_SECRET_KEY or from a .netrc file loaded from your home directory. (replacing the {DCC_API_KEY} and {DCC_SECRET_KEY} strings with your specific values.)\n",
    "\n",
    "The format of a .netrc file is a plain text file with records of the format:\n",
    "\n",
    "<pre>machine api.sandbox.igvf.org login {DCC_API_KEY} password {DCC_SECRET_KEY}</pre>\n",
    "\n",
    "Or api.data.igvf.org\n",
    "\n",
    "(it's also possible to list the fields on separate lines, but I think it's easier to read when they're on one line)\n",
    "\n",
    "or after creating the server object call:\n",
    "\n",
    "<pre>server.username = \"{DCC_API_KEY}\"\n",
    "server.password = \"{DCC_SECRET_KEY}\"</pre>\n",
    "\n"
   ]
  },
  {
   "cell_type": "markdown",
   "id": "valuable-meditation",
   "metadata": {
    "slideshow": {
     "slide_type": "slide"
    }
   },
   "source": [
    "# Variables\n",
    "\n",
    "We need to specify which server we're using and our award and submitting lab ids."
   ]
  },
  {
   "cell_type": "code",
   "execution_count": 8,
   "id": "alleged-hebrew",
   "metadata": {
    "slideshow": {
     "slide_type": "-"
    }
   },
   "outputs": [],
   "source": [
    "#server_name = \"api.data.igvf.org\"\n",
    "server_name = \"api.sandbox.igvf.org\"\n",
    "award = \"/awards/HG012077/\"\n",
    "lab = \"/labs/ali-mortazavi/\"\n",
    "\n",
    "server = encoded.ENCODED(server_name)\n",
    "igvf_validator = encoded.DCCValidator(server)\n",
    "\n",
    "# check below for a dictionary to help cache protal objects"
   ]
  },
  {
   "cell_type": "markdown",
   "id": "7648e0bf",
   "metadata": {
    "slideshow": {
     "slide_type": "subslide"
    }
   },
   "source": [
    "Simple object to cache object lookups"
   ]
  },
  {
   "cell_type": "code",
   "execution_count": 9,
   "id": "8ffbf396",
   "metadata": {
    "slideshow": {
     "slide_type": "-"
    }
   },
   "outputs": [],
   "source": [
    "class CachedTerms:\n",
    "    def __init__(self, server):\n",
    "        self.server = server\n",
    "        self._cache = {}\n",
    "        \n",
    "    def __getitem__(self, key):\n",
    "        if key in self._cache:\n",
    "            return self._cache[key]\n",
    "        \n",
    "        obj = self.server.get_json(key)\n",
    "        if obj is not None:\n",
    "            self._cache[key] = obj\n",
    "            return obj\n",
    "        \n",
    "server_cache = CachedTerms(server)"
   ]
  },
  {
   "cell_type": "markdown",
   "id": "d143a688",
   "metadata": {
    "slideshow": {
     "slide_type": "slide"
    }
   },
   "source": [
    "# Jinja"
   ]
  },
  {
   "cell_type": "markdown",
   "id": "ebc47e68",
   "metadata": {},
   "source": [
    "[Jinjia](https://jinja.palletsprojects.com/) is a fairly popular templating language for python.\n",
    "\n",
    "it supports conditionals, loops, variable substitutions, and even function calls. However for seqspec we just need to be able to substitute in variables we collect from elsewhere.\n",
    "\n",
    "Here's an example of one of the template read blocks showing some of the variables that will get replaced.\n",
    "\n",
    "<pre>\n",
    "- !Read\n",
    "  read_id: {{ read1_accession }}.fastq.gz\n",
    "  name: Read 1 fastq for {{ read1_accession }}\n",
    "  modaility: rna\n",
    "  primer_id: truseq_read1\n",
    "  min_len: {{ read1_min_length }}\n",
    "  max_len: {{ read1_max_length }}\n",
    "  strand: pos\n",
    "</pre>"
   ]
  },
  {
   "cell_type": "markdown",
   "id": "f1b741e3",
   "metadata": {},
   "source": [
    "# Filter ProtocolsIO urls\n",
    "\n",
    "The ProtocolsIO URLS are a bit long, so add a mapping to a short name."
   ]
  },
  {
   "cell_type": "code",
   "execution_count": 10,
   "id": "bf0e7a2e",
   "metadata": {
    "slideshow": {
     "slide_type": "-"
    }
   },
   "outputs": [],
   "source": [
    "class ProtocolsIO(enum.StrEnum):\n",
    "    splitseq_100k_v2 = \"https://www.protocols.io/view/evercode-wt-v2-2-1-eq2lyj9relx9/v1\"\n",
    "    splitseq_1M_v2 = \"https://www.protocols.io/view/evercode-wt-mega-v2-2-1-8epv5xxrng1b/v1\"\n",
    "    ont_library_prep = \"https://www.protocols.io/view/ont-library-prep-for-split-seq-cdna-eq2lyj1xmlx9/v1\"\n",
    "    splitseq_single_index = \"https://www.protocols.io/view/evercode-single-index-pcr-5jyl82k9rl2w/v1\"\n",
    "    splitseq_dual_index = \"https://www.protocols.io/view/evercode-dual-index-pcr-yxmvmeqe5g3p/v1\"\n",
    "    \n",
    "\n",
    "def get_protocol_used_for_index(protocols):\n",
    "    # Python 3.12 enums supports in directly\n",
    "    protocols = [ProtocolsIO(p) for p in protocols if p in ProtocolsIO.__members__.values()]\n",
    "\n",
    "    if len(protocols) == 0:\n",
    "        raise ValueError(f\"Unable to find information by {protocols}\")\n",
    "\n",
    "    return protocols"
   ]
  },
  {
   "cell_type": "markdown",
   "id": "allied-cargo",
   "metadata": {
    "slideshow": {
     "slide_type": "slide"
    }
   },
   "source": [
    "# Template variables\n",
    "\n",
    "First build up lists of barcodes onlists needed for this protocol the names will be passed to the template. The combinitorial barcoding schemes like parse or shareseq need to specify several barcode files."
   ]
  },
  {
   "cell_type": "code",
   "execution_count": 11,
   "id": "ffd74243",
   "metadata": {
    "slideshow": {
     "slide_type": "-"
    }
   },
   "outputs": [],
   "source": [
    "def get_barcodes_from_protocols(protocols):\n",
    "    if ProtocolsIO.splitseq_100k_v2 in protocols:\n",
    "        return {\n",
    "        # onlist1_n96_v4\n",
    "        \"barcode_1_url\": \"https://data.igvf.org/tabular-files/IGVFFI0924TKJO/@@download/IGVFFI0924TKJO.txt.gz\",\n",
    "        \"barcode_1_location\": \"remote\",\n",
    "        \"barcode_1_md5\": \"6d5016e63f121b6a64fb3907dd83f358\",\n",
    "        \"barcode_2_url\": \"https://data.igvf.org/tabular-files/IGVFFI1138MCVX/@@download/IGVFFI1138MCVX.txt.gz\",\n",
    "        \"barcode_2_location\": \"remote\",\n",
    "        \"barcode_2_md5\": \"1452e8ef104e6edf686fab8956172072\",        \n",
    "        \"barcode_3_url\": \"https://data.igvf.org/tabular-files/IGVFFI1138MCVX/@@download/IGVFFI1138MCVX.txt.gz\",\n",
    "        \"barcode_3_location\": \"remote\",\n",
    "        \"barcode_3_md5\": \"1452e8ef104e6edf686fab8956172072\",\n",
    "        }\n",
    "    elif ProtocolsIO.splitseq_1M_v2 in protocols:\n",
    "        return {\n",
    "            # need to add barcode urls\n",
    "            #onlist1_n192_v4\n",
    "            \"barcode_1_location\": \"remote\",        \n",
    "            \"barcode_1_url\": \"https://data.igvf.org/tabular-files/IGVFFI2591OFQO/@@download/IGVFFI2591OFQO.txt.gz\",\n",
    "            \"barcode_1_md5\": \"5c3b70034e9cef5de735dc9d4f3fdbde\",\n",
    "            \"barcode_2_location\": \"remote\",        \n",
    "            \"barcode_2_url\": \"https://data.igvf.org/tabular-files/IGVFFI1138MCVX/@@download/IGVFFI1138MCVX.txt.gz\",\n",
    "            \"barcode_2_md5\": \"1452e8ef104e6edf686fab8956172072\",\n",
    "            \"barcode_3_location\": \"remote\",\n",
    "            \"barcode_3_url\": \"https://data.igvf.org/tabular-files/IGVFFI1138MCVX/@@download/IGVFFI1138MCVX.txt.gz\",\n",
    "            \"barcode_3_md5\": \"1452e8ef104e6edf686fab8956172072\",\n",
    "        }\n",
    "    else:\n",
    "        raise ValueError(\"Unrecognized barcode protocol\")"
   ]
  },
  {
   "cell_type": "markdown",
   "id": "b981b3cc",
   "metadata": {
    "slideshow": {
     "slide_type": "slide"
    }
   },
   "source": [
    "Information about library kits, organized by protocol and for us single versus dual illumina index."
   ]
  },
  {
   "cell_type": "code",
   "execution_count": 12,
   "id": "e97973f9",
   "metadata": {},
   "outputs": [],
   "source": [
    "def get_library_kit_from_protocols(protocols):\n",
    "    if ProtocolsIO.ont_library_prep in protocols:\n",
    "        return {\n",
    "            \"library_protocol\": \"Any\",\n",
    "            \"library_kit\": \"cDNA Exome Capture v1.0.1\",\n",
    "            \"sequence_kit\": \"ONT Ligation Sequencing Kit V14\",\n",
    "        }\n",
    "\n",
    "    if ProtocolsIO.splitseq_100k_v2 in protocols:\n",
    "        parse_kit_name = \"Evercode WT v2.0.1\"\n",
    "    elif ProtocolsIO.splitseq_1M_v2 in protocols:\n",
    "        parse_kit_name = \"Evercode WT Mega v2.0.1\"\n",
    "    else:\n",
    "        raise ValueError(\"Missing splitseq protocol\")\n",
    "    if ProtocolsIO.splitseq_single_index in protocols:\n",
    "        illumina_kit_name = \"single index\"\n",
    "    elif ProtocolsIO.splitseq_dual_index in protocols:\n",
    "        illumina_kit_name = \"dual index\"\n",
    "    else:\n",
    "        raise ValueError(\"Missing illumina protocol\")\n",
    "    context = {\n",
    "        \"library_protocol\": \"Any\",\n",
    "        \"library_kit\": f\"{parse_kit_name} {illumina_kit_name}\"\n",
    "    }\n",
    "    return context"
   ]
  },
  {
   "cell_type": "markdown",
   "id": "dcf47e2c",
   "metadata": {
    "slideshow": {
     "slide_type": "slide"
    }
   },
   "source": [
    "Using protocol to select which seqspec template to use"
   ]
  },
  {
   "cell_type": "code",
   "execution_count": 13,
   "id": "pointed-worcester",
   "metadata": {
    "slideshow": {
     "slide_type": "-"
    }
   },
   "outputs": [],
   "source": [
    "def get_templates_by_protocols(protocols):\n",
    "    if ProtocolsIO.splitseq_single_index in protocols:\n",
    "        return \"parse-wt-mega-v2-single-index-libspec-1.yaml.j2\"\n",
    "    elif ProtocolsIO.splitseq_dual_index in protocols:\n",
    "        return \"parse-wt-mega-v2-dual-index-libspec-1.yaml.j2\"\n",
    "    elif ProtocolsIO.ont_library_prep in protocols:\n",
    "        return \"parse-wt-mega-v2-nanopore.yaml.j2\"\n",
    "    else:\n",
    "        raise ValueError(\"Unrecognized protocols {}\".format(protocols))\n",
    "    "
   ]
  },
  {
   "cell_type": "markdown",
   "id": "reserved-ghost",
   "metadata": {
    "slideshow": {
     "slide_type": "slide"
    }
   },
   "source": [
    "Search for measurement sets from our lab and that are missing seqspecs."
   ]
  },
  {
   "cell_type": "code",
   "execution_count": 14,
   "id": "center-private",
   "metadata": {},
   "outputs": [
    {
     "name": "stdout",
     "output_type": "stream",
     "text": [
      "20\n"
     ]
    },
    {
     "data": {
      "text/plain": [
       "['/measurement-sets/TSTDS25106370/',\n",
       " '/measurement-sets/TSTDS32005063/',\n",
       " '/measurement-sets/TSTDS30294230/',\n",
       " '/measurement-sets/TSTDS95237342/',\n",
       " '/measurement-sets/TSTDS48877173/',\n",
       " '/measurement-sets/TSTDS69666634/',\n",
       " '/measurement-sets/TSTDS95760802/',\n",
       " '/measurement-sets/TSTDS07432728/',\n",
       " '/measurement-sets/TSTDS34582101/',\n",
       " '/measurement-sets/TSTDS72923185/',\n",
       " '/measurement-sets/TSTDS84503921/',\n",
       " '/measurement-sets/TSTDS12663199/',\n",
       " '/measurement-sets/TSTDS90515305/',\n",
       " '/measurement-sets/TSTDS70002954/',\n",
       " '/measurement-sets/TSTDS06772346/',\n",
       " '/measurement-sets/TSTDS02882566/',\n",
       " '/measurement-sets/TSTDS74497326/',\n",
       " '/measurement-sets/TSTDS10802686/',\n",
       " '/measurement-sets/TSTDS48294221/',\n",
       " '/measurement-sets/TSTDS09179588/']"
      ]
     },
     "execution_count": 14,
     "metadata": {},
     "output_type": "execute_result"
    }
   ],
   "source": [
    "query = f\"/search/?type=MeasurementSet&lab.title=Ali+Mortazavi%2C+UCI\"\\\n",
    "         \"&audit.NOT_COMPLIANT.category=missing+sequence+specification\"\n",
    "\n",
    "graph = server.get_json(query, limit=2000)\n",
    "to_process = [x[\"@id\"] for x in graph[\"@graph\"]]\n",
    "# some test server datasets were set up in ways incompatble with this notebook.\n",
    "if server.server == \"api.sandbox.igvf.org\":\n",
    "    problems = set([\"/measurement-sets/TSTDS36584014/\", \"/measurement-sets/TSTDS51545328/\", \"/measurement-sets/TSTDS95340953/\", \"/measurement-sets/TSTDS43282126/\", \"/measurement-sets/TSTDS76216718/\"])\n",
    "    to_process = [x for x in to_process if x not in problems]\n",
    "print(len(to_process))\n",
    "to_process"
   ]
  },
  {
   "cell_type": "markdown",
   "id": "1c32363b",
   "metadata": {
    "slideshow": {
     "slide_type": "slide"
    }
   },
   "source": [
    "Just as an aside searches and end-points like https://api.sandbox.igvf.org/measurement-sets/ return a json-ld collection.\n",
    "\n",
    "<pre>\n",
    "{\n",
    "  \"@id\": \"/search/?type=Measuremen…le=Ali+Mortazavi%2C+UCI\",\n",
    "  \"@graph\": [ ... ],\n",
    "  \"@type\": [\"Search\"],\n",
    "  \"total\": 27\n",
    "}\n",
    "</pre>\n",
    "\n",
    "For many searches the objects in the @graph may only be a subset of all the attributes, so I frequently do a search and then request the fully detailed object.\n",
    "\n",
    "<code format=\"python\">    for row in response[\"@graph\"]:\n",
    "       detail = server.get_json(row[\"@id\"])\n",
    "       ... do stuff\n",
    "</code>"
   ]
  },
  {
   "cell_type": "code",
   "execution_count": 33,
   "id": "atmospheric-bidder",
   "metadata": {
    "slideshow": {
     "slide_type": "skip"
    }
   },
   "outputs": [],
   "source": [
    "#measurement_test_id = \"/measurement-sets/TSTDS32005063/\"\n",
    "measurement_test_id = \"/measurement-sets/TSTDS12663199/\"  #Nanopore"
   ]
  },
  {
   "cell_type": "markdown",
   "id": "5773abaa",
   "metadata": {
    "slideshow": {
     "slide_type": "slide"
    }
   },
   "source": [
    "## Processing measurement sets\n",
    "\n",
    "The measurement_set lists all the files attached to it in a single [\"files\"] list. However we need to process seqspecs by sequencing_run, so we'll need to find the fastqs and group them by sequencing run.\n",
    "\n",
    "And as a feature I should implement if there's already seqspec configuration files attached to the measurement set should detect that and warn about it."
   ]
  },
  {
   "cell_type": "markdown",
   "id": "2b1d0bec",
   "metadata": {
    "slideshow": {
     "slide_type": "slide"
    }
   },
   "source": [
    "Build up a data structure of reads organized by sequencing run."
   ]
  },
  {
   "cell_type": "code",
   "execution_count": 34,
   "id": "capable-jewelry",
   "metadata": {},
   "outputs": [
    {
     "name": "stdout",
     "output_type": "stream",
     "text": [
      "1 None igvf_b01/nanopore/igvfb01_13H_lig-ss_1.fastq.gz\n",
      "2 None igvf_b01/nanopore/igvfb01_13H_lig-ss_2.fastq.gz\n"
     ]
    }
   ],
   "source": [
    "def get_sequence_files(measurement_set):\n",
    "    paired_files = {}\n",
    "    for file in measurement_set[\"files\"]:        \n",
    "        sequence = server.get_json(file[\"@id\"])\n",
    "        file_format = sequence[\"file_format\"]\n",
    "        if file_format in (\"fastq\",):\n",
    "            sequence_run = sequence[\"sequencing_run\"]\n",
    "            illumina_read_type = sequence.get(\"illumina_read_type\")\n",
    "            paired_files.setdefault(sequence_run, {})[illumina_read_type] = sequence\n",
    "        \n",
    "    return paired_files\n",
    "\n",
    "measurement = server.get_json(measurement_test_id)\n",
    "protocols = measurement[\"protocols\"]\n",
    "run_files = get_sequence_files(measurement)\n",
    "for run in sorted(run_files):\n",
    "    for read in sorted(run_files[run]):\n",
    "        print(run, read, run_files[run][read][\"submitted_file_name\"])"
   ]
  },
  {
   "cell_type": "markdown",
   "id": "f5915827",
   "metadata": {
    "slideshow": {
     "slide_type": "slide"
    }
   },
   "source": [
    "# Generating a seqspec\n",
    "\n",
    "Introducing functions to build the seqspec from information in the notebook and what's been posted to the portal.\n",
    "\n",
    "I made sure to include the sequencing platform, sequencing_kit, and protocols in my measurement set objects so I could reuse them when generating seqspecs"
   ]
  },
  {
   "cell_type": "markdown",
   "id": "ecf580b0",
   "metadata": {
    "slideshow": {
     "slide_type": "slide"
    }
   },
   "source": [
    "# Rendering logic\n",
    "\n",
    "- First find protocol based variables and templates\n",
    "- Then merge values from a dictionary indexed by illumina_read_type that represents one sequencing_run row generated get_sequence_files()\n",
    "\n",
    "<pre>\n",
    "{\"R1\": {\"@id\": ... },\n",
    " \"R2\": {\"@id\": ....}}\n",
    "</pre>\n",
    "\n",
    "- render the template to a string\n",
    "- load the string into the seqspec library\n",
    "- call update_spec to fix the joined regions\n",
    "- validate the seqspec\n",
    "- if validation passes return the seqspec text using to_YAML()\n",
    "\n",
    "Broken into smaller functions for discussion."
   ]
  },
  {
   "cell_type": "markdown",
   "id": "676e0dbb",
   "metadata": {
    "slideshow": {
     "slide_type": "slide"
    }
   },
   "source": [
    "We need to define the variables that will be passed to the Jinja templating engine."
   ]
  },
  {
   "cell_type": "code",
   "execution_count": 35,
   "id": "101117fb",
   "metadata": {
    "slideshow": {
     "slide_type": "-"
    }
   },
   "outputs": [],
   "source": [
    "def generate_illumina_seqspec_context(protocols, run_files):\n",
    "    platform = run_files[\"R1\"][\"sequencing_platform\"]    \n",
    "    context = {\n",
    "        \"read1_accession\": run_files[\"R1\"][\"accession\"],\n",
    "        \"read1_url\": server.prepare_url(run_files[\"R1\"][\"href\"]),\n",
    "        \"read1_min_length\": run_files[\"R1\"][\"minimum_read_length\"],\n",
    "        \"read1_max_length\": run_files[\"R1\"][\"maximum_read_length\"],\n",
    "\n",
    "        \"read2_accession\": run_files[\"R2\"][\"accession\"],\n",
    "        \"read2_url\": server.prepare_url(run_files[\"R2\"][\"href\"]),\n",
    "        \"read2_min_length\": run_files[\"R2\"][\"minimum_read_length\"],\n",
    "        \"read2_max_length\": run_files[\"R2\"][\"maximum_read_length\"],\n",
    "\n",
    "        \"sequence_kit\": run_files[\"R1\"][\"sequencing_kit\"],\n",
    "        \"sequence_protocol\": server_cache[platform][\"term_name\"],\n",
    "    }\n",
    "\n",
    "    context.update(get_barcodes_from_protocols(protocols))\n",
    "    context.update(get_library_kit_from_protocols(protocols))\n",
    "    \n",
    "    return context"
   ]
  },
  {
   "cell_type": "code",
   "execution_count": 36,
   "id": "4989e211",
   "metadata": {
    "slideshow": {
     "slide_type": "slide"
    }
   },
   "outputs": [],
   "source": [
    "def generate_nanopore_seqspec_context(protocols, run_files):\n",
    "    platform = run_files[None][\"sequencing_platform\"]    \n",
    "    context = {\n",
    "        \"read1_accession\": run_files[None][\"accession\"],\n",
    "        \"read1_url\": server.prepare_url(run_files[None][\"href\"]),\n",
    "        \"read1_min_length\": run_files[None][\"minimum_read_length\"],\n",
    "        \"read1_max_length\": run_files[None][\"maximum_read_length\"],\n",
    "\n",
    "        \"sequence_kit\": run_files[None][\"sequencing_kit\"],\n",
    "        \"sequence_protocol\": server_cache[platform][\"term_name\"],\n",
    "    }\n",
    "\n",
    "    context.update(get_barcodes_from_protocols(protocols))\n",
    "    context.update(get_library_kit_from_protocols(protocols))\n",
    "    \n",
    "    return context"
   ]
  },
  {
   "cell_type": "code",
   "execution_count": 37,
   "id": "26f8df23",
   "metadata": {
    "slideshow": {
     "slide_type": "slide"
    }
   },
   "outputs": [],
   "source": [
    "def generate_seqspec_context(protocols, run_files):\n",
    "    if ProtocolsIO.splitseq_single_index in protocols:\n",
    "        return generate_illumina_seqspec_context(protocols, run_files)\n",
    "    elif ProtocolsIO.splitseq_single_index in protocols:\n",
    "        return generate_illumina_seqspec_context(protocols, run_files)\n",
    "    elif ProtocolsIO.ont_library_prep in protocols:\n",
    "        return generate_nanopore_seqspec_context(protocols, run_files)\n",
    "    else:\n",
    "        raise ValueError(\"Unknown protocol {}\".format(protocols))"
   ]
  },
  {
   "cell_type": "markdown",
   "id": "272019dc",
   "metadata": {
    "slideshow": {
     "slide_type": "slide"
    }
   },
   "source": [
    "With a filled in context dictionary and we can lookup our template, render it, and test that it's valid."
   ]
  },
  {
   "cell_type": "code",
   "execution_count": 38,
   "id": "a4faee08",
   "metadata": {
    "slideshow": {
     "slide_type": "-"
    }
   },
   "outputs": [],
   "source": [
    "def generate_seqspec_for_run(protocols, run_files):\n",
    "    protocol = get_protocol_used_for_index(protocols)\n",
    "    template_name = get_templates_by_protocols(protocols)\n",
    "\n",
    "    context = generate_seqspec_context(protocol, run_files)\n",
    "    template = env.get_template(template_name)\n",
    "    example_yaml = template.render(context)\n",
    "    \n",
    "    # validate the generated seqspec file.\n",
    "    example_spec = load_spec_stream(StringIO(example_yaml))\n",
    "    example_spec.update_spec()\n",
    "    seqspec_validate(seqspec_schema, example_spec.to_dict())\n",
    "\n",
    "    return example_spec.to_YAML()"
   ]
  },
  {
   "cell_type": "markdown",
   "id": "e605bfec",
   "metadata": {
    "slideshow": {
     "slide_type": "slide"
    }
   },
   "source": [
    "And an example of generate_seqspec_for_run being called"
   ]
  },
  {
   "cell_type": "code",
   "execution_count": 39,
   "id": "b9862b72",
   "metadata": {
    "scrolled": false
   },
   "outputs": [
    {
     "name": "stderr",
     "output_type": "stream",
     "text": [
      "Template variable warning: 'total_min_length' is undefined\n",
      "Template variable warning: 'total_max_length' is undefined\n"
     ]
    },
    {
     "name": "stdout",
     "output_type": "stream",
     "text": [
      "[1] 36090 is greater than the maximum of 2048\n",
      "[2] 35871 is greater than the maximum of 2048\n",
      "!Assay\n",
      "seqspec_version: 0.1.1\n",
      "assay_id: Evercode-WT-mega-nanpore-v2\n",
      "doi: https://docs.google.com/presentation/d/17yKh6xE5b9Mo4DaXx5uPvFZOIHOW0kbK-QsU2ECwx8c/edit#slide=id.g29abb1440dc_0_500\n",
      "date: 13 August 2024\n",
      "name: Parse Evercode mega WT v2 using nanopore\n",
      "description: split-pool ligation-based ONT transcriptome sequencing\n",
      "modalities:\n",
      "- rna\n",
      "lib_struct: ''\n",
      "library_protocol: Any\n",
      "library_kit: cDNA Exome Capture v1.0.1\n",
      "sequence_protocol: ONT GridION X5\n",
      "sequence_kit: ONT Ligation Sequencing Kit V14\n",
      "sequence_spec:\n",
      "- !Read\n",
      "  read_id: TSTFI39351339.fastq.gz\n",
      "  name: Fastq for TSTFI39351339\n",
      "  modality: rna\n",
      "  primer_id: ont-top\n",
      "  min_len: 11\n",
      "  max_len: 36025\n",
      "  strand: pos\n",
      "library_spec:\n",
      "- !Region\n",
      "  region_id: rna\n",
      "  region_type: rna\n",
      "  name: rna\n",
      "  sequence_type: joined\n",
      "  sequence: TTTTTTTTCCTGTACTTCGTTCAGTTACGTATTGCTAAGCAGTGGTATCAACGCAGAGTGAATGGGXXXXXXXXXXXXXXXXXNNNNNNNNGTGGCCGATGTTTCGCATCGGCGTACGACTNNNNNNNNATCCACGTGCTTGAGACTGTGGNNNNNNNNXXXXXXXXXXAGATCGGAAGAGCACACGTCTGAACTCCAGTCACGCAATACGTAACTGAACGAAGTACAGG\n",
      "  min_len: 230\n",
      "  max_len: 36090\n",
      "  onlist: null\n",
      "  regions:\n",
      "  - !Region\n",
      "    region_id: ont-top\n",
      "    region_type: custom_primer\n",
      "    name: ont-top\n",
      "    sequence_type: fixed\n",
      "    sequence: TTTTTTTTCCTGTACTTCGTTCAGTTACGTATTGCT\n",
      "    min_len: 36\n",
      "    max_len: 36\n",
      "    onlist: null\n",
      "    regions: null\n",
      "    parent_id: rna\n",
      "  - !Region\n",
      "    region_id: tso\n",
      "    region_type: custom_primer\n",
      "    name: tso\n",
      "    sequence_type: fixed\n",
      "    sequence: AAGCAGTGGTATCAACGCAGAGTGAATGGG\n",
      "    min_len: 30\n",
      "    max_len: 30\n",
      "    onlist: null\n",
      "    regions: null\n",
      "    parent_id: rna\n",
      "  - !Region\n",
      "    region_id: cDNA\n",
      "    region_type: cdna\n",
      "    name: cDNA\n",
      "    sequence_type: random\n",
      "    sequence: XXXXXXXXXXX\n",
      "    min_len: 11\n",
      "    max_len: 35871\n",
      "    onlist: null\n",
      "    regions: null\n",
      "    parent_id: rna\n",
      "  - !Region\n",
      "    region_id: primer\n",
      "    region_type: custom_primer\n",
      "    name: primer\n",
      "    sequence_type: random\n",
      "    sequence: XXXXXX\n",
      "    min_len: 6\n",
      "    max_len: 6\n",
      "    onlist: null\n",
      "    regions: null\n",
      "    parent_id: rna\n",
      "  - !Region\n",
      "    region_id: barcode-1\n",
      "    region_type: barcode\n",
      "    name: barcode-1\n",
      "    sequence_type: onlist\n",
      "    sequence: NNNNNNNN\n",
      "    min_len: 8\n",
      "    max_len: 8\n",
      "    onlist: !Onlist\n",
      "      filename: barcode-1_onlist_v2.txt\n",
      "      md5: 5c3b70034e9cef5de735dc9d4f3fdbde\n",
      "      location: local\n",
      "    regions: null\n",
      "    parent_id: rna\n",
      "  - !Region\n",
      "    region_id: linker-1\n",
      "    region_type: linker\n",
      "    name: linker-1\n",
      "    sequence_type: fixed\n",
      "    sequence: GTGGCCGATGTTTCGCATCGGCGTACGACT\n",
      "    min_len: 30\n",
      "    max_len: 30\n",
      "    onlist: null\n",
      "    regions: null\n",
      "    parent_id: rna\n",
      "  - !Region\n",
      "    region_id: barcode-2\n",
      "    region_type: barcode\n",
      "    name: barcode-2\n",
      "    sequence_type: onlist\n",
      "    sequence: NNNNNNNN\n",
      "    min_len: 8\n",
      "    max_len: 8\n",
      "    onlist: !Onlist\n",
      "      filename: barcode-23_onlist.txt\n",
      "      md5: 1452e8ef104e6edf686fab8956172072\n",
      "      location: local\n",
      "    regions: null\n",
      "    parent_id: rna\n",
      "  - !Region\n",
      "    region_id: linker-2\n",
      "    region_type: linker\n",
      "    name: linker-2\n",
      "    sequence_type: fixed\n",
      "    sequence: ATCCACGTGCTTGAGACTGTGG\n",
      "    min_len: 22\n",
      "    max_len: 22\n",
      "    onlist: null\n",
      "    regions: null\n",
      "    parent_id: rna\n",
      "  - !Region\n",
      "    region_id: barcode-3\n",
      "    region_type: barcode\n",
      "    name: barcode-3\n",
      "    sequence_type: onlist\n",
      "    sequence: NNNNNNNN\n",
      "    min_len: 8\n",
      "    max_len: 8\n",
      "    onlist: !Onlist\n",
      "      filename: barcode-23_onlist.txt\n",
      "      md5: 1452e8ef104e6edf686fab8956172072\n",
      "      location: local\n",
      "    regions: null\n",
      "    parent_id: rna\n",
      "  - !Region\n",
      "    region_id: umi\n",
      "    region_type: umi\n",
      "    name: umi\n",
      "    sequence_type: random\n",
      "    sequence: XXXXXXXXXX\n",
      "    min_len: 10\n",
      "    max_len: 10\n",
      "    onlist: null\n",
      "    regions: null\n",
      "    parent_id: rna\n",
      "  - !Region\n",
      "    region_id: truseq_read2\n",
      "    region_type: truseq_read2\n",
      "    name: Illumina Read 2\n",
      "    sequence_type: fixed\n",
      "    sequence: AGATCGGAAGAGCACACGTCTGAACTCCAGTCAC\n",
      "    min_len: 34\n",
      "    max_len: 34\n",
      "    onlist: null\n",
      "    regions: null\n",
      "    parent_id: rna\n",
      "  - !Region\n",
      "    region_id: ont-bottom\n",
      "    region_type: custom_primer\n",
      "    sequence_type: fixed\n",
      "    sequence: GCAATACGTAACTGAACGAAGTACAGG\n",
      "    name: ont-bottom\n",
      "    min_len: 27\n",
      "    max_len: 27\n",
      "    onlist: null\n",
      "    regions: null\n",
      "    parent_id: rna\n",
      "  parent_id: null\n",
      "\n"
     ]
    }
   ],
   "source": [
    "print(generate_seqspec_for_run(protocols, run_files[1]))"
   ]
  },
  {
   "cell_type": "markdown",
   "id": "ec95003d",
   "metadata": {
    "slideshow": {
     "slide_type": "slide"
    }
   },
   "source": [
    "# Test seqspec\n",
    "\n",
    "Check barcode locations for your tool.\n",
    "\n",
    "```\n",
    "seqspec index -m rna -r TSTFI09417350.fastq.gz,TSTFI18957175.fastq.gz -t kb TSTDS32005063.yaml\n",
    "1,10,18,1,48,56,1,78,86:1,0,10:0,0,140\n",
    "```\n",
    "check generated barcode list is correct.\n",
    "\n",
    "```\n",
    "seqspec onlist -m rna -f multi -r barcode -s region-type TSTDS32005063.yaml\n",
    "/woldlab/loxcyc/home/diane/proj/igvf-seq-spec-demo/onlist_joined.txt\n",
    "diane@trog:~/proj/seqspec$ head onlist_joined.txt \n",
    "AACGTGAT AACGTGAT CATTCCTA\n",
    "AAACATCG AAACATCG CTTCATCA\n",
    "ATGCCTAA ATGCCTAA CCTATATC\n",
    "```\n"
   ]
  },
  {
   "cell_type": "markdown",
   "id": "annual-bullet",
   "metadata": {
    "slideshow": {
     "slide_type": "slide"
    }
   },
   "source": [
    "# Seqspec Submission functions"
   ]
  },
  {
   "cell_type": "markdown",
   "id": "4d2ac088",
   "metadata": {
    "slideshow": {
     "slide_type": "slide"
    }
   },
   "source": [
    "Post a seqspec object to the portal and capture the upload credentials from the response"
   ]
  },
  {
   "cell_type": "code",
   "execution_count": 23,
   "id": "fc3cc880",
   "metadata": {},
   "outputs": [],
   "source": [
    "def create_seqspec_metadata_object(seqspec_metadata):\n",
    "    \"\"\"Post a seq spec metadata object to the portal\n",
    "    \"\"\"\n",
    "    response = server.post_json(\"configuration_file\", seqspec_metadata)\n",
    "    if response[\"status\"] == \"success\":\n",
    "        graph = response[\"@graph\"]\n",
    "        if len(graph) != 1:\n",
    "            print(\"Strange number of result objects {}\".format(len(graph)))        \n",
    "\n",
    "        print(\"Upload of {} succeeded\". format(graph[0][\"@id\"]))\n",
    "        seqspec_metadata.update({\n",
    "            \"@id\": graph[0][\"@id\"],\n",
    "            \"accession\": graph[0][\"accession\"],\n",
    "            \"uuid\": graph[0][\"uuid\"],\n",
    "        })\n",
    "    else:\n",
    "        print(filter_aws_credentials(response))\n",
    "        raise RuntimeError(\"Unable to create metadata object\")\n",
    "        \n",
    "    return graph[0].get(\"upload_credentials\")"
   ]
  },
  {
   "cell_type": "markdown",
   "id": "73c92d48",
   "metadata": {},
   "source": [
    "Refactor credential refresh logic for shorter upload function"
   ]
  },
  {
   "cell_type": "code",
   "execution_count": 24,
   "id": "4427aaf0",
   "metadata": {
    "slideshow": {
     "slide_type": "skip"
    }
   },
   "outputs": [],
   "source": [
    "def refresh_credentials(credentials, seqspec_metadata):\n",
    "    if credentials is None:\n",
    "        print(\"retreving new credentials\")\n",
    "        response = server.post_json(\"{}/@@upload\".format(seqspec_metadata[\"@id\"]), {})\n",
    "        print(filter_aws_credentials(response))\n",
    "        if response[\"status\"] == \"success\":\n",
    "            assert len(response[\"@graph\"]) == 1, \"upload_seqspec_file Unexpected graph length {}\".format(len(response[\"@graph\"]))\n",
    "            graph = response[\"@graph\"]\n",
    "            credentials = graph[0][\"upload_credentials\"]\n",
    "            return credentials\n",
    "        else:\n",
    "            raise ValueError(\"Unable to get credentials for {}\".format(seqspec_metadata[\"@id\"]))\n",
    "    else:\n",
    "        return credentials"
   ]
  },
  {
   "cell_type": "markdown",
   "id": "7da7ef74",
   "metadata": {
    "slideshow": {
     "slide_type": "slide"
    }
   },
   "source": [
    "Using the credentials, the seqspec_metadata, and the seqspec text, post the seqspec to the portal. "
   ]
  },
  {
   "cell_type": "code",
   "execution_count": 25,
   "id": "941d494b",
   "metadata": {},
   "outputs": [],
   "source": [
    "def upload_seqspec_file(credentials, seqspec_metadata, seqspec_contents):        \n",
    "    \"\"\"upload the seqspec contents as a file to s3\"\"\"\n",
    "    if not isinstance(seqspec_contents, bytes):\n",
    "        raise ValueError(\"seqspec_contents needs to be a gzipped byte array\")\n",
    "\n",
    "    credentials = refresh_credentials(credentials, seqspec_metadata)\n",
    "\n",
    "    s3_client = boto3.client(\n",
    "        's3', \n",
    "        aws_access_key_id=credentials[\"access_key\"], \n",
    "        aws_secret_access_key=credentials[\"secret_key\"], \n",
    "        aws_session_token=credentials[\"session_token\"])\n",
    "\n",
    "    bucket, target = parse_s3_url(credentials[\"upload_url\"])\n",
    "    s3_client.upload_fileobj(\n",
    "        BytesIO(seqspec_contents),\n",
    "        bucket,\n",
    "        target)"
   ]
  },
  {
   "cell_type": "markdown",
   "id": "3983ef45",
   "metadata": {
    "slideshow": {
     "slide_type": "slide"
    }
   },
   "source": [
    "A really irritating thing about gzip is that includes the current time in the compression header, which means by default each new compression run will get a new md5sum.\n",
    "\n",
    "But I want to use the md5sum to see if I've already posted the file...\n",
    "\n",
    "The python gzip utilities let you set the time, so you can force a reproducable time, so this code sets the gzip creation time to 1970 Jan 1 00:00 UTC.  (UNIX time 0).\n",
    "\n",
    "`gzip.compress(buffer, mtime=0)`\n",
    "\n",
    "Or for the gzip shell command\n",
    "\n",
    "`gzip -n/--no-name filename`"
   ]
  },
  {
   "cell_type": "markdown",
   "id": "5c8d0625",
   "metadata": {
    "slideshow": {
     "slide_type": "slide"
    }
   },
   "source": [
    "Construct seqspec object, see if it's already posted (by md5sum), and if not create the object and post the seqspec."
   ]
  },
  {
   "cell_type": "markdown",
   "id": "29c81d2a",
   "metadata": {},
   "source": [
    "- build list of file_ids this seqspec is for\n",
    "- compress file\n",
    "- calculate md5 of gzipped file\n",
    "- create seqspec_object\n",
    "- get_or_update_seqspec\n",
    "  - search for seqspec object, if available do the following.\n",
    "  - upload gzipped seqspec contents if its missing\n",
    "  - update seqspec_object with @id, accession, uuid\n",
    "- if md5 was not found, \n",
    "  - create the metadata object\n",
    "  - upload compressed contents"
   ]
  },
  {
   "cell_type": "code",
   "execution_count": 26,
   "id": "0e1c11ba",
   "metadata": {
    "slideshow": {
     "slide_type": "slide"
    }
   },
   "outputs": [],
   "source": [
    "def get_seqspec_of(sequencing_run_files):\n",
    "    # Once the seqspec configuration file and metadata has been created and uploaded\n",
    "    # attach the the configuration file to it's fastqs.\n",
    "    seqspec_of = []\n",
    "    for read in sequencing_run_files:\n",
    "        # update the file record in case it changed\n",
    "        seqspec_of.append(sequencing_run_files[read][\"@id\"])\n",
    "\n",
    "    return seqspec_of"
   ]
  },
  {
   "cell_type": "code",
   "execution_count": 27,
   "id": "fe893e7f",
   "metadata": {
    "slideshow": {
     "slide_type": "slide"
    }
   },
   "outputs": [],
   "source": [
    "def create_seqspec_configuration_metadata(file_set, md5, seqspec_of):\n",
    "    # Construct the configuration_file object for the DACC portal\n",
    "    seqspec_metadata = {\n",
    "        \"award\": award,\n",
    "        \"lab\": lab,\n",
    "        \"md5sum\": md5.hexdigest(),\n",
    "        \"file_format\": \"yaml\",\n",
    "        \"file_set\": file_set,\n",
    "        \"content_type\": \"seqspec\",\n",
    "        \"seqspec_of\": seqspec_of,\n",
    "    }\n",
    "    # Make sure the configuration_file passes the DACCs schema\n",
    "    igvf_validator.validate(seqspec_metadata, \"configuration_file\")\n",
    "    return seqspec_metadata"
   ]
  },
  {
   "cell_type": "code",
   "execution_count": 28,
   "id": "b30982ae",
   "metadata": {
    "slideshow": {
     "slide_type": "slide"
    }
   },
   "outputs": [],
   "source": [
    "def get_or_update_seqspec(seqspec_metadata, seqspec_gzip, md5, dry_run=True):\n",
    "    response = server.get_json(\"md5:{}\".format(seqspec_metadata[\"md5sum\"]))\n",
    "    accession = response[\"accession\"]\n",
    "    uuid = response[\"uuid\"]\n",
    "    print(\"found object {} by {}. {}\".format(\n",
    "        response[\"@id\"], seqspec_metadata[\"md5sum\"], response[\"status\"]))\n",
    "\n",
    "    for k in seqspec_metadata:\n",
    "        if seqspec_metadata[k] != response.get(k):\n",
    "            print(\"{} {} differ\".format(seqspec_metadata[k], response.get(k)))\n",
    "\n",
    "    seqspec_metadata.update({\n",
    "        \"@id\": response[\"@id\"],\n",
    "    })\n",
    "\n",
    "    if response[\"status\"] == \"in progress\":\n",
    "        if dry_run:\n",
    "            print(\"Would upload file contents {}\".format(md5.hexdigest()))\n",
    "        else:\n",
    "            upload_seqspec_file(None, seqspec_metadata, seqspec_gzip)\n",
    "\n",
    "    seqspec_metadata[\"accession\"] = accession\n",
    "    seqspec_metadata[\"uuid\"] = uuid\n",
    "    return seqspec_metadata"
   ]
  },
  {
   "cell_type": "code",
   "execution_count": 29,
   "id": "a12a43fc",
   "metadata": {
    "slideshow": {
     "slide_type": "slide"
    }
   },
   "outputs": [],
   "source": [
    "def create_and_upload_seqspec(seqspec_metadata, seqspec_data, md5, dry_run=True):\n",
    "    if dry_run:\n",
    "        print(\"Would create and upload {} for {}\".format(\n",
    "            md5.hexdigest(), seqspec_metadata[\"seqspec_of\"]))\n",
    "        for server_keys in [\"@id\", \"accession\", \"uuid\"]:\n",
    "            seqspec_metadata[server_keys] = \"would upload\"\n",
    "    else:\n",
    "        credentials = create_seqspec_metadata_object(seqspec_metadata)\n",
    "        upload_seqspec_file(credentials, seqspec_metadata, seqspec_data)  \n",
    "    return seqspec_metadata"
   ]
  },
  {
   "cell_type": "code",
   "execution_count": 30,
   "id": "cardiac-inventory",
   "metadata": {
    "slideshow": {
     "slide_type": "slide"
    }
   },
   "outputs": [],
   "source": [
    "def register_seqspec(file_set, seqspec, sequencing_run_files, dry_run=True):\n",
    "    \"\"\"Create the seqspec objects and attach them to the fastqs\n",
    "    \n",
    "    Parameters:\n",
    "    - file_set: id the seqspec should be attached to\n",
    "    - seqspec a formatted seqspec file\n",
    "    - set of file objects associated with one sequencing run\n",
    "    - dry_run flag for if we should actually post data    \n",
    "    \"\"\"\n",
    "    seqspec_of = get_seqspec_of(sequencing_run_files)\n",
    "    # reproducibly compress seqspec text\n",
    "    seqspec_gzip = gzip.compress(seqspec.encode(\"utf-8\"), mtime=0)\n",
    "    md5 = hashlib.md5(seqspec_gzip)\n",
    "    seqspec_metadata = create_seqspec_configuration_metadata(\n",
    "        file_set, md5, seqspec_of)\n",
    "    # Search the portal for the md5sum of our seqspec file to see if \n",
    "    try:\n",
    "        seqspec_metadata = get_or_update_seqspec(\n",
    "            seqspec_metadata, seqspec_gzip, md5, dry_run=dry_run)\n",
    "    except encoded.HTTPError as err:\n",
    "        # If the file has not been submitted, and we're not in dry_run mode \n",
    "        # lets submit it\n",
    "        if err.response.status_code == 404:\n",
    "            seqspec_metadata = create_and_upload_seqspec(\n",
    "                seqspec_metadata, seqspec_gzip, md5, dry_run=dry_run)\n",
    "        else:\n",
    "             print(\"Other HTTPError error {}\".format(err.response.status_code))\n",
    "    return seqspec_metadata"
   ]
  },
  {
   "cell_type": "markdown",
   "id": "russian-pontiac",
   "metadata": {
    "slideshow": {
     "slide_type": "slide"
    }
   },
   "source": [
    "# Create seqspec objects for remaining fastqs"
   ]
  },
  {
   "cell_type": "markdown",
   "id": "classified-victor",
   "metadata": {},
   "source": [
    "Now that we have a way to list all of the fastq sets, and a function to post everything to the portal, lets loop\n",
    "loop through all of our measurement_sets and posting the seqspec configuration files for all the fastqs. (Change the to_process variable to be whatever you need updated."
   ]
  },
  {
   "cell_type": "code",
   "execution_count": 31,
   "id": "995beccb",
   "metadata": {
    "scrolled": false,
    "slideshow": {
     "slide_type": "slide"
    }
   },
   "outputs": [
    {
     "name": "stdout",
     "output_type": "stream",
     "text": [
      "processing /measurement-sets/TSTDS25106370/\n"
     ]
    },
    {
     "name": "stderr",
     "output_type": "stream",
     "text": [
      "Error http status: 404 for https://api.sandbox.igvf.org/md5:e25906467a62eed63095b9922460cf56\n"
     ]
    },
    {
     "name": "stdout",
     "output_type": "stream",
     "text": [
      "Would create and upload e25906467a62eed63095b9922460cf56 for ['/sequence-files/TSTFI69373920/', '/sequence-files/TSTFI06343326/']\n"
     ]
    },
    {
     "name": "stderr",
     "output_type": "stream",
     "text": [
      "Error http status: 404 for https://api.sandbox.igvf.org/md5:77ab9bb6579a4fd1c57dffea8982bd96\n"
     ]
    },
    {
     "name": "stdout",
     "output_type": "stream",
     "text": [
      "Would create and upload 77ab9bb6579a4fd1c57dffea8982bd96 for ['/sequence-files/TSTFI50888747/', '/sequence-files/TSTFI62937837/']\n",
      "processing /measurement-sets/TSTDS32005063/\n",
      "found object /configuration-files/TSTFI93269197/ by c3efb1fcbf386f5e85100d965eb2efc7. in progress\n",
      "/awards/HG012077/ {'component': 'mapping', '@id': '/awards/HG012077/'} differ\n",
      "/labs/ali-mortazavi/ {'@id': '/labs/ali-mortazavi/', 'title': 'Ali Mortazavi, UCI'} differ\n",
      "Would upload file contents c3efb1fcbf386f5e85100d965eb2efc7\n",
      "found object /configuration-files/TSTFI78410911/ by 8dd07dfbb88549d261cfe20e18c49d43. in progress\n",
      "/awards/HG012077/ {'component': 'mapping', '@id': '/awards/HG012077/'} differ\n",
      "/labs/ali-mortazavi/ {'@id': '/labs/ali-mortazavi/', 'title': 'Ali Mortazavi, UCI'} differ\n",
      "Would upload file contents 8dd07dfbb88549d261cfe20e18c49d43\n",
      "processing /measurement-sets/TSTDS30294230/\n"
     ]
    },
    {
     "name": "stderr",
     "output_type": "stream",
     "text": [
      "Error http status: 404 for https://api.sandbox.igvf.org/md5:7d1df0bebee74103926e378ec5f0db41\n"
     ]
    },
    {
     "name": "stdout",
     "output_type": "stream",
     "text": [
      "Would create and upload 7d1df0bebee74103926e378ec5f0db41 for ['/sequence-files/TSTFI13739934/', '/sequence-files/TSTFI64867362/']\n"
     ]
    },
    {
     "name": "stderr",
     "output_type": "stream",
     "text": [
      "Error http status: 404 for https://api.sandbox.igvf.org/md5:99e1100be873c64a5d97cd74cc171890\n"
     ]
    },
    {
     "name": "stdout",
     "output_type": "stream",
     "text": [
      "Would create and upload 99e1100be873c64a5d97cd74cc171890 for ['/sequence-files/TSTFI14413084/', '/sequence-files/TSTFI81570304/']\n",
      "processing /measurement-sets/TSTDS95237342/\n",
      "found object /configuration-files/TSTFI72232735/ by 2cbdb926ccc80cb5231ceeafe251f164. in progress\n",
      "/awards/HG012077/ {'component': 'mapping', '@id': '/awards/HG012077/'} differ\n",
      "/labs/ali-mortazavi/ {'@id': '/labs/ali-mortazavi/', 'title': 'Ali Mortazavi, UCI'} differ\n",
      "Would upload file contents 2cbdb926ccc80cb5231ceeafe251f164\n",
      "found object /sequence-files/TSTFI93762898/ by d9001d493d57f2227863996fce6319d4. in progress\n",
      "/awards/HG012077/ {'component': 'mapping', '@id': '/awards/HG012077/'} differ\n",
      "/labs/ali-mortazavi/ {'@id': '/labs/ali-mortazavi/', 'title': 'Ali Mortazavi, UCI'} differ\n",
      "yaml fastq differ\n",
      "seqspec reads differ\n",
      "['/sequence-files/TSTFI85205262/', '/sequence-files/TSTFI60184104/'] None differ\n",
      "Would upload file contents d9001d493d57f2227863996fce6319d4\n",
      "processing /measurement-sets/TSTDS48877173/\n"
     ]
    },
    {
     "name": "stderr",
     "output_type": "stream",
     "text": [
      "Error http status: 404 for https://api.sandbox.igvf.org/md5:016373d235aca782f436f48a4d9562fe\n"
     ]
    },
    {
     "name": "stdout",
     "output_type": "stream",
     "text": [
      "Would create and upload 016373d235aca782f436f48a4d9562fe for ['/sequence-files/TSTFI31335076/', '/sequence-files/TSTFI43642657/']\n"
     ]
    },
    {
     "name": "stderr",
     "output_type": "stream",
     "text": [
      "Error http status: 404 for https://api.sandbox.igvf.org/md5:1c123dd1ee5788454596f79ba463e388\n"
     ]
    },
    {
     "name": "stdout",
     "output_type": "stream",
     "text": [
      "Would create and upload 1c123dd1ee5788454596f79ba463e388 for ['/sequence-files/TSTFI67467743/', '/sequence-files/TSTFI65524681/']\n"
     ]
    },
    {
     "name": "stderr",
     "output_type": "stream",
     "text": [
      "Error http status: 404 for https://api.sandbox.igvf.org/md5:75e0191557eb0e1e57ceef580e7d33ea\n"
     ]
    },
    {
     "name": "stdout",
     "output_type": "stream",
     "text": [
      "Would create and upload 75e0191557eb0e1e57ceef580e7d33ea for ['/sequence-files/TSTFI28262146/', '/sequence-files/TSTFI56488795/']\n",
      "processing /measurement-sets/TSTDS69666634/\n"
     ]
    },
    {
     "name": "stderr",
     "output_type": "stream",
     "text": [
      "Error http status: 404 for https://api.sandbox.igvf.org/md5:322ab2a0ed638b6fb1d385d8cf1138b6\n"
     ]
    },
    {
     "name": "stdout",
     "output_type": "stream",
     "text": [
      "Would create and upload 322ab2a0ed638b6fb1d385d8cf1138b6 for ['/sequence-files/TSTFI67193680/', '/sequence-files/TSTFI02934563/']\n"
     ]
    },
    {
     "name": "stderr",
     "output_type": "stream",
     "text": [
      "Error http status: 404 for https://api.sandbox.igvf.org/md5:4c5b74a2e2564f3d9883bb206d4f7a0a\n"
     ]
    },
    {
     "name": "stdout",
     "output_type": "stream",
     "text": [
      "Would create and upload 4c5b74a2e2564f3d9883bb206d4f7a0a for ['/sequence-files/TSTFI85755043/', '/sequence-files/TSTFI64550424/']\n",
      "processing /measurement-sets/TSTDS95760802/\n"
     ]
    },
    {
     "name": "stderr",
     "output_type": "stream",
     "text": [
      "Error http status: 404 for https://api.sandbox.igvf.org/md5:25b76ac9e67b8ff459c68fd935fab19f\n"
     ]
    },
    {
     "name": "stdout",
     "output_type": "stream",
     "text": [
      "Would create and upload 25b76ac9e67b8ff459c68fd935fab19f for ['/sequence-files/TSTFI12304250/', '/sequence-files/TSTFI73994529/']\n"
     ]
    },
    {
     "name": "stderr",
     "output_type": "stream",
     "text": [
      "Error http status: 404 for https://api.sandbox.igvf.org/md5:94879770ab818902c10db9a02cefcd90\n"
     ]
    },
    {
     "name": "stdout",
     "output_type": "stream",
     "text": [
      "Would create and upload 94879770ab818902c10db9a02cefcd90 for ['/sequence-files/TSTFI97464264/', '/sequence-files/TSTFI24604241/']\n",
      "processing /measurement-sets/TSTDS07432728/\n"
     ]
    },
    {
     "name": "stderr",
     "output_type": "stream",
     "text": [
      "Error http status: 404 for https://api.sandbox.igvf.org/md5:b3c623e995449f63027d14ec27f8bfea\n"
     ]
    },
    {
     "name": "stdout",
     "output_type": "stream",
     "text": [
      "Would create and upload b3c623e995449f63027d14ec27f8bfea for ['/sequence-files/TSTFI02165763/', '/sequence-files/TSTFI20418101/']\n"
     ]
    },
    {
     "name": "stderr",
     "output_type": "stream",
     "text": [
      "Error http status: 404 for https://api.sandbox.igvf.org/md5:ac13dcb366e0b4d2b31ac1bc321bb4d5\n"
     ]
    },
    {
     "name": "stdout",
     "output_type": "stream",
     "text": [
      "Would create and upload ac13dcb366e0b4d2b31ac1bc321bb4d5 for ['/sequence-files/TSTFI91347763/', '/sequence-files/TSTFI55411036/']\n",
      "processing /measurement-sets/TSTDS34582101/\n"
     ]
    },
    {
     "name": "stderr",
     "output_type": "stream",
     "text": [
      "Error http status: 404 for https://api.sandbox.igvf.org/md5:fb93c450b4f9546fde70f55c52ce9011\n"
     ]
    },
    {
     "name": "stdout",
     "output_type": "stream",
     "text": [
      "Would create and upload fb93c450b4f9546fde70f55c52ce9011 for ['/sequence-files/TSTFI61612395/', '/sequence-files/TSTFI25832476/']\n"
     ]
    },
    {
     "name": "stderr",
     "output_type": "stream",
     "text": [
      "Error http status: 404 for https://api.sandbox.igvf.org/md5:d20e418fa9daf45635898d9e34206936\n"
     ]
    },
    {
     "name": "stdout",
     "output_type": "stream",
     "text": [
      "Would create and upload d20e418fa9daf45635898d9e34206936 for ['/sequence-files/TSTFI85921201/', '/sequence-files/TSTFI76281026/']\n",
      "processing /measurement-sets/TSTDS72923185/\n"
     ]
    },
    {
     "name": "stderr",
     "output_type": "stream",
     "text": [
      "Error http status: 404 for https://api.sandbox.igvf.org/md5:40694f05d6019b9951e09fddf127dd55\n"
     ]
    },
    {
     "name": "stdout",
     "output_type": "stream",
     "text": [
      "Would create and upload 40694f05d6019b9951e09fddf127dd55 for ['/sequence-files/TSTFI29302178/', '/sequence-files/TSTFI86035976/']\n"
     ]
    },
    {
     "name": "stderr",
     "output_type": "stream",
     "text": [
      "Error http status: 404 for https://api.sandbox.igvf.org/md5:0b82abe99eadc299db87027cbe9e6513\n"
     ]
    },
    {
     "name": "stdout",
     "output_type": "stream",
     "text": [
      "Would create and upload 0b82abe99eadc299db87027cbe9e6513 for ['/sequence-files/TSTFI13094701/', '/sequence-files/TSTFI31391738/']\n",
      "processing /measurement-sets/TSTDS84503921/\n"
     ]
    },
    {
     "name": "stderr",
     "output_type": "stream",
     "text": [
      "Error http status: 404 for https://api.sandbox.igvf.org/md5:293db154dbdfef08cf5514877dcd7893\n"
     ]
    },
    {
     "name": "stdout",
     "output_type": "stream",
     "text": [
      "Would create and upload 293db154dbdfef08cf5514877dcd7893 for ['/sequence-files/TSTFI79419353/', '/sequence-files/TSTFI77049227/']\n"
     ]
    },
    {
     "name": "stderr",
     "output_type": "stream",
     "text": [
      "Error http status: 404 for https://api.sandbox.igvf.org/md5:ee3e30844f36cc0b691e22cae88d1a3f\n"
     ]
    },
    {
     "name": "stdout",
     "output_type": "stream",
     "text": [
      "Would create and upload ee3e30844f36cc0b691e22cae88d1a3f for ['/sequence-files/TSTFI87250677/', '/sequence-files/TSTFI74696208/']\n",
      "processing /measurement-sets/TSTDS12663199/\n"
     ]
    },
    {
     "name": "stderr",
     "output_type": "stream",
     "text": [
      "Template variable warning: 'total_min_length' is undefined\n",
      "Template variable warning: 'total_max_length' is undefined\n",
      "Error http status: 404 for https://api.sandbox.igvf.org/md5:c5f9f70b7e1fb0dfcfb705fde9da03e6\n",
      "Template variable warning: 'total_min_length' is undefined\n",
      "Template variable warning: 'total_max_length' is undefined\n"
     ]
    },
    {
     "name": "stdout",
     "output_type": "stream",
     "text": [
      "[1] 36090 is greater than the maximum of 2048\n",
      "[2] 35871 is greater than the maximum of 2048\n",
      "Would create and upload c5f9f70b7e1fb0dfcfb705fde9da03e6 for ['/sequence-files/TSTFI39351339/']\n"
     ]
    },
    {
     "name": "stderr",
     "output_type": "stream",
     "text": [
      "Error http status: 404 for https://api.sandbox.igvf.org/md5:2160d20322e28ade237fc74169134d5c\n"
     ]
    },
    {
     "name": "stdout",
     "output_type": "stream",
     "text": [
      "[1] 68623 is greater than the maximum of 2048\n",
      "[2] 68404 is greater than the maximum of 2048\n",
      "Would create and upload 2160d20322e28ade237fc74169134d5c for ['/sequence-files/TSTFI83879286/']\n",
      "processing /measurement-sets/TSTDS90515305/\n"
     ]
    },
    {
     "name": "stderr",
     "output_type": "stream",
     "text": [
      "Error http status: 404 for https://api.sandbox.igvf.org/md5:5a1241bb33ee5b5b6422ba569536448c\n"
     ]
    },
    {
     "name": "stdout",
     "output_type": "stream",
     "text": [
      "Would create and upload 5a1241bb33ee5b5b6422ba569536448c for ['/sequence-files/TSTFI50727311/', '/sequence-files/TSTFI51428917/']\n"
     ]
    },
    {
     "name": "stderr",
     "output_type": "stream",
     "text": [
      "Error http status: 404 for https://api.sandbox.igvf.org/md5:0f897e41e4b5f8b6012fd75b59688bf5\n"
     ]
    },
    {
     "name": "stdout",
     "output_type": "stream",
     "text": [
      "Would create and upload 0f897e41e4b5f8b6012fd75b59688bf5 for ['/sequence-files/TSTFI77839459/', '/sequence-files/TSTFI05454359/']\n",
      "processing /measurement-sets/TSTDS70002954/\n"
     ]
    },
    {
     "name": "stderr",
     "output_type": "stream",
     "text": [
      "Error http status: 404 for https://api.sandbox.igvf.org/md5:b760b935e4d7f4973e9e2cb5c9876208\n"
     ]
    },
    {
     "name": "stdout",
     "output_type": "stream",
     "text": [
      "Would create and upload b760b935e4d7f4973e9e2cb5c9876208 for ['/sequence-files/TSTFI50590157/', '/sequence-files/TSTFI86167097/']\n"
     ]
    },
    {
     "name": "stderr",
     "output_type": "stream",
     "text": [
      "Error http status: 404 for https://api.sandbox.igvf.org/md5:8b7d0fe07321a42dbf8485451d329854\n"
     ]
    },
    {
     "name": "stdout",
     "output_type": "stream",
     "text": [
      "Would create and upload 8b7d0fe07321a42dbf8485451d329854 for ['/sequence-files/TSTFI95797070/', '/sequence-files/TSTFI88258911/']\n",
      "processing /measurement-sets/TSTDS06772346/\n"
     ]
    },
    {
     "name": "stderr",
     "output_type": "stream",
     "text": [
      "Error http status: 404 for https://api.sandbox.igvf.org/md5:95592278bb9ba44a27ebdc103b7f8fc4\n"
     ]
    },
    {
     "name": "stdout",
     "output_type": "stream",
     "text": [
      "Would create and upload 95592278bb9ba44a27ebdc103b7f8fc4 for ['/sequence-files/TSTFI98557046/', '/sequence-files/TSTFI65221755/']\n"
     ]
    },
    {
     "name": "stderr",
     "output_type": "stream",
     "text": [
      "Error http status: 404 for https://api.sandbox.igvf.org/md5:0bcf50d43f6b1021f3e4a873cd66b7a9\n"
     ]
    },
    {
     "name": "stdout",
     "output_type": "stream",
     "text": [
      "Would create and upload 0bcf50d43f6b1021f3e4a873cd66b7a9 for ['/sequence-files/TSTFI36328700/', '/sequence-files/TSTFI97039425/']\n"
     ]
    },
    {
     "name": "stderr",
     "output_type": "stream",
     "text": [
      "Error http status: 404 for https://api.sandbox.igvf.org/md5:c476b16187948016697f1af3a3809fdd\n"
     ]
    },
    {
     "name": "stdout",
     "output_type": "stream",
     "text": [
      "Would create and upload c476b16187948016697f1af3a3809fdd for ['/sequence-files/TSTFI22707531/', '/sequence-files/TSTFI80176314/']\n",
      "processing /measurement-sets/TSTDS02882566/\n"
     ]
    },
    {
     "name": "stderr",
     "output_type": "stream",
     "text": [
      "Error http status: 404 for https://api.sandbox.igvf.org/md5:6569a02de9a22af9e25365c7fb8867ec\n"
     ]
    },
    {
     "name": "stdout",
     "output_type": "stream",
     "text": [
      "Would create and upload 6569a02de9a22af9e25365c7fb8867ec for ['/sequence-files/TSTFI08350418/', '/sequence-files/TSTFI98735915/']\n"
     ]
    },
    {
     "name": "stderr",
     "output_type": "stream",
     "text": [
      "Error http status: 404 for https://api.sandbox.igvf.org/md5:c8c2279b8c1c1521dba0956653f91aae\n"
     ]
    },
    {
     "name": "stdout",
     "output_type": "stream",
     "text": [
      "Would create and upload c8c2279b8c1c1521dba0956653f91aae for ['/sequence-files/TSTFI97424054/', '/sequence-files/TSTFI66828776/']\n",
      "processing /measurement-sets/TSTDS74497326/\n"
     ]
    },
    {
     "name": "stderr",
     "output_type": "stream",
     "text": [
      "Error http status: 404 for https://api.sandbox.igvf.org/md5:ff5b82f45c1529cd6ef4b915e5c38fbe\n"
     ]
    },
    {
     "name": "stdout",
     "output_type": "stream",
     "text": [
      "Would create and upload ff5b82f45c1529cd6ef4b915e5c38fbe for ['/sequence-files/TSTFI98410226/', '/sequence-files/TSTFI19155564/']\n"
     ]
    },
    {
     "name": "stderr",
     "output_type": "stream",
     "text": [
      "Error http status: 404 for https://api.sandbox.igvf.org/md5:4600d21c2e151c9dec94c214138a2a6a\n"
     ]
    },
    {
     "name": "stdout",
     "output_type": "stream",
     "text": [
      "Would create and upload 4600d21c2e151c9dec94c214138a2a6a for ['/sequence-files/TSTFI71787912/', '/sequence-files/TSTFI20299554/']\n",
      "processing /measurement-sets/TSTDS10802686/\n"
     ]
    },
    {
     "name": "stderr",
     "output_type": "stream",
     "text": [
      "Error http status: 404 for https://api.sandbox.igvf.org/md5:8fb152e8661bb52cfa1ac6cd775bd482\n"
     ]
    },
    {
     "name": "stdout",
     "output_type": "stream",
     "text": [
      "Would create and upload 8fb152e8661bb52cfa1ac6cd775bd482 for ['/sequence-files/TSTFI82139201/', '/sequence-files/TSTFI74890649/']\n"
     ]
    },
    {
     "name": "stderr",
     "output_type": "stream",
     "text": [
      "Error http status: 404 for https://api.sandbox.igvf.org/md5:5317fee00618903e857d277295aeff17\n"
     ]
    },
    {
     "name": "stdout",
     "output_type": "stream",
     "text": [
      "Would create and upload 5317fee00618903e857d277295aeff17 for ['/sequence-files/TSTFI18564333/', '/sequence-files/TSTFI81418517/']\n",
      "processing /measurement-sets/TSTDS48294221/\n"
     ]
    },
    {
     "name": "stderr",
     "output_type": "stream",
     "text": [
      "Error http status: 404 for https://api.sandbox.igvf.org/md5:e15c551f6a952eb83a68e76ebe5f1046\n"
     ]
    },
    {
     "name": "stdout",
     "output_type": "stream",
     "text": [
      "Would create and upload e15c551f6a952eb83a68e76ebe5f1046 for ['/sequence-files/TSTFI64736825/', '/sequence-files/TSTFI23342133/']\n"
     ]
    },
    {
     "name": "stderr",
     "output_type": "stream",
     "text": [
      "Error http status: 404 for https://api.sandbox.igvf.org/md5:e514a442d79e24097fffc1ec01345f49\n"
     ]
    },
    {
     "name": "stdout",
     "output_type": "stream",
     "text": [
      "Would create and upload e514a442d79e24097fffc1ec01345f49 for ['/sequence-files/TSTFI24016690/', '/sequence-files/TSTFI50184298/']\n",
      "processing /measurement-sets/TSTDS09179588/\n"
     ]
    },
    {
     "name": "stderr",
     "output_type": "stream",
     "text": [
      "Error http status: 404 for https://api.sandbox.igvf.org/md5:d6d391515e22fbe6b916c37eb4a15f21\n"
     ]
    },
    {
     "name": "stdout",
     "output_type": "stream",
     "text": [
      "Would create and upload d6d391515e22fbe6b916c37eb4a15f21 for ['/sequence-files/TSTFI26976387/', '/sequence-files/TSTFI99353688/']\n"
     ]
    },
    {
     "name": "stderr",
     "output_type": "stream",
     "text": [
      "Error http status: 404 for https://api.sandbox.igvf.org/md5:f87ddeda99aa978666dee6fc2fafa7f0\n"
     ]
    },
    {
     "name": "stdout",
     "output_type": "stream",
     "text": [
      "Would create and upload f87ddeda99aa978666dee6fc2fafa7f0 for ['/sequence-files/TSTFI94782122/', '/sequence-files/TSTFI47948343/']\n"
     ]
    }
   ],
   "source": [
    "# note for the tests we limit this to just one measurement set\n",
    "# instead of all pending measurement sets\n",
    "#to_process = [measurement_test_id]\n",
    "\n",
    "seen_md5s = set()\n",
    "generated_specs = {}\n",
    "submitted_log = []\n",
    "for measurement_id in to_process:\n",
    "    print(\"processing\", measurement_id)\n",
    "    measurement = server.get_json(measurement_id)\n",
    "    protocols = measurement[\"protocols\"]\n",
    "    run_files = get_sequence_files(measurement)\n",
    "    \n",
    "    for run_number in sorted(run_files):\n",
    "        seqspec = generate_seqspec_for_run(protocols, run_files[run_number])\n",
    "        generated_specs.setdefault(measurement_id, {}).setdefault(run_number, []).append(seqspec)\n",
    "        current_md5 = hashlib.md5(seqspec.encode(\"utf-8\")).hexdigest()\n",
    "        assert current_md5 not in seen_md5s, \"we generated the same seqspec file somehow\"\n",
    "        seen_md5s.add(current_md5)\n",
    "        submitted_log.append(\n",
    "            register_seqspec(\n",
    "                measurement_id, seqspec, run_files[run_number], dry_run=True))\n",
    "    "
   ]
  },
  {
   "cell_type": "markdown",
   "id": "seven-adolescent",
   "metadata": {
    "slideshow": {
     "slide_type": "slide"
    }
   },
   "source": [
    "Convert the results of creating these seqspecs into a pandas data frame to make it easier to save a table."
   ]
  },
  {
   "cell_type": "code",
   "execution_count": 32,
   "id": "paperback-behalf",
   "metadata": {},
   "outputs": [
    {
     "data": {
      "text/html": [
       "<div>\n",
       "<style scoped>\n",
       "    .dataframe tbody tr th:only-of-type {\n",
       "        vertical-align: middle;\n",
       "    }\n",
       "\n",
       "    .dataframe tbody tr th {\n",
       "        vertical-align: top;\n",
       "    }\n",
       "\n",
       "    .dataframe thead th {\n",
       "        text-align: right;\n",
       "    }\n",
       "</style>\n",
       "<table border=\"1\" class=\"dataframe\">\n",
       "  <thead>\n",
       "    <tr style=\"text-align: right;\">\n",
       "      <th></th>\n",
       "      <th>accession</th>\n",
       "      <th>uuid</th>\n",
       "      <th>file_set</th>\n",
       "      <th>content_type</th>\n",
       "      <th>file_format</th>\n",
       "      <th>md5sum</th>\n",
       "      <th>award</th>\n",
       "      <th>lab</th>\n",
       "    </tr>\n",
       "  </thead>\n",
       "  <tbody>\n",
       "    <tr>\n",
       "      <th>0</th>\n",
       "      <td>would upload</td>\n",
       "      <td>would upload</td>\n",
       "      <td>/measurement-sets/TSTDS25106370/</td>\n",
       "      <td>seqspec</td>\n",
       "      <td>yaml</td>\n",
       "      <td>e25906467a62eed63095b9922460cf56</td>\n",
       "      <td>/awards/HG012077/</td>\n",
       "      <td>/labs/ali-mortazavi/</td>\n",
       "    </tr>\n",
       "    <tr>\n",
       "      <th>1</th>\n",
       "      <td>would upload</td>\n",
       "      <td>would upload</td>\n",
       "      <td>/measurement-sets/TSTDS25106370/</td>\n",
       "      <td>seqspec</td>\n",
       "      <td>yaml</td>\n",
       "      <td>77ab9bb6579a4fd1c57dffea8982bd96</td>\n",
       "      <td>/awards/HG012077/</td>\n",
       "      <td>/labs/ali-mortazavi/</td>\n",
       "    </tr>\n",
       "    <tr>\n",
       "      <th>2</th>\n",
       "      <td>TSTFI93269197</td>\n",
       "      <td>8b1b68be-a34e-423d-b34c-96674598d289</td>\n",
       "      <td>/measurement-sets/TSTDS32005063/</td>\n",
       "      <td>seqspec</td>\n",
       "      <td>yaml</td>\n",
       "      <td>c3efb1fcbf386f5e85100d965eb2efc7</td>\n",
       "      <td>/awards/HG012077/</td>\n",
       "      <td>/labs/ali-mortazavi/</td>\n",
       "    </tr>\n",
       "    <tr>\n",
       "      <th>3</th>\n",
       "      <td>TSTFI78410911</td>\n",
       "      <td>f533c6b2-e94a-4e91-bbef-e6bc0ee914be</td>\n",
       "      <td>/measurement-sets/TSTDS32005063/</td>\n",
       "      <td>seqspec</td>\n",
       "      <td>yaml</td>\n",
       "      <td>8dd07dfbb88549d261cfe20e18c49d43</td>\n",
       "      <td>/awards/HG012077/</td>\n",
       "      <td>/labs/ali-mortazavi/</td>\n",
       "    </tr>\n",
       "    <tr>\n",
       "      <th>4</th>\n",
       "      <td>would upload</td>\n",
       "      <td>would upload</td>\n",
       "      <td>/measurement-sets/TSTDS30294230/</td>\n",
       "      <td>seqspec</td>\n",
       "      <td>yaml</td>\n",
       "      <td>7d1df0bebee74103926e378ec5f0db41</td>\n",
       "      <td>/awards/HG012077/</td>\n",
       "      <td>/labs/ali-mortazavi/</td>\n",
       "    </tr>\n",
       "    <tr>\n",
       "      <th>5</th>\n",
       "      <td>would upload</td>\n",
       "      <td>would upload</td>\n",
       "      <td>/measurement-sets/TSTDS30294230/</td>\n",
       "      <td>seqspec</td>\n",
       "      <td>yaml</td>\n",
       "      <td>99e1100be873c64a5d97cd74cc171890</td>\n",
       "      <td>/awards/HG012077/</td>\n",
       "      <td>/labs/ali-mortazavi/</td>\n",
       "    </tr>\n",
       "    <tr>\n",
       "      <th>6</th>\n",
       "      <td>TSTFI72232735</td>\n",
       "      <td>26869245-c662-43b1-97b8-fcd9d8717d0a</td>\n",
       "      <td>/measurement-sets/TSTDS95237342/</td>\n",
       "      <td>seqspec</td>\n",
       "      <td>yaml</td>\n",
       "      <td>2cbdb926ccc80cb5231ceeafe251f164</td>\n",
       "      <td>/awards/HG012077/</td>\n",
       "      <td>/labs/ali-mortazavi/</td>\n",
       "    </tr>\n",
       "    <tr>\n",
       "      <th>7</th>\n",
       "      <td>TSTFI93762898</td>\n",
       "      <td>9bbdc837-cc61-4edc-8ff1-10f3a67d7d6b</td>\n",
       "      <td>/measurement-sets/TSTDS95237342/</td>\n",
       "      <td>seqspec</td>\n",
       "      <td>yaml</td>\n",
       "      <td>d9001d493d57f2227863996fce6319d4</td>\n",
       "      <td>/awards/HG012077/</td>\n",
       "      <td>/labs/ali-mortazavi/</td>\n",
       "    </tr>\n",
       "    <tr>\n",
       "      <th>8</th>\n",
       "      <td>would upload</td>\n",
       "      <td>would upload</td>\n",
       "      <td>/measurement-sets/TSTDS48877173/</td>\n",
       "      <td>seqspec</td>\n",
       "      <td>yaml</td>\n",
       "      <td>016373d235aca782f436f48a4d9562fe</td>\n",
       "      <td>/awards/HG012077/</td>\n",
       "      <td>/labs/ali-mortazavi/</td>\n",
       "    </tr>\n",
       "    <tr>\n",
       "      <th>9</th>\n",
       "      <td>would upload</td>\n",
       "      <td>would upload</td>\n",
       "      <td>/measurement-sets/TSTDS48877173/</td>\n",
       "      <td>seqspec</td>\n",
       "      <td>yaml</td>\n",
       "      <td>1c123dd1ee5788454596f79ba463e388</td>\n",
       "      <td>/awards/HG012077/</td>\n",
       "      <td>/labs/ali-mortazavi/</td>\n",
       "    </tr>\n",
       "    <tr>\n",
       "      <th>10</th>\n",
       "      <td>would upload</td>\n",
       "      <td>would upload</td>\n",
       "      <td>/measurement-sets/TSTDS48877173/</td>\n",
       "      <td>seqspec</td>\n",
       "      <td>yaml</td>\n",
       "      <td>75e0191557eb0e1e57ceef580e7d33ea</td>\n",
       "      <td>/awards/HG012077/</td>\n",
       "      <td>/labs/ali-mortazavi/</td>\n",
       "    </tr>\n",
       "    <tr>\n",
       "      <th>11</th>\n",
       "      <td>would upload</td>\n",
       "      <td>would upload</td>\n",
       "      <td>/measurement-sets/TSTDS69666634/</td>\n",
       "      <td>seqspec</td>\n",
       "      <td>yaml</td>\n",
       "      <td>322ab2a0ed638b6fb1d385d8cf1138b6</td>\n",
       "      <td>/awards/HG012077/</td>\n",
       "      <td>/labs/ali-mortazavi/</td>\n",
       "    </tr>\n",
       "    <tr>\n",
       "      <th>12</th>\n",
       "      <td>would upload</td>\n",
       "      <td>would upload</td>\n",
       "      <td>/measurement-sets/TSTDS69666634/</td>\n",
       "      <td>seqspec</td>\n",
       "      <td>yaml</td>\n",
       "      <td>4c5b74a2e2564f3d9883bb206d4f7a0a</td>\n",
       "      <td>/awards/HG012077/</td>\n",
       "      <td>/labs/ali-mortazavi/</td>\n",
       "    </tr>\n",
       "    <tr>\n",
       "      <th>13</th>\n",
       "      <td>would upload</td>\n",
       "      <td>would upload</td>\n",
       "      <td>/measurement-sets/TSTDS95760802/</td>\n",
       "      <td>seqspec</td>\n",
       "      <td>yaml</td>\n",
       "      <td>25b76ac9e67b8ff459c68fd935fab19f</td>\n",
       "      <td>/awards/HG012077/</td>\n",
       "      <td>/labs/ali-mortazavi/</td>\n",
       "    </tr>\n",
       "    <tr>\n",
       "      <th>14</th>\n",
       "      <td>would upload</td>\n",
       "      <td>would upload</td>\n",
       "      <td>/measurement-sets/TSTDS95760802/</td>\n",
       "      <td>seqspec</td>\n",
       "      <td>yaml</td>\n",
       "      <td>94879770ab818902c10db9a02cefcd90</td>\n",
       "      <td>/awards/HG012077/</td>\n",
       "      <td>/labs/ali-mortazavi/</td>\n",
       "    </tr>\n",
       "    <tr>\n",
       "      <th>15</th>\n",
       "      <td>would upload</td>\n",
       "      <td>would upload</td>\n",
       "      <td>/measurement-sets/TSTDS07432728/</td>\n",
       "      <td>seqspec</td>\n",
       "      <td>yaml</td>\n",
       "      <td>b3c623e995449f63027d14ec27f8bfea</td>\n",
       "      <td>/awards/HG012077/</td>\n",
       "      <td>/labs/ali-mortazavi/</td>\n",
       "    </tr>\n",
       "    <tr>\n",
       "      <th>16</th>\n",
       "      <td>would upload</td>\n",
       "      <td>would upload</td>\n",
       "      <td>/measurement-sets/TSTDS07432728/</td>\n",
       "      <td>seqspec</td>\n",
       "      <td>yaml</td>\n",
       "      <td>ac13dcb366e0b4d2b31ac1bc321bb4d5</td>\n",
       "      <td>/awards/HG012077/</td>\n",
       "      <td>/labs/ali-mortazavi/</td>\n",
       "    </tr>\n",
       "    <tr>\n",
       "      <th>17</th>\n",
       "      <td>would upload</td>\n",
       "      <td>would upload</td>\n",
       "      <td>/measurement-sets/TSTDS34582101/</td>\n",
       "      <td>seqspec</td>\n",
       "      <td>yaml</td>\n",
       "      <td>fb93c450b4f9546fde70f55c52ce9011</td>\n",
       "      <td>/awards/HG012077/</td>\n",
       "      <td>/labs/ali-mortazavi/</td>\n",
       "    </tr>\n",
       "    <tr>\n",
       "      <th>18</th>\n",
       "      <td>would upload</td>\n",
       "      <td>would upload</td>\n",
       "      <td>/measurement-sets/TSTDS34582101/</td>\n",
       "      <td>seqspec</td>\n",
       "      <td>yaml</td>\n",
       "      <td>d20e418fa9daf45635898d9e34206936</td>\n",
       "      <td>/awards/HG012077/</td>\n",
       "      <td>/labs/ali-mortazavi/</td>\n",
       "    </tr>\n",
       "    <tr>\n",
       "      <th>19</th>\n",
       "      <td>would upload</td>\n",
       "      <td>would upload</td>\n",
       "      <td>/measurement-sets/TSTDS72923185/</td>\n",
       "      <td>seqspec</td>\n",
       "      <td>yaml</td>\n",
       "      <td>40694f05d6019b9951e09fddf127dd55</td>\n",
       "      <td>/awards/HG012077/</td>\n",
       "      <td>/labs/ali-mortazavi/</td>\n",
       "    </tr>\n",
       "    <tr>\n",
       "      <th>20</th>\n",
       "      <td>would upload</td>\n",
       "      <td>would upload</td>\n",
       "      <td>/measurement-sets/TSTDS72923185/</td>\n",
       "      <td>seqspec</td>\n",
       "      <td>yaml</td>\n",
       "      <td>0b82abe99eadc299db87027cbe9e6513</td>\n",
       "      <td>/awards/HG012077/</td>\n",
       "      <td>/labs/ali-mortazavi/</td>\n",
       "    </tr>\n",
       "    <tr>\n",
       "      <th>21</th>\n",
       "      <td>would upload</td>\n",
       "      <td>would upload</td>\n",
       "      <td>/measurement-sets/TSTDS84503921/</td>\n",
       "      <td>seqspec</td>\n",
       "      <td>yaml</td>\n",
       "      <td>293db154dbdfef08cf5514877dcd7893</td>\n",
       "      <td>/awards/HG012077/</td>\n",
       "      <td>/labs/ali-mortazavi/</td>\n",
       "    </tr>\n",
       "    <tr>\n",
       "      <th>22</th>\n",
       "      <td>would upload</td>\n",
       "      <td>would upload</td>\n",
       "      <td>/measurement-sets/TSTDS84503921/</td>\n",
       "      <td>seqspec</td>\n",
       "      <td>yaml</td>\n",
       "      <td>ee3e30844f36cc0b691e22cae88d1a3f</td>\n",
       "      <td>/awards/HG012077/</td>\n",
       "      <td>/labs/ali-mortazavi/</td>\n",
       "    </tr>\n",
       "    <tr>\n",
       "      <th>23</th>\n",
       "      <td>would upload</td>\n",
       "      <td>would upload</td>\n",
       "      <td>/measurement-sets/TSTDS12663199/</td>\n",
       "      <td>seqspec</td>\n",
       "      <td>yaml</td>\n",
       "      <td>c5f9f70b7e1fb0dfcfb705fde9da03e6</td>\n",
       "      <td>/awards/HG012077/</td>\n",
       "      <td>/labs/ali-mortazavi/</td>\n",
       "    </tr>\n",
       "    <tr>\n",
       "      <th>24</th>\n",
       "      <td>would upload</td>\n",
       "      <td>would upload</td>\n",
       "      <td>/measurement-sets/TSTDS12663199/</td>\n",
       "      <td>seqspec</td>\n",
       "      <td>yaml</td>\n",
       "      <td>2160d20322e28ade237fc74169134d5c</td>\n",
       "      <td>/awards/HG012077/</td>\n",
       "      <td>/labs/ali-mortazavi/</td>\n",
       "    </tr>\n",
       "    <tr>\n",
       "      <th>25</th>\n",
       "      <td>would upload</td>\n",
       "      <td>would upload</td>\n",
       "      <td>/measurement-sets/TSTDS90515305/</td>\n",
       "      <td>seqspec</td>\n",
       "      <td>yaml</td>\n",
       "      <td>5a1241bb33ee5b5b6422ba569536448c</td>\n",
       "      <td>/awards/HG012077/</td>\n",
       "      <td>/labs/ali-mortazavi/</td>\n",
       "    </tr>\n",
       "    <tr>\n",
       "      <th>26</th>\n",
       "      <td>would upload</td>\n",
       "      <td>would upload</td>\n",
       "      <td>/measurement-sets/TSTDS90515305/</td>\n",
       "      <td>seqspec</td>\n",
       "      <td>yaml</td>\n",
       "      <td>0f897e41e4b5f8b6012fd75b59688bf5</td>\n",
       "      <td>/awards/HG012077/</td>\n",
       "      <td>/labs/ali-mortazavi/</td>\n",
       "    </tr>\n",
       "    <tr>\n",
       "      <th>27</th>\n",
       "      <td>would upload</td>\n",
       "      <td>would upload</td>\n",
       "      <td>/measurement-sets/TSTDS70002954/</td>\n",
       "      <td>seqspec</td>\n",
       "      <td>yaml</td>\n",
       "      <td>b760b935e4d7f4973e9e2cb5c9876208</td>\n",
       "      <td>/awards/HG012077/</td>\n",
       "      <td>/labs/ali-mortazavi/</td>\n",
       "    </tr>\n",
       "    <tr>\n",
       "      <th>28</th>\n",
       "      <td>would upload</td>\n",
       "      <td>would upload</td>\n",
       "      <td>/measurement-sets/TSTDS70002954/</td>\n",
       "      <td>seqspec</td>\n",
       "      <td>yaml</td>\n",
       "      <td>8b7d0fe07321a42dbf8485451d329854</td>\n",
       "      <td>/awards/HG012077/</td>\n",
       "      <td>/labs/ali-mortazavi/</td>\n",
       "    </tr>\n",
       "    <tr>\n",
       "      <th>29</th>\n",
       "      <td>would upload</td>\n",
       "      <td>would upload</td>\n",
       "      <td>/measurement-sets/TSTDS06772346/</td>\n",
       "      <td>seqspec</td>\n",
       "      <td>yaml</td>\n",
       "      <td>95592278bb9ba44a27ebdc103b7f8fc4</td>\n",
       "      <td>/awards/HG012077/</td>\n",
       "      <td>/labs/ali-mortazavi/</td>\n",
       "    </tr>\n",
       "    <tr>\n",
       "      <th>30</th>\n",
       "      <td>would upload</td>\n",
       "      <td>would upload</td>\n",
       "      <td>/measurement-sets/TSTDS06772346/</td>\n",
       "      <td>seqspec</td>\n",
       "      <td>yaml</td>\n",
       "      <td>0bcf50d43f6b1021f3e4a873cd66b7a9</td>\n",
       "      <td>/awards/HG012077/</td>\n",
       "      <td>/labs/ali-mortazavi/</td>\n",
       "    </tr>\n",
       "    <tr>\n",
       "      <th>31</th>\n",
       "      <td>would upload</td>\n",
       "      <td>would upload</td>\n",
       "      <td>/measurement-sets/TSTDS06772346/</td>\n",
       "      <td>seqspec</td>\n",
       "      <td>yaml</td>\n",
       "      <td>c476b16187948016697f1af3a3809fdd</td>\n",
       "      <td>/awards/HG012077/</td>\n",
       "      <td>/labs/ali-mortazavi/</td>\n",
       "    </tr>\n",
       "    <tr>\n",
       "      <th>32</th>\n",
       "      <td>would upload</td>\n",
       "      <td>would upload</td>\n",
       "      <td>/measurement-sets/TSTDS02882566/</td>\n",
       "      <td>seqspec</td>\n",
       "      <td>yaml</td>\n",
       "      <td>6569a02de9a22af9e25365c7fb8867ec</td>\n",
       "      <td>/awards/HG012077/</td>\n",
       "      <td>/labs/ali-mortazavi/</td>\n",
       "    </tr>\n",
       "    <tr>\n",
       "      <th>33</th>\n",
       "      <td>would upload</td>\n",
       "      <td>would upload</td>\n",
       "      <td>/measurement-sets/TSTDS02882566/</td>\n",
       "      <td>seqspec</td>\n",
       "      <td>yaml</td>\n",
       "      <td>c8c2279b8c1c1521dba0956653f91aae</td>\n",
       "      <td>/awards/HG012077/</td>\n",
       "      <td>/labs/ali-mortazavi/</td>\n",
       "    </tr>\n",
       "    <tr>\n",
       "      <th>34</th>\n",
       "      <td>would upload</td>\n",
       "      <td>would upload</td>\n",
       "      <td>/measurement-sets/TSTDS74497326/</td>\n",
       "      <td>seqspec</td>\n",
       "      <td>yaml</td>\n",
       "      <td>ff5b82f45c1529cd6ef4b915e5c38fbe</td>\n",
       "      <td>/awards/HG012077/</td>\n",
       "      <td>/labs/ali-mortazavi/</td>\n",
       "    </tr>\n",
       "    <tr>\n",
       "      <th>35</th>\n",
       "      <td>would upload</td>\n",
       "      <td>would upload</td>\n",
       "      <td>/measurement-sets/TSTDS74497326/</td>\n",
       "      <td>seqspec</td>\n",
       "      <td>yaml</td>\n",
       "      <td>4600d21c2e151c9dec94c214138a2a6a</td>\n",
       "      <td>/awards/HG012077/</td>\n",
       "      <td>/labs/ali-mortazavi/</td>\n",
       "    </tr>\n",
       "    <tr>\n",
       "      <th>36</th>\n",
       "      <td>would upload</td>\n",
       "      <td>would upload</td>\n",
       "      <td>/measurement-sets/TSTDS10802686/</td>\n",
       "      <td>seqspec</td>\n",
       "      <td>yaml</td>\n",
       "      <td>8fb152e8661bb52cfa1ac6cd775bd482</td>\n",
       "      <td>/awards/HG012077/</td>\n",
       "      <td>/labs/ali-mortazavi/</td>\n",
       "    </tr>\n",
       "    <tr>\n",
       "      <th>37</th>\n",
       "      <td>would upload</td>\n",
       "      <td>would upload</td>\n",
       "      <td>/measurement-sets/TSTDS10802686/</td>\n",
       "      <td>seqspec</td>\n",
       "      <td>yaml</td>\n",
       "      <td>5317fee00618903e857d277295aeff17</td>\n",
       "      <td>/awards/HG012077/</td>\n",
       "      <td>/labs/ali-mortazavi/</td>\n",
       "    </tr>\n",
       "    <tr>\n",
       "      <th>38</th>\n",
       "      <td>would upload</td>\n",
       "      <td>would upload</td>\n",
       "      <td>/measurement-sets/TSTDS48294221/</td>\n",
       "      <td>seqspec</td>\n",
       "      <td>yaml</td>\n",
       "      <td>e15c551f6a952eb83a68e76ebe5f1046</td>\n",
       "      <td>/awards/HG012077/</td>\n",
       "      <td>/labs/ali-mortazavi/</td>\n",
       "    </tr>\n",
       "    <tr>\n",
       "      <th>39</th>\n",
       "      <td>would upload</td>\n",
       "      <td>would upload</td>\n",
       "      <td>/measurement-sets/TSTDS48294221/</td>\n",
       "      <td>seqspec</td>\n",
       "      <td>yaml</td>\n",
       "      <td>e514a442d79e24097fffc1ec01345f49</td>\n",
       "      <td>/awards/HG012077/</td>\n",
       "      <td>/labs/ali-mortazavi/</td>\n",
       "    </tr>\n",
       "    <tr>\n",
       "      <th>40</th>\n",
       "      <td>would upload</td>\n",
       "      <td>would upload</td>\n",
       "      <td>/measurement-sets/TSTDS09179588/</td>\n",
       "      <td>seqspec</td>\n",
       "      <td>yaml</td>\n",
       "      <td>d6d391515e22fbe6b916c37eb4a15f21</td>\n",
       "      <td>/awards/HG012077/</td>\n",
       "      <td>/labs/ali-mortazavi/</td>\n",
       "    </tr>\n",
       "    <tr>\n",
       "      <th>41</th>\n",
       "      <td>would upload</td>\n",
       "      <td>would upload</td>\n",
       "      <td>/measurement-sets/TSTDS09179588/</td>\n",
       "      <td>seqspec</td>\n",
       "      <td>yaml</td>\n",
       "      <td>f87ddeda99aa978666dee6fc2fafa7f0</td>\n",
       "      <td>/awards/HG012077/</td>\n",
       "      <td>/labs/ali-mortazavi/</td>\n",
       "    </tr>\n",
       "  </tbody>\n",
       "</table>\n",
       "</div>"
      ],
      "text/plain": [
       "        accession                                  uuid  \\\n",
       "0    would upload                          would upload   \n",
       "1    would upload                          would upload   \n",
       "2   TSTFI93269197  8b1b68be-a34e-423d-b34c-96674598d289   \n",
       "3   TSTFI78410911  f533c6b2-e94a-4e91-bbef-e6bc0ee914be   \n",
       "4    would upload                          would upload   \n",
       "5    would upload                          would upload   \n",
       "6   TSTFI72232735  26869245-c662-43b1-97b8-fcd9d8717d0a   \n",
       "7   TSTFI93762898  9bbdc837-cc61-4edc-8ff1-10f3a67d7d6b   \n",
       "8    would upload                          would upload   \n",
       "9    would upload                          would upload   \n",
       "10   would upload                          would upload   \n",
       "11   would upload                          would upload   \n",
       "12   would upload                          would upload   \n",
       "13   would upload                          would upload   \n",
       "14   would upload                          would upload   \n",
       "15   would upload                          would upload   \n",
       "16   would upload                          would upload   \n",
       "17   would upload                          would upload   \n",
       "18   would upload                          would upload   \n",
       "19   would upload                          would upload   \n",
       "20   would upload                          would upload   \n",
       "21   would upload                          would upload   \n",
       "22   would upload                          would upload   \n",
       "23   would upload                          would upload   \n",
       "24   would upload                          would upload   \n",
       "25   would upload                          would upload   \n",
       "26   would upload                          would upload   \n",
       "27   would upload                          would upload   \n",
       "28   would upload                          would upload   \n",
       "29   would upload                          would upload   \n",
       "30   would upload                          would upload   \n",
       "31   would upload                          would upload   \n",
       "32   would upload                          would upload   \n",
       "33   would upload                          would upload   \n",
       "34   would upload                          would upload   \n",
       "35   would upload                          would upload   \n",
       "36   would upload                          would upload   \n",
       "37   would upload                          would upload   \n",
       "38   would upload                          would upload   \n",
       "39   would upload                          would upload   \n",
       "40   would upload                          would upload   \n",
       "41   would upload                          would upload   \n",
       "\n",
       "                            file_set content_type file_format  \\\n",
       "0   /measurement-sets/TSTDS25106370/      seqspec        yaml   \n",
       "1   /measurement-sets/TSTDS25106370/      seqspec        yaml   \n",
       "2   /measurement-sets/TSTDS32005063/      seqspec        yaml   \n",
       "3   /measurement-sets/TSTDS32005063/      seqspec        yaml   \n",
       "4   /measurement-sets/TSTDS30294230/      seqspec        yaml   \n",
       "5   /measurement-sets/TSTDS30294230/      seqspec        yaml   \n",
       "6   /measurement-sets/TSTDS95237342/      seqspec        yaml   \n",
       "7   /measurement-sets/TSTDS95237342/      seqspec        yaml   \n",
       "8   /measurement-sets/TSTDS48877173/      seqspec        yaml   \n",
       "9   /measurement-sets/TSTDS48877173/      seqspec        yaml   \n",
       "10  /measurement-sets/TSTDS48877173/      seqspec        yaml   \n",
       "11  /measurement-sets/TSTDS69666634/      seqspec        yaml   \n",
       "12  /measurement-sets/TSTDS69666634/      seqspec        yaml   \n",
       "13  /measurement-sets/TSTDS95760802/      seqspec        yaml   \n",
       "14  /measurement-sets/TSTDS95760802/      seqspec        yaml   \n",
       "15  /measurement-sets/TSTDS07432728/      seqspec        yaml   \n",
       "16  /measurement-sets/TSTDS07432728/      seqspec        yaml   \n",
       "17  /measurement-sets/TSTDS34582101/      seqspec        yaml   \n",
       "18  /measurement-sets/TSTDS34582101/      seqspec        yaml   \n",
       "19  /measurement-sets/TSTDS72923185/      seqspec        yaml   \n",
       "20  /measurement-sets/TSTDS72923185/      seqspec        yaml   \n",
       "21  /measurement-sets/TSTDS84503921/      seqspec        yaml   \n",
       "22  /measurement-sets/TSTDS84503921/      seqspec        yaml   \n",
       "23  /measurement-sets/TSTDS12663199/      seqspec        yaml   \n",
       "24  /measurement-sets/TSTDS12663199/      seqspec        yaml   \n",
       "25  /measurement-sets/TSTDS90515305/      seqspec        yaml   \n",
       "26  /measurement-sets/TSTDS90515305/      seqspec        yaml   \n",
       "27  /measurement-sets/TSTDS70002954/      seqspec        yaml   \n",
       "28  /measurement-sets/TSTDS70002954/      seqspec        yaml   \n",
       "29  /measurement-sets/TSTDS06772346/      seqspec        yaml   \n",
       "30  /measurement-sets/TSTDS06772346/      seqspec        yaml   \n",
       "31  /measurement-sets/TSTDS06772346/      seqspec        yaml   \n",
       "32  /measurement-sets/TSTDS02882566/      seqspec        yaml   \n",
       "33  /measurement-sets/TSTDS02882566/      seqspec        yaml   \n",
       "34  /measurement-sets/TSTDS74497326/      seqspec        yaml   \n",
       "35  /measurement-sets/TSTDS74497326/      seqspec        yaml   \n",
       "36  /measurement-sets/TSTDS10802686/      seqspec        yaml   \n",
       "37  /measurement-sets/TSTDS10802686/      seqspec        yaml   \n",
       "38  /measurement-sets/TSTDS48294221/      seqspec        yaml   \n",
       "39  /measurement-sets/TSTDS48294221/      seqspec        yaml   \n",
       "40  /measurement-sets/TSTDS09179588/      seqspec        yaml   \n",
       "41  /measurement-sets/TSTDS09179588/      seqspec        yaml   \n",
       "\n",
       "                              md5sum              award                   lab  \n",
       "0   e25906467a62eed63095b9922460cf56  /awards/HG012077/  /labs/ali-mortazavi/  \n",
       "1   77ab9bb6579a4fd1c57dffea8982bd96  /awards/HG012077/  /labs/ali-mortazavi/  \n",
       "2   c3efb1fcbf386f5e85100d965eb2efc7  /awards/HG012077/  /labs/ali-mortazavi/  \n",
       "3   8dd07dfbb88549d261cfe20e18c49d43  /awards/HG012077/  /labs/ali-mortazavi/  \n",
       "4   7d1df0bebee74103926e378ec5f0db41  /awards/HG012077/  /labs/ali-mortazavi/  \n",
       "5   99e1100be873c64a5d97cd74cc171890  /awards/HG012077/  /labs/ali-mortazavi/  \n",
       "6   2cbdb926ccc80cb5231ceeafe251f164  /awards/HG012077/  /labs/ali-mortazavi/  \n",
       "7   d9001d493d57f2227863996fce6319d4  /awards/HG012077/  /labs/ali-mortazavi/  \n",
       "8   016373d235aca782f436f48a4d9562fe  /awards/HG012077/  /labs/ali-mortazavi/  \n",
       "9   1c123dd1ee5788454596f79ba463e388  /awards/HG012077/  /labs/ali-mortazavi/  \n",
       "10  75e0191557eb0e1e57ceef580e7d33ea  /awards/HG012077/  /labs/ali-mortazavi/  \n",
       "11  322ab2a0ed638b6fb1d385d8cf1138b6  /awards/HG012077/  /labs/ali-mortazavi/  \n",
       "12  4c5b74a2e2564f3d9883bb206d4f7a0a  /awards/HG012077/  /labs/ali-mortazavi/  \n",
       "13  25b76ac9e67b8ff459c68fd935fab19f  /awards/HG012077/  /labs/ali-mortazavi/  \n",
       "14  94879770ab818902c10db9a02cefcd90  /awards/HG012077/  /labs/ali-mortazavi/  \n",
       "15  b3c623e995449f63027d14ec27f8bfea  /awards/HG012077/  /labs/ali-mortazavi/  \n",
       "16  ac13dcb366e0b4d2b31ac1bc321bb4d5  /awards/HG012077/  /labs/ali-mortazavi/  \n",
       "17  fb93c450b4f9546fde70f55c52ce9011  /awards/HG012077/  /labs/ali-mortazavi/  \n",
       "18  d20e418fa9daf45635898d9e34206936  /awards/HG012077/  /labs/ali-mortazavi/  \n",
       "19  40694f05d6019b9951e09fddf127dd55  /awards/HG012077/  /labs/ali-mortazavi/  \n",
       "20  0b82abe99eadc299db87027cbe9e6513  /awards/HG012077/  /labs/ali-mortazavi/  \n",
       "21  293db154dbdfef08cf5514877dcd7893  /awards/HG012077/  /labs/ali-mortazavi/  \n",
       "22  ee3e30844f36cc0b691e22cae88d1a3f  /awards/HG012077/  /labs/ali-mortazavi/  \n",
       "23  c5f9f70b7e1fb0dfcfb705fde9da03e6  /awards/HG012077/  /labs/ali-mortazavi/  \n",
       "24  2160d20322e28ade237fc74169134d5c  /awards/HG012077/  /labs/ali-mortazavi/  \n",
       "25  5a1241bb33ee5b5b6422ba569536448c  /awards/HG012077/  /labs/ali-mortazavi/  \n",
       "26  0f897e41e4b5f8b6012fd75b59688bf5  /awards/HG012077/  /labs/ali-mortazavi/  \n",
       "27  b760b935e4d7f4973e9e2cb5c9876208  /awards/HG012077/  /labs/ali-mortazavi/  \n",
       "28  8b7d0fe07321a42dbf8485451d329854  /awards/HG012077/  /labs/ali-mortazavi/  \n",
       "29  95592278bb9ba44a27ebdc103b7f8fc4  /awards/HG012077/  /labs/ali-mortazavi/  \n",
       "30  0bcf50d43f6b1021f3e4a873cd66b7a9  /awards/HG012077/  /labs/ali-mortazavi/  \n",
       "31  c476b16187948016697f1af3a3809fdd  /awards/HG012077/  /labs/ali-mortazavi/  \n",
       "32  6569a02de9a22af9e25365c7fb8867ec  /awards/HG012077/  /labs/ali-mortazavi/  \n",
       "33  c8c2279b8c1c1521dba0956653f91aae  /awards/HG012077/  /labs/ali-mortazavi/  \n",
       "34  ff5b82f45c1529cd6ef4b915e5c38fbe  /awards/HG012077/  /labs/ali-mortazavi/  \n",
       "35  4600d21c2e151c9dec94c214138a2a6a  /awards/HG012077/  /labs/ali-mortazavi/  \n",
       "36  8fb152e8661bb52cfa1ac6cd775bd482  /awards/HG012077/  /labs/ali-mortazavi/  \n",
       "37  5317fee00618903e857d277295aeff17  /awards/HG012077/  /labs/ali-mortazavi/  \n",
       "38  e15c551f6a952eb83a68e76ebe5f1046  /awards/HG012077/  /labs/ali-mortazavi/  \n",
       "39  e514a442d79e24097fffc1ec01345f49  /awards/HG012077/  /labs/ali-mortazavi/  \n",
       "40  d6d391515e22fbe6b916c37eb4a15f21  /awards/HG012077/  /labs/ali-mortazavi/  \n",
       "41  f87ddeda99aa978666dee6fc2fafa7f0  /awards/HG012077/  /labs/ali-mortazavi/  "
      ]
     },
     "execution_count": 32,
     "metadata": {},
     "output_type": "execute_result"
    }
   ],
   "source": [
    "pandas.DataFrame(submitted_log)[[\"accession\", \"uuid\", \"file_set\", \"content_type\", \"file_format\", \"md5sum\", \"award\", \"lab\"]]\n"
   ]
  }
 ],
 "metadata": {
  "celltoolbar": "Slideshow",
  "kernelspec": {
   "display_name": "Python 3 (ipykernel)",
   "language": "python",
   "name": "python3"
  },
  "language_info": {
   "codemirror_mode": {
    "name": "ipython",
    "version": 3
   },
   "file_extension": ".py",
   "mimetype": "text/x-python",
   "name": "python",
   "nbconvert_exporter": "python",
   "pygments_lexer": "ipython3",
   "version": "3.11.2"
  }
 },
 "nbformat": 4,
 "nbformat_minor": 5
}
