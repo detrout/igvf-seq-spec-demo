{
 "cells": [
  {
   "cell_type": "markdown",
   "id": "expected-boutique",
   "metadata": {
    "slideshow": {
     "slide_type": "slide"
    }
   },
   "source": [
    "# Thousands of seqspecs\n",
    "\n",
    "- github https://github.com/detrout/igvf-seq-spec-demo/\n",
    "- Presentation https://woldlab.caltech.edu/~diane/igvf-seq-spec-demo/submitting-seqspecs.slides.html#/\n",
    "- Notebook https://woldlab.caltech.edu/~diane/igvf-seq-spec-demo/submitting-seqspecs.html#"
   ]
  },
  {
   "cell_type": "markdown",
   "id": "9f563e65",
   "metadata": {
    "slideshow": {
     "slide_type": "slide"
    }
   },
   "source": [
    "# Outline\n",
    "\n",
    "This is a simplification of my figuring out how to submit seqspec files to the IGVF DACC.\n",
    "\n",
    "- [Python environment setup](#Setup)\n",
    "- [Jinja Templating](#Jinja)\n",
    "- [Seqspec template function](#Template)\n",
    "- [Find datasets missing seqspecs](#Find-datasets-missing-seqspecs)\n",
    "- [Generating a seqspec](#Generating-a-seqspec)\n",
    "- [Seqspec submission functions](#Seqspec-Submission-functions)\n",
    "- [Create seqspec objects for remaining fastqs](#Create-seqspec-objects-for-remaining-fastqs)"
   ]
  },
  {
   "cell_type": "markdown",
   "id": "6121b169",
   "metadata": {
    "slideshow": {
     "slide_type": "slide"
    }
   },
   "source": [
    "# Why seqspec?\n",
    "\n",
    "In ENCODE there were some experiments where the details of the barcode structure were never provided so when the person who did the experiment moved on there was no way to reprocess those samples.\n",
    "\n",
    "And thus seqspec\n",
    "\n",
    "However no one wants to generate thousands of seqspec, so I started working on automating seqspec generation."
   ]
  },
  {
   "cell_type": "markdown",
   "id": "a9e9ec57",
   "metadata": {
    "slideshow": {
     "slide_type": "slide"
    }
   },
   "source": [
    "Seqspec needs a fairly significant amount of information which can come from a local LIMS or spreadsheets, to make a more general example, I decided to try to generate seqspec files from information posted on the portal.\n",
    "\n",
    "For me, this required that my measurements set have the following properties.\n",
    "\n",
    "- protocols\n",
    "- platform id\n",
    "- sequencing kit information\n",
    "- submitted fastqs"
   ]
  },
  {
   "cell_type": "markdown",
   "id": "1322bf09",
   "metadata": {
    "slideshow": {
     "slide_type": "slide"
    }
   },
   "source": [
    "With that information,\n",
    "\n",
    "- a templating engine\n",
    "- the IGVF portal API\n",
    "- and a few hard coded variables\n",
    "\n",
    "I was able to create valid seqspecs files and attach them to the measurement set and the fastqs associated with a single sequencing run."
   ]
  },
  {
   "cell_type": "markdown",
   "id": "67bc1f6c",
   "metadata": {
    "slideshow": {
     "slide_type": "slide"
    }
   },
   "source": [
    "One measurement run will have several fastqs attached to it organized by illumina read type and sequencing run.  The number of different read types will vary depending on the assay.\n",
    "\n",
    "<table>\n",
    "    <thead>\n",
    "        <tr><td>sequencing_run</td><td><b>R1</b></td><td><b>R2</b></td><td><b>I1</b></td><td><b>[R3/I2]...</b></td></tr>\n",
    "    </thead>\n",
    "    <tbody>\n",
    "        <tr>\n",
    "            <td><b>1</b>\n",
    "            <td>run1/Sublibrary_7_S7_L001_R1_001.fastq.gz</td>\n",
    "            <td>run1/Sublibrary_7_S7_L001_R2_001.fastq.gz</td>\n",
    "            <td>run1/Sublibrary_7_S7_L001_I1_001.fastq.gz</td>\n",
    "            <td>...</td>\n",
    "        </tr>\n",
    "        <tr>\n",
    "            <td><b>2</b>\n",
    "            <td>run1/Sublibrary_7_S7_L002_R1_001.fastq.gz</td>\n",
    "            <td>run1/Sublibrary_7_S7_L002_R2_001.fastq.gz</td>\n",
    "            <td>run1/Sublibrary_7_S7_L002_I1_001.fastq.gz</td>\n",
    "            <td>...</td>\n",
    "        </tr>\n",
    "        <tr>\n",
    "            <td><b>3</b>\n",
    "            <td>run2/Sublibrary_7_S7_L002_R1_001.fastq.gz</td>\n",
    "            <td>run2/Sublibrary_7_S7_L002_R2_001.fastq.gz</td>\n",
    "            <td>run2/Sublibrary_7_S7_L002_I1_001.fastq.gz</td>\n",
    "            <td>...</td>\n",
    "        </tr>\n",
    "    </tbody>\n",
    "</table>\n",
    "\n",
    "you'll need a seqspec for each set of files that should be treated as a single set.\n",
    "\n",
    "The rest of this notebook is about grouping those runs and generating a seqspec for each one."
   ]
  },
  {
   "cell_type": "markdown",
   "id": "systematic-binary",
   "metadata": {
    "slideshow": {
     "slide_type": "slide"
    }
   },
   "source": [
    "# Setup\n",
    "\n",
    "We will need to import a variety of standard python components, boto3, and jinja\n",
    "\n",
    "Navigate down for the detailed code blocks"
   ]
  },
  {
   "cell_type": "code",
   "execution_count": null,
   "id": "irish-queue",
   "metadata": {
    "slideshow": {
     "slide_type": "subslide"
    }
   },
   "outputs": [],
   "source": [
    "import enum\n",
    "import gzip\n",
    "import hashlib\n",
    "from io import StringIO, BytesIO\n",
    "import json\n",
    "from jsonschema import Draft4Validator\n",
    "import logging\n",
    "from matplotlib.pyplot import show\n",
    "import numpy\n",
    "import os\n",
    "from pathlib import Path\n",
    "import pandas\n",
    "import requests\n",
    "import sys\n",
    "from urllib.parse import urlparse, urljoin\n",
    "import yaml"
   ]
  },
  {
   "cell_type": "code",
   "execution_count": null,
   "id": "least-senate",
   "metadata": {
    "slideshow": {
     "slide_type": "subslide"
    }
   },
   "outputs": [],
   "source": [
    "try:\n",
    "    import boto3\n",
    "except ImportError:\n",
    "    !{sys.executable} -m pip install --user boto3\n",
    "    import boto3\n",
    "    \n",
    "from botocore.exceptions import ClientError\n",
    "    "
   ]
  },
  {
   "cell_type": "code",
   "execution_count": null,
   "id": "double-break",
   "metadata": {
    "slideshow": {
     "slide_type": "subslide"
    }
   },
   "outputs": [],
   "source": [
    "try:\n",
    "    from jinja2 import Environment\n",
    "except ImportError:\n",
    "    !{sys.executable} -m pip install --user jinja2\n",
    "    from jinja2 import Environment\n",
    "\n",
    "from jinja2 import FileSystemLoader, select_autoescape, Undefined, StrictUndefined, make_logging_undefined\n",
    "\n",
    "logger = logging.getLogger(__name__)\n",
    "LoggingUndefined = make_logging_undefined(\n",
    "    logger=logger,\n",
    "    base=Undefined\n",
    ")\n",
    "\n",
    "env = Environment(\n",
    "    loader=FileSystemLoader(\"templates\"),\n",
    "    autoescape=select_autoescape(),\n",
    "    undefined=LoggingUndefined,\n",
    ")"
   ]
  },
  {
   "cell_type": "code",
   "execution_count": null,
   "id": "be39f4f0",
   "metadata": {
    "slideshow": {
     "slide_type": "subslide"
    }
   },
   "outputs": [],
   "source": []
  },
  {
   "cell_type": "markdown",
   "id": "bcb29fd2",
   "metadata": {
    "slideshow": {
     "slide_type": "slide"
    }
   },
   "source": [
    "# Import seqspec validator\n",
    "\n",
    "To make sure our seqspecs are valid before submitting, I imported the parts seqspec necessary for running them from code instead of using the command line interface.\n",
    "\n",
    "I have the repository checked out into ~/proj/seqspec. This block should either import it for me, or install it if someone elese runs it.\n",
    "\n",
    "See below for details"
   ]
  },
  {
   "cell_type": "code",
   "execution_count": null,
   "id": "fleet-pillow",
   "metadata": {
    "slideshow": {
     "slide_type": "subslide"
    }
   },
   "outputs": [],
   "source": [
    "try:\n",
    "    import seqspec\n",
    "except ImportError:\n",
    "    # change ~/proj/seqspec to whever you have seqspec cloned to.\n",
    "    seqspec_root = Path(\"~/proj/seqspec\").expanduser()\n",
    "    if seqspec_root.exists() and str(seqspec_root) not in sys.path:\n",
    "        sys.path.append(str(seqspec_root))\n",
    "    else:\n",
    "        # Once seqspec is updated\n",
    "        #!{sys.executable} -m pip install --user seqspec\n",
    "        # Currently the IGVF pipelines need a development branch\n",
    "        # On linux systems with newer versions of python you might need --break-system-packages or to \n",
    "        # use a virtualenv or conda See https://peps.python.org/pep-0668/ for discussion \n",
    "        !{sys.executable} -m python3 -m pip install --user \\\n",
    "            git+https://github.com/pachterlab/seqspec.git#c9520b49232ec9a488a32ac9aba4099878241fad\n",
    "    import seqspec"
   ]
  },
  {
   "cell_type": "markdown",
   "id": "usual-census",
   "metadata": {
    "slideshow": {
     "slide_type": "subslide"
    }
   },
   "source": [
    "Import pieces of seqspec that we need for this notebook."
   ]
  },
  {
   "cell_type": "code",
   "execution_count": null,
   "id": "entire-faculty",
   "metadata": {
    "slideshow": {
     "slide_type": "-"
    }
   },
   "outputs": [],
   "source": [
    "from seqspec.Assay import Assay\n",
    "from seqspec.Region import Region\n",
    "from seqspec.Region import Onlist\n",
    "from seqspec.utils import load_spec_stream\n",
    "from seqspec.seqspec_index import run_index, get_index\n",
    "from seqspec.seqspec_print import print_library_ascii, print_seqspec_png\n",
    "from seqspec.seqspec_onlist import run_onlist_region, run_onlist_read"
   ]
  },
  {
   "cell_type": "code",
   "execution_count": null,
   "id": "abfc2044",
   "metadata": {},
   "outputs": [],
   "source": [
    "from seqspecgen.igvf import (\n",
    "    get_barcode_info,\n",
    ")\n",
    "from seqspecgen.protocols import (\n",
    "    filter_protocols_for_lookups, \n",
    "    get_library_kit_from_protocols, \n",
    "    get_template_from_protocols,\n",
    "    ProtocolsIO,\n",
    ")\n",
    "from seqspecgen.util import seqspec_validate, generate_seqspec_tool_index"
   ]
  },
  {
   "cell_type": "markdown",
   "id": "64ae9253",
   "metadata": {
    "slideshow": {
     "slide_type": "subslide"
    }
   },
   "source": [
    "## Utilities for seqspec validation\n",
    "\n",
    "Some helper functions because the seqspec library wasn't really written for this use case."
   ]
  },
  {
   "cell_type": "markdown",
   "id": "sharp-quick",
   "metadata": {
    "slideshow": {
     "slide_type": "slide"
    }
   },
   "source": [
    "# Import portal API\n",
    "\n",
    "I have my own API <a href=\"https://github.com/detrout/encoded_client\">encoded_client</a> for interacting with the IGVF database server (which is very much like the old ENCODE database server) it is similar in purpose to <a href=\"https://igvf-utils.readthedocs.io/\">igvf-utils</a>.\n",
    "\n",
    "See below for details"
   ]
  },
  {
   "cell_type": "code",
   "execution_count": null,
   "id": "vocal-nutrition",
   "metadata": {
    "slideshow": {
     "slide_type": "subslide"
    }
   },
   "outputs": [],
   "source": [
    "try:\n",
    "    from encoded_client import encoded\n",
    "except ImportError:\n",
    "    encoded_root = Path(\"~/proj/encoded_client\").expanduser()\n",
    "    if encoded_root.exists() and str(encoded_root) not in sys.path:\n",
    "        sys.path.append(str(encoded_root))\n",
    "    else:\n",
    "        !{sys.executable} -m pip install --user encoded_client\n",
    "        \n",
    "    from encoded_client import encoded\n",
    "\n",
    "from encoded_client.encoded import filter_aws_credentials\n",
    "from encoded_client.submission import parse_s3_url"
   ]
  },
  {
   "cell_type": "markdown",
   "id": "increasing-entity",
   "metadata": {
    "slideshow": {
     "slide_type": "subslide"
    }
   },
   "source": [
    "encoded_client will pull submitter credentials from either DCC_API_KEY and DCC_SECRET_KEY or from a .netrc file loaded from your home directory. (replacing the {DCC_API_KEY} and {DCC_SECRET_KEY} strings with your specific values.)\n",
    "\n",
    "The format of a .netrc file is a plain text file with records of the format:\n",
    "\n",
    "<pre>machine api.sandbox.igvf.org login {DCC_API_KEY} password {DCC_SECRET_KEY}</pre>\n",
    "\n",
    "Or api.data.igvf.org\n",
    "\n",
    "(it's also possible to list the fields on separate lines, but I think it's easier to read when they're on one line)\n",
    "\n",
    "or after creating the server object call:\n",
    "\n",
    "<pre>server.username = \"{DCC_API_KEY}\"\n",
    "server.password = \"{DCC_SECRET_KEY}\"</pre>\n",
    "\n"
   ]
  },
  {
   "cell_type": "markdown",
   "id": "valuable-meditation",
   "metadata": {
    "slideshow": {
     "slide_type": "slide"
    }
   },
   "source": [
    "# Variables\n",
    "\n",
    "We need to specify which server we're using and our award and submitting lab ids."
   ]
  },
  {
   "cell_type": "code",
   "execution_count": null,
   "id": "alleged-hebrew",
   "metadata": {
    "slideshow": {
     "slide_type": "-"
    }
   },
   "outputs": [],
   "source": [
    "server_name = \"api.data.igvf.org\"\n",
    "#server_name = \"api.sandbox.igvf.org\"\n",
    "award = \"/awards/HG012077/\"\n",
    "lab = \"/labs/ali-mortazavi/\"\n",
    "\n",
    "server = encoded.ENCODED(server_name)\n",
    "igvf_validator = encoded.DCCValidator(server)\n",
    "\n",
    "# check below for a dictionary to help cache protal objects"
   ]
  },
  {
   "cell_type": "markdown",
   "id": "7648e0bf",
   "metadata": {
    "slideshow": {
     "slide_type": "subslide"
    }
   },
   "source": [
    "Simple object to cache object lookups"
   ]
  },
  {
   "cell_type": "code",
   "execution_count": null,
   "id": "8ffbf396",
   "metadata": {
    "slideshow": {
     "slide_type": "-"
    }
   },
   "outputs": [],
   "source": [
    "class CachedTerms:\n",
    "    def __init__(self, server):\n",
    "        self.server = server\n",
    "        self._cache = {}\n",
    "        \n",
    "    def __getitem__(self, key):\n",
    "        if key in self._cache:\n",
    "            return self._cache[key]\n",
    "        \n",
    "        obj = self.server.get_json(key)\n",
    "        if obj is not None:\n",
    "            self._cache[key] = obj\n",
    "            return obj\n",
    "        \n",
    "server_cache = CachedTerms(server)"
   ]
  },
  {
   "cell_type": "markdown",
   "id": "d143a688",
   "metadata": {
    "slideshow": {
     "slide_type": "slide"
    }
   },
   "source": [
    "# Jinja"
   ]
  },
  {
   "cell_type": "markdown",
   "id": "ebc47e68",
   "metadata": {},
   "source": [
    "[Jinjia](https://jinja.palletsprojects.com/) is a fairly popular templating language for python.\n",
    "\n",
    "it supports conditionals, loops, variable substitutions, and even function calls. However for seqspec we just need to be able to substitute in variables we collect from elsewhere.\n",
    "\n",
    "Here's an example of one of the template read blocks showing some of the variables that will get replaced.\n",
    "\n",
    "<pre>\n",
    "- !Read\n",
    "  read_id: {{ R1_file_id }}.fastq.gz\n",
    "  name: Read 1 fastq for {{ R1_file_id }}\n",
    "  modaility: rna\n",
    "  primer_id: truseq_read1\n",
    "  min_len: {{ R1_min_length }}\n",
    "  max_len: {{ R1_max_length }}\n",
    "  strand: pos\n",
    "</pre>"
   ]
  },
  {
   "cell_type": "markdown",
   "id": "f1b741e3",
   "metadata": {
    "slideshow": {
     "slide_type": "slide"
    }
   },
   "source": [
    "# Filter ProtocolsIO urls\n",
    "\n",
    "The ProtocolsIO URLS are a bit long, so add a mapping to a short name."
   ]
  },
  {
   "cell_type": "code",
   "execution_count": null,
   "id": "bf0e7a2e",
   "metadata": {
    "slideshow": {
     "slide_type": "-"
    }
   },
   "outputs": [],
   "source": []
  },
  {
   "cell_type": "markdown",
   "id": "allied-cargo",
   "metadata": {
    "slideshow": {
     "slide_type": "slide"
    }
   },
   "source": [
    "# Template variables\n",
    "\n",
    "First build up lists of barcodes onlists needed for this protocol the names will be passed to the template. The combinitorial barcoding schemes like parse or shareseq need to specify several barcode files."
   ]
  },
  {
   "cell_type": "code",
   "execution_count": null,
   "id": "ffd74243",
   "metadata": {
    "slideshow": {
     "slide_type": "-"
    }
   },
   "outputs": [],
   "source": [
    "class BarcodesFromProtocols:\n",
    "    def __init__(self, server):\n",
    "        self.onlist_n96_v4 = {}\n",
    "        self.onlist_n96_v4.update(get_barcode_info(server, \"barcode_1\", \"IGVFFI0924TKJO\"))\n",
    "        self.onlist_n96_v4.update(get_barcode_info(server, \"barcode_2\", \"IGVFFI1138MCVX\"))\n",
    "        self.onlist_n96_v4.update(get_barcode_info(server, \"barcode_3\", \"IGVFFI1138MCVX\"))\n",
    "        self.onlist_n192_v4 = {}\n",
    "        self.onlist_n192_v4.update(get_barcode_info(server, \"barcode_1\", \"IGVFFI2591OFQO\"))\n",
    "        self.onlist_n192_v4.update(get_barcode_info(server, \"barcode_2\", \"IGVFFI1138MCVX\"))\n",
    "        self.onlist_n192_v4.update(get_barcode_info(server, \"barcode_3\", \"IGVFFI1138MCVX\"))\n",
    "\n",
    "    def __call__(self, protocols):\n",
    "        if ProtocolsIO.splitseq_100k_v2 in protocols:\n",
    "            return self.onlist_n96_v4\n",
    "        elif ProtocolsIO.splitseq_1M_v2 in protocols:\n",
    "            return self.onlist_n192_v4\n",
    "        else:\n",
    "            raise ValueError(\"Unrecognized barcode protocol\")\n",
    "        \n",
    "get_barcodes_from_protocols = BarcodesFromProtocols(server)\n",
    "\n",
    "get_barcodes_from_protocols([ProtocolsIO.splitseq_1M_v2])"
   ]
  },
  {
   "cell_type": "markdown",
   "id": "b981b3cc",
   "metadata": {
    "slideshow": {
     "slide_type": "slide"
    }
   },
   "source": [
    "Information about library kits, organized by protocol and for us single versus dual illumina index.\n",
    "\n",
    "get_library_kit_from_protocols(protocols): -> returns dictionary of library_protocol, library_kit, and sequence_kit settings"
   ]
  },
  {
   "cell_type": "markdown",
   "id": "dcf47e2c",
   "metadata": {
    "slideshow": {
     "slide_type": "slide"
    }
   },
   "source": [
    "Using protocol to select which seqspec template to use\n",
    "\n",
    "get_template_from_protocols(protocols) -> returns string of name of template file"
   ]
  },
  {
   "cell_type": "markdown",
   "id": "reserved-ghost",
   "metadata": {
    "slideshow": {
     "slide_type": "slide"
    }
   },
   "source": [
    "Search for measurement sets from our lab and that are missing seqspecs."
   ]
  },
  {
   "cell_type": "code",
   "execution_count": null,
   "id": "center-private",
   "metadata": {},
   "outputs": [],
   "source": [
    "# measurement sets missing seqspecs\n",
    "query = f\"/search/?type=MeasurementSet&lab.title=Ali+Mortazavi%2C+UCI\"\\\n",
    "         \"&audit.NOT_COMPLIANT.category=missing+sequence+specification\"\n",
    "# all seqspecs\n",
    "query = f\"/search/?type=MeasurementSet&lab.title=Ali+Mortazavi%2C+UCI&preferred_assay_title=Parse+SPLiT-seq\"\n",
    "\n",
    "graph = server.get_json(query, limit=2000)\n",
    "to_process = [x[\"@id\"] for x in graph[\"@graph\"]]\n",
    "# some test server datasets were set up in ways incompatble with this notebook.\n",
    "if server.server == \"api.sandbox.igvf.org\":\n",
    "    problems = set([\"/measurement-sets/TSTDS36584014/\", \"/measurement-sets/TSTDS51545328/\", \"/measurement-sets/TSTDS95340953/\", \"/measurement-sets/TSTDS43282126/\", \"/measurement-sets/TSTDS76216718/\"])\n",
    "    to_process = [x for x in to_process if x not in problems]\n",
    "print(len(to_process))\n",
    "to_process"
   ]
  },
  {
   "cell_type": "markdown",
   "id": "1c32363b",
   "metadata": {
    "slideshow": {
     "slide_type": "slide"
    }
   },
   "source": [
    "Just as an aside searches and end-points like https://api.sandbox.igvf.org/measurement-sets/ return a json-ld collection.\n",
    "\n",
    "<pre>\n",
    "{\n",
    "  \"@id\": \"/search/?type=Measuremen…le=Ali+Mortazavi%2C+UCI\",\n",
    "  \"@graph\": [ ... ],\n",
    "  \"@type\": [\"Search\"],\n",
    "  \"total\": 27\n",
    "}\n",
    "</pre>\n",
    "\n",
    "For many searches the objects in the @graph may only be a subset of all the attributes, so I frequently do a search and then request the fully detailed object.\n",
    "\n",
    "<code format=\"python\">    for row in response[\"@graph\"]:\n",
    "       detail = server.get_json(row[\"@id\"])\n",
    "       ... do stuff\n",
    "</code>"
   ]
  },
  {
   "cell_type": "code",
   "execution_count": null,
   "id": "atmospheric-bidder",
   "metadata": {
    "slideshow": {
     "slide_type": "skip"
    }
   },
   "outputs": [],
   "source": [
    "#measurement_test_id = \"/measurement-sets/IGVFDS5205JRNX/\"  # production B01_13A_illumina parse-wt-v2-single-index-libspec-3.yaml.j2\n",
    "#measurement_test_id = \"/measurement-sets/IGVFDS8381SGFM/\"  # 014_13A parse-wt-v2-dual-index-libspec-3.yaml.j2\n",
    "#measurement_test_id = \"/measurement-sets/IGVFDS1479KDWW/\"  # 015_67C parse-wt-mega-v2-dual-index-libspec-3.yaml.j2\n",
    "#measurement_test_id = \"/measurement-sets/IGVFDS4191KCRM/\"  # 011_67H parse-wt-mega-v2-single-index-libspec-3.yaml.j2\n",
    "measurement_test_id = \"/measurement-sets/IGVFDS6433BHLG/\"   # B01_003_25B uci-share-seq-rna.yaml.j2\n",
    "#measurement_test_id = \"/measurement-sets/IGVFDS5820QLWL/\"   # B01_003_25B uci-share-seq-atac.yaml.j2"
   ]
  },
  {
   "cell_type": "markdown",
   "id": "5773abaa",
   "metadata": {
    "slideshow": {
     "slide_type": "slide"
    }
   },
   "source": [
    "## Processing measurement sets\n",
    "\n",
    "The measurement_set lists all the files attached to it in a single [\"files\"] list. However we need to process seqspecs by sequencing_run, so we'll need to find the fastqs and group them by sequencing run.\n",
    "\n",
    "And as a feature I should implement if there's already seqspec configuration files attached to the measurement set should detect that and warn about it."
   ]
  },
  {
   "cell_type": "markdown",
   "id": "2b1d0bec",
   "metadata": {
    "slideshow": {
     "slide_type": "slide"
    }
   },
   "source": [
    "Build up a data structure of reads organized by sequencing run."
   ]
  },
  {
   "cell_type": "code",
   "execution_count": null,
   "id": "capable-jewelry",
   "metadata": {},
   "outputs": [],
   "source": [
    "def get_sequence_files(measurement_set):\n",
    "    paired_files = {}\n",
    "    for file in measurement_set[\"files\"]:        \n",
    "        sequence = server.get_json(file[\"@id\"])\n",
    "        file_format = sequence[\"file_format\"]\n",
    "        if file_format in (\"fastq\",):\n",
    "            sequence_run = sequence[\"sequencing_run\"]\n",
    "            illumina_read_type = sequence.get(\"illumina_read_type\")\n",
    "            paired_files.setdefault(sequence_run, {})[illumina_read_type] = sequence\n",
    "        \n",
    "    return paired_files\n",
    "\n",
    "measurement = server.get_json(measurement_test_id)\n",
    "protocols = measurement[\"protocols\"]\n",
    "run_files = get_sequence_files(measurement)\n",
    "for run in sorted(run_files):\n",
    "    for read in sorted(run_files[run]):\n",
    "        print(run, read, run_files[run][read][\"submitted_file_name\"])"
   ]
  },
  {
   "cell_type": "markdown",
   "id": "f5915827",
   "metadata": {
    "slideshow": {
     "slide_type": "slide"
    }
   },
   "source": [
    "# Generating a seqspec\n",
    "\n",
    "Introducing functions to build the seqspec from information in the notebook and what's been posted to the portal.\n",
    "\n",
    "I made sure to include the sequencing platform, sequencing_kit, and protocols in my measurement set objects so I could reuse them when generating seqspecs"
   ]
  },
  {
   "cell_type": "markdown",
   "id": "ecf580b0",
   "metadata": {
    "slideshow": {
     "slide_type": "slide"
    }
   },
   "source": [
    "# Rendering logic\n",
    "\n",
    "- First find protocol based variables and templates\n",
    "- Then merge values from a dictionary indexed by illumina_read_type that represents one sequencing_run row generated get_sequence_files()\n",
    "\n",
    "<pre>\n",
    "{\"R1\": {\"@id\": ... },\n",
    " \"R2\": {\"@id\": ....}}\n",
    "</pre>\n",
    "\n",
    "- render the template to a string\n",
    "- load the string into the seqspec library\n",
    "- call update_spec to fix the joined regions\n",
    "- validate the seqspec\n",
    "- if validation passes return the seqspec text using to_YAML()\n",
    "\n",
    "Broken into smaller functions for discussion."
   ]
  },
  {
   "cell_type": "markdown",
   "id": "676e0dbb",
   "metadata": {
    "slideshow": {
     "slide_type": "slide"
    }
   },
   "source": [
    "We need to define the variables that will be passed to the Jinja templating engine."
   ]
  },
  {
   "cell_type": "code",
   "execution_count": null,
   "id": "101117fb",
   "metadata": {
    "slideshow": {
     "slide_type": "-"
    }
   },
   "outputs": [],
   "source": [
    "def generate_illumina_seqspec_context(protocols, run_files):\n",
    "    platform = run_files[\"R1\"][\"sequencing_platform\"]\n",
    "    platform_id = platform[\"@id\"]\n",
    "    platform = server.get_json(platform_id)\n",
    "    platform_term_id = platform[\"term_id\"]\n",
    "    platform_term_name = platform[\"term_name\"]\n",
    "    sequence_protocol = f\"{platform_term_name} ({platform_term_id})\"\n",
    "    context = {\n",
    "        #\"R1_accession\": run_files[\"R1\"][\"accession\"],\n",
    "        #\"R1_url\": server.prepare_url(run_files[\"R1\"][\"href\"]),\n",
    "        #\"R1_min_length\": run_files[\"R1\"][\"minimum_read_length\"],\n",
    "        #\"R1_max_length\": run_files[\"R1\"][\"maximum_read_length\"],\n",
    "\n",
    "        #\"R2_accession\": run_files[\"R2\"][\"accession\"],\n",
    "        #\"R2_url\": server.prepare_url(run_files[\"R2\"][\"href\"]),\n",
    "        #\"R2_min_length\": run_files[\"R2\"][\"minimum_read_length\"],\n",
    "        #\"R2_max_length\": run_files[\"R2\"][\"maximum_read_length\"],\n",
    "\n",
    "        \"sequence_kit\": run_files[\"R1\"][\"sequencing_kit\"],\n",
    "        \"sequence_protocol\": sequence_protocol,\n",
    "    }\n",
    "    for key in [\"R1\", \"R2\", \"R3\", \"I1\", \"i2\"]:\n",
    "        if key in run_files:\n",
    "            row = run_files[key]\n",
    "            context[f\"{key}_file_id\"] = row[\"accession\"]\n",
    "            context[f\"{key}_file_name\"] = Path(row[\"href\"]).name\n",
    "            context[f\"{key}_file_type\"] = row[\"file_format\"]\n",
    "            context[f\"{key}_file_size\"] = row[\"file_size\"]\n",
    "            context[f\"{key}_url\"] = server.prepare_url(row[\"href\"])\n",
    "            context[f\"{key}_min_length\"] = row[\"minimum_read_length\"]\n",
    "            context[f\"{key}_max_length\"] = row[\"maximum_read_length\"]\n",
    "            context[f\"{key}_md5sum\"] = row[\"md5sum\"]\n",
    "\n",
    "    #context.update(get_barcodes_from_protocols(protocols))\n",
    "    context.update(get_library_kit_from_protocols(protocols))\n",
    "    \n",
    "    return context"
   ]
  },
  {
   "cell_type": "code",
   "execution_count": null,
   "id": "680354bb",
   "metadata": {},
   "outputs": [],
   "source": [
    "generate_illumina_seqspec_context(protocols, run_files[1])"
   ]
  },
  {
   "cell_type": "code",
   "execution_count": null,
   "id": "36a52309",
   "metadata": {},
   "outputs": [],
   "source": []
  },
  {
   "cell_type": "code",
   "execution_count": null,
   "id": "4989e211",
   "metadata": {
    "slideshow": {
     "slide_type": "slide"
    }
   },
   "outputs": [],
   "source": [
    "def generate_nanopore_seqspec_context(protocols, run_files):\n",
    "    platform = run_files[None][\"sequencing_platform\"]    \n",
    "    platform_id = platform[\"@id\"]\n",
    "    context = {\n",
    "        #\"read1_accession\": run_files[None][\"accession\"],\n",
    "        #\"read1_url\": server.prepare_url(run_files[None][\"href\"]),\n",
    "        #\"read1_min_length\": run_files[None][\"minimum_read_length\"],\n",
    "        #\"read1_max_length\": run_files[None][\"maximum_read_length\"],\n",
    "\n",
    "        \"sequence_kit\": run_files[None][\"sequencing_kit\"],\n",
    "        \"sequence_protocol\": server_cache[platform_id][\"term_name\"],\n",
    "    }\n",
    "\n",
    "    for key in [\"R1\", \"R2\", \"R3\", \"I1\", \"i2\"]:\n",
    "        if key in run_files:\n",
    "            context[f\"{key}_file_id\"] = run_files[key][\"accession\"]\n",
    "            context[f\"{key}_file_name\"] = Path(row[\"href\"]).name\n",
    "            context[f\"{key}_file_type\"] = row[\"file_format\"]\n",
    "            context[f\"{key}_file_size\"] = row[\"file_size\"]\n",
    "            context[f\"{key}_url\"] = server.prepare_url(run_files[key][\"href\"])\n",
    "            context[f\"{key}_min_length\"] = run_files[key][\"minimum_read_length\"]\n",
    "            context[f\"{key}_max_length\"] = run_files[key][\"maximum_read_length\"]\n",
    "            context[f\"{key}_md5sum\"] = row[\"md5sum\"]\n",
    "           \n",
    "    context.update(get_barcodes_from_protocols(protocols))\n",
    "    context.update(get_library_kit_from_protocols(protocols))\n",
    "    \n",
    "    return context"
   ]
  },
  {
   "cell_type": "code",
   "execution_count": null,
   "id": "26f8df23",
   "metadata": {
    "slideshow": {
     "slide_type": "slide"
    }
   },
   "outputs": [],
   "source": [
    "def generate_seqspec_context(protocols, run_files):\n",
    "    if ProtocolsIO.splitseq_single_index in protocols:\n",
    "        return generate_illumina_seqspec_context(protocols, run_files)\n",
    "    elif ProtocolsIO.splitseq_dual_index in protocols:\n",
    "        return generate_illumina_seqspec_context(protocols, run_files)\n",
    "    elif ProtocolsIO.ont_library_prep in protocols:\n",
    "        return generate_nanopore_seqspec_context(protocols, run_files)\n",
    "    else:\n",
    "        raise ValueError(\"Unknown seqspec context protocol {}\".format(protocols))"
   ]
  },
  {
   "cell_type": "markdown",
   "id": "272019dc",
   "metadata": {
    "slideshow": {
     "slide_type": "slide"
    }
   },
   "source": [
    "With a filled in context dictionary and we can lookup our template, render it, and test that it's valid."
   ]
  },
  {
   "cell_type": "code",
   "execution_count": null,
   "id": "a4faee08",
   "metadata": {
    "slideshow": {
     "slide_type": "-"
    }
   },
   "outputs": [],
   "source": [
    "def generate_seqspec_for_run(protocols, run_files, verbose=False):\n",
    "    protocol = filter_protocols_for_lookups(protocols)\n",
    "    template_name = get_template_from_protocols(protocols)\n",
    "    print(template_name)\n",
    "\n",
    "    context = generate_seqspec_context(protocol, run_files)\n",
    "    template = env.get_template(template_name)\n",
    "    example_yaml = template.render(context)\n",
    "    \n",
    "    # validate the generated seqspec file.\n",
    "    example_spec = load_spec_stream(StringIO(example_yaml))\n",
    "    example_spec.update_spec()\n",
    "    seqspec_validate(example_spec.to_dict())\n",
    "    \n",
    "    if verbose:\n",
    "        # lets print the settings\n",
    "        #print_library_ascii, print_seqspec_png\n",
    "        print(\"tree\")\n",
    "        print(print_library_ascii(example_spec))\n",
    "        print(\"tool settings:\", generate_seqspec_tool_index(example_spec, run_files))\n",
    "        onlist_files = run_onlist_read(example_spec, \"rna\", run_files[\"R2\"][\"accession\"])\n",
    "        print(\"onlist\", [onlist.filename for onlist in onlist_files])\n",
    "        show(print_seqspec_png(example_spec))\n",
    "        print()\n",
    "\n",
    "    return example_spec.to_YAML()"
   ]
  },
  {
   "cell_type": "markdown",
   "id": "e605bfec",
   "metadata": {
    "slideshow": {
     "slide_type": "slide"
    }
   },
   "source": [
    "And an example of generate_seqspec_for_run being called"
   ]
  },
  {
   "cell_type": "code",
   "execution_count": null,
   "id": "b9862b72",
   "metadata": {
    "scrolled": false
   },
   "outputs": [],
   "source": [
    "print(generate_seqspec_for_run(protocols, run_files[1], verbose=True))"
   ]
  },
  {
   "cell_type": "markdown",
   "id": "ec95003d",
   "metadata": {
    "slideshow": {
     "slide_type": "slide"
    }
   },
   "source": [
    "# Test seqspec\n",
    "\n",
    "Check barcode locations for your tool.\n",
    "\n",
    "```\n",
    "seqspec index -m rna -r TSTFI09417350.fastq.gz,TSTFI18957175.fastq.gz -t kb TSTDS32005063.yaml\n",
    "1,10,18,1,48,56,1,78,86:1,0,10:0,0,140\n",
    "```\n",
    "check generated barcode list is correct.\n",
    "\n",
    "```\n",
    "seqspec onlist -m rna -f multi -r barcode -s region-type TSTDS32005063.yaml\n",
    "/woldlab/loxcyc/home/diane/proj/igvf-seq-spec-demo/onlist_joined.txt\n",
    "diane@trog:~/proj/seqspec$ head onlist_joined.txt \n",
    "AACGTGAT AACGTGAT CATTCCTA\n",
    "AAACATCG AAACATCG CTTCATCA\n",
    "ATGCCTAA ATGCCTAA CCTATATC\n",
    "```\n"
   ]
  },
  {
   "cell_type": "code",
   "execution_count": null,
   "id": "076bb85f",
   "metadata": {},
   "outputs": [],
   "source": []
  },
  {
   "cell_type": "markdown",
   "id": "annual-bullet",
   "metadata": {
    "slideshow": {
     "slide_type": "slide"
    }
   },
   "source": [
    "# Seqspec Submission functions"
   ]
  },
  {
   "cell_type": "markdown",
   "id": "4d2ac088",
   "metadata": {
    "slideshow": {
     "slide_type": "slide"
    }
   },
   "source": [
    "Post a seqspec object to the portal and capture the upload credentials from the response"
   ]
  },
  {
   "cell_type": "code",
   "execution_count": null,
   "id": "fc3cc880",
   "metadata": {},
   "outputs": [],
   "source": [
    "def create_seqspec_metadata_object(seqspec_metadata):\n",
    "    \"\"\"Post a seq spec metadata object to the portal\n",
    "    \"\"\"\n",
    "    response = server.post_json(\"configuration_file\", seqspec_metadata)\n",
    "    if response[\"status\"] == \"success\":\n",
    "        graph = response[\"@graph\"]\n",
    "        if len(graph) != 1:\n",
    "            print(\"Strange number of result objects {}\".format(len(graph)))        \n",
    "\n",
    "        print(\"Upload of {} succeeded\". format(graph[0][\"@id\"]))\n",
    "        seqspec_metadata.update({\n",
    "            \"@id\": graph[0][\"@id\"],\n",
    "            \"accession\": graph[0][\"accession\"],\n",
    "            \"uuid\": graph[0][\"uuid\"],\n",
    "        })\n",
    "    else:\n",
    "        print(filter_aws_credentials(response))\n",
    "        raise RuntimeError(\"Unable to create metadata object\")\n",
    "        \n",
    "    return graph[0].get(\"upload_credentials\")"
   ]
  },
  {
   "cell_type": "markdown",
   "id": "73c92d48",
   "metadata": {},
   "source": [
    "Refactor credential refresh logic for shorter upload function"
   ]
  },
  {
   "cell_type": "code",
   "execution_count": null,
   "id": "4427aaf0",
   "metadata": {
    "slideshow": {
     "slide_type": "skip"
    }
   },
   "outputs": [],
   "source": [
    "def refresh_credentials(credentials, seqspec_metadata):\n",
    "    if credentials is None:\n",
    "        print(\"retreving new credentials\")\n",
    "        response = server.post_json(\"{}/@@upload\".format(seqspec_metadata[\"@id\"]), {})\n",
    "        print(filter_aws_credentials(response))\n",
    "        if response[\"status\"] == \"success\":\n",
    "            assert len(response[\"@graph\"]) == 1, \"upload_seqspec_file Unexpected graph length {}\".format(len(response[\"@graph\"]))\n",
    "            graph = response[\"@graph\"]\n",
    "            credentials = graph[0][\"upload_credentials\"]\n",
    "            return credentials\n",
    "        else:\n",
    "            raise ValueError(\"Unable to get credentials for {}\".format(seqspec_metadata[\"@id\"]))\n",
    "    else:\n",
    "        return credentials"
   ]
  },
  {
   "cell_type": "markdown",
   "id": "7da7ef74",
   "metadata": {
    "slideshow": {
     "slide_type": "slide"
    }
   },
   "source": [
    "Using the credentials, the seqspec_metadata, and the seqspec text, post the seqspec to the portal. "
   ]
  },
  {
   "cell_type": "code",
   "execution_count": null,
   "id": "941d494b",
   "metadata": {},
   "outputs": [],
   "source": [
    "def upload_seqspec_file(credentials, seqspec_metadata, seqspec_contents):        \n",
    "    \"\"\"upload the seqspec contents as a file to s3\"\"\"\n",
    "    if not isinstance(seqspec_contents, bytes):\n",
    "        raise ValueError(\"seqspec_contents needs to be a gzipped byte array\")\n",
    "\n",
    "    credentials = refresh_credentials(credentials, seqspec_metadata)\n",
    "\n",
    "    s3_client = boto3.client(\n",
    "        's3', \n",
    "        aws_access_key_id=credentials[\"access_key\"], \n",
    "        aws_secret_access_key=credentials[\"secret_key\"], \n",
    "        aws_session_token=credentials[\"session_token\"])\n",
    "\n",
    "    bucket, target = parse_s3_url(credentials[\"upload_url\"])\n",
    "    s3_client.upload_fileobj(\n",
    "        BytesIO(seqspec_contents),\n",
    "        bucket,\n",
    "        target)"
   ]
  },
  {
   "cell_type": "markdown",
   "id": "3983ef45",
   "metadata": {
    "slideshow": {
     "slide_type": "slide"
    }
   },
   "source": [
    "A really irritating thing about gzip is that includes the current time in the compression header, which means by default each new compression run will get a new md5sum.\n",
    "\n",
    "But I want to use the md5sum to see if I've already posted the file...\n",
    "\n",
    "The python gzip utilities let you set the time, so you can force a reproducable time, so this code sets the gzip creation time to 1970 Jan 1 00:00 UTC.  (UNIX time 0).\n",
    "\n",
    "`gzip.compress(buffer, mtime=0)`\n",
    "\n",
    "Or for the gzip shell command\n",
    "\n",
    "`gzip -n/--no-name filename`"
   ]
  },
  {
   "cell_type": "markdown",
   "id": "5c8d0625",
   "metadata": {
    "slideshow": {
     "slide_type": "slide"
    }
   },
   "source": [
    "Construct seqspec object, see if it's already posted (by md5sum), and if not create the object and post the seqspec."
   ]
  },
  {
   "cell_type": "markdown",
   "id": "29c81d2a",
   "metadata": {},
   "source": [
    "- build list of file_ids this seqspec is for\n",
    "- compress file\n",
    "- calculate md5 of gzipped file\n",
    "- create seqspec_object\n",
    "- get_or_update_seqspec\n",
    "  - search for seqspec object, if available do the following.\n",
    "  - upload gzipped seqspec contents if its missing\n",
    "  - update seqspec_object with @id, accession, uuid\n",
    "- if md5 was not found, \n",
    "  - create the metadata object\n",
    "  - upload compressed contents"
   ]
  },
  {
   "cell_type": "code",
   "execution_count": null,
   "id": "0e1c11ba",
   "metadata": {
    "slideshow": {
     "slide_type": "slide"
    }
   },
   "outputs": [],
   "source": [
    "def get_seqspec_of(sequencing_run_files):\n",
    "    # Once the seqspec configuration file and metadata has been created and uploaded\n",
    "    # attach the the configuration file to it's fastqs.\n",
    "    seqspec_of = []\n",
    "    for read in sequencing_run_files:\n",
    "        # update the file record in case it changed\n",
    "        seqspec_of.append(sequencing_run_files[read][\"@id\"])\n",
    "\n",
    "    return seqspec_of"
   ]
  },
  {
   "cell_type": "code",
   "execution_count": null,
   "id": "fe893e7f",
   "metadata": {
    "slideshow": {
     "slide_type": "slide"
    }
   },
   "outputs": [],
   "source": [
    "def create_seqspec_configuration_metadata(file_set, md5, seqspec_of):\n",
    "    # Construct the configuration_file object for the DACC portal\n",
    "    seqspec_metadata = {\n",
    "        \"award\": award,\n",
    "        \"lab\": lab,\n",
    "        \"md5sum\": md5.hexdigest(),\n",
    "        \"file_format\": \"yaml\",\n",
    "        \"file_set\": file_set,\n",
    "        \"content_type\": \"seqspec\",\n",
    "        \"seqspec_of\": seqspec_of,\n",
    "    }\n",
    "    # Make sure the configuration_file passes the DACCs schema\n",
    "    igvf_validator.validate(seqspec_metadata, \"configuration_file\")\n",
    "    return seqspec_metadata"
   ]
  },
  {
   "cell_type": "code",
   "execution_count": null,
   "id": "b30982ae",
   "metadata": {
    "slideshow": {
     "slide_type": "slide"
    }
   },
   "outputs": [],
   "source": [
    "def get_or_update_seqspec(seqspec_metadata, seqspec_gzip, md5, dry_run=True):\n",
    "    response = server.get_json(\"md5:{}\".format(seqspec_metadata[\"md5sum\"]))\n",
    "    accession = response[\"accession\"]\n",
    "    uuid = response[\"uuid\"]\n",
    "    print(\"found object {} by {}. {}\".format(\n",
    "        response[\"@id\"], seqspec_metadata[\"md5sum\"], response[\"status\"]))\n",
    "\n",
    "    for k in seqspec_metadata:\n",
    "        if seqspec_metadata[k] != response.get(k):\n",
    "            print(\"{} {} differ\".format(seqspec_metadata[k], response.get(k)))\n",
    "\n",
    "    seqspec_metadata.update({\n",
    "        \"@id\": response[\"@id\"],\n",
    "    })\n",
    "\n",
    "    if response[\"status\"] == \"in progress\":\n",
    "        if dry_run:\n",
    "            print(\"Would upload file contents {}\".format(md5.hexdigest()))\n",
    "        else:\n",
    "            upload_seqspec_file(None, seqspec_metadata, seqspec_gzip)\n",
    "\n",
    "    seqspec_metadata[\"accession\"] = accession\n",
    "    seqspec_metadata[\"uuid\"] = uuid\n",
    "    return seqspec_metadata"
   ]
  },
  {
   "cell_type": "code",
   "execution_count": null,
   "id": "a12a43fc",
   "metadata": {
    "slideshow": {
     "slide_type": "slide"
    }
   },
   "outputs": [],
   "source": [
    "def create_and_upload_seqspec(seqspec_metadata, seqspec_data, md5, dry_run=True):\n",
    "    if dry_run:\n",
    "        print(\"Would create and upload {} for {}\".format(\n",
    "            md5.hexdigest(), seqspec_metadata[\"seqspec_of\"]))\n",
    "        for server_keys in [\"@id\", \"accession\", \"uuid\"]:\n",
    "            seqspec_metadata[server_keys] = \"would upload\"\n",
    "    else:\n",
    "        credentials = create_seqspec_metadata_object(seqspec_metadata)\n",
    "        upload_seqspec_file(credentials, seqspec_metadata, seqspec_data)  \n",
    "    return seqspec_metadata"
   ]
  },
  {
   "cell_type": "code",
   "execution_count": null,
   "id": "cardiac-inventory",
   "metadata": {
    "slideshow": {
     "slide_type": "slide"
    }
   },
   "outputs": [],
   "source": [
    "def register_seqspec(file_set, seqspec, sequencing_run_files, dry_run=True):\n",
    "    \"\"\"Create the seqspec objects and attach them to the fastqs\n",
    "    \n",
    "    Parameters:\n",
    "    - file_set: id the seqspec should be attached to\n",
    "    - seqspec a formatted seqspec file\n",
    "    - set of file objects associated with one sequencing run\n",
    "    - dry_run flag for if we should actually post data    \n",
    "    \"\"\"\n",
    "    seqspec_of = get_seqspec_of(sequencing_run_files)\n",
    "    # reproducibly compress seqspec text\n",
    "    seqspec_gzip = gzip.compress(seqspec.encode(\"utf-8\"), mtime=0)\n",
    "    md5 = hashlib.md5(seqspec_gzip)\n",
    "    seqspec_metadata = create_seqspec_configuration_metadata(\n",
    "        file_set, md5, seqspec_of)\n",
    "    # Search the portal for the md5sum of our seqspec file to see if \n",
    "    try:\n",
    "        seqspec_metadata = get_or_update_seqspec(\n",
    "            seqspec_metadata, seqspec_gzip, md5, dry_run=dry_run)\n",
    "    except encoded.HTTPError as err:\n",
    "        # If the file has not been submitted, and we're not in dry_run mode \n",
    "        # lets submit it\n",
    "        if err.response.status_code == 404:\n",
    "            seqspec_metadata = create_and_upload_seqspec(\n",
    "                seqspec_metadata, seqspec_gzip, md5, dry_run=dry_run)\n",
    "        else:\n",
    "             print(\"Other HTTPError error {}\".format(err.response.status_code))\n",
    "    return seqspec_metadata"
   ]
  },
  {
   "cell_type": "markdown",
   "id": "russian-pontiac",
   "metadata": {
    "slideshow": {
     "slide_type": "slide"
    }
   },
   "source": [
    "# Create seqspec objects for remaining fastqs"
   ]
  },
  {
   "cell_type": "markdown",
   "id": "classified-victor",
   "metadata": {},
   "source": [
    "Now that we have a way to list all of the fastq sets, and a function to post everything to the portal, lets loop\n",
    "loop through all of our measurement_sets and posting the seqspec configuration files for all the fastqs. (Change the to_process variable to be whatever you need updated."
   ]
  },
  {
   "cell_type": "code",
   "execution_count": null,
   "id": "7a0d5e86",
   "metadata": {},
   "outputs": [],
   "source": [
    "known = set(to_process)"
   ]
  },
  {
   "cell_type": "code",
   "execution_count": null,
   "id": "995beccb",
   "metadata": {
    "scrolled": true,
    "slideshow": {
     "slide_type": "slide"
    }
   },
   "outputs": [],
   "source": [
    "# note for the tests we limit this to just one measurement set\n",
    "# instead of all pending measurement sets\n",
    "#to_process = [measurement_test_id]\n",
    "\n",
    "#to_process = \"\"\"\"\"\".split()\n",
    "#to_process = [\"/measurement-sets/{}/\".format(x) for x in to_process]\n",
    "print(f\"Remaining {len(known)}-{len(to_process)}={len(known)-len(to_process)}\")\n",
    "assert set(to_process).issubset(known)\n",
    "\n",
    "seen_md5s = set()\n",
    "generated_specs = {}\n",
    "submitted_log = []\n",
    "for measurement_id in to_process:\n",
    "    print(\"processing\", measurement_id)\n",
    "    measurement = server.get_json(measurement_id)\n",
    "    protocols = measurement[\"protocols\"]\n",
    "    #if ProtocolsIO.splitseq_dual_index in protocols:\n",
    "    #    print(f\"Skipping {measurement_id} don't trust dual index illumina seqspec yet.\")\n",
    "    #    continue\n",
    "    run_files = get_sequence_files(measurement)\n",
    "    \n",
    "    for run_number in sorted(run_files):\n",
    "        seqspec = generate_seqspec_for_run(protocols, run_files[run_number])\n",
    "        generated_specs.setdefault(measurement_id, {}).setdefault(run_number, []).append(seqspec)\n",
    "        current_md5 = hashlib.md5(seqspec.encode(\"utf-8\")).hexdigest()\n",
    "        assert current_md5 not in seen_md5s, \"we generated the same seqspec file somehow\"\n",
    "        seen_md5s.add(current_md5)\n",
    "        metadata = register_seqspec(measurement_id, seqspec, run_files[run_number], dry_run=True)\n",
    "        metadata[\"template:skip\"] = get_template_from_protocols(protocols)\n",
    "        submitted_log.append(metadata)\n",
    "    "
   ]
  },
  {
   "cell_type": "code",
   "execution_count": null,
   "id": "dcbaf379",
   "metadata": {},
   "outputs": [],
   "source": [
    "%debug"
   ]
  },
  {
   "cell_type": "markdown",
   "id": "seven-adolescent",
   "metadata": {
    "slideshow": {
     "slide_type": "slide"
    }
   },
   "source": [
    "Convert the results of creating these seqspecs into a pandas data frame to make it easier to save a table."
   ]
  },
  {
   "cell_type": "code",
   "execution_count": null,
   "id": "paperback-behalf",
   "metadata": {},
   "outputs": [],
   "source": [
    "uploaded = pandas.DataFrame(submitted_log)[[\"accession\", \"uuid\", \"file_set\", \"content_type\", \"file_format\", \"md5sum\", \"template:skip\", \"award\", \"lab\"]]\n",
    "uploaded\n"
   ]
  },
  {
   "cell_type": "code",
   "execution_count": null,
   "id": "460b0009",
   "metadata": {},
   "outputs": [],
   "source": [
    "set(uploaded[\"template:skip\"])"
   ]
  },
  {
   "cell_type": "code",
   "execution_count": null,
   "id": "1f1f3974",
   "metadata": {},
   "outputs": [],
   "source": [
    "uploaded.to_csv(\"/dev/shm/configuration_files.csv\", index=False)"
   ]
  },
  {
   "cell_type": "code",
   "execution_count": null,
   "id": "2cb76457",
   "metadata": {},
   "outputs": [],
   "source": []
  }
 ],
 "metadata": {
  "celltoolbar": "Slideshow",
  "kernelspec": {
   "display_name": "Python 3 (ipykernel)",
   "language": "python",
   "name": "python3"
  },
  "language_info": {
   "codemirror_mode": {
    "name": "ipython",
    "version": 3
   },
   "file_extension": ".py",
   "mimetype": "text/x-python",
   "name": "python",
   "nbconvert_exporter": "python",
   "pygments_lexer": "ipython3",
   "version": "3.11.2"
  }
 },
 "nbformat": 4,
 "nbformat_minor": 5
}
