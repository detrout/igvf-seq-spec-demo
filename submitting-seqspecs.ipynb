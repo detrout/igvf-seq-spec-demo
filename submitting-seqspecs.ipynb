{
 "cells": [
  {
   "cell_type": "markdown",
   "id": "expected-boutique",
   "metadata": {
    "slideshow": {
     "slide_type": "slide"
    }
   },
   "source": [
    "# Thousands of seqspecs\n",
    "\n",
    "- github https://github.com/detrout/igvf-seq-spec-demo/\n",
    "- Presentation https://woldlab.caltech.edu/~diane/igvf-seq-spec-demo/submitting-seqspecs.slides.html#/\n",
    "- Notebook https://woldlab.caltech.edu/~diane/igvf-seq-spec-demo/submitting-seqspecs.html#"
   ]
  },
  {
   "cell_type": "markdown",
   "id": "9f563e65",
   "metadata": {
    "slideshow": {
     "slide_type": "slide"
    }
   },
   "source": [
    "# Outline\n",
    "\n",
    "This is a simplification of my figuring out how to submit seqspec files to the IGVF DACC.\n",
    "\n",
    "- [Python environment setup](#Setup)\n",
    "- [Jinja Templating](#Jinja)\n",
    "- [Seqspec template function](#Template)\n",
    "- [Find datasets missing seqspecs](#Find-datasets-missing-seqspecs)\n",
    "- [Generating a seqspec](#Generating-a-seqspec)\n",
    "- [Seqspec submission functions](#Seqspec-Submission-functions)\n",
    "- [Create seqspec objects for remaining fastqs](#Create-seqspec-objects-for-remaining-fastqs)"
   ]
  },
  {
   "cell_type": "markdown",
   "id": "6121b169",
   "metadata": {
    "slideshow": {
     "slide_type": "slide"
    }
   },
   "source": [
    "# Why seqspec?\n",
    "\n",
    "In ENCODE there were some experiments where the details of the barcode structure were never provided so when the person who did the experiment moved on there was no way to reprocess those samples.\n",
    "\n",
    "And thus seqspec\n",
    "\n",
    "However no one wants to generate thousands of seqspec, so I started working on automating seqspec generation."
   ]
  },
  {
   "cell_type": "markdown",
   "id": "a9e9ec57",
   "metadata": {
    "slideshow": {
     "slide_type": "slide"
    }
   },
   "source": [
    "Seqspec needs a fairly significant amount of information which can come from a local LIMS or spreadsheets, to make a more general example, I decided to try to generate seqspec files from information posted on the portal.\n",
    "\n",
    "For me, this required that my measurements set have the following properties.\n",
    "\n",
    "- protocols\n",
    "- platform id\n",
    "- sequencing kit information\n",
    "- submitted fastqs"
   ]
  },
  {
   "cell_type": "markdown",
   "id": "1322bf09",
   "metadata": {
    "slideshow": {
     "slide_type": "slide"
    }
   },
   "source": [
    "With that information,\n",
    "\n",
    "- a templating engine\n",
    "- the IGVF portal API\n",
    "- and a few hard coded variables\n",
    "\n",
    "I was able to create valid seqspecs files and attach them to the measurement set and the fastqs associated with a single sequencing run."
   ]
  },
  {
   "cell_type": "markdown",
   "id": "67bc1f6c",
   "metadata": {
    "slideshow": {
     "slide_type": "slide"
    }
   },
   "source": [
    "One measurement run will have several fastqs attached to it organized by illumina read type and sequencing run.  The number of different read types will vary depending on the assay.\n",
    "\n",
    "<table>\n",
    "    <thead>\n",
    "        <tr><td>sequencing_run</td><td><b>R1</b></td><td><b>R2</b></td><td><b>I1</b></td><td><b>[R3/I2]...</b></td></tr>\n",
    "    </thead>\n",
    "    <tbody>\n",
    "        <tr>\n",
    "            <td><b>1</b>\n",
    "            <td>run1/Sublibrary_7_S7_L001_R1_001.fastq.gz</td>\n",
    "            <td>run1/Sublibrary_7_S7_L001_R2_001.fastq.gz</td>\n",
    "            <td>run1/Sublibrary_7_S7_L001_I1_001.fastq.gz</td>\n",
    "            <td>...</td>\n",
    "        </tr>\n",
    "        <tr>\n",
    "            <td><b>2</b>\n",
    "            <td>run1/Sublibrary_7_S7_L002_R1_001.fastq.gz</td>\n",
    "            <td>run1/Sublibrary_7_S7_L002_R2_001.fastq.gz</td>\n",
    "            <td>run1/Sublibrary_7_S7_L002_I1_001.fastq.gz</td>\n",
    "            <td>...</td>\n",
    "        </tr>\n",
    "        <tr>\n",
    "            <td><b>3</b>\n",
    "            <td>run2/Sublibrary_7_S7_L002_R1_001.fastq.gz</td>\n",
    "            <td>run2/Sublibrary_7_S7_L002_R2_001.fastq.gz</td>\n",
    "            <td>run2/Sublibrary_7_S7_L002_I1_001.fastq.gz</td>\n",
    "            <td>...</td>\n",
    "        </tr>\n",
    "    </tbody>\n",
    "</table>\n",
    "\n",
    "you'll need a seqspec for each set of files that should be treated as a single set.\n",
    "\n",
    "The rest of this notebook is about grouping those runs and generating a seqspec for each one."
   ]
  },
  {
   "cell_type": "markdown",
   "id": "systematic-binary",
   "metadata": {
    "slideshow": {
     "slide_type": "slide"
    }
   },
   "source": [
    "# Setup\n",
    "\n",
    "We will need to import a variety of standard python components, boto3, and jinja\n",
    "\n",
    "Navigate down for the detailed code blocks"
   ]
  },
  {
   "cell_type": "code",
   "execution_count": 1,
   "id": "irish-queue",
   "metadata": {
    "slideshow": {
     "slide_type": "subslide"
    }
   },
   "outputs": [],
   "source": [
    "import gzip\n",
    "import hashlib\n",
    "from io import StringIO, BytesIO\n",
    "import json\n",
    "from jsonschema import Draft4Validator\n",
    "import logging\n",
    "import numpy\n",
    "import os\n",
    "from pathlib import Path\n",
    "import pandas\n",
    "import requests\n",
    "import sys\n",
    "from urllib.parse import urlparse, urljoin\n",
    "import yaml"
   ]
  },
  {
   "cell_type": "code",
   "execution_count": 2,
   "id": "least-senate",
   "metadata": {
    "slideshow": {
     "slide_type": "subslide"
    }
   },
   "outputs": [],
   "source": [
    "try:\n",
    "    import boto3\n",
    "except ImportError:\n",
    "    !{sys.executable} -m pip install --user boto3\n",
    "    import boto3\n",
    "    \n",
    "from botocore.exceptions import ClientError\n",
    "    "
   ]
  },
  {
   "cell_type": "code",
   "execution_count": 3,
   "id": "double-break",
   "metadata": {
    "slideshow": {
     "slide_type": "subslide"
    }
   },
   "outputs": [],
   "source": [
    "try:\n",
    "    from jinja2 import Environment\n",
    "except ImportError:\n",
    "    !{sys.executable} -m pip install --user jinja2\n",
    "    from jinja2 import Environment\n",
    "\n",
    "from jinja2 import FileSystemLoader, select_autoescape, Undefined, StrictUndefined, make_logging_undefined\n",
    "\n",
    "logger = logging.getLogger(__name__)\n",
    "LoggingUndefined = make_logging_undefined(\n",
    "    logger=logger,\n",
    "    base=Undefined\n",
    ")\n",
    "\n",
    "env = Environment(\n",
    "    loader=FileSystemLoader(\"templates\"),\n",
    "    autoescape=select_autoescape(),\n",
    "    undefined=LoggingUndefined,\n",
    ")"
   ]
  },
  {
   "cell_type": "markdown",
   "id": "bcb29fd2",
   "metadata": {
    "slideshow": {
     "slide_type": "slide"
    }
   },
   "source": [
    "# Import seqspec validator\n",
    "\n",
    "To make sure our seqspecs are valid before submitting, I imported the parts seqspec necessary for running them from code instead of using the command line interface.\n",
    "\n",
    "I have the repository checked out into ~/proj/seqspec. This block should either import it for me, or install it if someone elese runs it.\n",
    "\n",
    "See below for details"
   ]
  },
  {
   "cell_type": "code",
   "execution_count": 4,
   "id": "fleet-pillow",
   "metadata": {
    "slideshow": {
     "slide_type": "subslide"
    }
   },
   "outputs": [],
   "source": [
    "try:\n",
    "    import seqspec\n",
    "except ImportError:\n",
    "    seqspec_root = Path(\"~/proj/seqspec\").expanduser()\n",
    "    if seqspec_root.exists() and str(seqspec_root) not in sys.path:\n",
    "        sys.path.append(str(seqspec_root))\n",
    "    else:\n",
    "        !{sys.executable} -m pip install --user seqspec\n",
    "    import seqspec"
   ]
  },
  {
   "cell_type": "markdown",
   "id": "usual-census",
   "metadata": {
    "slideshow": {
     "slide_type": "subslide"
    }
   },
   "source": [
    "Import pieces of seqspec that we need for this notebook."
   ]
  },
  {
   "cell_type": "code",
   "execution_count": 5,
   "id": "entire-faculty",
   "metadata": {
    "slideshow": {
     "slide_type": "-"
    }
   },
   "outputs": [],
   "source": [
    "from seqspec.Assay import Assay\n",
    "from seqspec.Region import Region\n",
    "from seqspec.Region import Onlist\n",
    "from seqspec.utils import load_spec_stream\n",
    "from seqspec.seqspec_index import run_index, get_index\n",
    "from seqspec.seqspec_print import run_print_sequence_spec, run_print_library_tree, run_print_library_png\n",
    "from seqspec.seqspec_onlist import run_list_onlists, run_onlist_read, run_find_by_type"
   ]
  },
  {
   "cell_type": "markdown",
   "id": "64ae9253",
   "metadata": {
    "slideshow": {
     "slide_type": "subslide"
    }
   },
   "source": [
    "## Utilities for seqspec validation\n",
    "\n",
    "Some helper functions because the seqspec library wasn't really written for this use case."
   ]
  },
  {
   "cell_type": "code",
   "execution_count": 6,
   "id": "nearby-canon",
   "metadata": {
    "slideshow": {
     "slide_type": "-"
    }
   },
   "outputs": [],
   "source": [
    "def seqspec_validate(schema, spec):\n",
    "    \"\"\"Validate a yaml object against a json schema\n",
    "    \"\"\"\n",
    "    validator = Draft4Validator(schema)\n",
    "\n",
    "    for idx, error in enumerate(validator.iter_errors(spec), 1):\n",
    "        print(f\"[{idx}] {error.message}\")\n",
    "\n",
    "def load_spec(filename):\n",
    "    with open(filename, \"rt\") as instream:\n",
    "        data = yaml.load(instream, Loader=yaml.Loader)\n",
    "        for r in data.assay_spec:\n",
    "            r.set_parent_id(None)\n",
    "    return data\n",
    "\n",
    "schema_path = seqspec_root / \"seqspec\"/ \"schema\" / \"seqspec.schema.json\"\n",
    "with open(schema_path, \"rt\") as instream:\n",
    "    seqspec_schema = json.load(instream)        "
   ]
  },
  {
   "cell_type": "markdown",
   "id": "sharp-quick",
   "metadata": {
    "slideshow": {
     "slide_type": "slide"
    }
   },
   "source": [
    "# Import portal API\n",
    "\n",
    "I have my own API <a href=\"https://github.com/detrout/encoded_client\">encoded_client</a> for interacting with the IGVF database server (which is very much like the old ENCODE database server) it is similar in purpose to <a href=\"https://igvf-utils.readthedocs.io/\">igvf-utils</a>.\n",
    "\n",
    "See below for details"
   ]
  },
  {
   "cell_type": "code",
   "execution_count": 7,
   "id": "vocal-nutrition",
   "metadata": {
    "slideshow": {
     "slide_type": "subslide"
    }
   },
   "outputs": [],
   "source": [
    "try:\n",
    "    from encoded_client import encoded\n",
    "except ImportError:\n",
    "    encoded_root = Path(\"~/proj/encoded_client\").expanduser()\n",
    "    if encoded_root.exists() and str(encoded_root) not in sys.path:\n",
    "        sys.path.append(str(encoded_root))\n",
    "    else:\n",
    "        !{sys.executable} -m pip install --user encoded_client\n",
    "        \n",
    "    from encoded_client import encoded"
   ]
  },
  {
   "cell_type": "markdown",
   "id": "increasing-entity",
   "metadata": {
    "slideshow": {
     "slide_type": "subslide"
    }
   },
   "source": [
    "encoded_client will pull submitter credentials from either DCC_API_KEY and DCC_SECRET_KEY or from a .netrc file loaded from your home directory. (replacing the {DCC_API_KEY} and {DCC_SECRET_KEY} strings with your specific values.)\n",
    "\n",
    "The format of a .netrc file is a plain text file with records of the format:\n",
    "\n",
    "<pre>machine api.sandbox.igvf.org login {DCC_API_KEY} password {DCC_SECRET_KEY}</pre>\n",
    "\n",
    "Or api.data.igvf.org\n",
    "\n",
    "(it's also possible to list the fields on separate lines, but I think it's easier to read when they're on one line)\n",
    "\n",
    "or after creating the server object call:\n",
    "\n",
    "<pre>server.username = \"{DCC_API_KEY}\"\n",
    "server.password = \"{DCC_SECRET_KEY}\"</pre>\n",
    "\n"
   ]
  },
  {
   "cell_type": "markdown",
   "id": "valuable-meditation",
   "metadata": {
    "slideshow": {
     "slide_type": "slide"
    }
   },
   "source": [
    "# Variables\n",
    "\n",
    "We need to specify which server we're using and our award and submitting lab ids."
   ]
  },
  {
   "cell_type": "code",
   "execution_count": 8,
   "id": "alleged-hebrew",
   "metadata": {
    "slideshow": {
     "slide_type": "-"
    }
   },
   "outputs": [],
   "source": [
    "#server_name = \"api.data.igvf.org\"\n",
    "server_name = \"api.sandbox.igvf.org\"\n",
    "award = \"/awards/HG012077/\"\n",
    "lab = \"/labs/ali-mortazavi/\"\n",
    "\n",
    "server = encoded.ENCODED(server_name)\n",
    "igvf_validator = encoded.DCCValidator(server)\n",
    "\n",
    "# check below for a dictionary to help cache protal objects"
   ]
  },
  {
   "cell_type": "markdown",
   "id": "7648e0bf",
   "metadata": {
    "slideshow": {
     "slide_type": "subslide"
    }
   },
   "source": [
    "Simple object to cache object lookups"
   ]
  },
  {
   "cell_type": "code",
   "execution_count": 9,
   "id": "8ffbf396",
   "metadata": {
    "slideshow": {
     "slide_type": "-"
    }
   },
   "outputs": [],
   "source": [
    "class CachedTerms:\n",
    "    def __init__(self, server):\n",
    "        self.server = server\n",
    "        self._cache = {}\n",
    "        \n",
    "    def __getitem__(self, key):\n",
    "        if key in self._cache:\n",
    "            return self._cache[key]\n",
    "        \n",
    "        obj = self.server.get_json(key)\n",
    "        if obj is not None:\n",
    "            self._cache[key] = obj\n",
    "            return obj\n",
    "        \n",
    "server_cache = CachedTerms(server)"
   ]
  },
  {
   "cell_type": "markdown",
   "id": "d143a688",
   "metadata": {
    "slideshow": {
     "slide_type": "slide"
    }
   },
   "source": [
    "# Jinja"
   ]
  },
  {
   "cell_type": "markdown",
   "id": "ebc47e68",
   "metadata": {},
   "source": [
    "[Jinjia](https://jinja.palletsprojects.com/) is a fairly popular templating language for python.\n",
    "\n",
    "it supports conditionals, loops, variable substitutions, and even function calls. However for seqspec we just need to be able to substitute in variables we collect from elsewhere.\n",
    "\n",
    "Here's an example of one of the template read blocks showing some of the variables that will get replaced.\n",
    "\n",
    "<pre>\n",
    "- !Read\n",
    "  read_id: {{ read1_accession }}.fastq.gz\n",
    "  name: Read 1 fastq for {{ read1_accession }}\n",
    "  modaility: rna\n",
    "  primer_id: truseq_read1\n",
    "  min_len: {{ read1_min_length }}\n",
    "  max_len: {{ read1_max_length }}\n",
    "  strand: pos\n",
    "</pre>"
   ]
  },
  {
   "cell_type": "markdown",
   "id": "allied-cargo",
   "metadata": {
    "slideshow": {
     "slide_type": "slide"
    }
   },
   "source": [
    "# Template variables\n",
    "\n",
    "First build up lists of barcodes onlists needed for this protocol the names will be passed to the template. The combinitorial barcoding schemes like parse or shareseq need to specify several barcode files."
   ]
  },
  {
   "cell_type": "code",
   "execution_count": 10,
   "id": "ffd74243",
   "metadata": {
    "slideshow": {
     "slide_type": "-"
    }
   },
   "outputs": [],
   "source": [
    "barcode_sets = {\n",
    "    \"https://www.protocols.io/view/evercode-wt-v2-2-1-eq2lyj9relx9/v1\": {\n",
    "        # onlist1_n96_v4\n",
    "        \"barcode_1_url\": \"https://data.igvf.org/tabular-files/IGVFFI0924TKJO/@@download/IGVFFI0924TKJO.txt.gz\",\n",
    "        #\"barcode_1_url\": \"https://woldlab.caltech.edu/~diane/parse_barcodes/bc1_n96_v4.txt.gz\",\n",
    "        \"barcode_1_location\": \"remote\",\n",
    "        \"barcode_1_md5\": \"6d5016e63f121b6a64fb3907dd83f358\",\n",
    "\n",
    "        \"barcode_2_url\": \"https://data.igvf.org/tabular-files/IGVFFI1138MCVX/@@download/IGVFFI1138MCVX.txt.gz\",\n",
    "        #\"barcode_2_url\": \"https://woldlab.caltech.edu/~diane/parse_barcodes/bc2_v1_bc_v3.txt.gz\",\n",
    "        \"barcode_2_location\": \"remote\",\n",
    "        \"barcode_2_md5\": \"1452e8ef104e6edf686fab8956172072\",\n",
    "        \n",
    "        \"barcode_3_url\": \"https://data.igvf.org/tabular-files/IGVFFI1138MCVX/@@download/IGVFFI1138MCVX.txt.gz\",\n",
    "        #\"barcode_3_url\": \"https://woldlab.caltech.edu/~diane/parse_barcodes/bc2_v1_bc_v3.txt.gz\",\n",
    "        \"barcode_3_location\": \"remote\",\n",
    "        \"barcode_3_md5\": \"1452e8ef104e6edf686fab8956172072\",\n",
    "    },\n",
    "    \"https://www.protocols.io/view/evercode-wt-mega-v2-2-1-8epv5xxrng1b/v1\": {\n",
    "        # need to add barcode urls\n",
    "        #onlist1_n192_v4\n",
    "        \"barcode_1_location\": \"remote\",        \n",
    "        \"barcode_1_url\": \"https://data.igvf.org/tabular-files/IGVFFI2591OFQO/@@download/IGVFFI2591OFQO.txt.gz\",\n",
    "        #\"barcode_1_url\": \"https://woldlab.caltech.edu/~diane/parse_barcodes/bc1_n192_v4.txt.gz\",\n",
    "        #\"barcode_1_location\": \"local\",\n",
    "        #\"barcode_1_url\": \"CB1.txt\",\n",
    "        \"barcode_1_md5\": \"5c3b70034e9cef5de735dc9d4f3fdbde\",\n",
    "        \"barcode_2_location\": \"remote\",        \n",
    "        \"barcode_2_url\": \"https://data.igvf.org/tabular-files/IGVFFI1138MCVX/@@download/IGVFFI1138MCVX.txt.gz\",\n",
    "        #\"barcode_2_url\": \"https://woldlab.caltech.edu/~diane/parse_barcodes/bc2_v1_bc_v3.txt.gz\",\n",
    "        #\"barcode_2_location\": \"local\",\n",
    "        #\"barcode_2_url\": \"CB23.txt\",\n",
    "        \"barcode_2_md5\": \"1452e8ef104e6edf686fab8956172072\",\n",
    "        \"barcode_3_location\": \"remote\",\n",
    "        \"barcode_3_url\": \"https://data.igvf.org/tabular-files/IGVFFI1138MCVX/@@download/IGVFFI1138MCVX.txt.gz\",\n",
    "        #\"barcode_3_url\": \"https://woldlab.caltech.edu/~diane/parse_barcodes/bc2_v1_bc_v3.txt.gz\",\n",
    "        #\"barcode_3_location\": \"local\",\n",
    "        #\"barcode_3_url\": \"CB23.txt\",\n",
    "        \"barcode_3_md5\": \"1452e8ef104e6edf686fab8956172072\",\n",
    "    }\n",
    "}"
   ]
  },
  {
   "cell_type": "markdown",
   "id": "b981b3cc",
   "metadata": {
    "slideshow": {
     "slide_type": "slide"
    }
   },
   "source": [
    "Information about library kits, organized by protocol and for us single versus dual illumina index."
   ]
  },
  {
   "cell_type": "code",
   "execution_count": 11,
   "id": "e97973f9",
   "metadata": {},
   "outputs": [],
   "source": [
    "library_kits = {\n",
    "    \"https://www.protocols.io/view/evercode-wt-v2-2-1-eq2lyj9relx9/v1\": {\n",
    "        \"single\": {\n",
    "            \"library_protocol\": \"Any\",\n",
    "            \"library_kit\": \"Evercode WT v2.0.1 single index\",\n",
    "        },\n",
    "        \"dual\": {\n",
    "            \"library_protocol\": \"Any\",\n",
    "            \"library_kit\": \"Evercode WT v2.0.1 dual index\",\n",
    "        },\n",
    "    },\n",
    "    \"https://www.protocols.io/view/evercode-wt-mega-v2-2-1-8epv5xxrng1b/v1\": {\n",
    "        \"single\": {\n",
    "            \"library_protocol\": \"Any\",\n",
    "            \"library_kit\": \"Evercode WT Mega v2.0.1 single index\",\n",
    "        },\n",
    "        \"dual\": {\n",
    "            \"library_protocol\": \"Any\",\n",
    "            \"library_kit\": \"Evercode WT Mega v2.0.1 dual index\",\n",
    "        },\n",
    "    },\n",
    "}"
   ]
  },
  {
   "cell_type": "markdown",
   "id": "dcf47e2c",
   "metadata": {
    "slideshow": {
     "slide_type": "slide"
    }
   },
   "source": [
    "Using protocol to select which seqspec template to use"
   ]
  },
  {
   "cell_type": "code",
   "execution_count": 12,
   "id": "pointed-worcester",
   "metadata": {
    "slideshow": {
     "slide_type": "-"
    }
   },
   "outputs": [],
   "source": [
    "templates_by_protocol = {\n",
    "    \"https://www.protocols.io/view/evercode-wt-v2-2-1-eq2lyj9relx9/v1\": {\n",
    "        # the 96 vs 192 barcodes doesn't matter to the seqspec.\n",
    "        # there's probably a different way of organzing this.\n",
    "        \"single\": \"parse-wt-mega-v2-single-index-libspec-1.yaml.j2\",\n",
    "        \"dual\": \"parse-wt-mega-v2-dual-index-libspec-1.yaml.j2\",\n",
    "        \n",
    "    },\n",
    "    \"https://www.protocols.io/view/evercode-wt-mega-v2-2-1-8epv5xxrng1b/v1\": {\n",
    "        \"single\": \"parse-wt-mega-v2-single-index-libspec-1.yaml.j2\",\n",
    "        \"dual\": \"parse-wt-mega-v2-dual-index-libspec-1.yaml.j2\",\n",
    "    }\n",
    "}"
   ]
  },
  {
   "cell_type": "markdown",
   "id": "reserved-ghost",
   "metadata": {
    "slideshow": {
     "slide_type": "slide"
    }
   },
   "source": [
    "Search for measurement sets from our lab and that are missing seqspecs."
   ]
  },
  {
   "cell_type": "code",
   "execution_count": 13,
   "id": "center-private",
   "metadata": {},
   "outputs": [
    {
     "name": "stdout",
     "output_type": "stream",
     "text": [
      "25\n"
     ]
    },
    {
     "data": {
      "text/plain": [
       "['/measurement-sets/TSTDS25106370/',\n",
       " '/measurement-sets/TSTDS32005063/',\n",
       " '/measurement-sets/TSTDS30294230/',\n",
       " '/measurement-sets/TSTDS95237342/',\n",
       " '/measurement-sets/TSTDS48877173/',\n",
       " '/measurement-sets/TSTDS69666634/',\n",
       " '/measurement-sets/TSTDS36584014/',\n",
       " '/measurement-sets/TSTDS95760802/',\n",
       " '/measurement-sets/TSTDS07432728/',\n",
       " '/measurement-sets/TSTDS51545328/',\n",
       " '/measurement-sets/TSTDS95340953/',\n",
       " '/measurement-sets/TSTDS34582101/',\n",
       " '/measurement-sets/TSTDS72923185/',\n",
       " '/measurement-sets/TSTDS84503921/',\n",
       " '/measurement-sets/TSTDS12663199/',\n",
       " '/measurement-sets/TSTDS43282126/',\n",
       " '/measurement-sets/TSTDS76216718/',\n",
       " '/measurement-sets/TSTDS90515305/',\n",
       " '/measurement-sets/TSTDS70002954/',\n",
       " '/measurement-sets/TSTDS06772346/',\n",
       " '/measurement-sets/TSTDS02882566/',\n",
       " '/measurement-sets/TSTDS74497326/',\n",
       " '/measurement-sets/TSTDS10802686/',\n",
       " '/measurement-sets/TSTDS48294221/',\n",
       " '/measurement-sets/TSTDS09179588/']"
      ]
     },
     "execution_count": 13,
     "metadata": {},
     "output_type": "execute_result"
    }
   ],
   "source": [
    "query = f\"/search/?type=MeasurementSet&lab.title=Ali+Mortazavi%2C+UCI\"\\\n",
    "         \"&audit.NOT_COMPLIANT.category=missing+sequence+specification\"\n",
    "\n",
    "graph = server.get_json(query, limit=2000)\n",
    "to_process = [x[\"@id\"] for x in graph[\"@graph\"]]\n",
    "print(len(to_process))\n",
    "to_process "
   ]
  },
  {
   "cell_type": "markdown",
   "id": "1c32363b",
   "metadata": {
    "slideshow": {
     "slide_type": "slide"
    }
   },
   "source": [
    "Just as an aside searches and end-points like https://api.sandbox.igvf.org/measurement-sets/ return a json-ld collection.\n",
    "\n",
    "<pre>\n",
    "{\n",
    "  \"@id\": \"/search/?type=Measuremen…le=Ali+Mortazavi%2C+UCI\",\n",
    "  \"@graph\": [ ... ],\n",
    "  \"@type\": [\"Search\"],\n",
    "  \"total\": 27\n",
    "}\n",
    "</pre>\n",
    "\n",
    "For many searches the objects in the @graph may only be a subset of all the attributes, so I frequently do a search and then request the fully detailed object.\n",
    "\n",
    "<code format=\"python\">    for row in response[\"@graph\"]:\n",
    "       detail = server.get_json(row[\"@id\"])\n",
    "       ... do stuff\n",
    "</code>"
   ]
  },
  {
   "cell_type": "code",
   "execution_count": 14,
   "id": "atmospheric-bidder",
   "metadata": {
    "slideshow": {
     "slide_type": "skip"
    }
   },
   "outputs": [],
   "source": [
    "measurement_test_id = \"/measurement-sets/TSTDS32005063/\""
   ]
  },
  {
   "cell_type": "markdown",
   "id": "5773abaa",
   "metadata": {
    "slideshow": {
     "slide_type": "slide"
    }
   },
   "source": [
    "## Processing measurement sets\n",
    "\n",
    "The measurement_set lists all the files attached to it in a single [\"files\"] list. However we need to process seqspecs by sequencing_run, so we'll need to find the fastqs and group them by sequencing run.\n",
    "\n",
    "And as a feature I should implement if there's already seqspec configuration files attached to the measurement set should detect that and warn about it."
   ]
  },
  {
   "cell_type": "markdown",
   "id": "2b1d0bec",
   "metadata": {
    "slideshow": {
     "slide_type": "slide"
    }
   },
   "source": [
    "Build up a data structure of reads organized by sequencing run."
   ]
  },
  {
   "cell_type": "code",
   "execution_count": 15,
   "id": "capable-jewelry",
   "metadata": {},
   "outputs": [
    {
     "name": "stdout",
     "output_type": "stream",
     "text": [
      "1 R1 igvf_003/nova1/Sublibrary_12_S11_L003_R1_001.fastq.gz\n",
      "1 R2 igvf_003/nova1/Sublibrary_12_S11_L003_R2_001.fastq.gz\n",
      "2 R1 igvf_003/nova2/Sublibrary_12_S11_L003_R1_001.fastq.gz\n",
      "2 R2 igvf_003/nova2/Sublibrary_12_S11_L001_R2_001.fastq.gz\n"
     ]
    }
   ],
   "source": [
    "def get_sequence_files(measurement_set):\n",
    "    paired_files = {}\n",
    "    for file in measurement_set[\"files\"]:        \n",
    "        sequence = server.get_json(file[\"@id\"])\n",
    "        file_format = sequence[\"file_format\"]\n",
    "        if file_format in (\"fastq\",):\n",
    "            sequence_run = sequence[\"sequencing_run\"]\n",
    "            illumina_read_type = sequence.get(\"illumina_read_type\")\n",
    "            paired_files.setdefault(sequence_run, {})[illumina_read_type] = sequence\n",
    "        \n",
    "    return paired_files\n",
    "\n",
    "measurement = server.get_json(measurement_test_id)\n",
    "protocols = measurement[\"protocols\"]\n",
    "run_files = get_sequence_files(measurement)\n",
    "for run in sorted(run_files):\n",
    "    for read in sorted(run_files[run]):\n",
    "        print(run, read, run_files[run][read][\"submitted_file_name\"])"
   ]
  },
  {
   "cell_type": "markdown",
   "id": "f5915827",
   "metadata": {
    "slideshow": {
     "slide_type": "slide"
    }
   },
   "source": [
    "# Generating a seqspec\n",
    "\n",
    "Introducing functions to build the seqspec from information in the notebook and what's been posted to the portal.\n",
    "\n",
    "I made sure to include the sequencing platform, sequencing_kit, and protocols in my measurement set objects so I could reuse them when generating seqspecs"
   ]
  },
  {
   "cell_type": "markdown",
   "id": "1aba0093",
   "metadata": {
    "slideshow": {
     "slide_type": "slide"
    }
   },
   "source": [
    "## Detect fastq index type\n",
    "\n",
    "Our illumina fastqs have a both single and dual illumina demultiplexing barcodes, which can be best represented by different seqspec files. To help identify which is which this function examines the fastq on the portal to detect the fastq type.\n",
    "\n",
    "(Or just forces it to single in the case of the early test submissions on sandbox)\n",
    "\n",
    "See below for details"
   ]
  },
  {
   "cell_type": "code",
   "execution_count": 16,
   "id": "a7276adb",
   "metadata": {
    "slideshow": {
     "slide_type": "subslide"
    }
   },
   "outputs": [],
   "source": [
    "def detect_index_type(server, href):\n",
    "    # we only ever submitted single indexed data to test server\n",
    "    # and the files aren't there any more.\n",
    "    if server.server == \"api.sandbox.igvf.org\":\n",
    "        return \"single\"\n",
    "\n",
    "    with server.get_response(href, stream=True) as response:\n",
    "        if response.status_code == 200:\n",
    "            for line in gzip.GzipFile(fileobj=response.raw):\n",
    "                line = line.decode(\"ascii\").strip()\n",
    "                assert line[0] == \"@\", \"fastq must start with an @\"\n",
    "                header, extra = line.split()\n",
    "                fields = extra.split(\":\")\n",
    "                barcode = fields[-1]\n",
    "                if \"+\" in barcode and len(barcode) > 8:\n",
    "                    return \"dual\"\n",
    "                elif \"+\" not in barcode and len(barcode) < 8:\n",
    "                    return \"single\"\n",
    "                else:\n",
    "                    raise ValueError(f\"Abiguous barcode {fields[4]}\")\n"
   ]
  },
  {
   "cell_type": "markdown",
   "id": "ecf580b0",
   "metadata": {
    "slideshow": {
     "slide_type": "slide"
    }
   },
   "source": [
    "# Rendering logic\n",
    "\n",
    "- First find protocol based variables and templates\n",
    "- Then merge values from a dictionary indexed by illumina_read_type that represents one sequencing_run row generated get_sequence_files()\n",
    "\n",
    "<pre>\n",
    "{\"R1\": {\"@id\": ... },\n",
    " \"R2\": {\"@id\": ....}}\n",
    "</pre>\n",
    "\n",
    "- render the template to a string\n",
    "- load the string into the seqspec library\n",
    "- call update_spec to fix the joined regions\n",
    "- validate the seqspec\n",
    "- if validation passes return the seqspec text using to_YAML()\n",
    "\n",
    "Broken into smaller functions for discussion."
   ]
  },
  {
   "cell_type": "markdown",
   "id": "296fcc54",
   "metadata": {
    "slideshow": {
     "slide_type": "slide"
    }
   },
   "source": [
    "Look for the library construction protocol. The sample preparation protocols, don't usually influence the seqspec"
   ]
  },
  {
   "cell_type": "code",
   "execution_count": 17,
   "id": "0dffde60",
   "metadata": {
    "slideshow": {
     "slide_type": "-"
    }
   },
   "outputs": [],
   "source": [
    "def get_protocol_used_for_index(protocols):\n",
    "    protocol = None\n",
    "    for p in protocols:\n",
    "        if p in barcode_sets:\n",
    "            protocol = p\n",
    "            break\n",
    "\n",
    "    if protocol is None:\n",
    "        raise ValueError(f\"Unable to find information by {protocols}\")\n",
    "\n",
    "    return protocol"
   ]
  },
  {
   "cell_type": "markdown",
   "id": "676e0dbb",
   "metadata": {
    "slideshow": {
     "slide_type": "slide"
    }
   },
   "source": [
    "We need to define the variables that will be passed to the Jinja templating engine."
   ]
  },
  {
   "cell_type": "code",
   "execution_count": 18,
   "id": "101117fb",
   "metadata": {
    "slideshow": {
     "slide_type": "-"
    }
   },
   "outputs": [],
   "source": [
    "def generate_seqspec_context(protocol, index_type, run_files):\n",
    "    platform = run_files[\"R1\"][\"sequencing_platform\"]    \n",
    "    context = {\n",
    "        \"read1_accession\": run_files[\"R1\"][\"accession\"],\n",
    "        \"read1_url\": server.prepare_url(run_files[\"R1\"][\"href\"]),\n",
    "        \"read1_min_length\": run_files[\"R1\"][\"minimum_read_length\"],\n",
    "        \"read1_max_length\": run_files[\"R1\"][\"maximum_read_length\"],\n",
    "\n",
    "        \"read2_accession\": run_files[\"R2\"][\"accession\"],\n",
    "        \"read2_url\": server.prepare_url(run_files[\"R2\"][\"href\"]),\n",
    "        \"read2_min_length\": run_files[\"R2\"][\"minimum_read_length\"],\n",
    "        \"read2_max_length\": run_files[\"R2\"][\"maximum_read_length\"],\n",
    "\n",
    "        \"sequence_kit\": run_files[\"R1\"][\"sequencing_kit\"],\n",
    "        \"sequence_protocol\": server_cache[platform][\"term_name\"],\n",
    "    }\n",
    "\n",
    "    # Merge in the barcode information\n",
    "    barcodes = barcode_sets[protocol]\n",
    "    context.update(barcodes)\n",
    "\n",
    "    library = library_kits[protocol][index_type]\n",
    "    context.update(library)\n",
    "    \n",
    "    return context"
   ]
  },
  {
   "cell_type": "markdown",
   "id": "272019dc",
   "metadata": {
    "slideshow": {
     "slide_type": "slide"
    }
   },
   "source": [
    "With a filled in context dictionary and we can lookup our template, render it, and test that it's valid."
   ]
  },
  {
   "cell_type": "code",
   "execution_count": 19,
   "id": "a4faee08",
   "metadata": {
    "slideshow": {
     "slide_type": "-"
    }
   },
   "outputs": [],
   "source": [
    "def generate_seqspec_for_run(protocols, run_files):\n",
    "    protocol = get_protocol_used_for_index(protocols)\n",
    "    index_type = detect_index_type(server, run_files[\"R1\"][\"href\"])\n",
    "    template_name = templates_by_protocol[protocol][index_type]\n",
    "\n",
    "    context = generate_seqspec_context(protocol, index_type, run_files)\n",
    "    template = env.get_template(template_name)\n",
    "    example_yaml = template.render(context)\n",
    "    \n",
    "    # validate the generated seqspec file.\n",
    "    example_spec = load_spec_stream(StringIO(example_yaml))\n",
    "    example_spec.update_spec()\n",
    "    seqspec_validate(seqspec_schema, example_spec.to_dict())\n",
    "\n",
    "    return example_spec.to_YAML()"
   ]
  },
  {
   "cell_type": "markdown",
   "id": "e605bfec",
   "metadata": {
    "slideshow": {
     "slide_type": "slide"
    }
   },
   "source": [
    "And an example of generate_seqspec_for_run being called"
   ]
  },
  {
   "cell_type": "code",
   "execution_count": 20,
   "id": "b9862b72",
   "metadata": {
    "scrolled": false
   },
   "outputs": [
    {
     "name": "stdout",
     "output_type": "stream",
     "text": [
      "!Assay\n",
      "seqspec_version: 0.1.1\n",
      "assay_id: Evercode-WT-mega-single-index-v2\n",
      "name: Parse Evercode mega WT v2 using single illumina multiplex index\n",
      "doi: https://www.protocols.io/view/evercode-wt-mega-v2-2-1-8epv5xxrng1b/v1?step=21\n",
      "date: 08 November 2023\n",
      "description: split-pool ligation-based transcriptome sequencing\n",
      "modalities:\n",
      "- rna\n",
      "lib_struct: ''\n",
      "library_protocol: Any\n",
      "library_kit: Evercode WT Mega v2.0.1 single index\n",
      "sequence_protocol: Illumina NovaSeq 6000\n",
      "sequence_kit: NovaSeq 6000 S4 Reagent Kit v1.5\n",
      "sequence_spec:\n",
      "- !Read\n",
      "  read_id: TSTFI09417350.fastq.gz\n",
      "  name: Read 1 fastq for TSTFI09417350\n",
      "  modality: rna\n",
      "  primer_id: truseq_read1\n",
      "  min_len: 140\n",
      "  max_len: 140\n",
      "  strand: pos\n",
      "- !Read\n",
      "  read_id: TSTFI18957175.fastq.gz\n",
      "  name: Read 2 fastq for TSTFI18957175\n",
      "  modality: rna\n",
      "  primer_id: truseq_read2\n",
      "  min_len: 86\n",
      "  max_len: 86\n",
      "  strand: neg\n",
      "library_spec:\n",
      "- !Region\n",
      "  region_id: rna\n",
      "  region_type: named\n",
      "  name: rna\n",
      "  sequence_type: joined\n",
      "  sequence: AATGATACGGCGACCACCGAGATCTACACTCTTTCCCTACACGACGCTCTTCCGATCTXXXXXXXXXXXXXXXXXXXXXXXXXXXXXXXXXXXXXXXXXXXXXXXXXXXXXXXXXXXXXXXXXXXXXXXXXXXXXXXXXXXXXXXXXXXXXXXXXXXXXXXXXXXXXXXXXXXXXXXXXXXXXXXXXXXXXXXXXXXXNNNNNNNNATCCACGTGCTTGAGACTGTGGNNNNNNNNGTGGCCGATGTTTCGCATCGGCGTACGACTNNNNNNNNXXXXXXXXXXGTGACTGGAGTTCAGACGTGTGCTCTTCCGATCTNNNNNNNNATCTCGTATGCCGTCTTCTGCTTG\n",
      "  min_len: 350\n",
      "  max_len: 350\n",
      "  onlist: null\n",
      "  parent_id: null\n",
      "  regions:\n",
      "  - !Region\n",
      "    region_id: illumina_p5\n",
      "    region_type: illumina_p5\n",
      "    name: Illumina P5\n",
      "    sequence_type: fixed\n",
      "    sequence: AATGATACGGCGACCACCGAGATCTACAC\n",
      "    min_len: 29\n",
      "    max_len: 29\n",
      "    onlist: null\n",
      "    regions: null\n",
      "    parent_id: rna\n",
      "  - !Region\n",
      "    region_id: truseq_read1\n",
      "    region_type: truseq_read1\n",
      "    name: Truseq Single Index Read 1\n",
      "    sequence_type: fixed\n",
      "    sequence: TCTTTCCCTACACGACGCTCTTCCGATCT\n",
      "    min_len: 29\n",
      "    max_len: 29\n",
      "    onlist: null\n",
      "    regions: null\n",
      "    parent_id: rna\n",
      "  - !Region\n",
      "    region_id: TSTFI09417350\n",
      "    region_type: cdna\n",
      "    name: Read 1 cDNA sequence\n",
      "    sequence_type: random\n",
      "    sequence: XXXXXXXXXXXXXXXXXXXXXXXXXXXXXXXXXXXXXXXXXXXXXXXXXXXXXXXXXXXXXXXXXXXXXXXXXXXXXXXXXXXXXXXXXXXXXXXXXXXXXXXXXXXXXXXXXXXXXXXXXXXXXXXXXXXXXXXXXXXX\n",
      "    min_len: 140\n",
      "    max_len: 140\n",
      "    onlist: null\n",
      "    regions: null\n",
      "    parent_id: rna\n",
      "  - !Region\n",
      "    region_id: barcode-1\n",
      "    region_type: barcode\n",
      "    name: barcode-1\n",
      "    sequence_type: onlist\n",
      "    sequence: NNNNNNNN\n",
      "    min_len: 8\n",
      "    max_len: 8\n",
      "    onlist: !Onlist\n",
      "      location: remote\n",
      "      filename: https://data.igvf.org/tabular-files/IGVFFI2591OFQO/@@download/IGVFFI2591OFQO.txt.gz\n",
      "      md5: 5c3b70034e9cef5de735dc9d4f3fdbde\n",
      "    regions: null\n",
      "    parent_id: rna\n",
      "  - !Region\n",
      "    region_id: linker-1\n",
      "    region_type: linker\n",
      "    name: linker-1\n",
      "    sequence_type: fixed\n",
      "    sequence: ATCCACGTGCTTGAGACTGTGG\n",
      "    min_len: 22\n",
      "    max_len: 22\n",
      "    onlist: null\n",
      "    regions: null\n",
      "    parent_id: rna\n",
      "  - !Region\n",
      "    region_id: barcode-2\n",
      "    region_type: barcode\n",
      "    name: barcode-2\n",
      "    sequence_type: onlist\n",
      "    sequence: NNNNNNNN\n",
      "    min_len: 8\n",
      "    max_len: 8\n",
      "    onlist: !Onlist\n",
      "      location: remote\n",
      "      filename: https://data.igvf.org/tabular-files/IGVFFI1138MCVX/@@download/IGVFFI1138MCVX.txt.gz\n",
      "      md5: 1452e8ef104e6edf686fab8956172072\n",
      "    regions: null\n",
      "    parent_id: rna\n",
      "  - !Region\n",
      "    region_id: linker-2\n",
      "    region_type: linker\n",
      "    name: linker-2\n",
      "    sequence_type: fixed\n",
      "    sequence: GTGGCCGATGTTTCGCATCGGCGTACGACT\n",
      "    min_len: 30\n",
      "    max_len: 30\n",
      "    onlist: null\n",
      "    regions: null\n",
      "    parent_id: rna\n",
      "  - !Region\n",
      "    region_id: barcode-3\n",
      "    region_type: barcode\n",
      "    name: barcode-3\n",
      "    sequence_type: onlist\n",
      "    sequence: NNNNNNNN\n",
      "    min_len: 8\n",
      "    max_len: 8\n",
      "    onlist: !Onlist\n",
      "      location: remote\n",
      "      filename: https://data.igvf.org/tabular-files/IGVFFI1138MCVX/@@download/IGVFFI1138MCVX.txt.gz\n",
      "      md5: 1452e8ef104e6edf686fab8956172072\n",
      "    regions: null\n",
      "    parent_id: rna\n",
      "  - !Region\n",
      "    region_id: umi\n",
      "    region_type: umi\n",
      "    name: umi\n",
      "    sequence_type: random\n",
      "    sequence: XXXXXXXXXX\n",
      "    min_len: 10\n",
      "    max_len: 10\n",
      "    onlist: null\n",
      "    regions: null\n",
      "    parent_id: rna\n",
      "  - !Region\n",
      "    region_id: truseq_read2\n",
      "    region_type: truseq_read2\n",
      "    name: Truseq Read 2\n",
      "    sequence_type: fixed\n",
      "    sequence: GTGACTGGAGTTCAGACGTGTGCTCTTCCGATCT\n",
      "    min_len: 34\n",
      "    max_len: 34\n",
      "    onlist: null\n",
      "    regions: null\n",
      "    parent_id: rna\n",
      "  - !Region\n",
      "    region_id: index7\n",
      "    region_type: index7\n",
      "    name: Illumina barcode BC4\n",
      "    sequence_type: onlist\n",
      "    sequence: NNNNNNNN\n",
      "    min_len: 8\n",
      "    max_len: 8\n",
      "    onlist: null\n",
      "    regions: null\n",
      "    parent_id: rna\n",
      "  - !Region\n",
      "    region_id: illumina_p7\n",
      "    region_type: illumina_p7\n",
      "    name: Illumina P7\n",
      "    sequence_type: fixed\n",
      "    sequence: ATCTCGTATGCCGTCTTCTGCTTG\n",
      "    min_len: 24\n",
      "    max_len: 24\n",
      "    onlist: null\n",
      "    regions: null\n",
      "    parent_id: rna\n",
      "\n"
     ]
    }
   ],
   "source": [
    "print(generate_seqspec_for_run(protocols, run_files[1]))"
   ]
  },
  {
   "cell_type": "markdown",
   "id": "ec95003d",
   "metadata": {
    "slideshow": {
     "slide_type": "slide"
    }
   },
   "source": [
    "# Test seqspec\n",
    "\n",
    "Check barcode locations for your tool.\n",
    "\n",
    "```\n",
    "seqspec index -m rna -r TSTFI09417350.fastq.gz,TSTFI18957175.fastq.gz -t kb TSTDS32005063.yaml\n",
    "1,10,18,1,48,56,1,78,86:1,0,10:0,0,140\n",
    "```\n",
    "check generated barcode list is correct.\n",
    "\n",
    "```\n",
    "seqspec onlist -m rna -f multi -r barcode -s region-type TSTDS32005063.yaml\n",
    "/woldlab/loxcyc/home/diane/proj/igvf-seq-spec-demo/onlist_joined.txt\n",
    "diane@trog:~/proj/seqspec$ head onlist_joined.txt \n",
    "AACGTGAT AACGTGAT CATTCCTA\n",
    "AAACATCG AAACATCG CTTCATCA\n",
    "ATGCCTAA ATGCCTAA CCTATATC\n",
    "```\n"
   ]
  },
  {
   "cell_type": "markdown",
   "id": "annual-bullet",
   "metadata": {
    "slideshow": {
     "slide_type": "slide"
    }
   },
   "source": [
    "# Seqspec Submission functions"
   ]
  },
  {
   "cell_type": "markdown",
   "id": "elegant-arrangement",
   "metadata": {
    "slideshow": {
     "slide_type": "skip"
    }
   },
   "source": [
    "Parse the s3 url from the object to get the bucket name and target in the bucket"
   ]
  },
  {
   "cell_type": "code",
   "execution_count": 21,
   "id": "6463078c",
   "metadata": {
    "slideshow": {
     "slide_type": "skip"
    }
   },
   "outputs": [],
   "source": [
    "def parse_s3_url(url):\n",
    "    \"\"\"Extract out the path portion of a s3 uri\n",
    "    \"\"\"\n",
    "    url = urlparse(url)\n",
    "    assert url.scheme == \"s3\", \"Not s3 url {}\".format(url)\n",
    "    \n",
    "    return url.netloc, url.path[1:]"
   ]
  },
  {
   "cell_type": "markdown",
   "id": "4d2ac088",
   "metadata": {
    "slideshow": {
     "slide_type": "slide"
    }
   },
   "source": [
    "Post a seqspec object to the portal and capture the upload credentials from the response"
   ]
  },
  {
   "cell_type": "code",
   "execution_count": 22,
   "id": "fc3cc880",
   "metadata": {},
   "outputs": [],
   "source": [
    "def create_seqspec_metadata_object(seqspec_metadata):\n",
    "    \"\"\"Post a seq spec metadata object to the portal\n",
    "    \"\"\"\n",
    "    response = server.post_json(\"configuration_file\", seqspec_metadata)\n",
    "    if response[\"status\"] == \"success\":\n",
    "        graph = response[\"@graph\"]\n",
    "        if len(graph) != 1:\n",
    "            print(\"Strange number of result objects {}\".format(len(graph)))        \n",
    "\n",
    "        print(\"Upload of {} succeeded\". format(graph[0][\"@id\"]))\n",
    "        seqspec_metadata.update({\n",
    "            \"@id\": graph[0][\"@id\"],\n",
    "            \"accession\": graph[0][\"accession\"],\n",
    "            \"uuid\": graph[0][\"uuid\"],\n",
    "        })\n",
    "    else:\n",
    "        print(response)\n",
    "        raise RuntimeError(\"Unable to create metadata object\")\n",
    "        \n",
    "    return graph[0].get(\"upload_credentials\")"
   ]
  },
  {
   "cell_type": "markdown",
   "id": "73c92d48",
   "metadata": {},
   "source": [
    "Refactor credential refresh logic for shorter upload function"
   ]
  },
  {
   "cell_type": "code",
   "execution_count": 23,
   "id": "4427aaf0",
   "metadata": {
    "slideshow": {
     "slide_type": "skip"
    }
   },
   "outputs": [],
   "source": [
    "def refresh_credentials(credentials, seqspec_metadata):\n",
    "    if credentials is None:\n",
    "        print(\"retreving new credentials\")\n",
    "        response = server.post_json(\"{}/@@upload\".format(seqspec_metadata[\"@id\"]), {})\n",
    "        print(response)\n",
    "        if response[\"status\"] == \"success\":\n",
    "            assert len(response[\"@graph\"]) == 1, \"upload_seqspec_file Unexpected graph length {}\".format(len(response[\"@graph\"]))\n",
    "            graph = response[\"@graph\"]\n",
    "            credentials = graph[0][\"upload_credentials\"]\n",
    "            return credentials\n",
    "        else:\n",
    "            raise ValueError(\"Unable to get credentials for {}\".format(seqspec_metadata[\"@id\"]))\n",
    "    else:\n",
    "        return credentials"
   ]
  },
  {
   "cell_type": "markdown",
   "id": "7da7ef74",
   "metadata": {
    "slideshow": {
     "slide_type": "slide"
    }
   },
   "source": [
    "Using the credentials, the seqspec_metadata, and the seqspec text, post the seqspec to the portal. "
   ]
  },
  {
   "cell_type": "code",
   "execution_count": 24,
   "id": "941d494b",
   "metadata": {},
   "outputs": [],
   "source": [
    "def upload_seqspec_file(credentials, seqspec_metadata, seqspec_contents):        \n",
    "    \"\"\"upload the seqspec contents as a file to s3\"\"\"\n",
    "    if not isinstance(seqspec_contents, bytes):\n",
    "        raise ValueError(\"seqspec_contents needs to be a gzipped byte array\")\n",
    "\n",
    "    credentials = refresh_credentials(credentials, seqspec_metadata)\n",
    "\n",
    "    s3_client = boto3.client(\n",
    "        's3', \n",
    "        aws_access_key_id=credentials[\"access_key\"], \n",
    "        aws_secret_access_key=credentials[\"secret_key\"], \n",
    "        aws_session_token=credentials[\"session_token\"])\n",
    "\n",
    "    bucket, target = parse_s3_url(credentials[\"upload_url\"])\n",
    "    s3_client.upload_fileobj(\n",
    "        BytesIO(seqspec_contents),\n",
    "        bucket,\n",
    "        target)"
   ]
  },
  {
   "cell_type": "markdown",
   "id": "3983ef45",
   "metadata": {
    "slideshow": {
     "slide_type": "slide"
    }
   },
   "source": [
    "A really irritating thing about gzip is that includes the current time in the compression header, which means by default each new compression run will get a new md5sum.\n",
    "\n",
    "But I want to use the md5sum to see if I've already posted the file...\n",
    "\n",
    "The python gzip utilities let you set the time, so you can force a reproducable time, so this code sets the gzip creation time to 1970 Jan 1 00:00 UTC.  (UNIX time 0).\n",
    "\n",
    "`gzip.compress(buffer, mtime=0)`\n",
    "\n",
    "Or for the gzip shell command\n",
    "\n",
    "`gzip -n/--no-name filename`"
   ]
  },
  {
   "cell_type": "markdown",
   "id": "5c8d0625",
   "metadata": {
    "slideshow": {
     "slide_type": "slide"
    }
   },
   "source": [
    "Construct seqspec object, see if it's already posted (by md5sum), and if not create the object and post the seqspec."
   ]
  },
  {
   "cell_type": "markdown",
   "id": "29c81d2a",
   "metadata": {},
   "source": [
    "- build list of file_ids this seqspec is for\n",
    "- compress file\n",
    "- calculate md5 of gzipped file\n",
    "- create seqspec_object\n",
    "- get_or_update_seqspec\n",
    "  - search for seqspec object, if available do the following.\n",
    "  - upload gzipped seqspec contents if its missing\n",
    "  - update seqspec_object with @id, accession, uuid\n",
    "- if md5 was not found, \n",
    "  - create the metadata object\n",
    "  - upload compressed contents"
   ]
  },
  {
   "cell_type": "code",
   "execution_count": 25,
   "id": "0e1c11ba",
   "metadata": {
    "slideshow": {
     "slide_type": "slide"
    }
   },
   "outputs": [],
   "source": [
    "def get_seqspec_of(sequencing_run_files):\n",
    "    # Once the seqspec configuration file and metadata has been created and uploaded\n",
    "    # attach the the configuration file to it's fastqs.\n",
    "    seqspec_of = []\n",
    "    for read in sequencing_run_files:\n",
    "        # update the file record in case it changed\n",
    "        seqspec_of.append(sequencing_run_files[read][\"@id\"])\n",
    "\n",
    "    return seqspec_of"
   ]
  },
  {
   "cell_type": "code",
   "execution_count": 26,
   "id": "fe893e7f",
   "metadata": {
    "slideshow": {
     "slide_type": "slide"
    }
   },
   "outputs": [],
   "source": [
    "def create_seqspec_configuration_metadata(file_set, md5, seqspec_of):\n",
    "    # Construct the configuration_file object for the DACC portal\n",
    "    seqspec_metadata = {\n",
    "        \"award\": award,\n",
    "        \"lab\": lab,\n",
    "        \"md5sum\": md5.hexdigest(),\n",
    "        \"file_format\": \"yaml\",\n",
    "        \"file_set\": file_set,\n",
    "        \"content_type\": \"seqspec\",\n",
    "        \"seqspec_of\": seqspec_of,\n",
    "    }\n",
    "    # Make sure the configuration_file passes the DACCs schema\n",
    "    igvf_validator.validate(seqspec_metadata, \"configuration_file\")\n",
    "    return seqspec_metadata"
   ]
  },
  {
   "cell_type": "code",
   "execution_count": 27,
   "id": "b30982ae",
   "metadata": {
    "slideshow": {
     "slide_type": "slide"
    }
   },
   "outputs": [],
   "source": [
    "def get_or_update_seqspec(seqspec_metadata, seqspec_gzip, dry_run=True):\n",
    "    response = server.get_json(\"md5:{}\".format(seqspec_metadata[\"md5sum\"]))\n",
    "    accession = response[\"accession\"]\n",
    "    uuid = response[\"uuid\"]\n",
    "    print(\"found object {} by {}. {}\".format(\n",
    "        response[\"@id\"], seqspec_metadata[\"md5sum\"], response[\"status\"]))\n",
    "\n",
    "    for k in seqspec_metadata:\n",
    "        if seqspec_metadata[k] != response.get(k):\n",
    "            print(\"{} {} differ\".format(seqspec_metadata[k], response.get(k)))\n",
    "\n",
    "    seqspec_metadata.update({\n",
    "        \"@id\": response[\"@id\"],\n",
    "    })\n",
    "\n",
    "    if response[\"status\"] == \"in progress\":\n",
    "        if dry_run:\n",
    "            print(\"Would upload file contents {}\".format(md5.hexdigest()))\n",
    "        else:\n",
    "            upload_seqspec_file(None, seqspec_metadata, seqspec_gzip)\n",
    "\n",
    "    seqspec_metadata[\"accession\"] = accession\n",
    "    seqspec_metadata[\"uuid\"] = uuid\n",
    "    return seqspec_metadata"
   ]
  },
  {
   "cell_type": "code",
   "execution_count": 28,
   "id": "a12a43fc",
   "metadata": {
    "slideshow": {
     "slide_type": "slide"
    }
   },
   "outputs": [],
   "source": [
    "def create_and_upload_seqspec(seqspec_metadata, seqspec_data, md5, dry_run=True):\n",
    "    if dry_run:\n",
    "        print(\"Would create and upload {} for {}\".format(\n",
    "            md5.hexdigest(), seqspec_metadata[\"seqspec_of\"]))\n",
    "        for server_keys in [\"@id\", \"accession\", \"uuid\"]:\n",
    "            seqspec_metadata[server_keys] = \"would upload\"\n",
    "    else:\n",
    "        credentials = create_seqspec_metadata_object(seqspec_metadata)\n",
    "        upload_seqspec_file(credentials, seqspec_metadata, seqspec_data)  \n",
    "    return seqspec_metadata"
   ]
  },
  {
   "cell_type": "code",
   "execution_count": 29,
   "id": "cardiac-inventory",
   "metadata": {
    "slideshow": {
     "slide_type": "slide"
    }
   },
   "outputs": [],
   "source": [
    "def register_seqspec(file_set, seqspec, sequencing_run_files, dry_run=True):\n",
    "    \"\"\"Create the seqspec objects and attach them to the fastqs\n",
    "    \n",
    "    Parameters:\n",
    "    - file_set: id the seqspec should be attached to\n",
    "    - seqspec a formatted seqspec file\n",
    "    - set of file objects associated with one sequencing run\n",
    "    - dry_run flag for if we should actually post data    \n",
    "    \"\"\"\n",
    "    seqspec_of = get_seqspec_of(sequencing_run_files)\n",
    "    # reproducibly compress seqspec text\n",
    "    seqspec_gzip = gzip.compress(seqspec.encode(\"utf-8\"), mtime=0)\n",
    "    md5 = hashlib.md5(seqspec_gzip)\n",
    "    seqspec_metadata = create_seqspec_configuration_metadata(\n",
    "        file_set, md5, seqspec_of)\n",
    "    # Search the portal for the md5sum of our seqspec file to see if \n",
    "    try:\n",
    "        seqspec_metadata = get_or_update_seqspec(\n",
    "            seqspec_metadata, seqspec_gzip, dry_run=dry_run)\n",
    "    except encoded.HTTPError as err:\n",
    "        # If the file has not been submitted, and we're not in dry_run mode \n",
    "        # lets submit it\n",
    "        if err.response.status_code == 404:\n",
    "            seqspec_metadata = create_and_upload_seqspec(\n",
    "                seqspec_metadata, seqspec_gzip, md5, dry_run=dry_run)\n",
    "        else:\n",
    "             print(\"Other HTTPError error {}\".format(err.response.status_code))\n",
    "    return seqspec_metadata"
   ]
  },
  {
   "cell_type": "markdown",
   "id": "russian-pontiac",
   "metadata": {
    "slideshow": {
     "slide_type": "slide"
    }
   },
   "source": [
    "# Create seqspec objects for remaining fastqs"
   ]
  },
  {
   "cell_type": "markdown",
   "id": "classified-victor",
   "metadata": {},
   "source": [
    "Now that we have a way to list all of the fastq sets, and a function to post everything to the portal, lets loop\n",
    "loop through all of our measurement_sets and posting the seqspec configuration files for all the fastqs. (Change the to_process variable to be whatever you need updated."
   ]
  },
  {
   "cell_type": "code",
   "execution_count": 30,
   "id": "995beccb",
   "metadata": {
    "slideshow": {
     "slide_type": "slide"
    }
   },
   "outputs": [
    {
     "name": "stdout",
     "output_type": "stream",
     "text": [
      "processing /measurement-sets/TSTDS32005063/\n",
      "found object /configuration-files/TSTFI93269197/ by c3efb1fcbf386f5e85100d965eb2efc7. in progress\n",
      "/awards/HG012077/ {'component': 'mapping', '@id': '/awards/HG012077/'} differ\n",
      "/labs/ali-mortazavi/ {'@id': '/labs/ali-mortazavi/', 'title': 'Ali Mortazavi, UCI'} differ\n",
      "retreving new credentials\n"
     ]
    },
    {
     "name": "stderr",
     "output_type": "stream",
     "text": [
      "http status: 200\n",
      "message: b'{\"status\": \"success\", \"@type\": [\"result\"], \"@graph\": [{\"lab\": \"/labs/ali-mortazavi/\", \"award\": \"/awards/HG012077/\", \"md5sum\": \"c3efb1fcbf386f5e85100d965eb2efc7\", \"status\": \"in progress\", \"file_set\": \"/measurement-sets/TSTDS32005063/\", \"accession\": \"TSTFI93269197\", \"seqspec_of\": [\"/sequence-files/TSTFI18957175/\", \"/sequence-files/TSTFI09417350/\"], \"file_format\": \"yaml\", \"content_type\": \"seqspec\", \"submitted_by\": \"/users/ebd1025b-e3ab-4e51-bfcd-1415f278281a/\", \"upload_status\": \"pending\", \"schema_version\": \"7\", \"creation_timestamp\": \"2024-08-05T21:18:18.747897+00:00\", \"@id\": \"/configuration-files/TSTFI93269197/\", \"@type\": [\"ConfigurationFile\", \"File\", \"Item\"], \"uuid\": \"8b1b68be-a34e-423d-b34c-96674598d289\", \"summary\": \"seqspec of TSTFI18957175, TSTFI09417350\", \"integrated_in\": [], \"input_file_for\": [], \"gene_list_for\": [], \"loci_list_for\": [], \"href\": \"/configuration-files/TSTFI93269197/@@download/TSTFI93269197.yaml.gz\", \"s3_uri\": \"s3://igvf-files-staging/2024/08/05/8b1b68be-a34e-423d-b34c-96674598d289/TSTFI93269197.yaml.gz\", \"upload_credentials\": {\"session_token\": \"***FwoGZX...\", \"access_key\": \"***AccessKey\", \"expiration\": \"2024-08-07T09:26:52+00:00\", \"secret_key\": \"***SecretKey***\", \"upload_url\": \"s3://igvf-files-staging/2024/08/05/8b1b68be-a34e-423d-b34c-96674598d289/TSTFI93269197.yaml.gz\", \"federated_user_arn\": \"arn:aws:sts::920073238245:federated-user/up1722893211.922215-TSTFI9326919\", \"federated_user_id\": \"920073238245:up1722893211.922215-TSTFI9326919\", \"request_id\": \"c3676c88-af2e-4718-bd9e-1850fcf8f925\"}}]}'\n"
     ]
    },
    {
     "name": "stdout",
     "output_type": "stream",
     "text": [
      "{'status': 'success', '@type': ['result'], '@graph': [{'lab': '/labs/ali-mortazavi/', 'award': '/awards/HG012077/', 'md5sum': 'c3efb1fcbf386f5e85100d965eb2efc7', 'status': 'in progress', 'file_set': '/measurement-sets/TSTDS32005063/', 'accession': 'TSTFI93269197', 'seqspec_of': ['/sequence-files/TSTFI18957175/', '/sequence-files/TSTFI09417350/'], 'file_format': 'yaml', 'content_type': 'seqspec', 'submitted_by': '/users/ebd1025b-e3ab-4e51-bfcd-1415f278281a/', 'upload_status': 'pending', 'schema_version': '7', 'creation_timestamp': '2024-08-05T21:18:18.747897+00:00', '@id': '/configuration-files/TSTFI93269197/', '@type': ['ConfigurationFile', 'File', 'Item'], 'uuid': '8b1b68be-a34e-423d-b34c-96674598d289', 'summary': 'seqspec of TSTFI18957175, TSTFI09417350', 'integrated_in': [], 'input_file_for': [], 'gene_list_for': [], 'loci_list_for': [], 'href': '/configuration-files/TSTFI93269197/@@download/TSTFI93269197.yaml.gz', 's3_uri': 's3://igvf-files-staging/2024/08/05/8b1b68be-a34e-423d-b34c-96674598d289/TSTFI93269197.yaml.gz', 'upload_credentials': {'session_token': '***FwoGZX....', 'access_key': '***AccessKey', 'expiration': '2024-08-07T09:26:52+00:00', 'secret_key': '**SecretKey', 'upload_url': 's3://igvf-files-staging/2024/08/05/8b1b68be-a34e-423d-b34c-96674598d289/TSTFI93269197.yaml.gz', 'federated_user_arn': 'arn:aws:sts::920073238245:federated-user/up1722893211.922215-TSTFI9326919', 'federated_user_id': '920073238245:up1722893211.922215-TSTFI9326919', 'request_id': 'c3676c88-af2e-4718-bd9e-1850fcf8f925'}}]}\n"
     ]
    },
    {
     "name": "stderr",
     "output_type": "stream",
     "text": [
      "Error http status: 404 for https://api.sandbox.igvf.org/md5:8dd07dfbb88549d261cfe20e18c49d43\n"
     ]
    },
    {
     "name": "stdout",
     "output_type": "stream",
     "text": [
      "Upload of /configuration-files/TSTFI78410911/ succeeded\n"
     ]
    }
   ],
   "source": [
    "# note for the tests we limit this to just one measurement set\n",
    "# instead of all pending measurement sets\n",
    "to_process = [measurement_test_id]\n",
    "\n",
    "seen_md5s = set()\n",
    "generated_specs = {}\n",
    "submitted_log = []\n",
    "for measurement_id in to_process:\n",
    "    print(\"processing\", measurement_id)\n",
    "    measurement = server.get_json(measurement_id)\n",
    "    protocols = measurement[\"protocols\"]\n",
    "    run_files = get_sequence_files(measurement)\n",
    "    \n",
    "    for run_number in sorted(run_files):\n",
    "        seqspec = generate_seqspec_for_run(protocols, run_files[run_number])\n",
    "        generated_specs.setdefault(measurement_id, {}).setdefault(run_number, []).append(seqspec)\n",
    "        current_md5 = hashlib.md5(seqspec.encode(\"utf-8\")).hexdigest()\n",
    "        assert current_md5 not in seen_md5s, \"we generated the same seqspec file somehow\"\n",
    "        seen_md5s.add(current_md5)\n",
    "        submitted_log.append(\n",
    "            register_seqspec(\n",
    "                measurement_id, seqspec, run_files[run_number], dry_run=False))\n",
    "    "
   ]
  },
  {
   "cell_type": "markdown",
   "id": "seven-adolescent",
   "metadata": {
    "slideshow": {
     "slide_type": "slide"
    }
   },
   "source": [
    "Convert the results of creating these seqspecs into a pandas data frame to make it easier to save a table."
   ]
  },
  {
   "cell_type": "code",
   "execution_count": 32,
   "id": "paperback-behalf",
   "metadata": {},
   "outputs": [
    {
     "data": {
      "text/html": [
       "<div>\n",
       "<style scoped>\n",
       "    .dataframe tbody tr th:only-of-type {\n",
       "        vertical-align: middle;\n",
       "    }\n",
       "\n",
       "    .dataframe tbody tr th {\n",
       "        vertical-align: top;\n",
       "    }\n",
       "\n",
       "    .dataframe thead th {\n",
       "        text-align: right;\n",
       "    }\n",
       "</style>\n",
       "<table border=\"1\" class=\"dataframe\">\n",
       "  <thead>\n",
       "    <tr style=\"text-align: right;\">\n",
       "      <th></th>\n",
       "      <th>accession</th>\n",
       "      <th>uuid</th>\n",
       "      <th>file_set</th>\n",
       "      <th>content_type</th>\n",
       "      <th>file_format</th>\n",
       "      <th>md5sum</th>\n",
       "      <th>award</th>\n",
       "      <th>lab</th>\n",
       "    </tr>\n",
       "  </thead>\n",
       "  <tbody>\n",
       "    <tr>\n",
       "      <th>0</th>\n",
       "      <td>TSTFI93269197</td>\n",
       "      <td>8b1b68be-a34e-423d-b34c-96674598d289</td>\n",
       "      <td>/measurement-sets/TSTDS32005063/</td>\n",
       "      <td>seqspec</td>\n",
       "      <td>yaml</td>\n",
       "      <td>c3efb1fcbf386f5e85100d965eb2efc7</td>\n",
       "      <td>/awards/HG012077/</td>\n",
       "      <td>/labs/ali-mortazavi/</td>\n",
       "    </tr>\n",
       "    <tr>\n",
       "      <th>1</th>\n",
       "      <td>TSTFI78410911</td>\n",
       "      <td>f533c6b2-e94a-4e91-bbef-e6bc0ee914be</td>\n",
       "      <td>/measurement-sets/TSTDS32005063/</td>\n",
       "      <td>seqspec</td>\n",
       "      <td>yaml</td>\n",
       "      <td>8dd07dfbb88549d261cfe20e18c49d43</td>\n",
       "      <td>/awards/HG012077/</td>\n",
       "      <td>/labs/ali-mortazavi/</td>\n",
       "    </tr>\n",
       "  </tbody>\n",
       "</table>\n",
       "</div>"
      ],
      "text/plain": [
       "       accession                                  uuid  \\\n",
       "0  TSTFI93269197  8b1b68be-a34e-423d-b34c-96674598d289   \n",
       "1  TSTFI78410911  f533c6b2-e94a-4e91-bbef-e6bc0ee914be   \n",
       "\n",
       "                           file_set content_type file_format  \\\n",
       "0  /measurement-sets/TSTDS32005063/      seqspec        yaml   \n",
       "1  /measurement-sets/TSTDS32005063/      seqspec        yaml   \n",
       "\n",
       "                             md5sum              award                   lab  \n",
       "0  c3efb1fcbf386f5e85100d965eb2efc7  /awards/HG012077/  /labs/ali-mortazavi/  \n",
       "1  8dd07dfbb88549d261cfe20e18c49d43  /awards/HG012077/  /labs/ali-mortazavi/  "
      ]
     },
     "execution_count": 32,
     "metadata": {},
     "output_type": "execute_result"
    }
   ],
   "source": [
    "pandas.DataFrame(submitted_log)[[\"accession\", \"uuid\", \"file_set\", \"content_type\", \"file_format\", \"md5sum\", \"award\", \"lab\"]]\n"
   ]
  }
 ],
 "metadata": {
  "celltoolbar": "Slideshow",
  "kernelspec": {
   "display_name": "Python 3 (ipykernel)",
   "language": "python",
   "name": "python3"
  },
  "language_info": {
   "codemirror_mode": {
    "name": "ipython",
    "version": 3
   },
   "file_extension": ".py",
   "mimetype": "text/x-python",
   "name": "python",
   "nbconvert_exporter": "python",
   "pygments_lexer": "ipython3",
   "version": "3.11.2"
  }
 },
 "nbformat": 4,
 "nbformat_minor": 5
}
