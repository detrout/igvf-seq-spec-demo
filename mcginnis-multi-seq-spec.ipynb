{
 "cells": [
  {
   "cell_type": "markdown",
   "id": "expected-boutique",
   "metadata": {},
   "source": [
    "# Introduction\n",
    "\n",
    "This is a simplification of my figuring out how to submit seqspec files to the IGVF DACC.\n",
    "\n",
    "- [Python environment](#Setup)\n",
    "- [Seqspec template function](#Template)\n",
    "- [Working out steps needed to create seqspec objects](#Working-out-steps-needed-to-create-seqspec-objects)\n",
    "- [Exploring boto3](#Exploring-boto3)\n",
    "- [Seqspec submission functions](#Seqspec-Submission-functions)\n",
    "- [Create seqspec objects for remaining fastqs](#Create-seqspec-objects-for-remaining-fastqs)"
   ]
  },
  {
   "cell_type": "code",
   "execution_count": null,
   "id": "a6789786",
   "metadata": {},
   "outputs": [],
   "source": []
  },
  {
   "cell_type": "markdown",
   "id": "26d0ec49",
   "metadata": {},
   "source": [
    "Information about barcodes.\n",
    "\n",
    "cell barcode whitelists for 10x multiome GEX and ATAC:\n",
    "- atac_737K-arc-v1.txt.gz\n",
    "- gex_737K-arc-v1.txt.gz\n",
    "\n",
    "MULTI-seq barcodes (custom)\n",
    "- MULTIbc_onlist.txt \n",
    "\n",
    "MULTI-seq I7 indices (custom):\n",
    "- index7_onlist_MULTI.txt \n",
    "\n",
    "10x Multiome \n",
    "- snRNA-seq I5 and I7 indices: https://cdn.10xgenomics.com/raw/upload/v1655151897/support/in-line%20documents/Dual_Index_Kit_TT_Set_A.csv\n",
    "  - i7_dual_index_set_a.txt (10 bp)\n",
    "  - i5_dual_index_set_a.txt (10 bp)\n",
    "- ATAC-seq I7 indices: https://cdn.10xgenomics.com/raw/upload/v1655155348/support/in-line%20documents/Single_Index_Kit_N_Set_A.csv\n",
    "  - i7_single_index_set_a.txt (8 bp)\n"
   ]
  },
  {
   "cell_type": "markdown",
   "id": "systematic-binary",
   "metadata": {},
   "source": [
    "# Setup\n",
    "\n",
    "First we start with general imports"
   ]
  },
  {
   "cell_type": "code",
   "execution_count": null,
   "id": "irish-queue",
   "metadata": {},
   "outputs": [],
   "source": [
    "import gzip\n",
    "import hashlib\n",
    "from io import StringIO, BytesIO\n",
    "import logging\n",
    "from matplotlib.pyplot import show\n",
    "import numpy\n",
    "import os\n",
    "import pandas\n",
    "from pathlib import Path\n",
    "import requests\n",
    "import sys\n",
    "import tarfile\n",
    "import tqdm\n",
    "from urllib.parse import urlparse\n",
    "import yaml"
   ]
  },
  {
   "cell_type": "code",
   "execution_count": null,
   "id": "least-senate",
   "metadata": {},
   "outputs": [],
   "source": [
    "try:\n",
    "    import boto3\n",
    "except ImportError:\n",
    "    !{sys.executable} -m pip install --user boto3\n",
    "    import boto3\n",
    "    \n",
    "from botocore.exceptions import ClientError\n",
    "    "
   ]
  },
  {
   "cell_type": "code",
   "execution_count": null,
   "id": "double-break",
   "metadata": {},
   "outputs": [],
   "source": [
    "try:\n",
    "    from jinja2 import Environment\n",
    "except ImportError:\n",
    "    !{sys.executable} -m pip install --user jinja2\n",
    "    from jinja2 import Environment\n",
    "\n",
    "from jinja2 import FileSystemLoader, select_autoescape, Undefined, StrictUndefined, make_logging_undefined\n",
    "\n",
    "logger = logging.getLogger(__name__)\n",
    "LoggingUndefined = make_logging_undefined(\n",
    "    logger=logger,\n",
    "    base=Undefined\n",
    ")\n",
    "\n",
    "env = Environment(\n",
    "    loader=FileSystemLoader(\"templates\"),\n",
    "    autoescape=select_autoescape(),\n",
    "    undefined=LoggingUndefined,\n",
    ")"
   ]
  },
  {
   "cell_type": "markdown",
   "id": "bibliographic-jonathan",
   "metadata": {},
   "source": [
    "I want to be able to use the seqspec validator while I was writing my seqspec file.\n",
    "\n",
    "I have the repository checked out into ~/proj/seqspec. This block should either import it for me, or install it if someone elese runs it."
   ]
  },
  {
   "cell_type": "markdown",
   "id": "usual-census",
   "metadata": {},
   "source": [
    "Import pieces of seqspec that we need for this notebook."
   ]
  },
  {
   "cell_type": "code",
   "execution_count": null,
   "id": "fleet-pillow",
   "metadata": {},
   "outputs": [],
   "source": [
    "try:\n",
    "    import seqspec\n",
    "except ImportError:\n",
    "    seqspec_root = Path(\"~/proj/seqspec\").expanduser()\n",
    "    if seqspec_root.exists() and str(seqspec_root) not in sys.path:\n",
    "        sys.path.append(str(seqspec_root))\n",
    "    else:\n",
    "        !{sys.executable} -m pip install --user seqspec\n",
    "    import seqspec\n",
    "    \n",
    "from seqspec.Assay import Assay\n",
    "from seqspec.Region import Region\n",
    "from seqspec.Region import Onlist\n",
    "from seqspec.utils import load_spec_stream\n",
    "\n",
    "from seqspec.seqspec_index import run_index, get_index\n",
    "from seqspec.seqspec_print import print_library_ascii, print_seqspec_png\n",
    "from seqspec.seqspec_onlist import run_onlist_region, run_onlist_read"
   ]
  },
  {
   "cell_type": "code",
   "execution_count": null,
   "id": "4bd5a7fe",
   "metadata": {},
   "outputs": [],
   "source": [
    "from seqspecgen.igvf import (\n",
    "    get_sequence_file_info,\n",
    "    get_barcode_info,\n",
    ")\n",
    "from seqspecgen.util import seqspec_validate, generate_seqspec_tool_index"
   ]
  },
  {
   "cell_type": "markdown",
   "id": "sharp-quick",
   "metadata": {},
   "source": [
    "I have my own API for interacting with the IGVF database server (which is very much like the old ENCODE database server)"
   ]
  },
  {
   "cell_type": "code",
   "execution_count": null,
   "id": "vocal-nutrition",
   "metadata": {},
   "outputs": [],
   "source": [
    "try:\n",
    "    from encoded_client import encoded\n",
    "except ImportError:\n",
    "    encoded_root = Path(\"~/proj/encoded_client\").expanduser()\n",
    "    if encoded_root.exists() and str(encoded_root) not in sys.path:\n",
    "        sys.path.append(str(encoded_root))\n",
    "    else:\n",
    "        !{sys.executable} -m pip install --user encoded_client\n",
    "        \n",
    "    from encoded_client import encoded"
   ]
  },
  {
   "cell_type": "markdown",
   "id": "increasing-entity",
   "metadata": {},
   "source": [
    "encoded_client will pull submitter credentials from either DCC_API_KEY and DCC_SECRET_KEY or from a .netrc file loaded from your home directory. (replacing the {DCC_API_KEY} and {DCC_SECRET_KEY} strings with your specific values.)\n",
    "\n",
    "The format of a .netrc file is a plain text file with records of the format:\n",
    "\n",
    "<pre>machine api.sandbox.igvf.org login {DCC_API_KEY} password {DCC_SECRET_KEY}</pre>\n",
    "\n",
    "Or api.data.igvf.org\n",
    "\n",
    "(it's also possible to list the fields on separate lines, but I think it's easier to read when they're on one line)\n",
    "\n",
    "or after creating the server object call:\n",
    "\n",
    "<pre>server.username = \"{DCC_API_KEY}\"\n",
    "server.password = \"{DCC_SECRET_KEY}\"</pre>\n",
    "\n"
   ]
  },
  {
   "cell_type": "markdown",
   "id": "valuable-meditation",
   "metadata": {},
   "source": [
    "## submission variables"
   ]
  },
  {
   "cell_type": "code",
   "execution_count": null,
   "id": "alleged-hebrew",
   "metadata": {},
   "outputs": [],
   "source": [
    "#server_name = \"api.sandbox.igvf.org\"\n",
    "server_name = \"api.data.igvf.org\"\n",
    "award = \"/awards/HG012076/\"\n",
    "lab = \"/labs/ansuman-satpathy/\""
   ]
  },
  {
   "cell_type": "code",
   "execution_count": null,
   "id": "usual-greenhouse",
   "metadata": {},
   "outputs": [],
   "source": []
  },
  {
   "cell_type": "code",
   "execution_count": null,
   "id": "human-coordinate",
   "metadata": {},
   "outputs": [],
   "source": [
    "server = encoded.ENCODED(server_name)\n",
    "igvf_validator = encoded.DCCValidator(server)"
   ]
  },
  {
   "cell_type": "code",
   "execution_count": null,
   "id": "cf74e305",
   "metadata": {},
   "outputs": [],
   "source": [
    "def list_read_ids(self, modality):\n",
    "    return [r.read_id for r in self.get_seqspec(modality)]\n",
    "\n",
    "def get_barcode_read_id(spec, modality, run_files, barcode_read):\n",
    "    barcode_accession = run_files[barcode_read][\"accession\"]\n",
    "\n",
    "    for read_id in list_read_ids(spec, modality):\n",
    "        if read_id.startswith(barcode_accession):\n",
    "            return read_id\n",
    "            \n",
    "    raise ValueError(\"Unable to find barcode read\")"
   ]
  },
  {
   "cell_type": "code",
   "execution_count": null,
   "id": "regional-remedy",
   "metadata": {},
   "outputs": [],
   "source": [
    "def load_spec(filename):\n",
    "    with open(filename, \"rt\") as instream:\n",
    "        data = yaml.load(instream, Loader=yaml.Loader)\n",
    "        for r in data.assay_spec:\n",
    "            r.set_parent_id(None)\n",
    "    return data"
   ]
  },
  {
   "cell_type": "markdown",
   "id": "allied-cargo",
   "metadata": {},
   "source": [
    "# Template"
   ]
  },
  {
   "cell_type": "markdown",
   "id": "processed-values",
   "metadata": {},
   "source": [
    "First build up lists of barcodes onlists needed for this protocol the names will be passed to the template."
   ]
  },
  {
   "cell_type": "code",
   "execution_count": null,
   "id": "cf15d013",
   "metadata": {},
   "outputs": [],
   "source": [
    "# template for multiseq seqspecs\n",
    "satpathy_template = \"igvf-multiseq-{modality}.yaml.j2\"\n",
    "\n",
    "# First generation satpathy multiseq files\n",
    "#metadata = pandas.read_csv(\"satpathy_seqspec_files.tsv\", sep=\"\\t\")\n",
    "\n",
    "#Feb 2025 satpathy multiseq_files\n",
    "#metadata = pandas.read_csv(\"seqspec_info_feb2025.tsv\", sep=\"\\t\")\n",
    "\n",
    "#Feb 2025 satpathy 10x multiome\n",
    "#metadata = pandas.read_csv(\"seqspec_info_feb2025_nomultiseq.tsv\", sep=\"\\t\")\n",
    "\n",
    "# Jun 2025 satpathy\n",
    "metadata = pandas.read_csv(\"seqspec_info_igvf7.tsv\", sep=\"\\t\")\n",
    "\n",
    "metadata"
   ]
  },
  {
   "cell_type": "code",
   "execution_count": null,
   "id": "807f599b",
   "metadata": {},
   "outputs": [],
   "source": []
  },
  {
   "cell_type": "code",
   "execution_count": null,
   "id": "pointed-worcester",
   "metadata": {},
   "outputs": [],
   "source": [
    "barcode_sets = {\n",
    "    \"rna\": {},\n",
    "    \"atac\": {},\n",
    "    \"multi\": {},\n",
    "}\n",
    "\n",
    "barcode_sets[\"rna\"].update(get_barcode_info(server, \"cell_barcode\", \"IGVFFI8751YQRY\"))\n",
    "barcode_sets[\"rna\"].update(get_barcode_info(server, \"i7_rnaseq_index\", \"IGVFFI4565KANH\"))\n",
    "barcode_sets[\"rna\"].update(get_barcode_info(server, \"i5_rnaseq_index\", \"IGVFFI4565KANH\"))\n",
    "\n",
    "barcode_sets[\"atac\"].update(get_barcode_info(server, \"cell_barcode\", \"IGVFFI7587TJLC\"))\n",
    "barcode_sets[\"atac\"].update(get_barcode_info(server, \"i7_atac_index\", \"IGVFFI1608YDWY\"))\n",
    "\n",
    "barcode_sets[\"multi\"].update(get_barcode_info(server, \"cell_barcode\", \"IGVFFI8751YQRY\"))\n",
    "barcode_sets[\"multi\"].update(get_barcode_info(server, \"multi_index\", \"IGVFFI5410CKWT\"))\n",
    "barcode_sets[\"multi\"].update(get_barcode_info(server, \"i7_multi_index\", \"IGVFFI3231EAMC\"))\n"
   ]
  },
  {
   "cell_type": "code",
   "execution_count": null,
   "id": "b4a67076",
   "metadata": {},
   "outputs": [],
   "source": [
    "barcode_sets"
   ]
  },
  {
   "cell_type": "markdown",
   "id": "handled-nickname",
   "metadata": {},
   "source": [
    "Define the the file information needed to define this seqspec."
   ]
  },
  {
   "cell_type": "code",
   "execution_count": null,
   "id": "behavioral-dressing",
   "metadata": {
    "scrolled": false
   },
   "outputs": [],
   "source": [
    "# load the template and instantiate it with the context for this specific measurement set.\n",
    "# this version needs the libspec branch that separates the sequence and library specifications\n",
    "\n",
    "def create_seqspec(row, barcode_read=\"R1\", verbose=False):\n",
    "    #template_name = \"parse-wt-mega-v2-single-index-libspec-1.yaml.j2\"\n",
    "    modality = row[\"modality\"]\n",
    "    template_name = satpathy_template.format(modality=modality)\n",
    "    template = env.get_template(template_name)\n",
    "\n",
    "    # Build context\n",
    "    context = {}\n",
    "    # Merge in the barcode information\n",
    "    context.update(barcode_sets[modality])\n",
    "\n",
    "    context.update(row.to_dict())\n",
    "\n",
    "    run_files = {}\n",
    "    for column in [\"R1\", \"R2\", \"R3\", \"I1\", \"I2\"]:\n",
    "        if pandas.notnull(row[column]):\n",
    "            accession = row[column]\n",
    "            run_files[accession] = server.get_json(accession)\n",
    "            context.update(get_sequence_file_info(server, accession, column))\n",
    "            #lengths = get_read_lengths(server, row[column], reads_to_check=10)\n",
    "            #context[f\"{column}_min_len\"] = min(lengths)\n",
    "            #context[f\"{column}_max_len\"] = max(lengths)\n",
    "\n",
    "    example_yaml = template.render(context)\n",
    "\n",
    "    # validate the generated seqspec file.\n",
    "    example_spec = load_spec_stream(StringIO(example_yaml))\n",
    "    errors = seqspec_validate(example_spec)\n",
    "    if len(errors) > 0:\n",
    "        print(errors)\n",
    "        raise RuntimeError(\"Validation failures\")\n",
    "\n",
    "    example_spec.update_spec()\n",
    "    if verbose:\n",
    "        # lets print the settings\n",
    "        #print_library_ascii, print_seqspec_png\n",
    "        print(template_name)\n",
    "        print(\"tree\")\n",
    "        print(print_library_ascii(example_spec))\n",
    "        print(\"tool settings:\", generate_seqspec_tool_index(example_spec, run_files))\n",
    "        if modality is None:\n",
    "            if len(example_spec.list_modalities()) == 1: \n",
    "                modality = example_spec.list_modalities()[0]\n",
    "            elif len(example_spec.list_modalities()) > 1:\n",
    "                raise ValueError(\"Need to specify modality\")\n",
    "            else:\n",
    "                raise ValueError(\"There needs to be a modality in the seqspec file.\")\n",
    "        #barcode_read_id = get_barcode_read_id(example_spec, modality, run_files, barcode_read)\n",
    "        barcode_read_id = row[barcode_read]\n",
    "        onlist_files = run_onlist_read(example_spec, modality, barcode_read_id)\n",
    "        print(\"onlist\", [onlist.filename for onlist in onlist_files])\n",
    "        show(print_seqspec_png(example_spec))\n",
    "        print()        \n",
    "        \n",
    "    return example_spec"
   ]
  },
  {
   "cell_type": "code",
   "execution_count": null,
   "id": "832534e5",
   "metadata": {},
   "outputs": [],
   "source": [
    "metadata[metadata[\"modality\"] == \"rna\"].iloc[0]"
   ]
  },
  {
   "cell_type": "code",
   "execution_count": null,
   "id": "cognitive-admission",
   "metadata": {
    "scrolled": false
   },
   "outputs": [],
   "source": [
    "# rna example\n",
    "example_spec = create_seqspec(metadata[metadata[\"modality\"] == \"rna\"].iloc[0], verbose=True)\n",
    "\n",
    "# atac example\n",
    "example_spec = create_seqspec(metadata[metadata[\"modality\"] == \"atac\"].iloc[0], verbose=True)\n",
    "\n",
    "# multi example\n",
    "#example_spec = create_seqspec(metadata[metadata[\"modality\"] == \"multi\"].iloc[0])"
   ]
  },
  {
   "cell_type": "code",
   "execution_count": null,
   "id": "electrical-immune",
   "metadata": {
    "scrolled": false
   },
   "outputs": [],
   "source": [
    "print(example_spec.to_YAML())"
   ]
  },
  {
   "cell_type": "code",
   "execution_count": null,
   "id": "centered-bookmark",
   "metadata": {},
   "outputs": [],
   "source": [
    "#print(run_print_library_tree(example_spec))"
   ]
  },
  {
   "cell_type": "code",
   "execution_count": null,
   "id": "parental-potato",
   "metadata": {
    "scrolled": false
   },
   "outputs": [],
   "source": [
    "#_ = run_print_library_png(example_spec)"
   ]
  },
  {
   "cell_type": "code",
   "execution_count": null,
   "id": "fa181521",
   "metadata": {},
   "outputs": [],
   "source": []
  },
  {
   "cell_type": "code",
   "execution_count": null,
   "id": "b7ef2f4d",
   "metadata": {},
   "outputs": [],
   "source": [
    "def save_seqspecs_targz(table, destination):\n",
    "    fastqs = [\"R1\",\"R2\",\"R3\",\"I1\",\"I2\"]\n",
    "    \n",
    "    with tarfile.open(destination, \"w:gz\") as archive:\n",
    "        configuration_file = []\n",
    "        for i, row in tqdm.tqdm(table.iterrows(), total=table.shape[0]):\n",
    "            row_name = row[\"identifier\"].replace(\"ansuman-satpathy:\", \"\")\n",
    "            modality = row[\"modality\"]\n",
    "            #print(\"Processing {}\".format(row_name))\n",
    "            spec = create_seqspec(row)\n",
    "            spec_yaml = spec.to_YAML().encode(\"utf-8\")\n",
    "            spec_yaml = gzip.compress(spec_yaml, mtime=0)\n",
    "            spec_stream = BytesIO(spec_yaml)\n",
    "            spec_filename = f\"{row_name}_{modality}_seqspec.yaml.gz\"\n",
    "            spec_tarinfo = tarfile.TarInfo(str(spec_filename))\n",
    "            spec_tarinfo.size = len(spec_yaml)\n",
    "            archive.addfile(spec_tarinfo, fileobj=spec_stream)\n",
    "            configuration_file.append({\n",
    "                \"accession\": None,\n",
    "                \"file_set\": row[\"identifier\"],\n",
    "                \"content_type\": \"seqspec\",\n",
    "                \"file_format\": \"yaml\",\n",
    "                \"submitted_file_name\": spec_filename,\n",
    "                \"md5sum\": hashlib.md5(spec_yaml).hexdigest(),\n",
    "                \"seqspec_of:array\": \",\".join([row[x] for x in fastqs if pandas.notnull(row[x])]),\n",
    "                \"award\": award,\n",
    "                \"lab\": lab,\n",
    "                \n",
    "            })\n",
    "        configuration_file = pandas.DataFrame(configuration_file)\n",
    "        configuration_tsv = configuration_file.to_csv(index=False, sep=\"\\t\").encode(\"utf-8\")\n",
    "        configuration_stream = BytesIO(configuration_tsv)\n",
    "        configuration_info = tarfile.TarInfo(\"configuration_file.tsv\")\n",
    "        configuration_info.size = len(configuration_tsv)\n",
    "        archive.addfile(configuration_info, fileobj=configuration_stream)\n",
    "\n",
    "\n",
    "def save_team_seqspecs_directory(destination, table):\n",
    "    arguments = []\n",
    "    raw_url = \"https://raw.githubusercontent.com/detrout/y2ave_seqspecs/main/{filename}\"\n",
    "    \n",
    "    for i, row in table.iterrows():\n",
    "        row_name = row[0]\n",
    "        print(\"Processing {} {}\".format(team_id, row_name))\n",
    "        spec_filename = f\"{team_id}_{row_name}_seqspec.yaml\"\n",
    "        spec_yaml = render_seqspec(team_id, row)\n",
    "        with open(destination/spec_filename, \"wt\") as outstream:\n",
    "            outstream.write(spec_yaml)\n",
    "            \n",
    "        spec = load_spec_stream(StringIO(spec_yaml))\n",
    "        arg_row = {\n",
    "            \"team_id\": team_id,\n",
    "            \"dataset_id\": row_name,\n",
    "            \"url\": raw_url.format(filename=spec_filename),\n",
    "        }\n",
    "        print(generate_seqspec_index(spec, row))\n",
    "        arg_row.update(generate_seqspec_index(spec, row))\n",
    "        arguments.append(arg_row)\n",
    "\n",
    "    return arguments\n"
   ]
  },
  {
   "cell_type": "code",
   "execution_count": null,
   "id": "a58883b5",
   "metadata": {},
   "outputs": [],
   "source": [
    "#print(\"All\", metadata.shape[0])\n",
    "#metadata_rna_atac = metadata[metadata[\"modality\"].isin([\"atac\", \"rna\"])]\n",
    "#print(\"Removed multi modality\", metadata_rna_atac.shape[0])"
   ]
  },
  {
   "cell_type": "code",
   "execution_count": null,
   "id": "9441b16a",
   "metadata": {
    "scrolled": false
   },
   "outputs": [],
   "source": [
    "#save_seqspecs_targz(metadata, \"mcginnis-seqspecs-20241125.tgz\")\n",
    "#save_seqspecs_targz(metadata, \"seqspecs_202505_multiseq_209.tar.gz\")\n",
    "#save_seqspecs_targz(metadata, \"seqspecs_feb2025_nomultiseq.tar.gz\")\n",
    "save_seqspecs_targz(metadata, \"seqspecs_202506_multiseqs.tar.gz\")"
   ]
  },
  {
   "cell_type": "code",
   "execution_count": null,
   "id": "67bffe68",
   "metadata": {},
   "outputs": [],
   "source": []
  },
  {
   "cell_type": "code",
   "execution_count": null,
   "id": "97bf5dfd",
   "metadata": {},
   "outputs": [],
   "source": []
  }
 ],
 "metadata": {
  "kernelspec": {
   "display_name": "Python 3 (ipykernel)",
   "language": "python",
   "name": "python3"
  },
  "language_info": {
   "codemirror_mode": {
    "name": "ipython",
    "version": 3
   },
   "file_extension": ".py",
   "mimetype": "text/x-python",
   "name": "python",
   "nbconvert_exporter": "python",
   "pygments_lexer": "ipython3",
   "version": "3.11.2"
  }
 },
 "nbformat": 4,
 "nbformat_minor": 5
}
