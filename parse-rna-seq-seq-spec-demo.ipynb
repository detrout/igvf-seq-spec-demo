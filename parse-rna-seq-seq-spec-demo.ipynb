{
 "cells": [
  {
   "cell_type": "markdown",
   "id": "expected-boutique",
   "metadata": {},
   "source": [
    "# Introduction\n",
    "\n",
    "This is a simplification of my figuring out how to submit seqspec files to the IGVF DACC.\n",
    "\n",
    "- [Python environment](#Setup)\n",
    "- [Seqspec template function](#Template)\n",
    "- [Working out steps needed to create seqspec objects](#Working-out-steps-needed-to-create-seqspec-objects)\n",
    "- [Exploring boto3](#Exploring-boto3)\n",
    "- [Seqspec submission functions](#Seqspec-Submission-functions)\n",
    "- [Create seqspec objects for remaining fastqs](#Create-seqspec-objects-for-remaining-fastqs)"
   ]
  },
  {
   "cell_type": "markdown",
   "id": "systematic-binary",
   "metadata": {},
   "source": [
    "# Setup\n",
    "\n",
    "First we start with general imports"
   ]
  },
  {
   "cell_type": "code",
   "execution_count": 1,
   "id": "irish-queue",
   "metadata": {},
   "outputs": [],
   "source": [
    "import hashlib\n",
    "import requests\n",
    "from pathlib import Path\n",
    "from io import StringIO, BytesIO\n",
    "import sys\n",
    "import json\n",
    "from jsonschema import Draft4Validator\n",
    "import logging\n",
    "import pandas\n",
    "import os\n",
    "import sys\n",
    "from urllib.parse import urlparse\n",
    "import yaml\n",
    "import numpy"
   ]
  },
  {
   "cell_type": "code",
   "execution_count": 2,
   "id": "least-senate",
   "metadata": {},
   "outputs": [],
   "source": [
    "try:\n",
    "    import boto3\n",
    "except ImportError:\n",
    "    !{sys.executable} -m pip install --user boto3\n",
    "    import boto3\n",
    "    \n",
    "from botocore.exceptions import ClientError\n",
    "    "
   ]
  },
  {
   "cell_type": "code",
   "execution_count": 3,
   "id": "double-break",
   "metadata": {},
   "outputs": [],
   "source": [
    "try:\n",
    "    from jinja2 import Environment\n",
    "except ImportError:\n",
    "    !{sys.executable} -m pip install --user jinja2\n",
    "    from jinja2 import Environment\n",
    "\n",
    "from jinja2 import FileSystemLoader, select_autoescape, Undefined, StrictUndefined, make_logging_undefined\n",
    "\n",
    "\n",
    "\n",
    "logger = logging.getLogger(__name__)\n",
    "LoggingUndefined = make_logging_undefined(\n",
    "    logger=logger,\n",
    "    base=Undefined\n",
    ")\n",
    "\n",
    "env = Environment(\n",
    "    loader=FileSystemLoader(\"templates\"),\n",
    "    autoescape=select_autoescape(),\n",
    "    undefined=LoggingUndefined,\n",
    ")"
   ]
  },
  {
   "cell_type": "markdown",
   "id": "bibliographic-jonathan",
   "metadata": {},
   "source": [
    "I want to be able to use the seqspec validator while I was writing my seqspec file.\n",
    "\n",
    "I have the repository checked out into ~/proj/seqspec. This block should either import it for me, or install it if someone elese runs it."
   ]
  },
  {
   "cell_type": "code",
   "execution_count": 4,
   "id": "fleet-pillow",
   "metadata": {},
   "outputs": [],
   "source": [
    "try:\n",
    "    import seqspec\n",
    "except ImportError:\n",
    "    seqspec_root = Path(\"~/proj/seqspec\").expanduser()\n",
    "    if seqspec_root.exists() and str(seqspec_root) not in sys.path:\n",
    "        sys.path.append(str(seqspec_root))\n",
    "    else:\n",
    "        !{sys.executable} -m pip install --user seqspec\n",
    "    import seqspec"
   ]
  },
  {
   "cell_type": "markdown",
   "id": "usual-census",
   "metadata": {},
   "source": [
    "Import pieces of seqspec that we need for this notebook."
   ]
  },
  {
   "cell_type": "code",
   "execution_count": 5,
   "id": "entire-faculty",
   "metadata": {},
   "outputs": [],
   "source": [
    "from seqspec.Assay import Assay\n",
    "from seqspec.Region import Region\n",
    "from seqspec.Region import Onlist\n",
    "from seqspec.utils import load_spec_stream\n",
    "from seqspec.seqspec_index import run_index, get_index\n",
    "from seqspec.seqspec_print import run_print_sequence_spec, run_print_library_tree, run_print_library_png\n",
    "from seqspec.seqspec_onlist import run_list_onlists, run_onlist_read, run_find_by_type"
   ]
  },
  {
   "cell_type": "markdown",
   "id": "sharp-quick",
   "metadata": {},
   "source": [
    "I have my own API for interacting with the IGVF database server (which is very much like the old ENCODE database server)"
   ]
  },
  {
   "cell_type": "code",
   "execution_count": 6,
   "id": "vocal-nutrition",
   "metadata": {},
   "outputs": [],
   "source": [
    "try:\n",
    "    from encoded_client import encoded\n",
    "except ImportError:\n",
    "    encoded_root = Path(\"~/proj/encoded_client\").expanduser()\n",
    "    if encoded_root.exists() and str(encoded_root) not in sys.path:\n",
    "        sys.path.append(str(encoded_root))\n",
    "    else:\n",
    "        !{sys.executable} -m pip install --user encoded_client\n",
    "        \n",
    "    from encoded_client import encoded"
   ]
  },
  {
   "cell_type": "markdown",
   "id": "increasing-entity",
   "metadata": {},
   "source": [
    "encoded_client will pull submitter credentials from either DCC_API_KEY and DCC_SECRET_KEY or from a .netrc file loaded from your home directory. (replacing the {DCC_API_KEY} and {DCC_SECRET_KEY} strings with your specific values.)\n",
    "\n",
    "The format of a .netrc file is a plain text file with records of the format:\n",
    "\n",
    "<pre>machine api.sandbox.igvf.org login {DCC_API_KEY} password {DCC_SECRET_KEY}</pre>\n",
    "\n",
    "Or api.data.igvf.org\n",
    "\n",
    "(it's also possible to list the fields on separate lines, but I think it's easier to read when they're on one line)\n",
    "\n",
    "or after creating the server object call:\n",
    "\n",
    "<pre>server.username = \"{DCC_API_KEY}\"\n",
    "server.password = \"{DCC_SECRET_KEY}\"</pre>\n",
    "\n"
   ]
  },
  {
   "cell_type": "markdown",
   "id": "valuable-meditation",
   "metadata": {},
   "source": [
    "## submission variables"
   ]
  },
  {
   "cell_type": "code",
   "execution_count": 7,
   "id": "alleged-hebrew",
   "metadata": {},
   "outputs": [],
   "source": [
    "server_name = \"api.sandbox.igvf.org\"\n",
    "award = \"/awards/HG012077/\"\n",
    "lab = \"/labs/ali-mortazavi/\""
   ]
  },
  {
   "cell_type": "code",
   "execution_count": null,
   "id": "usual-greenhouse",
   "metadata": {},
   "outputs": [],
   "source": []
  },
  {
   "cell_type": "code",
   "execution_count": 8,
   "id": "human-coordinate",
   "metadata": {},
   "outputs": [],
   "source": [
    "server = encoded.ENCODED(server_name)\n",
    "igvf_validator = encoded.DCCValidator(server)"
   ]
  },
  {
   "cell_type": "code",
   "execution_count": 9,
   "id": "nearby-canon",
   "metadata": {},
   "outputs": [],
   "source": [
    "def seqspec_validate(schema, spec):\n",
    "    \"\"\"Validate a yaml object against a json schema\n",
    "    \"\"\"\n",
    "    validator = Draft4Validator(schema)\n",
    "\n",
    "    for idx, error in enumerate(validator.iter_errors(spec), 1):\n",
    "        print(f\"[{idx}] {error.message}\")"
   ]
  },
  {
   "cell_type": "code",
   "execution_count": 10,
   "id": "minor-harmony",
   "metadata": {},
   "outputs": [],
   "source": [
    "schema_path = seqspec_root / \"seqspec\"/ \"schema\" / \"seqspec.schema.json\"\n",
    "\n",
    "with open(schema_path, \"rt\") as instream:\n",
    "    seqspec_schema = json.load(instream)"
   ]
  },
  {
   "cell_type": "code",
   "execution_count": 11,
   "id": "regional-remedy",
   "metadata": {},
   "outputs": [],
   "source": [
    "def load_spec(filename):\n",
    "    with open(filename, \"rt\") as instream:\n",
    "        data = yaml.load(instream, Loader=yaml.Loader)\n",
    "        for r in data.assay_spec:\n",
    "            r.set_parent_id(None)\n",
    "    return data"
   ]
  },
  {
   "cell_type": "markdown",
   "id": "allied-cargo",
   "metadata": {},
   "source": [
    "# Template"
   ]
  },
  {
   "cell_type": "markdown",
   "id": "processed-values",
   "metadata": {},
   "source": [
    "First build up lists of barcodes onlists needed for this protocol the names will be passed to the template."
   ]
  },
  {
   "cell_type": "code",
   "execution_count": 12,
   "id": "pointed-worcester",
   "metadata": {},
   "outputs": [],
   "source": [
    "barcode_sets = {\n",
    "    \"parse-wt-v2\": {\n",
    "        # onlist1_n96_v4\n",
    "        \"barcode_1_url\": \"https://data.igvf.org/tabular-files/IGVFFI0924TKJO/@@download/IGVFFI0924TKJO.txt.gz\",\n",
    "        #\"barcode_1_url\": \"https://woldlab.caltech.edu/~diane/parse_barcodes/bc1_n96_v4.txt.gz\",\n",
    "        \"barcode_1_location\": \"remote\",\n",
    "        \"barcode_1_md5\": \"6d5016e63f121b6a64fb3907dd83f358\",\n",
    "        \"barcode_2_url\": \"https://data.igvf.org/tabular-files/IGVFFI1138MCVX/@@download/IGVFFI1138MCVX.txt.gz\",\n",
    "        #\"barcode_2_url\": \"https://woldlab.caltech.edu/~diane/parse_barcodes/bc2_v1_bc_v3.txt.gz\",\n",
    "        \"barcode_1_location\": \"remote\",\n",
    "        \"barcode_2_md5\": \"1452e8ef104e6edf686fab8956172072\",\n",
    "        \"barcode_3_url\": \"https://data.igvf.org/tabular-files/IGVFFI1138MCVX/@@download/IGVFFI1138MCVX.txt.gz\",\n",
    "        #\"barcode_3_url\": \"https://woldlab.caltech.edu/~diane/parse_barcodes/bc2_v1_bc_v3.txt.gz\",\n",
    "        \"barcode_1_location\": \"remote\",\n",
    "        \"barcode_3_md5\": \"1452e8ef104e6edf686fab8956172072\",\n",
    "    },\n",
    "    \"parse-wt-mega-v2\": {\n",
    "        # need to add barcode urls\n",
    "        #onlist1_n192_v4\n",
    "        \"barcode_1_location\": \"remote\",        \n",
    "        \"barcode_1_url\": \"https://data.igvf.org/tabular-files/IGVFFI2591OFQO/@@download/IGVFFI2591OFQO.txt.gz\",\n",
    "        #\"barcode_1_url\": \"https://woldlab.caltech.edu/~diane/parse_barcodes/bc1_n192_v4.txt.gz\",\n",
    "        #\"barcode_1_location\": \"local\",\n",
    "        #\"barcode_1_url\": \"CB1.txt\",\n",
    "        \"barcode_1_md5\": \"5c3b70034e9cef5de735dc9d4f3fdbde\",\n",
    "        \"barcode_2_location\": \"remote\",        \n",
    "        \"barcode_2_url\": \"https://data.igvf.org/tabular-files/IGVFFI1138MCVX/@@download/IGVFFI1138MCVX.txt.gz\",\n",
    "        #\"barcode_2_url\": \"https://woldlab.caltech.edu/~diane/parse_barcodes/bc2_v1_bc_v3.txt.gz\",\n",
    "        #\"barcode_2_location\": \"local\",\n",
    "        #\"barcode_2_url\": \"CB23.txt\",\n",
    "        \"barcode_2_md5\": \"1452e8ef104e6edf686fab8956172072\",\n",
    "        \"barcode_3_location\": \"remote\",\n",
    "        \"barcode_3_url\": \"https://data.igvf.org/tabular-files/IGVFFI1138MCVX/@@download/IGVFFI1138MCVX.txt.gz\",\n",
    "        #\"barcode_3_url\": \"https://woldlab.caltech.edu/~diane/parse_barcodes/bc2_v1_bc_v3.txt.gz\",\n",
    "        #\"barcode_3_location\": \"local\",\n",
    "        #\"barcode_3_url\": \"CB23.txt\",\n",
    "        \"barcode_3_md5\": \"1452e8ef104e6edf686fab8956172072\",\n",
    "    }\n",
    "}\n",
    "\n",
    "library_kits = {\n",
    "    \"parse-wt-v2\": {\n",
    "        \"single\": {\n",
    "            \"library_protocol\": \"Any\",\n",
    "            \"library_kit\": \"Evercode WT v2.0.1 single index\",\n",
    "        },\n",
    "        \"dual\": {\n",
    "            \"library_protocol\": \"Any\",\n",
    "            \"library_kit\": \"Evercode WT v2.0.1 single index\",\n",
    "        },\n",
    "    },\n",
    "    \"parse-wt-mega-v2\": {\n",
    "        \"single\": {\n",
    "            \"library_protocol\": \"Any\",\n",
    "            \"library_kit\": \"Evercode WT Mega v2.0.1 dual index\",\n",
    "        },\n",
    "        \"dual\": {\n",
    "            \"library_protocol\": \"Any\",\n",
    "            \"library_kit\": \"Evercode WT Mega v2.0.1 dual index\",\n",
    "        }\n",
    "    }\n",
    "}\n",
    "\n",
    "# Allowed terms for sequence_kit\n",
    "# https://data.igvf.org/profiles/sequence_file/schema/properties/?property=sequencing_kit\n",
    "sequencing_kit_by_platform = {\n",
    "    # Illumina novaseq 6000 \n",
    "    # reagent ordering page https://www.illumina.com/products/by-type/sequencing-kits/cluster-gen-sequencing-reagents/novaseq-reagent-kits.html\n",
    "    \"/platform-terms/EFO_0008637/\": {\n",
    "        \"sequence_protocol\": \"Illumina NovaSeq 6000\",\n",
    "        \"sequence_kit\": \"NovaSeq 6000 S4 Reagent Kit v1.5\",\n",
    "    },\n",
    "    # Illumina NextSeq 2000\n",
    "    # reagent ordering page https://www.illumina.com/products/by-type/sequencing-kits/cluster-gen-sequencing-reagents/nextseq-1000-2000-reagents.html\n",
    "    \"/platform-terms/EFO_0010963/\": {\n",
    "        \"sequence_protocol\": \"Illumina NextSeq 2000\",\n",
    "        \"sequence_kit\": \"NextSeq 2000 P4 XLEAP-SBS Reagent Kit\",\n",
    "    }\n",
    "}"
   ]
  },
  {
   "cell_type": "markdown",
   "id": "handled-nickname",
   "metadata": {},
   "source": [
    "Define the the file information needed to define this seqspec."
   ]
  },
  {
   "cell_type": "code",
   "execution_count": 13,
   "id": "behavioral-dressing",
   "metadata": {
    "scrolled": false
   },
   "outputs": [
    {
     "name": "stdout",
     "output_type": "stream",
     "text": [
      "!Assay\n",
      "seqspec_version: 0.1.1\n",
      "assay_id: Evercode-WT-mega-single-index-v2\n",
      "name: Parse Evercode mega WT v2 using single illumina multiplex index\n",
      "doi: https://www.protocols.io/view/evercode-wt-mega-v2-2-1-8epv5xxrng1b/v1?step=21\n",
      "date: 08 November 2023\n",
      "description: split-pool ligation-based transcriptome sequencing\n",
      "modalities:\n",
      "  - rna\n",
      "# can lib_struct be optional?\n",
      "lib_struct: \"\"\n",
      "library_protocol: Any\n",
      "library_kit: Evercode WT Mega v2.0.1 dual index\n",
      "sequence_protocol: Illumina NextSeq 2000\n",
      "sequence_kit: NextSeq 2000 P4 XLEAP-SBS Reagent Kit\n",
      "  \n",
      "# TODO what strand are the Read one and two on? I'm just following the\n",
      "# example I don't really know\n",
      "sequence_spec:\n",
      "  - !Read\n",
      "    read_id: B01_13A_R1.fastq.gz\n",
      "    name: Read 1 fastq for B01_13A_R1\n",
      "    modality: rna\n",
      "    primer_id: truseq_read1\n",
      "    min_len: 150\n",
      "    max_len: 150\n",
      "    strand: pos\n",
      "  - !Read\n",
      "    read_id: B01_13A_R2.fastq.gz\n",
      "    name: Read 2 fastq for B01_13A_R2\n",
      "    modality: rna\n",
      "    primer_id: truseq_read2\n",
      "    min_len: 86\n",
      "    max_len: 86\n",
      "    strand: neg\n",
      "\n",
      "# Evercode WT mega v2.2.1 protocol\n",
      "# https://www.protocols.io/view/evercode-wt-mega-v2-2-1-8epv5xxrng1b/v1?step=21\n",
      "# Includes parse PDF\n",
      "# From Evercode WT Mega v2.0.1 Usermanual-1.pdf page 60\n",
      "# The final structure looks like:\n",
      "# P5 R1 cdna fragment BC1 linker BC2 linker BC3 UMI R2 BC4 P7\n",
      "# Fairlie explaned there is a 10 bp umi right after the BC3 sequence.\n",
      "# R2 is \"illumina adapter\"\n",
      "# R1 is \"illumina adapter\"\n",
      "\n",
      "# Since fastq_link is currently a property of a region it needs to be the length\n",
      "# of the read. However I think the cDNA region size is actually the fragment\n",
      "# size and is frequently much longer than the read length.\n",
      "# Maybe describing the read length \n",
      "# For the cDNA minum and maximum sizes I looked at the average cDNA\n",
      "# length from our metadata and rounded up and down some.\n",
      "# this is my fragment sized specification region.\n",
      "#  - !Region\n",
      "#    region_id: cDNA\n",
      "#    region_type: cdna\n",
      "#    name: cDNA\n",
      "#    sequence_type: random\n",
      "#    sequence: X\n",
      "#    min_len: 500\n",
      "#    max_len: 2000\n",
      "#    onlist: null\n",
      "#    regions: null\n",
      "#    parent_id: rna\n",
      "#\n",
      "# TODO is this using illumina truseq? or something else?\n",
      "\n",
      "library_spec:\n",
      "- !Region\n",
      "  region_id: rna\n",
      "  region_type: named\n",
      "  name: rna\n",
      "  sequence_type: joined\n",
      "  sequence: AATGATACGGCGACCACCGAGATCTACACTCTTTCCCTACACGACGCTCTTCCGATCTXNNNNNNNNGTGGCCGATGTTTCGCATCGGCGTACGACTNNNNNNNNATCCACGTGCTTGAGACTGTGGNNNNNNNNNNNNNNNNNNAGATCGGAAGAGCACACGTCTGAACTCCAGTCACNNNNNNNNATCTCGTATGCCGTCTTCTGCTTG\n",
      "  min_len: 352 \n",
      "  max_len: 352\n",
      "  onlist: null\n",
      "  parent_id: null\n",
      "  regions:\n",
      "  - !Region\n",
      "    region_id: illumina_p5\n",
      "    region_type: illumina_p5\n",
      "    name: Illumina P5\n",
      "    sequence_type: fixed\n",
      "    sequence: AATGATACGGCGACCACCGAGATCTACAC\n",
      "    min_len: 29\n",
      "    max_len: 29\n",
      "    onlist: null\n",
      "    regions: null\n",
      "    parent_id: rna\n",
      "  - !Region\n",
      "    region_id: truseq_read1\n",
      "    region_type: truseq_read1\n",
      "    name: Truseq Single Index Read 1\n",
      "    sequence_type: fixed\n",
      "    sequence: TCTTTCCCTACACGACGCTCTTCCGATCT\n",
      "    min_len: 29\n",
      "    max_len: 29\n",
      "    onlist: null\n",
      "    regions: null\n",
      "    parent_id: rna\n",
      "  - !Region\n",
      "    region_id: B01_13A_R1\n",
      "    region_type: cdna\n",
      "    name: Read 1 cDNA sequence\n",
      "    sequence_type: random\n",
      "    sequence: X\n",
      "    min_len: 150\n",
      "    max_len: 150\n",
      "    onlist: null\n",
      "    regions: null\n",
      "    parent_id: rna\n",
      "#  - !Region\n",
      "#    region_id: B01_13A_R2\n",
      "#    region_type: named\n",
      "#    name: Read 2 barcode and linker sequence\n",
      "#    sequence_type: joined\n",
      "#    sequence: NNNNNNNNGTGGCCGATGTTTCGCATCGGCGTACGACTNNNNNNNNATCCACGTGCTTGAGACTGTGGNNNNNNNNNNNNNNNNNN\n",
      "#    min_len: 86\n",
      "#    max_len: 86\n",
      "#    onlist: null\n",
      "#    regions:\n",
      "  - !Region\n",
      "    region_id: barcode-1\n",
      "    region_type: barcode\n",
      "    name: barcode-1\n",
      "    sequence_type: onlist\n",
      "    sequence: NNNNNNNN\n",
      "    min_len: 8\n",
      "    max_len: 8\n",
      "    onlist: !Onlist\n",
      "      location: remote\n",
      "      filename: https://data.igvf.org/tabular-files/IGVFFI2591OFQO/@@download/IGVFFI2591OFQO.txt.gz\n",
      "      md5: 5c3b70034e9cef5de735dc9d4f3fdbde\n",
      "    regions: null\n",
      "    parent_id: rna\n",
      "  - !Region\n",
      "    region_id: linker-1\n",
      "    region_type: linker\n",
      "    name: linker-1\n",
      "    sequence_type: fixed\n",
      "    sequence: ATCCACGTGCTTGAGACTGTGG\n",
      "    min_len: 22\n",
      "    max_len: 22\n",
      "    onlist: null\n",
      "    regions: null\n",
      "    parent_id: rna\n",
      "  - !Region\n",
      "    region_id: barcode-2\n",
      "    region_type: barcode\n",
      "    name: barcode-2\n",
      "    sequence_type: onlist\n",
      "    sequence: NNNNNNNN\n",
      "    min_len: 8\n",
      "    max_len: 8\n",
      "    onlist: !Onlist\n",
      "      location: remote\n",
      "      filename: https://data.igvf.org/tabular-files/IGVFFI1138MCVX/@@download/IGVFFI1138MCVX.txt.gz\n",
      "      md5: 1452e8ef104e6edf686fab8956172072\n",
      "    regions: null\n",
      "    parent_id: rna\n",
      "  - !Region\n",
      "    region_id: linker-2\n",
      "    region_type: linker\n",
      "    name: linker-2\n",
      "    sequence_type: fixed\n",
      "    sequence: GTGGCCGATGTTTCGCATCGGCGTACGACT\n",
      "    min_len: 30\n",
      "    max_len: 30\n",
      "    onlist: null\n",
      "    regions: null\n",
      "    parent_id: rna\n",
      "  - !Region\n",
      "    region_id: barcode-3\n",
      "    region_type: barcode\n",
      "    name: barcode-3\n",
      "    sequence_type: onlist\n",
      "    sequence: NNNNNNNN\n",
      "    min_len: 8\n",
      "    max_len: 8\n",
      "    onlist: !Onlist\n",
      "      location: remote\n",
      "      filename: https://data.igvf.org/tabular-files/IGVFFI1138MCVX/@@download/IGVFFI1138MCVX.txt.gz\n",
      "      md5: 1452e8ef104e6edf686fab8956172072\n",
      "    regions: null\n",
      "    parent_id: rna\n",
      "  - !Region\n",
      "    region_id: umi\n",
      "    region_type: umi\n",
      "    name: umi\n",
      "    sequence_type: random\n",
      "    sequence: NNNNNNNNNN\n",
      "    min_len: 10\n",
      "    max_len: 10\n",
      "    onlist: null\n",
      "    regions: null\n",
      "    parent_id: rna\n",
      "  - !Region\n",
      "    region_id: truseq_read2\n",
      "    region_type: truseq_read2\n",
      "    name: Truseq Read 2\n",
      "    sequence_type: fixed\n",
      "    sequence: GTGACTGGAGTTCAGACGTGTGCTCTTCCGATCT\n",
      "    min_len: 34\n",
      "    max_len: 34\n",
      "    onlist: null\n",
      "    regions: null\n",
      "    parent_id: rna\n",
      "  # Illumina single end read index\n",
      "  - !Region\n",
      "    region_id: index7\n",
      "    region_type: index7\n",
      "    name: Illumina barcode BC4\n",
      "    sequence_type: onlist\n",
      "    sequence: NNNNNNNN\n",
      "    min_len: 8\n",
      "    max_len: 8\n",
      "    # Leaving the onlist out of the seqspec since it's not available.\n",
      "    onlist: null\n",
      "    regions: null\n",
      "    parent_id: rna\n",
      "  - !Region\n",
      "    region_id: illumina_p7\n",
      "    region_type: illumina_p7\n",
      "    name: Illumina P7\n",
      "    sequence_type: fixed\n",
      "    sequence: ATCTCGTATGCCGTCTTCTGCTTG\n",
      "    min_len: 24\n",
      "    max_len: 24\n",
      "    onlist: null\n",
      "    regions: null\n",
      "    parent_id: rna\n"
     ]
    }
   ],
   "source": [
    "p5_length = 29\n",
    "truseq_read1_length = 29\n",
    "read1_min_length = 150\n",
    "read2_min_length = 86\n",
    "truseq_read2_length = 34\n",
    "i7_length = 8\n",
    "p7_length = 24\n",
    "total_min_length = p5_length + truseq_read1_length + read1_min_length + read2_min_length + truseq_read2_length + p7_length\n",
    "context = {\n",
    "    # attributes to use \n",
    "    # accession\n",
    "    # s3_uri\n",
    "    # minimum_read_length\n",
    "    # maximum_read_length\n",
    "    #\"read1_accession\": \"TSTFI76281026\",\n",
    "    #\"read1_url\": server.prepare_url(\"/sequence-files/TSTFI76281026/@@download/TSTFI76281026.fastq.gz\"),\n",
    "    \"read1_accession\": \"B01_13A_R1\",\n",
    "    \"read1_url\": \"igvf_b01/next1/B01_13A_R1.fastq.gz\",\n",
    "    \"read1_min_length\": read1_min_length,\n",
    "    \"read1_max_length\": read1_min_length,\n",
    "\n",
    "    #\"read2_accession\": \"TSTFI85921201\",\n",
    "    #\"read2_url\": server.prepare_url(\"/sequence-files/TSTFI85921201/@@download/TSTFI85921201.fastq.gz\"),\n",
    "    \"read2_accession\": \"B01_13A_R2\",\n",
    "    \"read2_url\": \"igvf_b01/next1/B01_13A_R2.fastq.gz\",\n",
    "    \"read2_min_length\": read2_min_length,\n",
    "    \"read2_max_length\": read2_min_length,\n",
    "    \n",
    "    \"total_min_length\": total_min_length,\n",
    "    \"total_max_length\": total_min_length,\n",
    "}\n",
    "# For testing y2ave\n",
    "context[\"RNA_fastq_R1\"] = Path(context[\"read1_url\"]).name\n",
    "context[\"RNA_fastq_R2\"] = Path(context[\"read2_url\"]).name\n",
    "\n",
    "# Merge in the barcode information\n",
    "context.update(barcode_sets[\"parse-wt-mega-v2\"])\n",
    "\n",
    "# Merge in the library information\n",
    "context.update(library_kits[\"parse-wt-mega-v2\"][\"single\"])\n",
    "\n",
    "# Merge in sequencer information\n",
    "# nextseq\n",
    "context.update(sequencing_kit_by_platform[\"/platform-terms/EFO_0010963/\"])\n",
    "\n",
    "# load the template and instantiate it with the context for this specific measurement set.\n",
    "# this version needs the libspec branch that separates the sequence and library specifications\n",
    "\n",
    "template_name = \"parse-wt-mega-v2-single-index-libspec-1.yaml.j2\"\n",
    "#template_name = \"y2ave_parse_bridge.yaml.j2\"\n",
    "template = env.get_template(template_name)\n",
    "\n",
    "# this version needs the original version that merges the sequence and library specification concepts\n",
    "#parse_wt_mega_v2 = env.get_template(\"parse-wt-mega-v2-single-index-seqspec-0.yaml.j2\")\n",
    "\n",
    "example_yaml = template.render(context)\n",
    "\n",
    "# validate the generated seqspec file.\n",
    "example_spec = load_spec_stream(StringIO(example_yaml))\n",
    "seqspec_validate(seqspec_schema, example_spec.to_dict())\n",
    "\n",
    "# Print the example for evaluation.\n",
    "print(example_yaml)"
   ]
  },
  {
   "cell_type": "code",
   "execution_count": null,
   "id": "cognitive-admission",
   "metadata": {},
   "outputs": [],
   "source": []
  },
  {
   "cell_type": "code",
   "execution_count": null,
   "id": "electrical-immune",
   "metadata": {},
   "outputs": [],
   "source": []
  },
  {
   "cell_type": "code",
   "execution_count": 14,
   "id": "centered-bookmark",
   "metadata": {},
   "outputs": [
    {
     "name": "stdout",
     "output_type": "stream",
     "text": [
      "                                        ┌─'illumina_p5:29'\n",
      "                                        ├─'truseq_read1:29'\n",
      "                                        ├─'B01_13A_R1:150'\n",
      "                                        ├─'barcode-1:8'\n",
      "                                        ├─'linker-1:22'\n",
      "                                        ├─'barcode-2:8'\n",
      "─────────────────── ──rna───────────────┤\n",
      "                                        ├─'linker-2:30'\n",
      "                                        ├─'barcode-3:8'\n",
      "                                        ├─'umi:10'\n",
      "                                        ├─'truseq_read2:34'\n",
      "                                        ├─'index7:8'\n",
      "                                        └─'illumina_p7:24'\n"
     ]
    }
   ],
   "source": [
    "print(run_print_library_tree(example_spec))"
   ]
  },
  {
   "cell_type": "code",
   "execution_count": 15,
   "id": "parental-potato",
   "metadata": {},
   "outputs": [
    {
     "data": {
      "image/png": "[encoded data removed]",
      "text/plain": [
       "<Figure size 1000x100 with 1 Axes>"
      ]
     },
     "execution_count": 15,
     "metadata": {},
     "output_type": "execute_result"
    },
    {
     "data": {
      "image/png": "[encoded data removed]",
      "text/plain": [
       "<Figure size 1000x100 with 1 Axes>"
      ]
     },
     "metadata": {},
     "output_type": "display_data"
    }
   ],
   "source": [
    "run_print_library_png(example_spec)"
   ]
  },
  {
   "cell_type": "code",
   "execution_count": 16,
   "id": "cleared-uniform",
   "metadata": {},
   "outputs": [
    {
     "data": {
      "text/plain": [
       "'B01_13A_R1.fastq.gz\\ttruseq_read1\\tpos\\t150\\t150\\nB01_13A_R2.fastq.gz\\ttruseq_read2\\tneg\\t86\\t86'"
      ]
     },
     "execution_count": 16,
     "metadata": {},
     "output_type": "execute_result"
    }
   ],
   "source": [
    "run_print_sequence_spec(example_spec)"
   ]
  },
  {
   "cell_type": "code",
   "execution_count": 17,
   "id": "perceived-nature",
   "metadata": {},
   "outputs": [],
   "source": [
    "def validate_parse_index(example_spec, modality):\n",
    "    expected_index = \"1,10,18,1,48,56,1,78,86:1,0,10:0,0,150\"\n",
    "    expected_parts = expected_index.split(\":\")\n",
    "    index_rna = run_index(example_spec, \"rna\", [\"B01_13A_R1.fastq.gz\", \"B01_13A_R2.fastq.gz\"], fmt=\"kb\")\n",
    "    index_parts = index_rna.split(\":\")\n",
    "\n",
    "    assert len(expected_parts) == len(index_parts)\n",
    "    assert expected_parts[0] == index_parts[0], f\"{expected_parts[0]} != {index_parts[0]}\"\n",
    "    assert expected_parts[1] == index_parts[1], f\"{expected_parts[1]} != {index_parts[1]}\"\n",
    "    assert expected_parts[2] == index_parts[2], f\"{expected_parts[2]} != {index_parts[2]}\"\n",
    "\n",
    "def validate_share_index(example_spec, modality):\n",
    "    r = ['B01_13A_R1.fastq.gz', 'I1.fastq.gz', 'B01_13A_R2.fastq.gz']\n",
    "    index_rna = run_index(example_spec, \"rna\", r, fmt=\"kb\")\n",
    "    print(index_rna)\n",
    "    \n",
    "{\n",
    "    \"parse-wt-mega-v2-single-index-libspec-1.yaml.j2\": validate_parse_index,\n",
    "    \"y2ave_parse_bridge.yaml.j2\": validate_share_index,\n",
    "}[template_name](example_spec, \"rna\")"
   ]
  },
  {
   "cell_type": "code",
   "execution_count": 18,
   "id": "intimate-intervention",
   "metadata": {},
   "outputs": [
    {
     "data": {
      "text/plain": [
       "[{'region_id': 'barcode-1',\n",
       "  'filename': 'https://data.igvf.org/tabular-files/IGVFFI2591OFQO/@@download/IGVFFI2591OFQO.txt.gz',\n",
       "  'location': 'remote',\n",
       "  'md5': '5c3b70034e9cef5de735dc9d4f3fdbde'},\n",
       " {'region_id': 'barcode-2',\n",
       "  'filename': 'https://data.igvf.org/tabular-files/IGVFFI1138MCVX/@@download/IGVFFI1138MCVX.txt.gz',\n",
       "  'location': 'remote',\n",
       "  'md5': '1452e8ef104e6edf686fab8956172072'},\n",
       " {'region_id': 'barcode-3',\n",
       "  'filename': 'https://data.igvf.org/tabular-files/IGVFFI1138MCVX/@@download/IGVFFI1138MCVX.txt.gz',\n",
       "  'location': 'remote',\n",
       "  'md5': '1452e8ef104e6edf686fab8956172072'}]"
      ]
     },
     "execution_count": 18,
     "metadata": {},
     "output_type": "execute_result"
    }
   ],
   "source": [
    "run_list_onlists(example_spec, \"rna\")"
   ]
  },
  {
   "cell_type": "code",
   "execution_count": 19,
   "id": "broken-immune",
   "metadata": {},
   "outputs": [
    {
     "data": {
      "text/plain": [
       "[{'region_id': 'barcode-1', 'region_type': 'barcode', 'name': 'barcode-1', 'sequence_type': 'onlist', 'onlist': {'filename': 'https://data.igvf.org/tabular-files/IGVFFI2591OFQO/@@download/IGVFFI2591OFQO.txt.gz', 'location': 'remote', 'md5': '5c3b70034e9cef5de735dc9d4f3fdbde'}, 'sequence': 'NNNNNNNN', 'min_len': 8, 'max_len': 8, 'regions': None},\n",
       " {'region_id': 'barcode-2', 'region_type': 'barcode', 'name': 'barcode-2', 'sequence_type': 'onlist', 'onlist': {'filename': 'https://data.igvf.org/tabular-files/IGVFFI1138MCVX/@@download/IGVFFI1138MCVX.txt.gz', 'location': 'remote', 'md5': '1452e8ef104e6edf686fab8956172072'}, 'sequence': 'NNNNNNNN', 'min_len': 8, 'max_len': 8, 'regions': None},\n",
       " {'region_id': 'barcode-3', 'region_type': 'barcode', 'name': 'barcode-3', 'sequence_type': 'onlist', 'onlist': {'filename': 'https://data.igvf.org/tabular-files/IGVFFI1138MCVX/@@download/IGVFFI1138MCVX.txt.gz', 'location': 'remote', 'md5': '1452e8ef104e6edf686fab8956172072'}, 'sequence': 'NNNNNNNN', 'min_len': 8, 'max_len': 8, 'regions': None}]"
      ]
     },
     "execution_count": 19,
     "metadata": {},
     "output_type": "execute_result"
    }
   ],
   "source": [
    "example_spec.get_libspec(\"rna\").get_region_by_region_type(\"barcode\")"
   ]
  },
  {
   "cell_type": "code",
   "execution_count": 20,
   "id": "sapphire-thread",
   "metadata": {},
   "outputs": [
    {
     "data": {
      "text/plain": [
       "[{'filename': 'https://data.igvf.org/tabular-files/IGVFFI1138MCVX/@@download/IGVFFI1138MCVX.txt.gz', 'location': 'remote', 'md5': '1452e8ef104e6edf686fab8956172072'},\n",
       " {'filename': 'https://data.igvf.org/tabular-files/IGVFFI1138MCVX/@@download/IGVFFI1138MCVX.txt.gz', 'location': 'remote', 'md5': '1452e8ef104e6edf686fab8956172072'},\n",
       " {'filename': 'https://data.igvf.org/tabular-files/IGVFFI2591OFQO/@@download/IGVFFI2591OFQO.txt.gz', 'location': 'remote', 'md5': '5c3b70034e9cef5de735dc9d4f3fdbde'}]"
      ]
     },
     "execution_count": 20,
     "metadata": {},
     "output_type": "execute_result"
    }
   ],
   "source": [
    "joined_name = run_onlist_read(example_spec, \"rna\", \"B01_13A_R2.fastq.gz\")\n",
    "joined_name"
   ]
  },
  {
   "cell_type": "code",
   "execution_count": null,
   "id": "physical-singles",
   "metadata": {},
   "outputs": [],
   "source": []
  },
  {
   "cell_type": "code",
   "execution_count": 21,
   "id": "unlikely-omaha",
   "metadata": {},
   "outputs": [
    {
     "ename": "FileNotFoundError",
     "evalue": "[Errno 2] No such file or directory: 'onlist_joined.txt'",
     "output_type": "error",
     "traceback": [
      "\u001b[0;31m---------------------------------------------------------------------------\u001b[0m",
      "\u001b[0;31mFileNotFoundError\u001b[0m                         Traceback (most recent call last)",
      "Cell \u001b[0;32mIn [21], line 2\u001b[0m\n\u001b[1;32m      1\u001b[0m \u001b[38;5;28;01mif\u001b[39;00m joined_name \u001b[38;5;129;01mis\u001b[39;00m \u001b[38;5;129;01mnot\u001b[39;00m \u001b[38;5;28;01mNone\u001b[39;00m:\n\u001b[0;32m----> 2\u001b[0m     joined \u001b[38;5;241m=\u001b[39m \u001b[43mpandas\u001b[49m\u001b[38;5;241;43m.\u001b[39;49m\u001b[43mread_csv\u001b[49m\u001b[43m(\u001b[49m\u001b[38;5;124;43m\"\u001b[39;49m\u001b[38;5;124;43monlist_joined.txt\u001b[39;49m\u001b[38;5;124;43m\"\u001b[39;49m\u001b[43m,\u001b[49m\u001b[43m \u001b[49m\u001b[43mheader\u001b[49m\u001b[38;5;241;43m=\u001b[39;49m\u001b[38;5;28;43;01mNone\u001b[39;49;00m\u001b[43m,\u001b[49m\u001b[43m \u001b[49m\u001b[43msep\u001b[49m\u001b[38;5;241;43m=\u001b[39;49m\u001b[38;5;124;43m\"\u001b[39;49m\u001b[38;5;124;43m \u001b[39;49m\u001b[38;5;124;43m\"\u001b[39;49m\u001b[43m)\u001b[49m\n\u001b[1;32m      3\u001b[0m     \u001b[38;5;28mprint\u001b[39m(\u001b[38;5;124m\"\u001b[39m\u001b[38;5;124mlength = \u001b[39m\u001b[38;5;124m\"\u001b[39m, joined\u001b[38;5;241m.\u001b[39mshape[\u001b[38;5;241m0\u001b[39m])\n\u001b[1;32m      4\u001b[0m     \u001b[38;5;28mprint\u001b[39m(joined)\n",
      "File \u001b[0;32m/usr/lib/python3/dist-packages/pandas/util/_decorators.py:211\u001b[0m, in \u001b[0;36mdeprecate_kwarg.<locals>._deprecate_kwarg.<locals>.wrapper\u001b[0;34m(*args, **kwargs)\u001b[0m\n\u001b[1;32m    209\u001b[0m     \u001b[38;5;28;01melse\u001b[39;00m:\n\u001b[1;32m    210\u001b[0m         kwargs[new_arg_name] \u001b[38;5;241m=\u001b[39m new_arg_value\n\u001b[0;32m--> 211\u001b[0m \u001b[38;5;28;01mreturn\u001b[39;00m \u001b[43mfunc\u001b[49m\u001b[43m(\u001b[49m\u001b[38;5;241;43m*\u001b[39;49m\u001b[43margs\u001b[49m\u001b[43m,\u001b[49m\u001b[43m \u001b[49m\u001b[38;5;241;43m*\u001b[39;49m\u001b[38;5;241;43m*\u001b[39;49m\u001b[43mkwargs\u001b[49m\u001b[43m)\u001b[49m\n",
      "File \u001b[0;32m/usr/lib/python3/dist-packages/pandas/util/_decorators.py:331\u001b[0m, in \u001b[0;36mdeprecate_nonkeyword_arguments.<locals>.decorate.<locals>.wrapper\u001b[0;34m(*args, **kwargs)\u001b[0m\n\u001b[1;32m    325\u001b[0m \u001b[38;5;28;01mif\u001b[39;00m \u001b[38;5;28mlen\u001b[39m(args) \u001b[38;5;241m>\u001b[39m num_allow_args:\n\u001b[1;32m    326\u001b[0m     warnings\u001b[38;5;241m.\u001b[39mwarn(\n\u001b[1;32m    327\u001b[0m         msg\u001b[38;5;241m.\u001b[39mformat(arguments\u001b[38;5;241m=\u001b[39m_format_argument_list(allow_args)),\n\u001b[1;32m    328\u001b[0m         \u001b[38;5;167;01mFutureWarning\u001b[39;00m,\n\u001b[1;32m    329\u001b[0m         stacklevel\u001b[38;5;241m=\u001b[39mfind_stack_level(),\n\u001b[1;32m    330\u001b[0m     )\n\u001b[0;32m--> 331\u001b[0m \u001b[38;5;28;01mreturn\u001b[39;00m \u001b[43mfunc\u001b[49m\u001b[43m(\u001b[49m\u001b[38;5;241;43m*\u001b[39;49m\u001b[43margs\u001b[49m\u001b[43m,\u001b[49m\u001b[43m \u001b[49m\u001b[38;5;241;43m*\u001b[39;49m\u001b[38;5;241;43m*\u001b[39;49m\u001b[43mkwargs\u001b[49m\u001b[43m)\u001b[49m\n",
      "File \u001b[0;32m/usr/lib/python3/dist-packages/pandas/io/parsers/readers.py:950\u001b[0m, in \u001b[0;36mread_csv\u001b[0;34m(filepath_or_buffer, sep, delimiter, header, names, index_col, usecols, squeeze, prefix, mangle_dupe_cols, dtype, engine, converters, true_values, false_values, skipinitialspace, skiprows, skipfooter, nrows, na_values, keep_default_na, na_filter, verbose, skip_blank_lines, parse_dates, infer_datetime_format, keep_date_col, date_parser, dayfirst, cache_dates, iterator, chunksize, compression, thousands, decimal, lineterminator, quotechar, quoting, doublequote, escapechar, comment, encoding, encoding_errors, dialect, error_bad_lines, warn_bad_lines, on_bad_lines, delim_whitespace, low_memory, memory_map, float_precision, storage_options)\u001b[0m\n\u001b[1;32m    935\u001b[0m kwds_defaults \u001b[38;5;241m=\u001b[39m _refine_defaults_read(\n\u001b[1;32m    936\u001b[0m     dialect,\n\u001b[1;32m    937\u001b[0m     delimiter,\n\u001b[0;32m   (...)\u001b[0m\n\u001b[1;32m    946\u001b[0m     defaults\u001b[38;5;241m=\u001b[39m{\u001b[38;5;124m\"\u001b[39m\u001b[38;5;124mdelimiter\u001b[39m\u001b[38;5;124m\"\u001b[39m: \u001b[38;5;124m\"\u001b[39m\u001b[38;5;124m,\u001b[39m\u001b[38;5;124m\"\u001b[39m},\n\u001b[1;32m    947\u001b[0m )\n\u001b[1;32m    948\u001b[0m kwds\u001b[38;5;241m.\u001b[39mupdate(kwds_defaults)\n\u001b[0;32m--> 950\u001b[0m \u001b[38;5;28;01mreturn\u001b[39;00m \u001b[43m_read\u001b[49m\u001b[43m(\u001b[49m\u001b[43mfilepath_or_buffer\u001b[49m\u001b[43m,\u001b[49m\u001b[43m \u001b[49m\u001b[43mkwds\u001b[49m\u001b[43m)\u001b[49m\n",
      "File \u001b[0;32m/usr/lib/python3/dist-packages/pandas/io/parsers/readers.py:605\u001b[0m, in \u001b[0;36m_read\u001b[0;34m(filepath_or_buffer, kwds)\u001b[0m\n\u001b[1;32m    602\u001b[0m _validate_names(kwds\u001b[38;5;241m.\u001b[39mget(\u001b[38;5;124m\"\u001b[39m\u001b[38;5;124mnames\u001b[39m\u001b[38;5;124m\"\u001b[39m, \u001b[38;5;28;01mNone\u001b[39;00m))\n\u001b[1;32m    604\u001b[0m \u001b[38;5;66;03m# Create the parser.\u001b[39;00m\n\u001b[0;32m--> 605\u001b[0m parser \u001b[38;5;241m=\u001b[39m \u001b[43mTextFileReader\u001b[49m\u001b[43m(\u001b[49m\u001b[43mfilepath_or_buffer\u001b[49m\u001b[43m,\u001b[49m\u001b[43m \u001b[49m\u001b[38;5;241;43m*\u001b[39;49m\u001b[38;5;241;43m*\u001b[39;49m\u001b[43mkwds\u001b[49m\u001b[43m)\u001b[49m\n\u001b[1;32m    607\u001b[0m \u001b[38;5;28;01mif\u001b[39;00m chunksize \u001b[38;5;129;01mor\u001b[39;00m iterator:\n\u001b[1;32m    608\u001b[0m     \u001b[38;5;28;01mreturn\u001b[39;00m parser\n",
      "File \u001b[0;32m/usr/lib/python3/dist-packages/pandas/io/parsers/readers.py:1442\u001b[0m, in \u001b[0;36mTextFileReader.__init__\u001b[0;34m(self, f, engine, **kwds)\u001b[0m\n\u001b[1;32m   1439\u001b[0m     \u001b[38;5;28mself\u001b[39m\u001b[38;5;241m.\u001b[39moptions[\u001b[38;5;124m\"\u001b[39m\u001b[38;5;124mhas_index_names\u001b[39m\u001b[38;5;124m\"\u001b[39m] \u001b[38;5;241m=\u001b[39m kwds[\u001b[38;5;124m\"\u001b[39m\u001b[38;5;124mhas_index_names\u001b[39m\u001b[38;5;124m\"\u001b[39m]\n\u001b[1;32m   1441\u001b[0m \u001b[38;5;28mself\u001b[39m\u001b[38;5;241m.\u001b[39mhandles: IOHandles \u001b[38;5;241m|\u001b[39m \u001b[38;5;28;01mNone\u001b[39;00m \u001b[38;5;241m=\u001b[39m \u001b[38;5;28;01mNone\u001b[39;00m\n\u001b[0;32m-> 1442\u001b[0m \u001b[38;5;28mself\u001b[39m\u001b[38;5;241m.\u001b[39m_engine \u001b[38;5;241m=\u001b[39m \u001b[38;5;28;43mself\u001b[39;49m\u001b[38;5;241;43m.\u001b[39;49m\u001b[43m_make_engine\u001b[49m\u001b[43m(\u001b[49m\u001b[43mf\u001b[49m\u001b[43m,\u001b[49m\u001b[43m \u001b[49m\u001b[38;5;28;43mself\u001b[39;49m\u001b[38;5;241;43m.\u001b[39;49m\u001b[43mengine\u001b[49m\u001b[43m)\u001b[49m\n",
      "File \u001b[0;32m/usr/lib/python3/dist-packages/pandas/io/parsers/readers.py:1735\u001b[0m, in \u001b[0;36mTextFileReader._make_engine\u001b[0;34m(self, f, engine)\u001b[0m\n\u001b[1;32m   1733\u001b[0m     \u001b[38;5;28;01mif\u001b[39;00m \u001b[38;5;124m\"\u001b[39m\u001b[38;5;124mb\u001b[39m\u001b[38;5;124m\"\u001b[39m \u001b[38;5;129;01mnot\u001b[39;00m \u001b[38;5;129;01min\u001b[39;00m mode:\n\u001b[1;32m   1734\u001b[0m         mode \u001b[38;5;241m+\u001b[39m\u001b[38;5;241m=\u001b[39m \u001b[38;5;124m\"\u001b[39m\u001b[38;5;124mb\u001b[39m\u001b[38;5;124m\"\u001b[39m\n\u001b[0;32m-> 1735\u001b[0m \u001b[38;5;28mself\u001b[39m\u001b[38;5;241m.\u001b[39mhandles \u001b[38;5;241m=\u001b[39m \u001b[43mget_handle\u001b[49m\u001b[43m(\u001b[49m\n\u001b[1;32m   1736\u001b[0m \u001b[43m    \u001b[49m\u001b[43mf\u001b[49m\u001b[43m,\u001b[49m\n\u001b[1;32m   1737\u001b[0m \u001b[43m    \u001b[49m\u001b[43mmode\u001b[49m\u001b[43m,\u001b[49m\n\u001b[1;32m   1738\u001b[0m \u001b[43m    \u001b[49m\u001b[43mencoding\u001b[49m\u001b[38;5;241;43m=\u001b[39;49m\u001b[38;5;28;43mself\u001b[39;49m\u001b[38;5;241;43m.\u001b[39;49m\u001b[43moptions\u001b[49m\u001b[38;5;241;43m.\u001b[39;49m\u001b[43mget\u001b[49m\u001b[43m(\u001b[49m\u001b[38;5;124;43m\"\u001b[39;49m\u001b[38;5;124;43mencoding\u001b[39;49m\u001b[38;5;124;43m\"\u001b[39;49m\u001b[43m,\u001b[49m\u001b[43m \u001b[49m\u001b[38;5;28;43;01mNone\u001b[39;49;00m\u001b[43m)\u001b[49m\u001b[43m,\u001b[49m\n\u001b[1;32m   1739\u001b[0m \u001b[43m    \u001b[49m\u001b[43mcompression\u001b[49m\u001b[38;5;241;43m=\u001b[39;49m\u001b[38;5;28;43mself\u001b[39;49m\u001b[38;5;241;43m.\u001b[39;49m\u001b[43moptions\u001b[49m\u001b[38;5;241;43m.\u001b[39;49m\u001b[43mget\u001b[49m\u001b[43m(\u001b[49m\u001b[38;5;124;43m\"\u001b[39;49m\u001b[38;5;124;43mcompression\u001b[39;49m\u001b[38;5;124;43m\"\u001b[39;49m\u001b[43m,\u001b[49m\u001b[43m \u001b[49m\u001b[38;5;28;43;01mNone\u001b[39;49;00m\u001b[43m)\u001b[49m\u001b[43m,\u001b[49m\n\u001b[1;32m   1740\u001b[0m \u001b[43m    \u001b[49m\u001b[43mmemory_map\u001b[49m\u001b[38;5;241;43m=\u001b[39;49m\u001b[38;5;28;43mself\u001b[39;49m\u001b[38;5;241;43m.\u001b[39;49m\u001b[43moptions\u001b[49m\u001b[38;5;241;43m.\u001b[39;49m\u001b[43mget\u001b[49m\u001b[43m(\u001b[49m\u001b[38;5;124;43m\"\u001b[39;49m\u001b[38;5;124;43mmemory_map\u001b[39;49m\u001b[38;5;124;43m\"\u001b[39;49m\u001b[43m,\u001b[49m\u001b[43m \u001b[49m\u001b[38;5;28;43;01mFalse\u001b[39;49;00m\u001b[43m)\u001b[49m\u001b[43m,\u001b[49m\n\u001b[1;32m   1741\u001b[0m \u001b[43m    \u001b[49m\u001b[43mis_text\u001b[49m\u001b[38;5;241;43m=\u001b[39;49m\u001b[43mis_text\u001b[49m\u001b[43m,\u001b[49m\n\u001b[1;32m   1742\u001b[0m \u001b[43m    \u001b[49m\u001b[43merrors\u001b[49m\u001b[38;5;241;43m=\u001b[39;49m\u001b[38;5;28;43mself\u001b[39;49m\u001b[38;5;241;43m.\u001b[39;49m\u001b[43moptions\u001b[49m\u001b[38;5;241;43m.\u001b[39;49m\u001b[43mget\u001b[49m\u001b[43m(\u001b[49m\u001b[38;5;124;43m\"\u001b[39;49m\u001b[38;5;124;43mencoding_errors\u001b[39;49m\u001b[38;5;124;43m\"\u001b[39;49m\u001b[43m,\u001b[49m\u001b[43m \u001b[49m\u001b[38;5;124;43m\"\u001b[39;49m\u001b[38;5;124;43mstrict\u001b[39;49m\u001b[38;5;124;43m\"\u001b[39;49m\u001b[43m)\u001b[49m\u001b[43m,\u001b[49m\n\u001b[1;32m   1743\u001b[0m \u001b[43m    \u001b[49m\u001b[43mstorage_options\u001b[49m\u001b[38;5;241;43m=\u001b[39;49m\u001b[38;5;28;43mself\u001b[39;49m\u001b[38;5;241;43m.\u001b[39;49m\u001b[43moptions\u001b[49m\u001b[38;5;241;43m.\u001b[39;49m\u001b[43mget\u001b[49m\u001b[43m(\u001b[49m\u001b[38;5;124;43m\"\u001b[39;49m\u001b[38;5;124;43mstorage_options\u001b[39;49m\u001b[38;5;124;43m\"\u001b[39;49m\u001b[43m,\u001b[49m\u001b[43m \u001b[49m\u001b[38;5;28;43;01mNone\u001b[39;49;00m\u001b[43m)\u001b[49m\u001b[43m,\u001b[49m\n\u001b[1;32m   1744\u001b[0m \u001b[43m\u001b[49m\u001b[43m)\u001b[49m\n\u001b[1;32m   1745\u001b[0m \u001b[38;5;28;01massert\u001b[39;00m \u001b[38;5;28mself\u001b[39m\u001b[38;5;241m.\u001b[39mhandles \u001b[38;5;129;01mis\u001b[39;00m \u001b[38;5;129;01mnot\u001b[39;00m \u001b[38;5;28;01mNone\u001b[39;00m\n\u001b[1;32m   1746\u001b[0m f \u001b[38;5;241m=\u001b[39m \u001b[38;5;28mself\u001b[39m\u001b[38;5;241m.\u001b[39mhandles\u001b[38;5;241m.\u001b[39mhandle\n",
      "File \u001b[0;32m/usr/lib/python3/dist-packages/pandas/io/common.py:856\u001b[0m, in \u001b[0;36mget_handle\u001b[0;34m(path_or_buf, mode, encoding, compression, memory_map, is_text, errors, storage_options)\u001b[0m\n\u001b[1;32m    851\u001b[0m \u001b[38;5;28;01melif\u001b[39;00m \u001b[38;5;28misinstance\u001b[39m(handle, \u001b[38;5;28mstr\u001b[39m):\n\u001b[1;32m    852\u001b[0m     \u001b[38;5;66;03m# Check whether the filename is to be opened in binary mode.\u001b[39;00m\n\u001b[1;32m    853\u001b[0m     \u001b[38;5;66;03m# Binary mode does not support 'encoding' and 'newline'.\u001b[39;00m\n\u001b[1;32m    854\u001b[0m     \u001b[38;5;28;01mif\u001b[39;00m ioargs\u001b[38;5;241m.\u001b[39mencoding \u001b[38;5;129;01mand\u001b[39;00m \u001b[38;5;124m\"\u001b[39m\u001b[38;5;124mb\u001b[39m\u001b[38;5;124m\"\u001b[39m \u001b[38;5;129;01mnot\u001b[39;00m \u001b[38;5;129;01min\u001b[39;00m ioargs\u001b[38;5;241m.\u001b[39mmode:\n\u001b[1;32m    855\u001b[0m         \u001b[38;5;66;03m# Encoding\u001b[39;00m\n\u001b[0;32m--> 856\u001b[0m         handle \u001b[38;5;241m=\u001b[39m \u001b[38;5;28;43mopen\u001b[39;49m\u001b[43m(\u001b[49m\n\u001b[1;32m    857\u001b[0m \u001b[43m            \u001b[49m\u001b[43mhandle\u001b[49m\u001b[43m,\u001b[49m\n\u001b[1;32m    858\u001b[0m \u001b[43m            \u001b[49m\u001b[43mioargs\u001b[49m\u001b[38;5;241;43m.\u001b[39;49m\u001b[43mmode\u001b[49m\u001b[43m,\u001b[49m\n\u001b[1;32m    859\u001b[0m \u001b[43m            \u001b[49m\u001b[43mencoding\u001b[49m\u001b[38;5;241;43m=\u001b[39;49m\u001b[43mioargs\u001b[49m\u001b[38;5;241;43m.\u001b[39;49m\u001b[43mencoding\u001b[49m\u001b[43m,\u001b[49m\n\u001b[1;32m    860\u001b[0m \u001b[43m            \u001b[49m\u001b[43merrors\u001b[49m\u001b[38;5;241;43m=\u001b[39;49m\u001b[43merrors\u001b[49m\u001b[43m,\u001b[49m\n\u001b[1;32m    861\u001b[0m \u001b[43m            \u001b[49m\u001b[43mnewline\u001b[49m\u001b[38;5;241;43m=\u001b[39;49m\u001b[38;5;124;43m\"\u001b[39;49m\u001b[38;5;124;43m\"\u001b[39;49m\u001b[43m,\u001b[49m\n\u001b[1;32m    862\u001b[0m \u001b[43m        \u001b[49m\u001b[43m)\u001b[49m\n\u001b[1;32m    863\u001b[0m     \u001b[38;5;28;01melse\u001b[39;00m:\n\u001b[1;32m    864\u001b[0m         \u001b[38;5;66;03m# Binary mode\u001b[39;00m\n\u001b[1;32m    865\u001b[0m         handle \u001b[38;5;241m=\u001b[39m \u001b[38;5;28mopen\u001b[39m(handle, ioargs\u001b[38;5;241m.\u001b[39mmode)\n",
      "\u001b[0;31mFileNotFoundError\u001b[0m: [Errno 2] No such file or directory: 'onlist_joined.txt'"
     ]
    }
   ],
   "source": [
    "if joined_name is not None:\n",
    "    joined = pandas.read_csv(\"onlist_joined.txt\", header=None, sep=\" \")\n",
    "    print(\"length = \", joined.shape[0])\n",
    "    print(joined)"
   ]
  },
  {
   "cell_type": "code",
   "execution_count": null,
   "id": "eleven-account",
   "metadata": {},
   "outputs": [],
   "source": [
    "assert numpy.all(joined.loc[0].values == [\"AACGTGAT\", \"AACGTGAT\", \"CATTCCTA\"])"
   ]
  },
  {
   "cell_type": "code",
   "execution_count": null,
   "id": "premier-guest",
   "metadata": {},
   "outputs": [],
   "source": [
    "!rm onlist_joined.txt"
   ]
  },
  {
   "cell_type": "code",
   "execution_count": null,
   "id": "third-murray",
   "metadata": {},
   "outputs": [],
   "source": []
  }
 ],
 "metadata": {
  "kernelspec": {
   "display_name": "Python 3 (ipykernel)",
   "language": "python",
   "name": "python3"
  },
  "language_info": {
   "codemirror_mode": {
    "name": "ipython",
    "version": 3
   },
   "file_extension": ".py",
   "mimetype": "text/x-python",
   "name": "python",
   "nbconvert_exporter": "python",
   "pygments_lexer": "ipython3",
   "version": "3.11.2"
  }
 },
 "nbformat": 4,
 "nbformat_minor": 5
}
