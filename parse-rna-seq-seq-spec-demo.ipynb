{
 "cells": [
  {
   "cell_type": "markdown",
   "id": "expected-boutique",
   "metadata": {},
   "source": [
    "# Introduction\n",
    "\n",
    "This is a simplification of my figuring out how to submit seqspec files to the IGVF DACC.\n",
    "\n",
    "- [Python environment](#Setup)\n",
    "- [Seqspec template function](#Template)\n",
    "- [Working out steps needed to create seqspec objects](#Working-out-steps-needed-to-create-seqspec-objects)\n",
    "- [Exploring boto3](#Exploring-boto3)\n",
    "- [Seqspec submission functions](#Seqspec-Submission-functions)\n",
    "- [Create seqspec objects for remaining fastqs](#Create-seqspec-objects-for-remaining-fastqs)"
   ]
  },
  {
   "cell_type": "markdown",
   "id": "systematic-binary",
   "metadata": {},
   "source": [
    "# Setup\n",
    "\n",
    "First we start with general imports"
   ]
  },
  {
   "cell_type": "code",
   "execution_count": 1,
   "id": "irish-queue",
   "metadata": {},
   "outputs": [],
   "source": [
    "import hashlib\n",
    "import requests\n",
    "from pathlib import Path\n",
    "from io import StringIO, BytesIO\n",
    "import sys\n",
    "import json\n",
    "from jsonschema import Draft4Validator\n",
    "import logging\n",
    "import pandas\n",
    "import os\n",
    "import sys\n",
    "from urllib.parse import urlparse\n",
    "import yaml"
   ]
  },
  {
   "cell_type": "code",
   "execution_count": 2,
   "id": "least-senate",
   "metadata": {},
   "outputs": [],
   "source": [
    "try:\n",
    "    import boto3\n",
    "except ImportError:\n",
    "    !{sys.executable} -m pip install --user boto3\n",
    "    import boto3\n",
    "    \n",
    "from botocore.exceptions import ClientError\n",
    "    "
   ]
  },
  {
   "cell_type": "code",
   "execution_count": 3,
   "id": "double-break",
   "metadata": {},
   "outputs": [],
   "source": [
    "try:\n",
    "    from jinja2 import Environment\n",
    "except ImportError:\n",
    "    !{sys.executable} -m pip install --user jinja2\n",
    "    from jinja2 import Environment\n",
    "\n",
    "from jinja2 import FileSystemLoader, select_autoescape, Undefined, StrictUndefined, make_logging_undefined\n",
    "\n",
    "\n",
    "\n",
    "logger = logging.getLogger(__name__)\n",
    "LoggingUndefined = make_logging_undefined(\n",
    "    logger=logger,\n",
    "    base=Undefined\n",
    ")\n",
    "\n",
    "env = Environment(\n",
    "    loader=FileSystemLoader(\"templates\"),\n",
    "    autoescape=select_autoescape(),\n",
    "    undefined=LoggingUndefined,\n",
    ")"
   ]
  },
  {
   "cell_type": "markdown",
   "id": "bibliographic-jonathan",
   "metadata": {},
   "source": [
    "I want to be able to use the seqspec validator while I was writing my seqspec file.\n",
    "\n",
    "I have the repository checked out into ~/proj/seqspec. This block should either import it for me, or install it if someone elese runs it."
   ]
  },
  {
   "cell_type": "code",
   "execution_count": 4,
   "id": "fleet-pillow",
   "metadata": {},
   "outputs": [],
   "source": [
    "try:\n",
    "    import seqspec\n",
    "except ImportError:\n",
    "    seqspec_root = Path(\"~/proj/seqspec\").expanduser()\n",
    "    if seqspec_root.exists() and str(seqspec_root) not in sys.path:\n",
    "        sys.path.append(str(seqspec_root))\n",
    "    else:\n",
    "        !{sys.executable} -m pip install --user seqspec\n",
    "    import seqspec"
   ]
  },
  {
   "cell_type": "markdown",
   "id": "usual-census",
   "metadata": {},
   "source": [
    "Import pieces of seqspec that we need for this notebook."
   ]
  },
  {
   "cell_type": "code",
   "execution_count": 5,
   "id": "entire-faculty",
   "metadata": {},
   "outputs": [],
   "source": [
    "from seqspec.Assay import Assay\n",
    "from seqspec.Region import Region\n",
    "from seqspec.Region import Onlist\n",
    "from seqspec.utils import load_spec_stream\n",
    "from seqspec.seqspec_index import run_index, get_index\n",
    "from seqspec.seqspec_print import run_print_tree, run_print_png\n",
    "from seqspec.seqspec_onlist import run_list_onlists, run_onlist, run_find_by_type"
   ]
  },
  {
   "cell_type": "markdown",
   "id": "sharp-quick",
   "metadata": {},
   "source": [
    "I have my own API for interacting with the IGVF database server (which is very much like the old ENCODE database server)"
   ]
  },
  {
   "cell_type": "code",
   "execution_count": 6,
   "id": "vocal-nutrition",
   "metadata": {},
   "outputs": [],
   "source": [
    "try:\n",
    "    from encoded_client import encoded\n",
    "except ImportError:\n",
    "    encoded_root = Path(\"~/proj/encoded_client\").expanduser()\n",
    "    if encoded_root.exists() and str(encoded_root) not in sys.path:\n",
    "        sys.path.append(str(encoded_root))\n",
    "    else:\n",
    "        !{sys.executable} -m pip install --user encoded_client\n",
    "        \n",
    "    from encoded_client import encoded"
   ]
  },
  {
   "cell_type": "markdown",
   "id": "increasing-entity",
   "metadata": {},
   "source": [
    "encoded_client will pull submitter credentials from either DCC_API_KEY and DCC_SECRET_KEY or from a .netrc file loaded from your home directory. (replacing the {DCC_API_KEY} and {DCC_SECRET_KEY} strings with your specific values.)\n",
    "\n",
    "The format of a .netrc file is a plain text file with records of the format:\n",
    "\n",
    "<pre>machine api.sandbox.igvf.org login {DCC_API_KEY} password {DCC_SECRET_KEY}</pre>\n",
    "\n",
    "Or api.data.igvf.org\n",
    "\n",
    "(it's also possible to list the fields on separate lines, but I think it's easier to read when they're on one line)\n",
    "\n",
    "or after creating the server object call:\n",
    "\n",
    "<pre>server.username = \"{DCC_API_KEY}\"\n",
    "server.password = \"{DCC_SECRET_KEY}\"</pre>\n",
    "\n"
   ]
  },
  {
   "cell_type": "markdown",
   "id": "valuable-meditation",
   "metadata": {},
   "source": [
    "## submission variables"
   ]
  },
  {
   "cell_type": "code",
   "execution_count": 7,
   "id": "alleged-hebrew",
   "metadata": {},
   "outputs": [],
   "source": [
    "server_name = \"api.sandbox.igvf.org\"\n",
    "award = \"/awards/HG012077/\"\n",
    "lab = \"/labs/ali-mortazavi/\"\n"
   ]
  },
  {
   "cell_type": "code",
   "execution_count": null,
   "id": "usual-greenhouse",
   "metadata": {},
   "outputs": [],
   "source": []
  },
  {
   "cell_type": "code",
   "execution_count": 8,
   "id": "human-coordinate",
   "metadata": {},
   "outputs": [],
   "source": [
    "server = encoded.ENCODED(server_name)\n",
    "igvf_validator = encoded.DCCValidator(server)"
   ]
  },
  {
   "cell_type": "code",
   "execution_count": 9,
   "id": "nearby-canon",
   "metadata": {},
   "outputs": [],
   "source": [
    "def seqspec_validate(schema, spec):\n",
    "    \"\"\"Validate a yaml object against a json schema\n",
    "    \"\"\"\n",
    "    validator = Draft4Validator(schema)\n",
    "\n",
    "    for idx, error in enumerate(validator.iter_errors(spec), 1):\n",
    "        print(f\"[{idx}] {error.message}\")"
   ]
  },
  {
   "cell_type": "code",
   "execution_count": 10,
   "id": "minor-harmony",
   "metadata": {},
   "outputs": [],
   "source": [
    "schema_path = seqspec_root / \"seqspec\"/ \"schema\" / \"seqspec.schema.json\"\n",
    "\n",
    "with open(schema_path, \"rt\") as instream:\n",
    "    seqspec_schema = json.load(instream)"
   ]
  },
  {
   "cell_type": "code",
   "execution_count": 11,
   "id": "regional-remedy",
   "metadata": {},
   "outputs": [],
   "source": [
    "def load_spec(filename):\n",
    "    with open(filename, \"rt\") as instream:\n",
    "        data = yaml.load(instream, Loader=yaml.Loader)\n",
    "        for r in data.assay_spec:\n",
    "            r.set_parent_id(None)\n",
    "    return data"
   ]
  },
  {
   "cell_type": "markdown",
   "id": "allied-cargo",
   "metadata": {},
   "source": [
    "# Template"
   ]
  },
  {
   "cell_type": "markdown",
   "id": "processed-values",
   "metadata": {},
   "source": [
    "First build up lists of barcodes onlists needed for this protocol the names will be passed to the template."
   ]
  },
  {
   "cell_type": "code",
   "execution_count": 12,
   "id": "pointed-worcester",
   "metadata": {},
   "outputs": [],
   "source": [
    "barcode_sets = {\n",
    "    \"parse-wt-v2\": {\n",
    "        # onlist1_n96_v4\n",
    "        #\"barcode_1_url\": \"https://data.igvf.org/tabular-files/IGVFFI0924TKJO/@@download/IGVFFI0924TKJO.txt.gz\",\n",
    "        \"barcode_1_url\": \"https://woldlab.caltech.edu/~diane/parse_barcodes/bc1_n96_v4.txt.gz\",\n",
    "        \"barcode_1_location\": \"remote\",\n",
    "        \"barcode_1_md5\": \"6d5016e63f121b6a64fb3907dd83f358\",\n",
    "        #\"barcode_2_url\": \"https://data.igvf.org/tabular-files/IGVFFI1138MCVX/@@download/IGVFFI1138MCVX.txt.gz\",\n",
    "        \"barcode_2_url\": \"https://woldlab.caltech.edu/~diane/parse_barcodes/bc2_v1_bc_v3.txt.gz\",\n",
    "        \"barcode_1_location\": \"remote\",\n",
    "        \"barcode_2_md5\": \"1452e8ef104e6edf686fab8956172072\",\n",
    "        #\"barcode_3_url\": \"https://data.igvf.org/tabular-files/IGVFFI1138MCVX/@@download/IGVFFI1138MCVX.txt.gz\",\n",
    "        \"barcode_3_url\": \"https://woldlab.caltech.edu/~diane/parse_barcodes/bc2_v1_bc_v3.txt.gz\",\n",
    "        \"barcode_1_location\": \"remote\",\n",
    "        \"barcode_3_md5\": \"1452e8ef104e6edf686fab8956172072\",\n",
    "    },\n",
    "    \"parse-wt-mega-v2\": {\n",
    "        # need to add barcode urls\n",
    "        #onlist1_n192_v4\n",
    "        #\"barcode_1_url\": \"https://data.igvf.org/tabular-files/IGVFFI2591OFQO/@@download/IGVFFI2591OFQO.txt.gz\",\n",
    "        #\"barcode_1_url\": \"https://woldlab.caltech.edu/~diane/parse_barcodes/bc1_n192_v4.txt.gz\",\n",
    "        \"barcode_1_url\": \"CB1.txt\",\n",
    "        \"barcode_1_location\": \"local\",\n",
    "        \"barcode_1_md5\": \"5c3b70034e9cef5de735dc9d4f3fdbde\",\n",
    "        #\"barcode_2_url\": \"https://data.igvf.org/tabular-files/IGVFFI1138MCVX/@@download/IGVFFI1138MCVX.txt.gz\",\n",
    "        #\"barcode_2_url\": \"https://woldlab.caltech.edu/~diane/parse_barcodes/bc2_v1_bc_v3.txt.gz\",\n",
    "        \"barcode_2_url\": \"CB23.txt\",\n",
    "        \"barcode_2_location\": \"local\",\n",
    "        \"barcode_2_md5\": \"1452e8ef104e6edf686fab8956172072\",\n",
    "        #\"barcode_3_url\": \"https://data.igvf.org/tabular-files/IGVFFI1138MCVX/@@download/IGVFFI1138MCVX.txt.gz\",\n",
    "        #\"barcode_3_url\": \"https://woldlab.caltech.edu/~diane/parse_barcodes/bc2_v1_bc_v3.txt.gz\",\n",
    "        \"barcode_3_url\": \"CB23.txt\",\n",
    "        \"barcode_3_location\": \"local\",\n",
    "        \"barcode_3_md5\": \"1452e8ef104e6edf686fab8956172072\",\n",
    "    }\n",
    "}\n",
    "\n",
    "library_kits = {\n",
    "    \"parse-wt-v2\": {\n",
    "        \"single\": {\n",
    "            \"library_protocol\": \"Evercode WT single index v2\",\n",
    "            \"library_kit\": \"Evercode WT v2.0.1 single index\",\n",
    "        },\n",
    "        \"dual\": {\n",
    "            \"library_protocol\": \"Evercode WT single index v2\",\n",
    "            \"library_kit\": \"Evercode WT v2.0.1 single index\",\n",
    "        },\n",
    "    },\n",
    "    \"parse-wt-mega-v2\": {\n",
    "        \"single\": {\n",
    "            \"library_protocol\": \"Evercode mega WT dual index v2\",\n",
    "            \"library_kit\": \"Evercode WT Mega v2.0.1 dual index\",\n",
    "        },\n",
    "        \"dual\": {\n",
    "            \"library_protocol\": \"Evercode mega WT dual index v2\",\n",
    "            \"library_kit\": \"Evercode WT Mega v2.0.1 dual index\",\n",
    "        }\n",
    "    }\n",
    "}\n",
    "\n",
    "sequencing_platform = {\n",
    "    # Illumina novaseq 6000\n",
    "    \"/platform-terms/EFO_0008637/\": {\n",
    "        \"sequence_protocol\": \"Illumina NovaSeq 6000\",\n",
    "        \"sequence_kit\": \"https://www.illumina.com/products/by-type/sequencing-kits/cluster-gen-sequencing-reagents/novaseq-reagent-kits.html\",        \n",
    "    },\n",
    "    # Illumina NextSeq 2000\n",
    "    \"/platform-terms/EFO_0010963/\": {\n",
    "        \"sequence_protocol\": \"Illumina NextSeq 2000\",\n",
    "        \"sequence_kit\": \"https://www.illumina.com/products/by-type/sequencing-kits/cluster-gen-sequencing-reagents/nextseq-1000-2000-reagents.html\",\n",
    "    }\n",
    "}"
   ]
  },
  {
   "cell_type": "markdown",
   "id": "handled-nickname",
   "metadata": {},
   "source": [
    "Define the the file information needed to define this seqspec."
   ]
  },
  {
   "cell_type": "code",
   "execution_count": 13,
   "id": "behavioral-dressing",
   "metadata": {
    "scrolled": false
   },
   "outputs": [
    {
     "name": "stdout",
     "output_type": "stream",
     "text": [
      "!Assay\n",
      "seqspec_version: 0.0.0\n",
      "assay: WT-Mega-v2\n",
      "sequencer: Illumina\n",
      "doi: \"\"\n",
      "publication_date: \"\"\n",
      "name: WT Mega v2\n",
      "description: split-pool ligation-based transcriptome sequencing\n",
      "modalities:\n",
      "- rna\n",
      "lib_struct: \"\"\n",
      "assay_spec:\n",
      "- !Region\n",
      "  region_id: rna\n",
      "  region_type: named\n",
      "  name: rna\n",
      "  sequence_type: joined\n",
      "  sequence: AATGATACGGCGACCACCGAGATCTACACTCTTTCCCTACACGACGCTCTTCCGATCTXNNNNNNNNGTGGCCGATGTTTCGCATCGGCGTACGACTNNNNNNNNATCCACGTGCTTGAGACTGTGGNNNNNNNNNNNNNNNNNNAGATCGGAAGAGCACACGTCTGAACTCCAGTCACNNNNNNNNATCTCGTATGCCGTCTTCTGCTTG\n",
      "  min_len: 342 \n",
      "  max_len: 342\n",
      "  onlist: null\n",
      "  parent_id: null\n",
      "  regions:\n",
      "  - !Region\n",
      "    region_id: illumina_p5\n",
      "    region_type: illumina_p5\n",
      "    name: Illumina P5\n",
      "    sequence_type: fixed\n",
      "    sequence: AATGATACGGCGACCACCGAGATCTACAC\n",
      "    min_len: 29\n",
      "    max_len: 29\n",
      "    onlist: null\n",
      "    regions: null\n",
      "    parent_id: rna  \n",
      "  - !Region\n",
      "    region_id: truseq_read1\n",
      "    region_type: truseq_read1\n",
      "    name: Truseq Read 1\n",
      "    sequence_type: fixed\n",
      "    sequence: TCTTTCCCTACACGACGCTCTTCCGATCT\n",
      "    min_len: 29\n",
      "    max_len: 29\n",
      "    onlist: null\n",
      "    regions: null\n",
      "    parent_id: rna\n",
      "  - !Region\n",
      "    region_id: B01_13A_R1.fastq.gz\n",
      "    region_type: fastq\n",
      "    name: Read 1 sequence Fastq\n",
      "    sequence_type: random\n",
      "    sequence: X\n",
      "    min_len: 140\n",
      "    max_len: 140\n",
      "    onlist: null\n",
      "    fastq_link: igvf_b01/next1/B01_13A_R1.fastq.gz\n",
      "    parent_id: rna\n",
      "    regions:\n",
      "    - !Region\n",
      "      region_id: cDNA\n",
      "      region_type: cdna\n",
      "      name: cDNA\n",
      "      sequence_type: random\n",
      "      sequence: X\n",
      "      min_len: 140\n",
      "      max_len: 140\n",
      "      onlist: null\n",
      "      regions: null\n",
      "      parent_id: B01_13A_R1.fastq.gz\n",
      "# The order of the elements in the read2 fastq is backwards compared\n",
      "# to the order of the full library construct.\n",
      "# The 0th base of read2 is from the right most side of the construct\n",
      "# and is counting down toward the read 1.\n",
      "  - !Region\n",
      "    region_id: B01_13A_R2.fastq.gz\n",
      "    region_type: fastq\n",
      "    name: Read 2 umi and barcode FASTQ\n",
      "    sequence_type: joined\n",
      "    sequence: NNNNNNNNNNNNNNNNNNGTGGCCGATGTTTCGCATCGGCGTACGACTNNNNNNNNATCCACGTGCTTGAGACTGTGGNNNNNNNN\n",
      "    min_len: 86\n",
      "    max_len: 86\n",
      "    onlist: null\n",
      "    fastq_link: igvf_b01/next1/B01_13A_R2.fastq.gz\n",
      "    regions:\n",
      "    - !Region\n",
      "      region_id: umi\n",
      "      region_type: umi\n",
      "      name: umi\n",
      "      sequence_type: random\n",
      "      sequence: NNNNNNNNNN\n",
      "      min_len: 10\n",
      "      max_len: 10\n",
      "      onlist: null\n",
      "      regions: null\n",
      "      parent_id: B01_13A_R2.fastq.gz\n",
      "    - !Region\n",
      "      region_id: barcode-3\n",
      "      region_type: barcode\n",
      "      name: barcode-3\n",
      "      sequence_type: onlist\n",
      "      sequence: NNNNNNNN\n",
      "      min_len: 8\n",
      "      max_len: 8\n",
      "      onlist: !Onlist\n",
      "        location: local\n",
      "        filename: CB23.txt\n",
      "        md5: 1452e8ef104e6edf686fab8956172072\n",
      "      regions: null\n",
      "      parent_id: B01_13A_R2.fastq.gz\n",
      "    - !Region\n",
      "      region_id: linker-1\n",
      "      region_type: linker\n",
      "      name: linker-1\n",
      "      sequence_type: fixed\n",
      "      sequence: GTGGCCGATGTTTCGCATCGGCGTACGACT\n",
      "      min_len: 30\n",
      "      max_len: 30\n",
      "      onlist: null\n",
      "      regions: null\n",
      "      parent_id: B01_13A_R2.fastq.gz\n",
      "    - !Region\n",
      "      region_id: barcode-2\n",
      "      region_type: barcode\n",
      "      name: barcode-2\n",
      "      sequence_type: onlist\n",
      "      sequence: NNNNNNNN\n",
      "      min_len: 8\n",
      "      max_len: 8\n",
      "      onlist: !Onlist\n",
      "        location: local\n",
      "        filename: CB23.txt\n",
      "        md5: 1452e8ef104e6edf686fab8956172072\n",
      "      regions: null\n",
      "      parent_id: B01_13A_R2.fastq.gz\n",
      "    - !Region\n",
      "      region_id: linker-3\n",
      "      region_type: linker\n",
      "      name: linker-3\n",
      "      sequence_type: fixed\n",
      "      sequence: ATCCACGTGCTTGAGACTGTGG\n",
      "      min_len: 22\n",
      "      max_len: 22\n",
      "      onlist: null\n",
      "      regions: null\n",
      "      parent_id: B01_13A_R2.fastq.gz\n",
      "    - !Region\n",
      "      region_id: barcode-1\n",
      "      region_type: barcode\n",
      "      name: barcode-1\n",
      "      sequence_type: onlist\n",
      "      sequence: NNNNNNNN\n",
      "      min_len: 8\n",
      "      max_len: 8\n",
      "      onlist: !Onlist\n",
      "        location: local\n",
      "        filename: CB1.txt\n",
      "        md5: 5c3b70034e9cef5de735dc9d4f3fdbde\n",
      "      regions: null\n",
      "      parent_id: B01_13A_R2\n",
      "  - !Region\n",
      "    region_id: truseq_read2\n",
      "    region_type: truseq_read2\n",
      "    name: Truseq Read 2\n",
      "    sequence_type: fixed\n",
      "    sequence: AGATCGGAAGAGCACACGTCTGAACTCCAGTCAC\n",
      "    min_len: 34\n",
      "    max_len: 34\n",
      "    onlist: null\n",
      "    regions: null\n",
      "    parent_id: rna\n",
      "  # Illumina single end read index\n",
      "  - !Region\n",
      "    region_id: index7\n",
      "    region_type: index7\n",
      "    name: Illumina barcode BC4\n",
      "    sequence_type: onlist\n",
      "    sequence: NNNNNNNN\n",
      "    min_len: 8\n",
      "    max_len: 8\n",
      "    # Leaving the onlist out of the seqspec since it's not available.\n",
      "    onlist: null\n",
      "    regions: null\n",
      "    parent_id: rna\n",
      "  - !Region\n",
      "    region_id: illumina_p7\n",
      "    region_type: illumina_p7\n",
      "    name: Illumina P7\n",
      "    sequence_type: fixed\n",
      "    sequence: ATCTCGTATGCCGTCTTCTGCTTG\n",
      "    min_len: 24\n",
      "    max_len: 24\n",
      "    onlist: null\n",
      "    regions: null\n",
      "    parent_id: rna\n"
     ]
    }
   ],
   "source": [
    "p5_length = 29\n",
    "truseq_read1_length = 29\n",
    "read1_min_length = 140\n",
    "read2_min_length = 86\n",
    "truseq_read2_length = 34\n",
    "i7_length = 8\n",
    "p7_length = 24\n",
    "total_min_length = p5_length + truseq_read1_length + read1_min_length + read2_min_length + truseq_read2_length + p7_length\n",
    "context = {\n",
    "    # attributes to use \n",
    "    # accession\n",
    "    # s3_uri\n",
    "    # minimum_read_length\n",
    "    # maximum_read_length\n",
    "    #\"read1_accession\": \"TSTFI76281026\",\n",
    "    #\"read1_url\": server.prepare_url(\"/sequence-files/TSTFI76281026/@@download/TSTFI76281026.fastq.gz\"),\n",
    "    \"read1_accession\": \"B01_13A_R1\",\n",
    "    \"read1_url\": \"igvf_b01/next1/B01_13A_R1.fastq.gz\",\n",
    "    \"read1_min_length\": read1_min_length,\n",
    "    \"read1_max_length\": read1_min_length,\n",
    "\n",
    "    #\"read2_accession\": \"TSTFI85921201\",\n",
    "    #\"read2_url\": server.prepare_url(\"/sequence-files/TSTFI85921201/@@download/TSTFI85921201.fastq.gz\"),\n",
    "    \"read2_accession\": \"B01_13A_R2\",\n",
    "    \"read2_url\": \"igvf_b01/next1/B01_13A_R2.fastq.gz\",\n",
    "    \"read2_min_length\": read2_min_length,\n",
    "    \"read2_max_length\": read2_min_length,\n",
    "    \n",
    "    \"total_min_length\": total_min_length,\n",
    "    \"total_max_length\": total_min_length,\n",
    "}\n",
    "\n",
    "# Merge in the barcode information\n",
    "context.update(barcode_sets[\"parse-wt-mega-v2\"])\n",
    "\n",
    "# Merge in the library information\n",
    "context.update(library_kits[\"parse-wt-mega-v2\"][\"single\"])\n",
    "\n",
    "# Merge in sequencer information\n",
    "# nextseq\n",
    "context.update(sequencing_platform[\"/platform-terms/EFO_0010963/\"])\n",
    "\n",
    "# load the template and instantiate it with the context for this specific measurement set.\n",
    "# this version needs the libspec branch that separates the sequence and library specifications\n",
    "# parse_wt_mega_v2 = env.get_template(\"parse-wt-mega-v2-single-index-libspec-1.yaml.j2\")\n",
    "\n",
    "# this version needs the original version that merges the sequence and library specification concepts\n",
    "parse_wt_mega_v2 = env.get_template(\"parse-wt-mega-v2-single-index-seqspec-0.yaml.j2\")\n",
    "\n",
    "example_yaml = parse_wt_mega_v2.render(context)\n",
    "\n",
    "# validate the generated seqspec file.\n",
    "example_spec = load_spec_stream(StringIO(example_yaml))\n",
    "seqspec_validate(seqspec_schema, example_spec.to_dict())\n",
    "\n",
    "# Print the example for evaluation.\n",
    "print(example_yaml)"
   ]
  },
  {
   "cell_type": "code",
   "execution_count": null,
   "id": "cognitive-admission",
   "metadata": {},
   "outputs": [],
   "source": []
  },
  {
   "cell_type": "code",
   "execution_count": 14,
   "id": "perceived-nature",
   "metadata": {},
   "outputs": [
    {
     "data": {
      "text/plain": [
       "'1,10,18,1,48,56,1,78,86:1,0,10:0,0,140'"
      ]
     },
     "execution_count": 14,
     "metadata": {},
     "output_type": "execute_result"
    }
   ],
   "source": [
    "run_index(example_spec, \"rna\", [\"B01_13A_R1.fastq.gz\", \"B01_13A_R2.fastq.gz\"], fmt=\"kb\")"
   ]
  },
  {
   "cell_type": "code",
   "execution_count": 15,
   "id": "centered-bookmark",
   "metadata": {},
   "outputs": [
    {
     "name": "stdout",
     "output_type": "stream",
     "text": [
      "                                            ┌─'illumina_p5:29'\n",
      "                                            ├─'truseq_read1:29'\n",
      "                                            ├─B01_13A_R1.fastq.gz ──'cDNA:140'\n",
      "                                            │                     ┌─'umi:10'\n",
      "                                            │                     ├─'barcode-3:8'\n",
      "                                            │                     ├─'linker-1:30'\n",
      "───────────────────── ──rna─────────────────┼─B01_13A_R2.fastq.gz─┤\n",
      "                                            │                     ├─'barcode-2:8'\n",
      "                                            │                     ├─'linker-3:22'\n",
      "                                            │                     └─'barcode-1:8'\n",
      "                                            ├─'truseq_read2:34'\n",
      "                                            ├─'index7:8'\n",
      "                                            └─'illumina_p7:24'\n"
     ]
    }
   ],
   "source": [
    "print(run_print_tree(example_spec))"
   ]
  },
  {
   "cell_type": "code",
   "execution_count": 16,
   "id": "parental-potato",
   "metadata": {},
   "outputs": [
    {
     "name": "stderr",
     "output_type": "stream",
     "text": [
      "/usr/lib/python3/dist-packages/IPython/core/pylabtools.py:132: UserWarning: constrained_layout not applied.  At least one axes collapsed to zero width or height.\n",
      "  fig.canvas.print_figure(bytes_io, **kw)\n"
     ]
    },
    {
     "data": {
      "image/png": "[encoded data removed]",
      "text/plain": [
       "<Figure size 720x72 with 1 Axes>"
      ]
     },
     "execution_count": 16,
     "metadata": {},
     "output_type": "execute_result"
    },
    {
     "data": {
      "image/png": "[encoded data removed]",
      "text/plain": [
       "<Figure size 720x72 with 1 Axes>"
      ]
     },
     "metadata": {
      "needs_background": "light"
     },
     "output_type": "display_data"
    }
   ],
   "source": [
    "run_print_png(example_spec)"
   ]
  },
  {
   "cell_type": "code",
   "execution_count": 17,
   "id": "intimate-intervention",
   "metadata": {},
   "outputs": [
    {
     "data": {
      "text/plain": [
       "[{'region_id': 'barcode-3',\n",
       "  'filename': 'CB23.txt',\n",
       "  'location': 'local',\n",
       "  'md5': '1452e8ef104e6edf686fab8956172072'},\n",
       " {'region_id': 'barcode-2',\n",
       "  'filename': 'CB23.txt',\n",
       "  'location': 'local',\n",
       "  'md5': '1452e8ef104e6edf686fab8956172072'},\n",
       " {'region_id': 'barcode-1',\n",
       "  'filename': 'CB1.txt',\n",
       "  'location': 'local',\n",
       "  'md5': '5c3b70034e9cef5de735dc9d4f3fdbde'}]"
      ]
     },
     "execution_count": 17,
     "metadata": {},
     "output_type": "execute_result"
    }
   ],
   "source": [
    "run_list_onlists(example_spec, \"rna\")"
   ]
  },
  {
   "cell_type": "code",
   "execution_count": 18,
   "id": "broken-immune",
   "metadata": {},
   "outputs": [
    {
     "data": {
      "text/plain": [
       "[{'region_id': 'barcode-3', 'region_type': 'barcode', 'name': 'barcode-3', 'sequence_type': 'onlist', 'onlist': {'filename': 'CB23.txt', 'location': 'local', 'md5': '1452e8ef104e6edf686fab8956172072'}, 'sequence': 'NNNNNNNN', 'min_len': 8, 'max_len': 8, 'regions': None},\n",
       " {'region_id': 'barcode-2', 'region_type': 'barcode', 'name': 'barcode-2', 'sequence_type': 'onlist', 'onlist': {'filename': 'CB23.txt', 'location': 'local', 'md5': '1452e8ef104e6edf686fab8956172072'}, 'sequence': 'NNNNNNNN', 'min_len': 8, 'max_len': 8, 'regions': None},\n",
       " {'region_id': 'barcode-1', 'region_type': 'barcode', 'name': 'barcode-1', 'sequence_type': 'onlist', 'onlist': {'filename': 'CB1.txt', 'location': 'local', 'md5': '5c3b70034e9cef5de735dc9d4f3fdbde'}, 'sequence': 'NNNNNNNN', 'min_len': 8, 'max_len': 8, 'regions': None}]"
      ]
     },
     "execution_count": 18,
     "metadata": {},
     "output_type": "execute_result"
    }
   ],
   "source": [
    "example_spec.get_modality(\"rna\").get_region_by_type(\"barcode\")"
   ]
  },
  {
   "cell_type": "code",
   "execution_count": 19,
   "id": "sapphire-thread",
   "metadata": {},
   "outputs": [],
   "source": [
    "joined_name = run_onlist(example_spec, \"rna\", \"barcode\", \"multi\")"
   ]
  },
  {
   "cell_type": "code",
   "execution_count": 20,
   "id": "unlikely-omaha",
   "metadata": {},
   "outputs": [
    {
     "name": "stdout",
     "output_type": "stream",
     "text": [
      "length =  191\n",
      "     AACGTGAT AACGTGAT CATTCCTA\n",
      "0    AAACATCG AAACATCG CTTCATCA\n",
      "1    ATGCCTAA ATGCCTAA CCTATATC\n",
      "2    AGTGGTCA AGTGGTCA ACATTTAC\n",
      "3    ACCACTGT ACCACTGT ACTTAGCT\n",
      "4    ACATTGGC ACATTGGC CCAATTCT\n",
      "..                          ...\n",
      "186                - - GTGTGTGT\n",
      "187                - - TATGCTTC\n",
      "188                - - ATGGTGTT\n",
      "189                - - GAATAATG\n",
      "190                - - CCTCTGTG\n",
      "\n",
      "[191 rows x 1 columns]\n"
     ]
    }
   ],
   "source": [
    "if joined_name is not None:\n",
    "    joined = pandas.read_csv(\"onlist_joined.txt\")\n",
    "    print(\"length = \", joined.shape[0])\n",
    "    print(joined)"
   ]
  },
  {
   "cell_type": "code",
   "execution_count": 21,
   "id": "rising-phase",
   "metadata": {},
   "outputs": [
    {
     "name": "stdout",
     "output_type": "stream",
     "text": [
      "length =  1769471\n",
      "         AACGTGATAACGTGATCATTCCTA\n",
      "0        AACGTGATAACGTGATCTTCATCA\n",
      "1        AACGTGATAACGTGATCCTATATC\n",
      "2        AACGTGATAACGTGATACATTTAC\n",
      "3        AACGTGATAACGTGATACTTAGCT\n",
      "4        AACGTGATAACGTGATCCAATTCT\n",
      "...                           ...\n",
      "1769466  GCCAAGACGCCAAGACGTGTGTGT\n",
      "1769467  GCCAAGACGCCAAGACTATGCTTC\n",
      "1769468  GCCAAGACGCCAAGACATGGTGTT\n",
      "1769469  GCCAAGACGCCAAGACGAATAATG\n",
      "1769470  GCCAAGACGCCAAGACCCTCTGTG\n",
      "\n",
      "[1769471 rows x 1 columns]\n"
     ]
    }
   ],
   "source": [
    "joined_name = run_onlist(example_spec, \"rna\", \"barcode\", \"product\")\n",
    "if joined_name is not None:\n",
    "    joined = pandas.read_csv(\"onlist_joined.txt\")\n",
    "    print(\"length = \", joined.shape[0])\n",
    "    print(joined)"
   ]
  },
  {
   "cell_type": "code",
   "execution_count": 22,
   "id": "given-argentina",
   "metadata": {},
   "outputs": [],
   "source": [
    "!rm onlist_joined.txt"
   ]
  },
  {
   "cell_type": "code",
   "execution_count": null,
   "id": "younger-calculator",
   "metadata": {},
   "outputs": [],
   "source": []
  },
  {
   "cell_type": "code",
   "execution_count": 23,
   "id": "western-representative",
   "metadata": {},
   "outputs": [
    {
     "ename": "AssertionError",
     "evalue": "",
     "output_type": "error",
     "traceback": [
      "\u001b[0;31m---------------------------------------------------------------------------\u001b[0m",
      "\u001b[0;31mAssertionError\u001b[0m                            Traceback (most recent call last)",
      "\u001b[0;32m<ipython-input-23-a871fdc9ebee>\u001b[0m in \u001b[0;36m<module>\u001b[0;34m\u001b[0m\n\u001b[0;32m----> 1\u001b[0;31m \u001b[0;32massert\u001b[0m \u001b[0;32mFalse\u001b[0m\u001b[0;34m\u001b[0m\u001b[0;34m\u001b[0m\u001b[0m\n\u001b[0m",
      "\u001b[0;31mAssertionError\u001b[0m: "
     ]
    }
   ],
   "source": [
    "assert False"
   ]
  },
  {
   "cell_type": "code",
   "execution_count": null,
   "id": "pacific-nature",
   "metadata": {},
   "outputs": [],
   "source": []
  },
  {
   "cell_type": "markdown",
   "id": "proved-delhi",
   "metadata": {},
   "source": [
    "I have submission spreadsheets very similar to the IGVF DACC google sheet, but stored on our groups server as .xlsx files. These nextcloud urls will remotely download the spreadsheet.\n",
    "\n",
    "The parts of the sheet that are used is:\n",
    "\n",
    "<table>\n",
    "    <tr>"
   ]
  },
  {
   "cell_type": "code",
   "execution_count": null,
   "id": "anticipated-geography",
   "metadata": {},
   "outputs": [],
   "source": [
    "submitted_book_names = {\n",
    "    \"igvftst\": {\n",
    "        \"IGVF_b01\": \"https://woldlab.caltech.edu/nextcloud/index.php/s/5cJteSWgitN5BDM/download\",\n",
    "    }\n",
    "}\n",
    "\n",
    "sequence_file = pandas.read_excel(submitted_book_names[\"igvftst\"][\"IGVF_b01\"], \"sequence_file\")"
   ]
  },
  {
   "cell_type": "markdown",
   "id": "exotic-waters",
   "metadata": {},
   "source": [
    "# Working out steps needed to create seqspec objects\n",
    "\n",
    "Here I am testing a set of pandas filters to make sure that I can pair the already submitted fastqs correctly."
   ]
  },
  {
   "cell_type": "code",
   "execution_count": null,
   "id": "annoying-above",
   "metadata": {},
   "outputs": [],
   "source": [
    "dry_run = True"
   ]
  },
  {
   "cell_type": "code",
   "execution_count": null,
   "id": "unsigned-cargo",
   "metadata": {},
   "outputs": [],
   "source": [
    "for i, read1 in sequence_file[sequence_file[\"illumina_read_type\"] == \"R1\"].iterrows():\n",
    "    file_set_filter = (sequence_file[\"file_set\"] == read1.file_set)\n",
    "    flowcell_filter = (sequence_file[\"flowcell_id\"] == read1.flowcell_id)\n",
    "    lane_filter = (sequence_file[\"lane:integer\"] == read1[\"lane:integer\"])\n",
    "    read2_filter = (sequence_file[\"illumina_read_type\"] == \"R2\")\n",
    "    read2s = sequence_file[file_set_filter & flowcell_filter & lane_filter & read2_filter]\n",
    "    assert read2s.shape[0] == 1\n",
    "    read2 = read2s.loc[read2s.first_valid_index()]\n",
    "    print(i, read1.file_set, read1.accession, read2.accession, read1.md5sum)\n"
   ]
  },
  {
   "cell_type": "markdown",
   "id": "double-mechanism",
   "metadata": {},
   "source": [
    "Now that we know what sets of files are supposed to be grouped together with which dataset, we can test, a single seqspec file."
   ]
  },
  {
   "cell_type": "code",
   "execution_count": null,
   "id": "demanding-visitor",
   "metadata": {},
   "outputs": [],
   "source": [
    "read1 = \"TSTFI61612395\"\n",
    "read2 = \"TSTFI25832476\"\n",
    "file_set = \"ali-mortazavi:B01_13A_illumina\"\n",
    "\n",
    "example_yaml = generate_parse_wt_yaml(read1, read2)\n",
    "example_spec = load_spec_stream(StringIO(example_yaml))\n",
    "seqspec_validate(seqspec_schema, example_spec.to_dict())\n",
    "\n",
    "md5 = hashlib.md5(example_yaml.encode('utf-8'))\n",
    "\n",
    "seqspec_file = {\n",
    "    \"award\": award,\n",
    "    \"lab\": lab,\n",
    "    \"md5sum\": md5.hexdigest(),\n",
    "    \"file_format\": \"yaml\",\n",
    "    \"file_set\": file_set,\n",
    "    \"content_type\": \"seqspec\"\n",
    "}\n",
    "igvf_validator.validate(seqspec_file, \"configuration_file\")\n",
    "\n",
    "try:\n",
    "    print(server.get_json(\"md5:{}\".format(seqspec_file[\"md5sum\"])))\n",
    "except encoded.HTTPError as err:\n",
    "    if err.response.status_code == 404:\n",
    "        print(\"Should upload\")\n",
    "        # This posts the metadata to describe the seqspec file to the configuration_file collection.\n",
    "        # post_json turns into calls \n",
    "        # requests.post(\n",
    "        #   \"https://api.sandbox.igvf.org/configuration_file\",\n",
    "        #   auth=(token,,key), \n",
    "        #   headers={\"content-type\": \"application/json\", \"accept\": \"application/json\"},\n",
    "        #   data=seqspec_file)\n",
    "        #if not dry_run:\n",
    "        #    print(server.post_json(\"configuration_file\", seqspec_file))"
   ]
  },
  {
   "cell_type": "code",
   "execution_count": null,
   "id": "prescribed-corporation",
   "metadata": {},
   "outputs": [],
   "source": [
    "seqspec_file"
   ]
  },
  {
   "cell_type": "markdown",
   "id": "annual-bullet",
   "metadata": {},
   "source": [
    "# Seqspec Submission functions"
   ]
  },
  {
   "cell_type": "markdown",
   "id": "elegant-arrangement",
   "metadata": {},
   "source": [
    "Now that we've done it in stages for one pair of fastqs, lets turn it into a program."
   ]
  },
  {
   "cell_type": "code",
   "execution_count": null,
   "id": "cardiac-inventory",
   "metadata": {},
   "outputs": [],
   "source": [
    "def parse_s3_url(url):\n",
    "    \"\"\"Extract out the path portion of a s3 uri\n",
    "    \"\"\"\n",
    "    url = urlparse(url)\n",
    "    assert url.scheme == \"s3\", \"Not s3 url {}\".format(url)\n",
    "    \n",
    "    return url.netloc, url.path[1:]\n",
    "\n",
    "def post_seqspec(seqspec_metadata, seqspec_contents):\n",
    "    \"\"\"Post a seq spec metadata object to the portal and upload the seqspec object as a file to s3\n",
    "    \"\"\"\n",
    "    response = server.post_json(\"configuration_file\", seqspec_metadata)\n",
    "\n",
    "    if len(graph) != 1:\n",
    "        print(\"Strange number of result objects {}\".format(len(graph)))\n",
    "\n",
    "    graph = response[\"@graph\"][0]\n",
    "    credentials = graph[\"upload_credentials\"]\n",
    "    \n",
    "    s3_client = boto3.client(\n",
    "        's3', \n",
    "        aws_access_key_id=credentials[\"access_key\"], \n",
    "        aws_secret_access_key=credentials[\"secret_key\"], \n",
    "        aws_session_token=credentials[\"session_token\"])\n",
    "\n",
    "    bucket, target = parse_s3_url(credentials[\"upload_url\"])\n",
    "    s3_client.upload_fileobj(\n",
    "        BytesIO(seqspec_contents.encode(\"utf-8\")),\n",
    "        bucket,\n",
    "        target)\n",
    "\n",
    "    return response\n",
    "\n",
    "def register_seqspec(file_set, read1, read2, dry_run=True):\n",
    "    \"\"\"Create the seqspec objects and attach them to the fastqs\n",
    "    \n",
    "    Paramweters:\n",
    "    - file_set: id the seqspec should be attached to\n",
    "    - read1, read2: the two fastq ids for the paired end RNA-seq reads.\n",
    "    \n",
    "    Other assays might need more options like the I1 read or customizing \n",
    "    the read lengths\n",
    "    \"\"\"\n",
    "    \n",
    "    # Generate the seqspec yaml data and load it into the seqspec objects\n",
    "    seqspec_contents = generate_parse_wt_yaml(read1, read2)\n",
    "    example_spec = load_spec_stream(StringIO(seqspec_contents))\n",
    "    \n",
    "    # Validate the seqspec against the seqspec schema.\n",
    "    # this is depending on a global variable for the schema\n",
    "    seqspec_validate(seqspec_schema, example_spec.to_dict())\n",
    "\n",
    "    # Generate a MD5 sum for the seqspec yaml file\n",
    "    md5 = hashlib.md5(seqspec_contents.encode('utf-8'))\n",
    "\n",
    "    # Construct the configuration_file object for the DACC portal\n",
    "    seqspec_metadata = {\n",
    "        \"award\": award,\n",
    "        \"lab\": lab,\n",
    "        \"md5sum\": md5.hexdigest(),\n",
    "        \"file_format\": \"yaml\",\n",
    "        \"file_set\": file_set,\n",
    "        \"content_type\": \"seqspec\"\n",
    "    }\n",
    "    # Make sure the configuration_file passes the DACCs schema\n",
    "    igvf_validator.validate(seqspec_metadata, \"configuration_file\")\n",
    "\n",
    "    # Search the portal for the md5sum of our seqspec file to see if \n",
    "    # it has already been submitted\n",
    "    try:\n",
    "        response = server.get_json(\"md5:{}\".format(seqspec_metadata[\"md5sum\"]))\n",
    "        print(\"found object by {}\".format(seqspec_metadata[\"md5sum\"]))\n",
    "        print(response)\n",
    "        seqspec_metadata.update({\n",
    "            \"@id\": response[\"@id\"],\n",
    "            \"accession\": response[\"accession\"],\n",
    "            \"uuid\": response[\"uuid\"],\n",
    "        })\n",
    "    except encoded.HTTPError as err:\n",
    "        # If the file has not been submitted, and we're not in dry_run mode \n",
    "        # lets submit it\n",
    "        if err.response.status_code == 404:\n",
    "            if dry_run:\n",
    "                print(\"Would upload {}\".format(md5.hexdigest()))\n",
    "            else:\n",
    "                response = post_seqspec(seqspec_metadata, seqspec_contents)\n",
    "                if response[\"status\"] == \"success\":\n",
    "                    graph = reponse[\"@graph\"][0]\n",
    "                    print(\"Upload of {} succeeded\". format(graph[\"@id\"]))\n",
    "                    seqspec_metadata.update({\n",
    "                        \"@id\": graph[\"@id\"],\n",
    "                        \"accession\": graph[\"accession\"],\n",
    "                        \"uuid\": graph[\"uuid\"],\n",
    "                    })\n",
    "                else:\n",
    "                    print(response)\n",
    "                    raise RuntimeError(\"Unable to create metadata object\")\n",
    "\n",
    "        else:\n",
    "             print(\"Other HTTPError error {}\".format(err.response.status_code))\n",
    "\n",
    "    # Once the seqspec configuration file and metadata has been created and uploaded\n",
    "    # attach the the configuration file to it's fastqs.\n",
    "    for read in [read1, read2]:\n",
    "        read_id = \"/sequence-files/{}/\".format(read)\n",
    "        fileinfo = server.get_json(read_id.format(read))\n",
    "        print(fileinfo)\n",
    "        if not \"seqspec\" in fileinfo:\n",
    "            print(\"Need to post seqspec\")\n",
    "            if not dry_run:\n",
    "                print(server.patch_json(read_id, {\"seqspec\": seqspec_metadata[\"@id\"]}))\n",
    "        elif fileinfo[\"seqspec\"] != seqspec_metadata[\"@id\"]:\n",
    "            print(\"WARNING: seqspec accessions do not match, {} {}\".format(fileinfo[\"seqspec\"], seqspec_metadata[\"@id\"]))\n",
    "\n",
    "    return seqspec_metadata"
   ]
  },
  {
   "cell_type": "markdown",
   "id": "literary-canberra",
   "metadata": {},
   "source": [
    "# Testing submission functions"
   ]
  },
  {
   "cell_type": "markdown",
   "id": "armed-commitment",
   "metadata": {},
   "source": [
    "Test the register_seqspec function with the next set of files."
   ]
  },
  {
   "cell_type": "code",
   "execution_count": null,
   "id": "peaceful-light",
   "metadata": {},
   "outputs": [],
   "source": [
    "read1 = \"TSTFI61612395\"\n",
    "read2 = \"TSTFI25832476\"\n",
    "file_set = \"ali-mortazavi:B01_13A_illumina\"\n",
    "register_seqspec(file_set, read1, read2, dry_run=True)"
   ]
  },
  {
   "cell_type": "markdown",
   "id": "russian-pontiac",
   "metadata": {},
   "source": [
    "# Create seqspec objects for remaining fastqs"
   ]
  },
  {
   "cell_type": "markdown",
   "id": "classified-victor",
   "metadata": {},
   "source": [
    "Now that we have a way to list all of the fastq sets, and a function to post everything to the portal\n",
    "loop through all of our fastqs posting the seqspec configuration files"
   ]
  },
  {
   "cell_type": "code",
   "execution_count": null,
   "id": "lightweight-lebanon",
   "metadata": {},
   "outputs": [],
   "source": [
    "submitted = []\n",
    "\n",
    "for i, read1 in sequence_file[sequence_file[\"illumina_read_type\"] == \"R1\"].iterrows():\n",
    "    file_set_filter = (sequence_file[\"file_set\"] == read1.file_set)\n",
    "    flowcell_filter = (sequence_file[\"flowcell_id\"] == read1.flowcell_id)\n",
    "    lane_filter = (sequence_file[\"lane:integer\"] == read1[\"lane:integer\"])\n",
    "    read2_filter = (sequence_file[\"illumina_read_type\"] == \"R2\")\n",
    "    read2s = sequence_file[file_set_filter & flowcell_filter & lane_filter & read2_filter]\n",
    "    assert read2s.shape[0] == 1\n",
    "    read2 = read2s.loc[read2s.first_valid_index()]\n",
    "    #print(i, read1.file_set, read1.accession, read2.accession, read1.md5sum)\n",
    "    \n",
    "    submitted.append(register_seqspec(read1.file_set, read1.accession, read2.accession, dry_run=True))\n"
   ]
  },
  {
   "cell_type": "markdown",
   "id": "seven-adolescent",
   "metadata": {},
   "source": [
    "Convert the results of creating into a pandas data frame so I can store the return values in a my submission spreadsheet."
   ]
  },
  {
   "cell_type": "code",
   "execution_count": null,
   "id": "paperback-behalf",
   "metadata": {},
   "outputs": [],
   "source": [
    "pandas.DataFrame(submitted)[[\"accession\", \"uuid\", \"file_set\", \"content_type\", \"file_format\", \"md5sum\", \"award\", \"lab\"]]\n"
   ]
  },
  {
   "cell_type": "code",
   "execution_count": null,
   "id": "premium-terry",
   "metadata": {},
   "outputs": [],
   "source": []
  }
 ],
 "metadata": {
  "kernelspec": {
   "display_name": "Python 3",
   "language": "python",
   "name": "python3"
  },
  "language_info": {
   "codemirror_mode": {
    "name": "ipython",
    "version": 3
   },
   "file_extension": ".py",
   "mimetype": "text/x-python",
   "name": "python",
   "nbconvert_exporter": "python",
   "pygments_lexer": "ipython3",
   "version": "3.9.2"
  }
 },
 "nbformat": 4,
 "nbformat_minor": 5
}
