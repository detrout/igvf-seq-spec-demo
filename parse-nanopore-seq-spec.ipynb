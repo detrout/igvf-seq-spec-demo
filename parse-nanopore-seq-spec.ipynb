{
 "cells": [
  {
   "cell_type": "markdown",
   "id": "expected-boutique",
   "metadata": {},
   "source": [
    "# Introduction\n",
    "\n",
    "This is a simplification of my figuring out how to submit seqspec files to the IGVF DACC.\n",
    "\n",
    "- [Python environment](#Setup)\n",
    "- [Seqspec template function](#Template)\n",
    "- [Working out steps needed to create seqspec objects](#Working-out-steps-needed-to-create-seqspec-objects)\n",
    "- [Exploring boto3](#Exploring-boto3)\n",
    "- [Seqspec submission functions](#Seqspec-Submission-functions)\n",
    "- [Create seqspec objects for remaining fastqs](#Create-seqspec-objects-for-remaining-fastqs)"
   ]
  },
  {
   "cell_type": "markdown",
   "id": "systematic-binary",
   "metadata": {},
   "source": [
    "# Setup\n",
    "\n",
    "First we start with general imports"
   ]
  },
  {
   "cell_type": "code",
   "execution_count": 1,
   "id": "irish-queue",
   "metadata": {},
   "outputs": [],
   "source": [
    "import hashlib\n",
    "import requests\n",
    "from pathlib import Path\n",
    "from io import StringIO, BytesIO\n",
    "import sys\n",
    "import json\n",
    "from jsonschema import Draft4Validator\n",
    "import logging\n",
    "import pandas\n",
    "import os\n",
    "import sys\n",
    "from urllib.parse import urlparse\n",
    "import yaml\n",
    "import numpy"
   ]
  },
  {
   "cell_type": "code",
   "execution_count": 2,
   "id": "least-senate",
   "metadata": {},
   "outputs": [],
   "source": [
    "try:\n",
    "    import boto3\n",
    "except ImportError:\n",
    "    !{sys.executable} -m pip install --user boto3\n",
    "    import boto3\n",
    "    \n",
    "from botocore.exceptions import ClientError\n",
    "    "
   ]
  },
  {
   "cell_type": "code",
   "execution_count": 3,
   "id": "double-break",
   "metadata": {},
   "outputs": [],
   "source": [
    "try:\n",
    "    from jinja2 import Environment\n",
    "except ImportError:\n",
    "    !{sys.executable} -m pip install --user jinja2\n",
    "    from jinja2 import Environment\n",
    "\n",
    "from jinja2 import FileSystemLoader, select_autoescape, Undefined, StrictUndefined, make_logging_undefined\n",
    "\n",
    "\n",
    "\n",
    "logger = logging.getLogger(__name__)\n",
    "LoggingUndefined = make_logging_undefined(\n",
    "    logger=logger,\n",
    "    base=Undefined\n",
    ")\n",
    "\n",
    "env = Environment(\n",
    "    loader=FileSystemLoader(\"templates\"),\n",
    "    autoescape=select_autoescape(),\n",
    "    undefined=LoggingUndefined,\n",
    ")"
   ]
  },
  {
   "cell_type": "markdown",
   "id": "bibliographic-jonathan",
   "metadata": {},
   "source": [
    "I want to be able to use the seqspec validator while I was writing my seqspec file.\n",
    "\n",
    "I have the repository checked out into ~/proj/seqspec. This block should either import it for me, or install it if someone elese runs it."
   ]
  },
  {
   "cell_type": "code",
   "execution_count": 4,
   "id": "fleet-pillow",
   "metadata": {},
   "outputs": [],
   "source": [
    "try:\n",
    "    import seqspec\n",
    "except ImportError:\n",
    "    seqspec_root = Path(\"~/proj/seqspec\").expanduser()\n",
    "    if seqspec_root.exists() and str(seqspec_root) not in sys.path:\n",
    "        sys.path.append(str(seqspec_root))\n",
    "    else:\n",
    "        !{sys.executable} -m pip install --user seqspec\n",
    "    import seqspec"
   ]
  },
  {
   "cell_type": "markdown",
   "id": "usual-census",
   "metadata": {},
   "source": [
    "Import pieces of seqspec that we need for this notebook."
   ]
  },
  {
   "cell_type": "code",
   "execution_count": 5,
   "id": "entire-faculty",
   "metadata": {},
   "outputs": [],
   "source": [
    "from seqspec.Assay import Assay\n",
    "from seqspec.Region import Region\n",
    "from seqspec.Region import Onlist\n",
    "from seqspec.utils import load_spec_stream\n",
    "from seqspec.seqspec_index import run_index, get_index\n",
    "from seqspec.seqspec_print import run_print_sequence_spec, run_print_library_tree, run_print_library_png\n",
    "from seqspec.seqspec_onlist import run_list_onlists, run_onlist_read, run_find_by_type"
   ]
  },
  {
   "cell_type": "markdown",
   "id": "sharp-quick",
   "metadata": {},
   "source": [
    "I have my own API for interacting with the IGVF database server (which is very much like the old ENCODE database server)"
   ]
  },
  {
   "cell_type": "code",
   "execution_count": 6,
   "id": "vocal-nutrition",
   "metadata": {},
   "outputs": [],
   "source": [
    "try:\n",
    "    from encoded_client import encoded\n",
    "except ImportError:\n",
    "    encoded_root = Path(\"~/proj/encoded_client\").expanduser()\n",
    "    if encoded_root.exists() and str(encoded_root) not in sys.path:\n",
    "        sys.path.append(str(encoded_root))\n",
    "    else:\n",
    "        !{sys.executable} -m pip install --user encoded_client\n",
    "        \n",
    "    from encoded_client import encoded"
   ]
  },
  {
   "cell_type": "markdown",
   "id": "increasing-entity",
   "metadata": {},
   "source": [
    "encoded_client will pull submitter credentials from either DCC_API_KEY and DCC_SECRET_KEY or from a .netrc file loaded from your home directory. (replacing the {DCC_API_KEY} and {DCC_SECRET_KEY} strings with your specific values.)\n",
    "\n",
    "The format of a .netrc file is a plain text file with records of the format:\n",
    "\n",
    "<pre>machine api.sandbox.igvf.org login {DCC_API_KEY} password {DCC_SECRET_KEY}</pre>\n",
    "\n",
    "Or api.data.igvf.org\n",
    "\n",
    "(it's also possible to list the fields on separate lines, but I think it's easier to read when they're on one line)\n",
    "\n",
    "or after creating the server object call:\n",
    "\n",
    "<pre>server.username = \"{DCC_API_KEY}\"\n",
    "server.password = \"{DCC_SECRET_KEY}\"</pre>\n",
    "\n"
   ]
  },
  {
   "cell_type": "markdown",
   "id": "valuable-meditation",
   "metadata": {},
   "source": [
    "## submission variables"
   ]
  },
  {
   "cell_type": "code",
   "execution_count": 7,
   "id": "alleged-hebrew",
   "metadata": {},
   "outputs": [],
   "source": [
    "server_name = \"api.sandbox.igvf.org\"\n",
    "award = \"/awards/HG012077/\"\n",
    "lab = \"/labs/ali-mortazavi/\""
   ]
  },
  {
   "cell_type": "code",
   "execution_count": null,
   "id": "usual-greenhouse",
   "metadata": {},
   "outputs": [],
   "source": []
  },
  {
   "cell_type": "code",
   "execution_count": 8,
   "id": "human-coordinate",
   "metadata": {},
   "outputs": [],
   "source": [
    "server = encoded.ENCODED(server_name)\n",
    "igvf_validator = encoded.DCCValidator(server)"
   ]
  },
  {
   "cell_type": "code",
   "execution_count": 9,
   "id": "nearby-canon",
   "metadata": {},
   "outputs": [],
   "source": [
    "def seqspec_validate(schema, spec):\n",
    "    \"\"\"Validate a yaml object against a json schema\n",
    "    \"\"\"\n",
    "    validator = Draft4Validator(schema)\n",
    "\n",
    "    for idx, error in enumerate(validator.iter_errors(spec), 1):\n",
    "        print(f\"[{idx}] {error.message}\")"
   ]
  },
  {
   "cell_type": "code",
   "execution_count": 10,
   "id": "minor-harmony",
   "metadata": {},
   "outputs": [],
   "source": [
    "schema_path = seqspec_root / \"seqspec\"/ \"schema\" / \"seqspec.schema.json\"\n",
    "\n",
    "with open(schema_path, \"rt\") as instream:\n",
    "    seqspec_schema = json.load(instream)"
   ]
  },
  {
   "cell_type": "code",
   "execution_count": 11,
   "id": "regional-remedy",
   "metadata": {},
   "outputs": [],
   "source": [
    "def load_spec(filename):\n",
    "    with open(filename, \"rt\") as instream:\n",
    "        data = yaml.load(instream, Loader=yaml.Loader)\n",
    "        for r in data.assay_spec:\n",
    "            r.set_parent_id(None)\n",
    "    return data"
   ]
  },
  {
   "cell_type": "markdown",
   "id": "allied-cargo",
   "metadata": {},
   "source": [
    "# Template"
   ]
  },
  {
   "cell_type": "markdown",
   "id": "processed-values",
   "metadata": {},
   "source": [
    "First build up lists of barcodes onlists needed for this protocol the names will be passed to the template."
   ]
  },
  {
   "cell_type": "code",
   "execution_count": 12,
   "id": "pointed-worcester",
   "metadata": {},
   "outputs": [],
   "source": [
    "barcode_sets = {\n",
    "    \"parse-wt-v2\": {\n",
    "        # onlist1_n96_v4\n",
    "        \"barcode_1_url\": \"https://data.igvf.org/tabular-files/IGVFFI0924TKJO/@@download/IGVFFI0924TKJO.txt.gz\",\n",
    "        #\"barcode_1_url\": \"https://woldlab.caltech.edu/~diane/parse_barcodes/bc1_n96_v4.txt.gz\",\n",
    "        \"barcode_1_location\": \"remote\",\n",
    "        \"barcode_1_md5\": \"6d5016e63f121b6a64fb3907dd83f358\",\n",
    "        \"barcode_2_url\": \"https://data.igvf.org/tabular-files/IGVFFI1138MCVX/@@download/IGVFFI1138MCVX.txt.gz\",\n",
    "        #\"barcode_2_url\": \"https://woldlab.caltech.edu/~diane/parse_barcodes/bc2_v1_bc_v3.txt.gz\",\n",
    "        \"barcode_1_location\": \"remote\",\n",
    "        \"barcode_2_md5\": \"1452e8ef104e6edf686fab8956172072\",\n",
    "        \"barcode_3_url\": \"https://data.igvf.org/tabular-files/IGVFFI1138MCVX/@@download/IGVFFI1138MCVX.txt.gz\",\n",
    "        #\"barcode_3_url\": \"https://woldlab.caltech.edu/~diane/parse_barcodes/bc2_v1_bc_v3.txt.gz\",\n",
    "        \"barcode_1_location\": \"remote\",\n",
    "        \"barcode_3_md5\": \"1452e8ef104e6edf686fab8956172072\",\n",
    "    },\n",
    "    \"parse-wt-mega-v2\": {\n",
    "        # need to add barcode urls\n",
    "        #onlist1_n192_v4\n",
    "        \"barcode_1_location\": \"remote\",        \n",
    "        \"barcode_1_url\": \"https://data.igvf.org/tabular-files/IGVFFI2591OFQO/@@download/IGVFFI2591OFQO.txt.gz\",\n",
    "        #\"barcode_1_url\": \"https://woldlab.caltech.edu/~diane/parse_barcodes/bc1_n192_v4.txt.gz\",\n",
    "        #\"barcode_1_location\": \"local\",\n",
    "        #\"barcode_1_url\": \"CB1.txt\",\n",
    "        \"barcode_1_md5\": \"5c3b70034e9cef5de735dc9d4f3fdbde\",\n",
    "        \"barcode_2_location\": \"remote\",        \n",
    "        \"barcode_2_url\": \"https://data.igvf.org/tabular-files/IGVFFI1138MCVX/@@download/IGVFFI1138MCVX.txt.gz\",\n",
    "        #\"barcode_2_url\": \"https://woldlab.caltech.edu/~diane/parse_barcodes/bc2_v1_bc_v3.txt.gz\",\n",
    "        #\"barcode_2_location\": \"local\",\n",
    "        #\"barcode_2_url\": \"CB23.txt\",\n",
    "        \"barcode_2_md5\": \"1452e8ef104e6edf686fab8956172072\",\n",
    "        \"barcode_3_location\": \"remote\",\n",
    "        \"barcode_3_url\": \"https://data.igvf.org/tabular-files/IGVFFI1138MCVX/@@download/IGVFFI1138MCVX.txt.gz\",\n",
    "        #\"barcode_3_url\": \"https://woldlab.caltech.edu/~diane/parse_barcodes/bc2_v1_bc_v3.txt.gz\",\n",
    "        #\"barcode_3_location\": \"local\",\n",
    "        #\"barcode_3_url\": \"CB23.txt\",\n",
    "        \"barcode_3_md5\": \"1452e8ef104e6edf686fab8956172072\",\n",
    "    }\n",
    "}\n",
    "\n",
    "library_kits = {\n",
    "    \"parse-wt-v2\": {\n",
    "        \"single\": {\n",
    "            \"library_protocol\": \"Any\",\n",
    "            \"library_kit\": \"Evercode WT v2.0.1 single index\",\n",
    "        },\n",
    "        \"dual\": {\n",
    "            \"library_protocol\": \"Any\",\n",
    "            \"library_kit\": \"Evercode WT v2.0.1 single index\",\n",
    "        },\n",
    "    },\n",
    "    \"parse-wt-mega-v2\": {\n",
    "        \"single\": {\n",
    "            \"library_protocol\": \"Any\",\n",
    "            \"library_kit\": \"Evercode WT Mega v2.0.1 dual index\",\n",
    "        },\n",
    "        \"dual\": {\n",
    "            \"library_protocol\": \"Any\",\n",
    "            \"library_kit\": \"Evercode WT Mega v2.0.1 dual index\",\n",
    "        }\n",
    "    }\n",
    "}\n",
    "\n",
    "# Allowed terms for sequence_kit\n",
    "# https://data.igvf.org/profiles/sequence_file/schema/properties/?property=sequencing_kit\n",
    "sequencing_kit_by_platform = {\n",
    "    # Illumina novaseq 6000 \n",
    "    # reagent ordering page https://www.illumina.com/products/by-type/sequencing-kits/cluster-gen-sequencing-reagents/novaseq-reagent-kits.html\n",
    "    \"/platform-terms/EFO_0008637/\": {\n",
    "        \"sequence_protocol\": \"Illumina NovaSeq 6000\",\n",
    "        \"sequence_kit\": \"NovaSeq 6000 S4 Reagent Kit v1.5\",\n",
    "    },\n",
    "    # Illumina NextSeq 2000\n",
    "    # reagent ordering page https://www.illumina.com/products/by-type/sequencing-kits/cluster-gen-sequencing-reagents/nextseq-1000-2000-reagents.html\n",
    "    \"/platform-terms/EFO_0010963/\": {\n",
    "        \"sequence_protocol\": \"Illumina NextSeq 2000\",\n",
    "        \"sequence_kit\": \"NextSeq 2000 P4 XLEAP-SBS Reagent Kit\",\n",
    "    },\n",
    "    \"/platform-terms/EFO_0008633/\": {\n",
    "        \"sequencing_protocol\": \"ONT Ligation Sequencing Kit V14\",\n",
    "        \"sequencing_kit\": \"ONT GridION X5\",\n",
    "    }\n",
    "}"
   ]
  },
  {
   "cell_type": "markdown",
   "id": "handled-nickname",
   "metadata": {},
   "source": [
    "Define the the file information needed to define this seqspec."
   ]
  },
  {
   "cell_type": "code",
   "execution_count": 13,
   "id": "behavioral-dressing",
   "metadata": {
    "scrolled": false
   },
   "outputs": [
    {
     "name": "stdout",
     "output_type": "stream",
     "text": [
      "[1] 36251 is greater than the maximum of 2048\n",
      "[2] 35871 is greater than the maximum of 2048\n",
      "!Assay\n",
      "seqspec_version: 0.1.1\n",
      "assay_id: Evercode-WT-mega-nanpore-v2\n",
      "doi: \"https://docs.google.com/presentation/d/17yKh6xE5b9Mo4DaXx5uPvFZOIHOW0kbK-QsU2ECwx8c/edit#slide=id.g29abb1440dc_0_500\"\n",
      "date: \"13 August 2024\"\n",
      "name: Parse Evercode mega WT v2 using nanopore\n",
      "description: split-pool ligation-based ONT transcriptome sequencing \n",
      "modalities:\n",
      "  - rna\n",
      "lib_struct: \"\"\n",
      "library_protocol: Any\n",
      "library_kit: Evercode WT Mega v2.0.1 dual index\n",
      "sequence_protocol: Illumina NextSeq 2000\n",
      "sequence_kit: NextSeq 2000 P4 XLEAP-SBS Reagent Kit\n",
      "sequence_spec:\n",
      "  - !Read\n",
      "    read_id: TSTFI39351339.fastq.gz\n",
      "    name: Fastq for TSTFI39351339\n",
      "    modality: rna\n",
      "    primer_id: ont-top\n",
      "    min_len: 100\n",
      "    max_len: 36025\n",
      "    strand: pos\n",
      "    \n",
      "library_spec:\n",
      "- !Region\n",
      "  region_id: rna\n",
      "  region_type: rna\n",
      "  name: rna\n",
      "  sequence_type: joined\n",
      "  sequence: TTTTTTTTCCTGTACTTCGTTCAGTTACGTATTGCTAAGCAGTGGTATCAACGCAGAGTGAATGGGXXXXXXXXXXXXXXXXXXXXXXXXXXXXXXXXXXXXXXXXXXXXXXXXXXXXXXXXNNNNNNNNGTGGCCGATGTTTCGCATCGGCGTACGACTNNNNNNNNATCCACGTGCTTGAGACTGTGGNNNNNNNNXXXXXXXXXXAGATCGGAAGAGCACACGTCTGAACTCCAGTCACGCAATACGTAACTGAACGAAGTACAGG\n",
      "  min_len: 326\n",
      "  max_len: 36251\n",
      "  onlist: null\n",
      "  regions:\n",
      "# ONT adapter 36 bp no fixed orientation\n",
      "# LA_start-TSO_end\n",
      "# Primer Sequences from Ligation Adapter\n",
      "# https://community.nanoporetech.com/technical_documents/chemistry-technical-document/v/chtd_500_v1_revaq_07jul2016/adapter-sequences\n",
      "  - !Region\n",
      "    region_id: ont-top\n",
      "    region_type: custom_primer\n",
      "    name: ont-top\n",
      "    sequence_type: fixed\n",
      "    sequence: TTTTTTTTCCTGTACTTCGTTCAGTTACGTATTGCT\n",
      "    min_len: 36\n",
      "    max_len: 36\n",
      "    onlist: null\n",
      "    regions: null\n",
      "    parent_id: read.fastq.gz\n",
      "# TSO (30 bp)\n",
      "# FIXME check region_type\n",
      "  - !Region\n",
      "    region_id: tso\n",
      "    region_type: custom_primer\n",
      "    name: tso\n",
      "    sequence_type: fixed\n",
      "    sequence: AAGCAGTGGTATCAACGCAGAGTGAATGGG\n",
      "    min_len: 30\n",
      "    max_len: 30\n",
      "    onlist: null\n",
      "    regions: null\n",
      "    parent_id: read.fastq.gz\n",
      "# Target sequence\n",
      "# not sure what a good min/max length is. nanopore announced a\n",
      "# 2 million base pair read in 2018.\n",
      "# https://nanoporetech.com/about-us/news/longer-and-longer-dna-sequence-more-two-million-bases-now-achieved-nanopore\n",
      "# FIXME for nanopore should this be cDNA or rna?\n",
      "  - !Region\n",
      "    region_id: cDNA\n",
      "    region_type: cdna\n",
      "    name: cDNA\n",
      "    sequence_type: random\n",
      "    sequence: X\n",
      "    min_len: 100\n",
      "    max_len: 35871\n",
      "    onlist: null\n",
      "    regions: null\n",
      "    parent_id: read.fastq.gz\n",
      "# PolyA / randhex\n",
      "# FIXME There may be a known list of sequences\n",
      "# FIXME what should the region type be\n",
      "  - !Region\n",
      "    region_id: primer\n",
      "    region_type: custom_primer\n",
      "    name: primer\n",
      "    sequence_type: random\n",
      "    sequence: XXXXXX\n",
      "    min_len: 6\n",
      "    max_len: 6\n",
      "    onlist: null\n",
      "    regions: null\n",
      "    parent_id: read.fastq.gz\n",
      "  - !Region\n",
      "    region_id: barcode-1\n",
      "    region_type: barcode\n",
      "    name: barcode-1\n",
      "    sequence_type: onlist\n",
      "    sequence: NNNNNNNN\n",
      "    min_len: 8\n",
      "    max_len: 8\n",
      "    onlist: !Onlist\n",
      "      filename: barcode-1_onlist_v2.txt\n",
      "      md5: 5c3b70034e9cef5de735dc9d4f3fdbde\n",
      "      location: local\n",
      "    regions: null\n",
      "    parent_id: read.fastq.gz\n",
      "  - !Region\n",
      "    region_id: linker-1\n",
      "    region_type: linker\n",
      "    name: linker-1\n",
      "    sequence_type: fixed\n",
      "    sequence: GTGGCCGATGTTTCGCATCGGCGTACGACT\n",
      "    min_len: 30\n",
      "    max_len: 30\n",
      "    onlist: null\n",
      "    regions: null\n",
      "    parent_id: read.fastq.gz\n",
      "  - !Region\n",
      "    region_id: barcode-2\n",
      "    region_type: barcode\n",
      "    name: barcode-2\n",
      "    sequence_type: onlist\n",
      "    sequence: NNNNNNNN\n",
      "    min_len: 8\n",
      "    max_len: 8\n",
      "    onlist: !Onlist\n",
      "      filename: barcode-23_onlist.txt\n",
      "      md5: 1452e8ef104e6edf686fab8956172072\n",
      "      location: local\n",
      "    regions: null\n",
      "    parent_id: read.fastq.gz\n",
      "  - !Region\n",
      "    region_id: linker-2\n",
      "    region_type: linker\n",
      "    name: linker-2\n",
      "    sequence_type: fixed\n",
      "    sequence: ATCCACGTGCTTGAGACTGTGG\n",
      "    min_len: 22\n",
      "    max_len: 22\n",
      "    onlist: null\n",
      "    regions: null\n",
      "    parent_id: read.fastq.gz\n",
      "  - !Region\n",
      "    region_id: barcode-3\n",
      "    region_type: barcode\n",
      "    name: barcode-3\n",
      "    sequence_type: onlist\n",
      "    sequence: NNNNNNNN\n",
      "    min_len: 8\n",
      "    max_len: 8\n",
      "    onlist: !Onlist\n",
      "      filename: barcode-23_onlist.txt\n",
      "      md5: 1452e8ef104e6edf686fab8956172072\n",
      "      location: local\n",
      "    regions: null\n",
      "    parent_id: read.fastq.gz\n",
      "# UMI (10 bp)    \n",
      "  - !Region\n",
      "    region_id: umi\n",
      "    region_type: umi\n",
      "    name: umi\n",
      "    sequence_type: random\n",
      "    sequence: NNNNNNNNNN\n",
      "    min_len: 10\n",
      "    max_len: 10\n",
      "    onlist: null\n",
      "    regions: null\n",
      "    parent_id: read.fastq.gz\n",
      "  - !Region\n",
      "    region_id: truseq_read2\n",
      "    region_type: truseq_read2\n",
      "    name: Illumina Read 2\n",
      "    sequence_type: fixed\n",
      "    sequence: AGATCGGAAGAGCACACGTCTGAACTCCAGTCAC\n",
      "    min_len: 34\n",
      "    max_len: 34\n",
      "    onlist: null\n",
      "    regions: null\n",
      "    parent_id: read.fastq.gz\n",
      "# ONT adapter (36 or 27 bp)\n",
      "# FIXME what should the type actually be?\n",
      "# FIXME set sequence when known\n",
      "  - !Region\n",
      "    region_id: ont-bottom\n",
      "    region_type: custom_primer\n",
      "    sequence_type: fixed\n",
      "    sequence: GCAATACGTAACTGAACGAAGTACAGG\n",
      "    name: ont-bottom\n",
      "    min_len: 27\n",
      "    max_len: 27\n",
      "    onlist: null\n",
      "    regions: null\n",
      "    parent_id: read.fastq.gz\n"
     ]
    }
   ],
   "source": [
    "ont1 = 36\n",
    "tso = 36\n",
    "read1_max_length = 36025\n",
    "read1_min_length = max(min(11, read1_max_length), 100)\n",
    "\n",
    "read2_min_length = 0\n",
    "read2_max_length = 0\n",
    "primer = 6\n",
    "bc1 = 8\n",
    "bc1_linker = 30\n",
    "bc2 = 8\n",
    "bc2_linker = 22\n",
    "bc3 = 8\n",
    "umi = 10\n",
    "adapter = 34\n",
    "ont2 = 36\n",
    "total_min_length = sum([ont1, tso, read1_min_length, primer, bc1, bc1_linker, bc2, bc2_linker, umi, adapter, ont2])\n",
    "total_max_length = sum([ont1, tso, read1_max_length, primer, bc1, bc1_linker, bc2, bc2_linker, umi, adapter, ont2])\n",
    "insert_min_length = read1_min_length\n",
    "insert_max_length = read1_max_length - sum([tso, primer, bc1, bc1_linker, bc2, bc2_linker, umi, adapter])\n",
    "context = {\n",
    "    # attributes to use \n",
    "    # accession\n",
    "    # s3_uri\n",
    "    # minimum_read_length\n",
    "    # maximum_read_length\n",
    "    #\"read1_accession\": \"TSTFI76281026\",\n",
    "    #\"read1_url\": server.prepare_url(\"/sequence-files/TSTFI76281026/@@download/TSTFI76281026.fastq.gz\"),\n",
    "    \"read1_accession\": \"TSTFI39351339\",\n",
    "    \"read1_url\": \"https://api.sandbox.igvf.org/sequence-files/TSTFI39351339/@@download/TSTFI39351339.fastq.gz\",\n",
    "    \"read1_min_length\": read1_min_length,\n",
    "    \"read1_max_length\": read1_max_length,\n",
    "\n",
    "    \"insert_min_length\": insert_min_length,\n",
    "    \"insert_max_length\": insert_max_length,\n",
    "\n",
    "    \"total_min_length\": total_min_length,\n",
    "    \"total_max_length\": total_max_length,\n",
    "}\n",
    "# For testing y2ave\n",
    "context[\"RNA_fastq_R1\"] = Path(context[\"read1_url\"]).name\n",
    "#context[\"RNA_fastq_R2\"] = Path(context[\"read2_url\"]).name\n",
    "\n",
    "# Merge in the barcode information\n",
    "context.update(barcode_sets[\"parse-wt-mega-v2\"])\n",
    "\n",
    "# Merge in the library information\n",
    "context.update(library_kits[\"parse-wt-mega-v2\"][\"single\"])\n",
    "\n",
    "# Merge in sequencer information\n",
    "# nextseq\n",
    "context.update(sequencing_kit_by_platform[\"/platform-terms/EFO_0010963/\"])\n",
    "\n",
    "# load the template and instantiate it with the context for this specific measurement set.\n",
    "# this version needs the libspec branch that separates the sequence and library specifications\n",
    "\n",
    "template_name = \"parse-wt-mega-v2-nanopore.yaml.j2\"\n",
    "#template_name = \"parse-wt-mega-v2-single-index-libspec-1.yaml.j2\"\n",
    "#template_name = \"y2ave_parse_bridge.yaml.j2\"\n",
    "template = env.get_template(template_name)\n",
    "\n",
    "# this version needs the original version that merges the sequence and library specification concepts\n",
    "#parse_wt_mega_v2 = env.get_template(\"parse-wt-mega-v2-single-index-seqspec-0.yaml.j2\")\n",
    "\n",
    "example_yaml = template.render(context)\n",
    "\n",
    "# validate the generated seqspec file.\n",
    "example_spec = load_spec_stream(StringIO(example_yaml))\n",
    "seqspec_validate(seqspec_schema, example_spec.to_dict())\n",
    "\n",
    "# Print the example for evaluation.\n",
    "print(example_yaml)"
   ]
  },
  {
   "cell_type": "code",
   "execution_count": 14,
   "id": "cognitive-admission",
   "metadata": {},
   "outputs": [
    {
     "data": {
      "text/plain": [
       "119"
      ]
     },
     "execution_count": 14,
     "metadata": {},
     "output_type": "execute_result"
    }
   ],
   "source": [
    "27 + 10 + 8 + 22 + 8 + 30 + 8 + 6"
   ]
  },
  {
   "cell_type": "code",
   "execution_count": 15,
   "id": "electrical-immune",
   "metadata": {},
   "outputs": [
    {
     "data": {
      "text/plain": [
       "154"
      ]
     },
     "execution_count": 15,
     "metadata": {},
     "output_type": "execute_result"
    }
   ],
   "source": [
    "sum([tso, primer, bc1, bc1_linker, bc2, bc2_linker, umi, adapter])"
   ]
  },
  {
   "cell_type": "code",
   "execution_count": 16,
   "id": "centered-bookmark",
   "metadata": {},
   "outputs": [
    {
     "name": "stdout",
     "output_type": "stream",
     "text": [
      "                                        ┌─'ont-top:36'\n",
      "                                        ├─'tso:30'\n",
      "                                        ├─'cDNA:35871'\n",
      "                                        ├─'primer:6'\n",
      "                                        ├─'barcode-1:8'\n",
      "                                        ├─'linker-1:30'\n",
      "─────────────────── ──rna───────────────┤\n",
      "                                        ├─'barcode-2:8'\n",
      "                                        ├─'linker-2:22'\n",
      "                                        ├─'barcode-3:8'\n",
      "                                        ├─'umi:10'\n",
      "                                        ├─'truseq_read2:34'\n",
      "                                        └─'ont-bottom:27'\n"
     ]
    }
   ],
   "source": [
    "print(run_print_library_tree(example_spec))"
   ]
  },
  {
   "cell_type": "code",
   "execution_count": 17,
   "id": "parental-potato",
   "metadata": {},
   "outputs": [
    {
     "data": {
      "image/png": "[encoded data removed]",
      "text/plain": [
       "<Figure size 1000x100 with 1 Axes>"
      ]
     },
     "metadata": {},
     "output_type": "display_data"
    }
   ],
   "source": [
    "_ = run_print_library_png(example_spec)"
   ]
  },
  {
   "cell_type": "code",
   "execution_count": 18,
   "id": "cleared-uniform",
   "metadata": {},
   "outputs": [
    {
     "data": {
      "text/plain": [
       "'TSTFI39351339.fastq.gz\\tont-top\\tpos\\t100\\t36025'"
      ]
     },
     "execution_count": 18,
     "metadata": {},
     "output_type": "execute_result"
    }
   ],
   "source": [
    "run_print_sequence_spec(example_spec)"
   ]
  },
  {
   "cell_type": "code",
   "execution_count": 19,
   "id": "perceived-nature",
   "metadata": {},
   "outputs": [
    {
     "data": {
      "text/plain": [
       "True"
      ]
     },
     "execution_count": 19,
     "metadata": {},
     "output_type": "execute_result"
    }
   ],
   "source": [
    "def validate_parse_index(example_spec, modality):\n",
    "    expected_index = \"1,10,18,1,48,56,1,78,86:1,0,10:0,0,150\"\n",
    "    expected_parts = expected_index.split(\":\")\n",
    "    index_rna = run_index(example_spec, \"rna\", [\"B01_13A_R1.fastq.gz\", \"B01_13A_R2.fastq.gz\"], fmt=\"kb\")\n",
    "    index_parts = index_rna.split(\":\")\n",
    "\n",
    "    assert len(expected_parts) == len(index_parts)\n",
    "    assert expected_parts[0] == index_parts[0], f\"{expected_parts[0]} != {index_parts[0]}\"\n",
    "    assert expected_parts[1] == index_parts[1], f\"{expected_parts[1]} != {index_parts[1]}\"\n",
    "    assert expected_parts[2] == index_parts[2], f\"{expected_parts[2]} != {index_parts[2]}\"\n",
    "\n",
    "def validate_share_index(example_spec, modality):\n",
    "    r = ['B01_13A_R1.fastq.gz', 'I1.fastq.gz', 'B01_13A_R2.fastq.gz']\n",
    "    index_rna = run_index(example_spec, \"rna\", r, fmt=\"kb\")\n",
    "    print(index_rna)\n",
    "    \n",
    "{\n",
    "    \"parse-wt-mega-v2-single-index-libspec-1.yaml.j2\": validate_parse_index,\n",
    "    \"y2ave_parse_bridge.yaml.j2\": validate_share_index,\n",
    "    \"parse-wt-mega-v2-nanopore.yaml.j2\": lambda x, y: True,\n",
    "}[template_name](example_spec, \"rna\")"
   ]
  },
  {
   "cell_type": "code",
   "execution_count": 20,
   "id": "intimate-intervention",
   "metadata": {},
   "outputs": [
    {
     "data": {
      "text/plain": [
       "[{'region_id': 'barcode-1',\n",
       "  'filename': 'barcode-1_onlist_v2.txt',\n",
       "  'location': 'local',\n",
       "  'md5': '5c3b70034e9cef5de735dc9d4f3fdbde'},\n",
       " {'region_id': 'barcode-2',\n",
       "  'filename': 'barcode-23_onlist.txt',\n",
       "  'location': 'local',\n",
       "  'md5': '1452e8ef104e6edf686fab8956172072'},\n",
       " {'region_id': 'barcode-3',\n",
       "  'filename': 'barcode-23_onlist.txt',\n",
       "  'location': 'local',\n",
       "  'md5': '1452e8ef104e6edf686fab8956172072'}]"
      ]
     },
     "execution_count": 20,
     "metadata": {},
     "output_type": "execute_result"
    }
   ],
   "source": [
    "run_list_onlists(example_spec, \"rna\")"
   ]
  },
  {
   "cell_type": "code",
   "execution_count": 21,
   "id": "broken-immune",
   "metadata": {},
   "outputs": [
    {
     "data": {
      "text/plain": [
       "[{'region_id': 'barcode-1', 'region_type': 'barcode', 'name': 'barcode-1', 'sequence_type': 'onlist', 'onlist': {'filename': 'barcode-1_onlist_v2.txt', 'location': 'local', 'md5': '5c3b70034e9cef5de735dc9d4f3fdbde'}, 'sequence': 'NNNNNNNN', 'min_len': 8, 'max_len': 8, 'regions': None},\n",
       " {'region_id': 'barcode-2', 'region_type': 'barcode', 'name': 'barcode-2', 'sequence_type': 'onlist', 'onlist': {'filename': 'barcode-23_onlist.txt', 'location': 'local', 'md5': '1452e8ef104e6edf686fab8956172072'}, 'sequence': 'NNNNNNNN', 'min_len': 8, 'max_len': 8, 'regions': None},\n",
       " {'region_id': 'barcode-3', 'region_type': 'barcode', 'name': 'barcode-3', 'sequence_type': 'onlist', 'onlist': {'filename': 'barcode-23_onlist.txt', 'location': 'local', 'md5': '1452e8ef104e6edf686fab8956172072'}, 'sequence': 'NNNNNNNN', 'min_len': 8, 'max_len': 8, 'regions': None}]"
      ]
     },
     "execution_count": 21,
     "metadata": {},
     "output_type": "execute_result"
    }
   ],
   "source": [
    "example_spec.get_libspec(\"rna\").get_region_by_region_type(\"barcode\")"
   ]
  },
  {
   "cell_type": "code",
   "execution_count": 22,
   "id": "sapphire-thread",
   "metadata": {},
   "outputs": [
    {
     "ename": "IndexError",
     "evalue": "region_id B01_13A_R2.fastq.gz not found in reads ['TSTFI39351339.fastq.gz']",
     "output_type": "error",
     "traceback": [
      "\u001b[0;31m---------------------------------------------------------------------------\u001b[0m",
      "\u001b[0;31mIndexError\u001b[0m                                Traceback (most recent call last)",
      "Cell \u001b[0;32mIn [22], line 1\u001b[0m\n\u001b[0;32m----> 1\u001b[0m joined_name \u001b[38;5;241m=\u001b[39m \u001b[43mrun_onlist_read\u001b[49m\u001b[43m(\u001b[49m\u001b[43mexample_spec\u001b[49m\u001b[43m,\u001b[49m\u001b[43m \u001b[49m\u001b[38;5;124;43m\"\u001b[39;49m\u001b[38;5;124;43mrna\u001b[39;49m\u001b[38;5;124;43m\"\u001b[39;49m\u001b[43m,\u001b[49m\u001b[43m \u001b[49m\u001b[38;5;124;43m\"\u001b[39;49m\u001b[38;5;124;43mB01_13A_R2.fastq.gz\u001b[39;49m\u001b[38;5;124;43m\"\u001b[39;49m\u001b[43m)\u001b[49m\n\u001b[1;32m      2\u001b[0m joined_name\n",
      "File \u001b[0;32m~/proj/seqspec/seqspec/seqspec_onlist.py:159\u001b[0m, in \u001b[0;36mrun_onlist_read\u001b[0;34m(spec, modality, read_id)\u001b[0m\n\u001b[1;32m    158\u001b[0m \u001b[38;5;28;01mdef\u001b[39;00m \u001b[38;5;21mrun_onlist_read\u001b[39m(spec: Assay, modality: \u001b[38;5;28mstr\u001b[39m, read_id: \u001b[38;5;28mstr\u001b[39m) \u001b[38;5;241m-\u001b[39m\u001b[38;5;241m>\u001b[39m List[Onlist]:\n\u001b[0;32m--> 159\u001b[0m     (read, rgns) \u001b[38;5;241m=\u001b[39m \u001b[43mmap_read_id_to_regions\u001b[49m\u001b[43m(\u001b[49m\u001b[43mspec\u001b[49m\u001b[43m,\u001b[49m\u001b[43m \u001b[49m\u001b[43mmodality\u001b[49m\u001b[43m,\u001b[49m\u001b[43m \u001b[49m\u001b[43mread_id\u001b[49m\u001b[43m)\u001b[49m\n\u001b[1;32m    160\u001b[0m     \u001b[38;5;66;03m# convert regions to region coordinates\u001b[39;00m\n\u001b[1;32m    161\u001b[0m     rcs \u001b[38;5;241m=\u001b[39m project_regions_to_coordinates(rgns)\n",
      "File \u001b[0;32m~/proj/seqspec/seqspec/utils.py:212\u001b[0m, in \u001b[0;36mmap_read_id_to_regions\u001b[0;34m(spec, modality, region_id)\u001b[0m\n\u001b[1;32m    210\u001b[0m         \u001b[38;5;28;01mbreak\u001b[39;00m\n\u001b[1;32m    211\u001b[0m \u001b[38;5;28;01melse\u001b[39;00m:\n\u001b[0;32m--> 212\u001b[0m     \u001b[38;5;28;01mraise\u001b[39;00m \u001b[38;5;167;01mIndexError\u001b[39;00m(\u001b[38;5;124m\"\u001b[39m\u001b[38;5;124mregion_id \u001b[39m\u001b[38;5;132;01m{}\u001b[39;00m\u001b[38;5;124m not found in reads \u001b[39m\u001b[38;5;132;01m{}\u001b[39;00m\u001b[38;5;124m\"\u001b[39m\u001b[38;5;241m.\u001b[39mformat(\n\u001b[1;32m    213\u001b[0m         region_id, [i\u001b[38;5;241m.\u001b[39mread_id \u001b[38;5;28;01mfor\u001b[39;00m i \u001b[38;5;129;01min\u001b[39;00m spec\u001b[38;5;241m.\u001b[39msequence_spec]))\n\u001b[1;32m    214\u001b[0m primer_id \u001b[38;5;241m=\u001b[39m read\u001b[38;5;241m.\u001b[39mprimer_id\n\u001b[1;32m    215\u001b[0m \u001b[38;5;66;03m# get the index of the primer in the list of leaves (ASSUMPTION, 5'->3' and primer is an atomic element)\u001b[39;00m\n",
      "\u001b[0;31mIndexError\u001b[0m: region_id B01_13A_R2.fastq.gz not found in reads ['TSTFI39351339.fastq.gz']"
     ]
    }
   ],
   "source": [
    "joined_name = run_onlist_read(example_spec, \"rna\", \"B01_13A_R2.fastq.gz\")\n",
    "joined_name"
   ]
  },
  {
   "cell_type": "code",
   "execution_count": null,
   "id": "physical-singles",
   "metadata": {},
   "outputs": [],
   "source": []
  },
  {
   "cell_type": "code",
   "execution_count": null,
   "id": "unlikely-omaha",
   "metadata": {},
   "outputs": [],
   "source": [
    "if joined_name is not None:\n",
    "    joined = pandas.read_csv(\"onlist_joined.txt\", header=None, sep=\" \")\n",
    "    print(\"length = \", joined.shape[0])\n",
    "    print(joined)"
   ]
  },
  {
   "cell_type": "code",
   "execution_count": null,
   "id": "eleven-account",
   "metadata": {},
   "outputs": [],
   "source": [
    "assert numpy.all(joined.loc[0].values == [\"AACGTGAT\", \"AACGTGAT\", \"CATTCCTA\"])"
   ]
  },
  {
   "cell_type": "code",
   "execution_count": null,
   "id": "premier-guest",
   "metadata": {},
   "outputs": [],
   "source": [
    "!rm onlist_joined.txt"
   ]
  },
  {
   "cell_type": "code",
   "execution_count": 23,
   "id": "third-murray",
   "metadata": {},
   "outputs": [],
   "source": [
    "example_spec.update_spec()"
   ]
  },
  {
   "cell_type": "code",
   "execution_count": 24,
   "id": "b9817820",
   "metadata": {
    "scrolled": false
   },
   "outputs": [
    {
     "name": "stdout",
     "output_type": "stream",
     "text": [
      "!Assay\n",
      "seqspec_version: 0.1.1\n",
      "assay_id: Evercode-WT-mega-nanpore-v2\n",
      "doi: https://docs.google.com/presentation/d/17yKh6xE5b9Mo4DaXx5uPvFZOIHOW0kbK-QsU2ECwx8c/edit#slide=id.g29abb1440dc_0_500\n",
      "date: 13 August 2024\n",
      "name: Parse Evercode mega WT v2 using nanopore\n",
      "description: split-pool ligation-based ONT transcriptome sequencing\n",
      "modalities:\n",
      "- rna\n",
      "lib_struct: ''\n",
      "library_protocol: Any\n",
      "library_kit: Evercode WT Mega v2.0.1 dual index\n",
      "sequence_protocol: Illumina NextSeq 2000\n",
      "sequence_kit: NextSeq 2000 P4 XLEAP-SBS Reagent Kit\n",
      "sequence_spec:\n",
      "- !Read\n",
      "  read_id: TSTFI39351339.fastq.gz\n",
      "  name: Fastq for TSTFI39351339\n",
      "  modality: rna\n",
      "  primer_id: ont-top\n",
      "  min_len: 100\n",
      "  max_len: 36025\n",
      "  strand: pos\n",
      "library_spec:\n",
      "- !Region\n",
      "  region_id: rna\n",
      "  region_type: rna\n",
      "  name: rna\n",
      "  sequence_type: joined\n",
      "  sequence: TTTTTTTTCCTGTACTTCGTTCAGTTACGTATTGCTAAGCAGTGGTATCAACGCAGAGTGAATGGGXXXXXXXXXXXXXXXXXXXXXXXXXXXXXXXXXXXXXXXXXXXXXXXXXXXXXXXXXXXXXXXXXXXXXXXXXXXXXXXXXXXXXXXXXXXXXXXXXXXXXXXXXXNNNNNNNNGTGGCCGATGTTTCGCATCGGCGTACGACTNNNNNNNNATCCACGTGCTTGAGACTGTGGNNNNNNNNXXXXXXXXXXAGATCGGAAGAGCACACGTCTGAACTCCAGTCACGCAATACGTAACTGAACGAAGTACAGG\n",
      "  min_len: 319\n",
      "  max_len: 36090\n",
      "  onlist: null\n",
      "  regions:\n",
      "  - !Region\n",
      "    region_id: ont-top\n",
      "    region_type: custom_primer\n",
      "    name: ont-top\n",
      "    sequence_type: fixed\n",
      "    sequence: TTTTTTTTCCTGTACTTCGTTCAGTTACGTATTGCT\n",
      "    min_len: 36\n",
      "    max_len: 36\n",
      "    onlist: null\n",
      "    regions: null\n",
      "    parent_id: rna\n",
      "  - !Region\n",
      "    region_id: tso\n",
      "    region_type: custom_primer\n",
      "    name: tso\n",
      "    sequence_type: fixed\n",
      "    sequence: AAGCAGTGGTATCAACGCAGAGTGAATGGG\n",
      "    min_len: 30\n",
      "    max_len: 30\n",
      "    onlist: null\n",
      "    regions: null\n",
      "    parent_id: rna\n",
      "  - !Region\n",
      "    region_id: cDNA\n",
      "    region_type: cdna\n",
      "    name: cDNA\n",
      "    sequence_type: random\n",
      "    sequence: XXXXXXXXXXXXXXXXXXXXXXXXXXXXXXXXXXXXXXXXXXXXXXXXXXXXXXXXXXXXXXXXXXXXXXXXXXXXXXXXXXXXXXXXXXXXXXXXXXXX\n",
      "    min_len: 100\n",
      "    max_len: 35871\n",
      "    onlist: null\n",
      "    regions: null\n",
      "    parent_id: rna\n",
      "  - !Region\n",
      "    region_id: primer\n",
      "    region_type: custom_primer\n",
      "    name: primer\n",
      "    sequence_type: random\n",
      "    sequence: XXXXXX\n",
      "    min_len: 6\n",
      "    max_len: 6\n",
      "    onlist: null\n",
      "    regions: null\n",
      "    parent_id: rna\n",
      "  - !Region\n",
      "    region_id: barcode-1\n",
      "    region_type: barcode\n",
      "    name: barcode-1\n",
      "    sequence_type: onlist\n",
      "    sequence: NNNNNNNN\n",
      "    min_len: 8\n",
      "    max_len: 8\n",
      "    onlist: !Onlist\n",
      "      filename: barcode-1_onlist_v2.txt\n",
      "      md5: 5c3b70034e9cef5de735dc9d4f3fdbde\n",
      "      location: local\n",
      "    regions: null\n",
      "    parent_id: rna\n",
      "  - !Region\n",
      "    region_id: linker-1\n",
      "    region_type: linker\n",
      "    name: linker-1\n",
      "    sequence_type: fixed\n",
      "    sequence: GTGGCCGATGTTTCGCATCGGCGTACGACT\n",
      "    min_len: 30\n",
      "    max_len: 30\n",
      "    onlist: null\n",
      "    regions: null\n",
      "    parent_id: rna\n",
      "  - !Region\n",
      "    region_id: barcode-2\n",
      "    region_type: barcode\n",
      "    name: barcode-2\n",
      "    sequence_type: onlist\n",
      "    sequence: NNNNNNNN\n",
      "    min_len: 8\n",
      "    max_len: 8\n",
      "    onlist: !Onlist\n",
      "      filename: barcode-23_onlist.txt\n",
      "      md5: 1452e8ef104e6edf686fab8956172072\n",
      "      location: local\n",
      "    regions: null\n",
      "    parent_id: rna\n",
      "  - !Region\n",
      "    region_id: linker-2\n",
      "    region_type: linker\n",
      "    name: linker-2\n",
      "    sequence_type: fixed\n",
      "    sequence: ATCCACGTGCTTGAGACTGTGG\n",
      "    min_len: 22\n",
      "    max_len: 22\n",
      "    onlist: null\n",
      "    regions: null\n",
      "    parent_id: rna\n",
      "  - !Region\n",
      "    region_id: barcode-3\n",
      "    region_type: barcode\n",
      "    name: barcode-3\n",
      "    sequence_type: onlist\n",
      "    sequence: NNNNNNNN\n",
      "    min_len: 8\n",
      "    max_len: 8\n",
      "    onlist: !Onlist\n",
      "      filename: barcode-23_onlist.txt\n",
      "      md5: 1452e8ef104e6edf686fab8956172072\n",
      "      location: local\n",
      "    regions: null\n",
      "    parent_id: rna\n",
      "  - !Region\n",
      "    region_id: umi\n",
      "    region_type: umi\n",
      "    name: umi\n",
      "    sequence_type: random\n",
      "    sequence: XXXXXXXXXX\n",
      "    min_len: 10\n",
      "    max_len: 10\n",
      "    onlist: null\n",
      "    regions: null\n",
      "    parent_id: rna\n",
      "  - !Region\n",
      "    region_id: truseq_read2\n",
      "    region_type: truseq_read2\n",
      "    name: Illumina Read 2\n",
      "    sequence_type: fixed\n",
      "    sequence: AGATCGGAAGAGCACACGTCTGAACTCCAGTCAC\n",
      "    min_len: 34\n",
      "    max_len: 34\n",
      "    onlist: null\n",
      "    regions: null\n",
      "    parent_id: rna\n",
      "  - !Region\n",
      "    region_id: ont-bottom\n",
      "    region_type: custom_primer\n",
      "    sequence_type: fixed\n",
      "    sequence: GCAATACGTAACTGAACGAAGTACAGG\n",
      "    name: ont-bottom\n",
      "    min_len: 27\n",
      "    max_len: 27\n",
      "    onlist: null\n",
      "    regions: null\n",
      "    parent_id: rna\n",
      "  parent_id: null\n",
      "\n"
     ]
    }
   ],
   "source": [
    "print(example_spec.to_YAML())"
   ]
  },
  {
   "cell_type": "code",
   "execution_count": null,
   "id": "a7832dd9",
   "metadata": {},
   "outputs": [],
   "source": []
  }
 ],
 "metadata": {
  "kernelspec": {
   "display_name": "Python 3 (ipykernel)",
   "language": "python",
   "name": "python3"
  },
  "language_info": {
   "codemirror_mode": {
    "name": "ipython",
    "version": 3
   },
   "file_extension": ".py",
   "mimetype": "text/x-python",
   "name": "python",
   "nbconvert_exporter": "python",
   "pygments_lexer": "ipython3",
   "version": "3.11.2"
  }
 },
 "nbformat": 4,
 "nbformat_minor": 5
}
