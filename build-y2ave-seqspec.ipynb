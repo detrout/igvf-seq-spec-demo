{
 "cells": [
  {
   "cell_type": "markdown",
   "id": "expected-boutique",
   "metadata": {},
   "source": [
    "# Introduction\n",
    "\n",
    "The Y2AVE project needs seqspecs that use filenames available on synapse.\n",
    "\n",
    "- [Python environment](#Setup)\n",
    "- [Defining the template](#Defining-the-template)\n",
    "  - [Print example seqspec](#Print-example-seqspec)\n",
    "- [Generate team seqspec tarfile](#Generate-team-seqspec-tarfile)\n",
    "\n",
    "There's roughly two sections to this notebook, the first is designe\n"
   ]
  },
  {
   "cell_type": "markdown",
   "id": "acceptable-cruise",
   "metadata": {},
   "source": [
    "# Connecting teams to seqspecs"
   ]
  },
  {
   "cell_type": "markdown",
   "id": "objective-brand",
   "metadata": {},
   "source": [
    "This spreadsheet has the longer descriptions of the datasets and what team they were assigned to. \n",
    "[IGVF Single Cell datasets for Y2AVE](https://docs.google.com/spreadsheets/d/1QWa1JUzs7pR02P8uS95MWIqW8-Ldh7BX6D990YXXQbQ/edit#gid=0)\n",
    "\n",
    "<table>\n",
    "    <thead>\n",
    "        <tr><td>Team></td><td>Chemistry</td><td>Seqspec</td><tr>\n",
    "    </thead>\n",
    "    <tbody>\n",
    "        <tr><td>Team 1</td><td>10x_multiome</td><td>characterization_mcginnis</td><tr>\n",
    "        <tr><td>Team 2</td><td>10x_multiome</td><td>characterization_mcginnis (is there 2 for team 2?)</td><tr>\n",
    "        <tr><td>Team 3</td><td>10x_multiome</td><td></td><tr>\n",
    "        <tr><td>Team 4</td><td>10x_v2</td>      <td></td><tr>\n",
    "        <tr><td>Team 5</td><td>10x_multiome</td><td></td><tr>\n",
    "        <tr><td>Team 6</td><td>10x_v2</td>      <td>10xsnatac</td><tr>\n",
    "        <tr><td>Team 7</td><td>10x_multiome</td><td>10xmultiome_bridge_satpathy</td><tr>\n",
    "        <tr><td>Team 7</td><td>parse</td>       <td>parse_bridge</td><tr>\n",
    "        <tr><td>Team 8</td><td>shareseq</td>    <td>shareseq_bmmc_single_donor</td><tr>\n",
    "    </tbody>\n",
    "</table>\n",
    "\n",
    "This synapse folder contains the snapshots of the AnVIL tables created during the first Y2AVE jamboree.\n",
    "[Tables from past jamborees](https://drive.google.com/drive/folders/11LwkduQZTqKolIodTZywoUj0N2apIz41)\n",
    "The notebook as it currently is written expects to find those files present in the current directory.\n",
    "\n",
    "More work needs to be done to match datasets to seqspec templates."
   ]
  },
  {
   "cell_type": "markdown",
   "id": "systematic-binary",
   "metadata": {},
   "source": [
    "# Setup\n",
    "\n",
    "First we start with general imports"
   ]
  },
  {
   "cell_type": "code",
   "execution_count": 1,
   "id": "irish-queue",
   "metadata": {},
   "outputs": [],
   "source": [
    "import hashlib\n",
    "import requests\n",
    "from pathlib import Path\n",
    "from io import StringIO, BytesIO\n",
    "import sys\n",
    "import json\n",
    "from jsonschema import Draft4Validator\n",
    "import logging\n",
    "import pandas\n",
    "import os\n",
    "import sys\n",
    "import tarfile\n",
    "from urllib.parse import urlparse\n",
    "import yaml"
   ]
  },
  {
   "cell_type": "code",
   "execution_count": 2,
   "id": "double-break",
   "metadata": {},
   "outputs": [],
   "source": [
    "try:\n",
    "    from jinja2 import Environment\n",
    "except ImportError:\n",
    "    !{sys.executable} -m pip install --user jinja2\n",
    "    from jinja2 import Environment\n",
    "\n",
    "from jinja2 import FileSystemLoader, select_autoescape, Undefined, StrictUndefined, make_logging_undefined\n",
    "\n",
    "logger = logging.getLogger(__name__)\n",
    "LoggingUndefined = make_logging_undefined(\n",
    "    logger=logger,\n",
    "    base=Undefined\n",
    ")\n",
    "\n",
    "env = Environment(\n",
    "    loader=FileSystemLoader(\"templates\"),\n",
    "    autoescape=select_autoescape(),\n",
    "    undefined=LoggingUndefined,\n",
    ")"
   ]
  },
  {
   "cell_type": "markdown",
   "id": "bibliographic-jonathan",
   "metadata": {},
   "source": [
    "I want to be able to use the seqspec validator while I was writing my seqspec file.\n",
    "\n",
    "I have the repository checked out into ~/proj/seqspec. This block should either import it for me, or install it if someone elese runs it."
   ]
  },
  {
   "cell_type": "code",
   "execution_count": 3,
   "id": "fleet-pillow",
   "metadata": {},
   "outputs": [],
   "source": [
    "try:\n",
    "    import seqspec\n",
    "except ImportError:\n",
    "    seqspec_root = Path(\"~/proj/seqspec\").expanduser()\n",
    "    if seqspec_root.exists() and str(seqspec_root) not in sys.path:\n",
    "        sys.path.append(str(seqspec_root))\n",
    "    else:\n",
    "        !{sys.executable} -m pip install --user seqspec\n",
    "    import seqspec"
   ]
  },
  {
   "cell_type": "markdown",
   "id": "usual-census",
   "metadata": {},
   "source": [
    "Import pieces of seqspec that we need for this notebook."
   ]
  },
  {
   "cell_type": "code",
   "execution_count": 4,
   "id": "entire-faculty",
   "metadata": {},
   "outputs": [],
   "source": [
    "from seqspec.Assay import Assay\n",
    "from seqspec.Region import Region\n",
    "from seqspec.Region import Onlist\n",
    "from seqspec.utils import load_spec_stream\n",
    "from seqspec.seqspec_index import run_index, get_index\n",
    "from seqspec.seqspec_print import run_print_sequence_spec, run_print_library_tree, run_print_library_png\n",
    "from seqspec.seqspec_onlist import (\n",
    "    run_list_onlists, run_onlist_read, run_onlist_region, run_onlist_region_type, run_find_by_type\n",
    ")"
   ]
  },
  {
   "cell_type": "markdown",
   "id": "female-battery",
   "metadata": {},
   "source": [
    "## define seqspec validation functions"
   ]
  },
  {
   "cell_type": "code",
   "execution_count": 5,
   "id": "nearby-canon",
   "metadata": {},
   "outputs": [],
   "source": [
    "def seqspec_validate(schema, spec):\n",
    "    \"\"\"Validate a yaml object against a json schema\n",
    "    \"\"\"\n",
    "    validator = Draft4Validator(schema)\n",
    "\n",
    "    for idx, error in enumerate(validator.iter_errors(spec), 1):\n",
    "        print(f\"[{idx}] {error.message}\")"
   ]
  },
  {
   "cell_type": "code",
   "execution_count": 6,
   "id": "accurate-malpractice",
   "metadata": {},
   "outputs": [],
   "source": [
    "def generate_seqspec_index(spec, row):\n",
    "    modalities = [\n",
    "        (\"atac\", \"chromap\", (\"ATAC_fastq_R1\", \"ATAC_fastq_R2\",\"ATAC_barcode\")),\n",
    "        (\"rna\", \"kb\", (\"RNA_fastq_R1\", \"RNA_fastq_R2\")),\n",
    "        #(\"rna\", \"starsolo\", (\"RNA_fastq_R1\", \"RNA_fastq_R2\")),\n",
    "    ]\n",
    "    args = {}\n",
    "    for (modality, tool, names) in modalities:\n",
    "        if len(names) > 0 and row.get(names[0]) is not None and len(row[names[0]]) > 0:\n",
    "            fastqs = [Path(x).name for x in next(zip(*(row[x] for x in names)))]\n",
    "            print(fastqs)\n",
    "\n",
    "            args[tool] = run_index(spec, modality, fastqs, fmt=tool)\n",
    "    return args\n",
    "\n",
    "def validate_seqspec_onlist(spec, row):\n",
    "    \"\"\"Check that the onlist calculated by seqspec matches the table\n",
    "    \"\"\"\n",
    "    modalities = [\n",
    "        # modality, format, read1_name, barcode_name\n",
    "        (\"atac\", \"product\", \"ATAC_fastq_R1\", \"Barcode_inclusion_list_ATAC\"),\n",
    "        (\"rna\", \"multi\", \"RNA_fastq_R1\", \"Barcode_inclusion_list_RNA\"),\n",
    "    ]\n",
    "    # Team 8 has a single barcode column Barcode_inclusion_list which I guess applies to both?\n",
    "    def get_barcode(row, barcode_name):\n",
    "        for name in [barcode_name, \"Barcode_inclusion_list\"]:\n",
    "            if name in row:\n",
    "                return row[name]\n",
    "        return []\n",
    "    \n",
    "    barcodes = {}\n",
    "    for modality, onlist_format, r1_name, barcode_name in modalities:\n",
    "        if row.get(r1_name) is not None and len(row.get(r1_name)) > 0:\n",
    "            regions = run_find_by_type(spec, modality, \"barcode\")\n",
    "            onlist_filenames = [x.onlist.filename for x in regions]\n",
    "            found_filenames = set(onlist_filenames)\n",
    "            expected_filenames = set([Path(x).name for x in get_barcode(row, barcode_name)])\n",
    "            if expected_filenames == {\"parse-splitseq-v2.tar.gz\"}:\n",
    "                expected_filenames = {'CB1.txt', 'CB23.txt'}\n",
    "            elif expected_filenames == {\"sai_192_whitelist.txt\"}:\n",
    "                expected_filenames = {\"R1_human_barcodes.txt\", \"R2_human_barcodes.txt\", \"R3_human_barcodes.txt\"}\n",
    "\n",
    "            if found_filenames != expected_filenames:\n",
    "                raise ValueError(\"Barcodes for modality {} don't match '{}', '{}'\".format(\n",
    "                    modality, found_filenames, expected_filenames))\n",
    "            barcodes[modality] = onlist_filenames\n",
    "            \n",
    "    return barcodes"
   ]
  },
  {
   "cell_type": "code",
   "execution_count": 7,
   "id": "minor-harmony",
   "metadata": {},
   "outputs": [],
   "source": [
    "schema_path = seqspec_root / \"seqspec\"/ \"schema\" / \"seqspec.schema.json\"\n",
    "\n",
    "with open(schema_path, \"rt\") as instream:\n",
    "    seqspec_schema = json.load(instream)"
   ]
  },
  {
   "cell_type": "code",
   "execution_count": 8,
   "id": "regional-remedy",
   "metadata": {},
   "outputs": [],
   "source": [
    "def load_spec(filename):\n",
    "    with open(filename, \"rt\") as instream:\n",
    "        data = yaml.load(instream, Loader=yaml.Loader)\n",
    "        for r in data.assay_spec:\n",
    "            r.set_parent_id(None)\n",
    "    return data"
   ]
  },
  {
   "cell_type": "markdown",
   "id": "valuable-meditation",
   "metadata": {},
   "source": [
    "## Functions for loading the team tables"
   ]
  },
  {
   "cell_type": "code",
   "execution_count": 9,
   "id": "sound-multimedia",
   "metadata": {},
   "outputs": [],
   "source": [
    "def parse_list_field(cell):\n",
    "    if cell is None:\n",
    "        return []\n",
    "    elif len(cell) < 2:\n",
    "        return []\n",
    "    elif cell in (\"[]\", \"['']\", '[\"\"]'):\n",
    "        return []\n",
    "\n",
    "    if cell[0] == \"[\" and cell[-1] == \"]\":\n",
    "        values = []\n",
    "        for element in cell[1:-1].split(\",\"):\n",
    "            values.append(element[1:-1])\n",
    "        return values\n",
    "    else:\n",
    "        return [cell]\n",
    "    \n",
    "assert parse_list_field(\"['']\") == []\n",
    "assert parse_list_field(\"\") == []\n",
    "assert parse_list_field('[\"x/next1_B01_13A_R1.fastq.gz\",\"x/next2_B01_13A_R1.fastq.gz\"]') == ['x/next1_B01_13A_R1.fastq.gz', 'x/next2_B01_13A_R1.fastq.gz']"
   ]
  },
  {
   "cell_type": "code",
   "execution_count": 10,
   "id": "usual-greenhouse",
   "metadata": {},
   "outputs": [],
   "source": [
    "def load_team_table(team_id):\n",
    "    team = pandas.read_csv(\n",
    "        Path(f\"{team_id}.tsv\"), \n",
    "        sep=\"\\t\",\n",
    "        converters = {\n",
    "            \"ATAC_barcode\": parse_list_field,\n",
    "            \"ATAC_fastq_R1\": parse_list_field, \n",
    "            \"ATAC_fastq_R2\": parse_list_field,\n",
    "            \"Barcode_inclusion_list_ATAC\": parse_list_field,\n",
    "            \"RNA_fastq_R1\": parse_list_field,\n",
    "            \"RNA_fastq_R2\": parse_list_field,\n",
    "            \"Barcode_inclusion_list_RNA\": parse_list_field,\n",
    "            \"Barcode_inclusion_list\": parse_list_field,\n",
    "        }\n",
    "\n",
    "    )\n",
    "    return team"
   ]
  },
  {
   "cell_type": "markdown",
   "id": "funded-proof",
   "metadata": {},
   "source": [
    "## Load all the teams to see what the columns and chemistry values look like"
   ]
  },
  {
   "cell_type": "code",
   "execution_count": 11,
   "id": "generic-notification",
   "metadata": {},
   "outputs": [
    {
     "name": "stdout",
     "output_type": "stream",
     "text": [
      "Team_1 {'10x_multiome'} Index(['entity:Team_1_id', 'ATAC_barcode', 'ATAC_barcode_offset',\n",
      "       'ATAC_fastq_R1', 'ATAC_fastq_R2', 'Barcode_inclusion_list_ATAC',\n",
      "       'Barcode_inclusion_list_RNA', 'Chemistry', 'Genome', 'genome_tsv',\n",
      "       'html_summary', 'joint_barcode_metadata', 'reference_fasta',\n",
      "       'RNA_fastq_R1', 'RNA_fastq_R2', 'share_atac_barcode_metadata',\n",
      "       'share_atac_filter_fragments', 'share_atac_filter_fragments_index',\n",
      "       'share_rna_barcode_metadata', 'share_rna_final_bam', 'share_rna_h5',\n",
      "       'share_rna_starsolo_raw_tar', 'Subpool'],\n",
      "      dtype='object')\n",
      "Team_2 {'10x_multiome'} Index(['entity:Team_2_id', 'ATAC_barcode', 'ATAC_barcode_offset',\n",
      "       'ATAC_fastq_R1', 'ATAC_fastq_R2', 'Barcode_inclusion_list_ATAC',\n",
      "       'Barcode_inclusion_list_RNA', 'Chemistry', 'Genome', 'genome_tsv',\n",
      "       'html_summary', 'joint_barcode_metadata', 'reference_fasta',\n",
      "       'RNA_fastq_R1', 'RNA_fastq_R2', 'share_atac_barcode_metadata',\n",
      "       'share_atac_filter_fragments', 'share_atac_filter_fragments_index',\n",
      "       'share_rna_barcode_metadata', 'share_rna_final_bam', 'share_rna_h5',\n",
      "       'share_rna_starsolo_raw_tar', 'Subpool'],\n",
      "      dtype='object')\n",
      "Team_3 {'10x_v2', '10x_multiome'} Index(['entity:Team_3_id', 'ATAC_barcode', 'ATAC_barcode_offset',\n",
      "       'ATAC_fastq_R1', 'ATAC_fastq_R2', 'Barcode_inclusion_list_ATAC',\n",
      "       'Chemistry', 'Genome', 'genome_tsv', 'html_summary',\n",
      "       'joint_barcode_metadata', 'reference_fasta',\n",
      "       'share_atac_barcode_metadata', 'share_atac_filter_fragments',\n",
      "       'share_atac_filter_fragments_index', 'share_rna_barcode_metadata',\n",
      "       'share_rna_final_bam', 'share_rna_h5', 'share_rna_starsolo_raw_tar',\n",
      "       'Subpool'],\n",
      "      dtype='object')\n",
      "Team_4 {'10x_v2'} Index(['entity:Team_4_id', 'ATAC_barcode', 'ATAC_barcode_offset',\n",
      "       'ATAC_fastq_R1', 'ATAC_fastq_R2', 'Barcode_inclusion_list_ATAC',\n",
      "       'Barcode_inclusion_list_RNA', 'Chemistry', 'Genome', 'genome_tsv',\n",
      "       'html_summary', 'joint_barcode_metadata', 'reference_fasta',\n",
      "       'RNA_fastq_R1', 'RNA_fastq_R2', 'share_atac_barcode_metadata',\n",
      "       'share_atac_filter_fragments', 'share_atac_filter_fragments_index',\n",
      "       'share_rna_barcode_metadata', 'share_rna_final_bam', 'share_rna_h5',\n",
      "       'share_rna_starsolo_raw_tar', 'Subpool'],\n",
      "      dtype='object')\n",
      "Team_5 {'10x_v2', '10x_multiome'} Index(['entity:Team_5_id', 'ATAC_barcode', 'ATAC_barcode_offset',\n",
      "       'ATAC_fastq_R1', 'ATAC_fastq_R2', 'Barcode_inclusion_list_ATAC',\n",
      "       'Barcode_inclusion_list_RNA', 'Chemistry', 'Genome', 'genome_tsv',\n",
      "       'html_summary', 'joint_barcode_metadata', 'reference_fasta',\n",
      "       'RNA_fastq_R1', 'RNA_fastq_R2', 'share_atac_barcode_metadata',\n",
      "       'share_atac_filter_fragments', 'share_atac_filter_fragments_index',\n",
      "       'share_rna_barcode_metadata', 'share_rna_final_bam', 'share_rna_h5',\n",
      "       'share_rna_starsolo_raw_tar', 'Subpool'],\n",
      "      dtype='object')\n",
      "Team_6 {'10x_v2', '10x_multiome'} Index(['entity:Team_6_id', 'ATAC_barcode', 'ATAC_barcode_offset',\n",
      "       'ATAC_fastq_R1', 'ATAC_fastq_R2', 'Barcode_inclusion_list_ATAC',\n",
      "       'Barcode_inclusion_list_RNA', 'Chemistry', 'Genome', 'genome_tsv',\n",
      "       'html_summary', 'joint_barcode_metadata', 'reference_fasta',\n",
      "       'RNA_fastq_R1', 'RNA_fastq_R2', 'share_atac_barcode_metadata',\n",
      "       'share_atac_filter_fragments', 'share_atac_filter_fragments_index',\n",
      "       'share_rna_barcode_metadata', 'share_rna_final_bam', 'share_rna_h5',\n",
      "       'share_rna_starsolo_raw_tar', 'Subpool'],\n",
      "      dtype='object')\n",
      "Team_7 {'10x_multiome', 'parse'} Index(['entity:Team_7_id', 'ATAC_barcode', 'ATAC_barcode_offset',\n",
      "       'ATAC_fastq_R1', 'ATAC_fastq_R2', 'Barcode_inclusion_list_ATAC',\n",
      "       'Barcode_inclusion_list_RNA', 'Chemistry', 'Genome', 'genome_tsv',\n",
      "       'html_summary', 'joint_barcode_metadata', 'reference_fasta',\n",
      "       'RNA_fastq_R1', 'RNA_fastq_R2', 'share_atac_barcode_metadata',\n",
      "       'share_atac_filter_fragments', 'share_atac_filter_fragments_index',\n",
      "       'share_rna_barcode_metadata', 'share_rna_final_bam', 'share_rna_h5',\n",
      "       'share_rna_starsolo_raw_tar', 'Subpool'],\n",
      "      dtype='object')\n",
      "Team_8 {'shareseq'} Index(['entity:Team_8_id', 'ATAC_barcode', 'ATAC_barcode_offset',\n",
      "       'ATAC_fastq_R1', 'ATAC_fastq_R2', 'atac_read1_processed',\n",
      "       'atac_read2_processed', 'Barcode_inclusion_list', 'Chemistry', 'Genome',\n",
      "       'genome_tsv', 'html_summary', 'joint_barcode_metadata',\n",
      "       'reference_fasta', 'RNA_fastq_R1', 'RNA_fastq_R2',\n",
      "       'share_atac_barcode_metadata', 'share_atac_filter_fragments',\n",
      "       'share_atac_filter_fragments_index', 'share_rna_barcode_metadata',\n",
      "       'share_rna_final_bam', 'share_rna_h5', 'share_rna_starsolo_raw_tar',\n",
      "       'Subpool'],\n",
      "      dtype='object')\n"
     ]
    }
   ],
   "source": [
    "teams = [\"Team_1\", \"Team_2\", \"Team_3\", \"Team_4\", \"Team_5\", \"Team_6\", \"Team_7\", \"Team_8\"]\n",
    "\n",
    "for team_id in teams:\n",
    "    table = load_team_table(team_id)\n",
    "    print(team_id, set(table[\"Chemistry\"]), table.columns)"
   ]
  },
  {
   "cell_type": "code",
   "execution_count": null,
   "id": "established-tribune",
   "metadata": {},
   "outputs": [],
   "source": []
  },
  {
   "cell_type": "markdown",
   "id": "allied-cargo",
   "metadata": {},
   "source": [
    "# Defining the template"
   ]
  },
  {
   "cell_type": "markdown",
   "id": "processed-values",
   "metadata": {},
   "source": [
    "First build up lists of barcodes onlists needed for this protocol the names will be passed to the template."
   ]
  },
  {
   "cell_type": "code",
   "execution_count": 12,
   "id": "behavioral-dressing",
   "metadata": {
    "scrolled": false
   },
   "outputs": [],
   "source": [
    "# this dictionary is team_id: Chemistry: template_filename\n",
    "\n",
    "y2ave_templates = {\n",
    "    \"Team_1\": { # filename in example seqspec matched Team_1.tsv\n",
    "        \"10x_multiome\": \"y2ave_characterization_mcginnis.yaml.j2\",\n",
    "    },\n",
    "    \"Team_2\": { # filenames in table reference CharacterizationMcGinnis\n",
    "        \"10x_multiome\": \"y2ave_characterization_mcginnis.yaml.j2\",        \n",
    "    },\n",
    "    \"Team_3\": {\n",
    "        \"10x_multiome\": \"y2ave_10xmultiome_bridge_satpathy.yaml.j2\",\n",
    "        \"10x_v2\": \"y2ave_10xsnatac.yaml.j2\",\n",
    "    },\n",
    "    \"Team_4\": {\n",
    "        \"10x_v2\": \"y2ave_10xsnatac.yaml.j2\",\n",
    "    },\n",
    "    \"Team_5\": {\n",
    "        \"10x_multiome\": \"y2ave_10xmultiome_bridge_satpathy.yaml.j2\",\n",
    "        \"10x_v2\": \"y2ave_10xsnatac.yaml.j2\",\n",
    "    },\n",
    "    \"Team_6\": { # filename in example seqspec matched Team_6.tsv\n",
    "        \"10x_v2\": \"y2ave_10xsnatac.yaml.j2\",\n",
    "        \"10x_multiome\": \"y2ave_10xmultiome_bridge_satpathy.yaml.j2\",\n",
    "    },\n",
    "    \"Team_7\": { # my team\n",
    "        \"10x_multiome\": \"y2ave_10xmultiome_bridge_satpathy.yaml.j2\",\n",
    "        \"parse\": \"y2ave_parse_bridge.yaml.j2\",\n",
    "    },\n",
    "    \"Team_8\": { # only one shareseq team\n",
    "        \"shareseq\": \"y2ave_shareseq_bmmc_single_donor.yaml.j2\",\n",
    "    }\n",
    "}\n",
    "\n",
    "def format_template_filename(filenames):\n",
    "    if len(filenames) == 0:\n",
    "        return \"\"\n",
    "    else:\n",
    "        return Path(filenames[0]).name\n",
    "\n",
    "def render_seqspec(team_id, row):\n",
    "    context = {\n",
    "        \"ATAC_barcode\": format_template_filename(row.get(\"ATAC_barcode\", [])),\n",
    "        \"ATAC_fastq_R1\": format_template_filename(row.get(\"ATAC_fastq_R1\", [])),\n",
    "        \"ATAC_fastq_R2\": format_template_filename(row.get(\"ATAC_fastq_R2\", [])),\n",
    "        \"Barcode_inclusion_list_ATAC\": format_template_filename(row.get(\"Barcode_inclusion_list_ATAC\", [])),\n",
    "        \"RNA_fastq_R1\": format_template_filename(row.get(\"RNA_fastq_R1\", [])),\n",
    "        \"RNA_fastq_R2\": format_template_filename(row.get(\"RNA_fastq_R2\", [])),\n",
    "        \"Barcode_inclusion_list_RNA\": format_template_filename(row.get(\"Barcode_inclusion_list_RNA\", [])),\n",
    "        \"Barcode_inclusion_list\": format_template_filename(row.get(\"Barcode_inclusion_list\", [])),\n",
    "        \n",
    "    }\n",
    "\n",
    "    # load the template and instantiate it with the context for this specific measurement set.\n",
    "    # this version needs the libspec branch that separates the sequence and library specifications\n",
    "    template = env.get_template(y2ave_templates[team_id][row[\"Chemistry\"]])\n",
    "\n",
    "    # this version needs the original version that merges the sequence and library specification concepts\n",
    "    #parse_wt_mega_v2 = env.get_template(\"parse-wt-mega-v2-single-index-seqspec-0.yaml.j2\")\n",
    "\n",
    "    example_yaml = template.render(context)\n",
    "\n",
    "    # validate the generated seqspec file.\n",
    "    example_spec = load_spec_stream(StringIO(example_yaml))\n",
    "    seqspec_validate(seqspec_schema, example_spec.to_dict())\n",
    "    \n",
    "    args = generate_seqspec_index(example_spec, row)\n",
    "    onlists = validate_seqspec_onlist(example_spec, row)\n",
    "    \n",
    "    return example_yaml"
   ]
  },
  {
   "cell_type": "markdown",
   "id": "inclusive-receiver",
   "metadata": {},
   "source": [
    "## print example seqspec\n",
    "\n",
    "Change the team id and iloc (0-based row number) to generate different specific seqspecs"
   ]
  },
  {
   "cell_type": "code",
   "execution_count": 13,
   "id": "electrical-immune",
   "metadata": {
    "scrolled": false
   },
   "outputs": [
    {
     "name": "stderr",
     "output_type": "stream",
     "text": [
      "Template variable warning: 'Barcode_inclusion_list_RNA_md5' is undefined\n",
      "Template variable warning: 'Barcode_inclusion_list_ATAC_md5' is undefined\n"
     ]
    },
    {
     "name": "stdout",
     "output_type": "stream",
     "text": [
      "Team_6 10x_multiome\n",
      "[1] None is not of type 'string'\n",
      "[2] None is not of type 'string'\n",
      "['ATAC_S1_L001_R1_001.fastq.gz', 'ATAC_S1_L001_R3_001.fastq.gz', 'ATAC_S1_L001_R2_001.fastq.gz']\n",
      "['RNA_S1_L001_R1_001.fastq.gz', 'RNA_S1_L001_R2_001.fastq.gz']\n",
      "!Assay\n",
      "seqspec_version: 0.1.1\n",
      "assay_id: 10xMultiome\n",
      "name: 10x-ATAC-RNA\n",
      "doi: https://www.globenewswire.com/en/news-release/2020/09/15/2093690/0/en/10x-Genomics-First-to-Market-With-Product-to-Simultaneously-Capture-Epigenome-and-Transcriptome.html\n",
      "date: 15 September 2020\n",
      "description: Single Cell Multiome ATAC + Gene Expression\n",
      "modalities:\n",
      "- rna\n",
      "- atac\n",
      "lib_struct: https://teichlab.github.io/scg_lib_structs/methods_html/10xChromium_multiome.html\n",
      "library_protocol: Any\n",
      "library_kit: Illumina Truseq Dual Index\n",
      "sequence_protocol: Illumina NovaSeq 6000\n",
      "sequence_kit: NovaSeq 6000 v1.5\n",
      "sequence_spec:\n",
      "- !Read\n",
      "  read_id: RNA_S1_L001_R1_001.fastq.gz\n",
      "  name: Read 1\n",
      "  modality: rna\n",
      "  primer_id: rna-truseq_read1\n",
      "  min_len: 28\n",
      "  max_len: 28\n",
      "  strand: pos\n",
      "- !Read\n",
      "  read_id: rna-I1.fastq.gz\n",
      "  name: Index 1 (i7 index)\n",
      "  modality: rna\n",
      "  primer_id: rna-truseq_read2\n",
      "  min_len: 8\n",
      "  max_len: 8\n",
      "  strand: pos\n",
      "- !Read\n",
      "  read_id: RNA_S1_L001_R2_001.fastq.gz\n",
      "  name: Read 2\n",
      "  modality: rna\n",
      "  primer_id: rna-truseq_read2\n",
      "  min_len: 90\n",
      "  max_len: 90\n",
      "  strand: neg\n",
      "- !Read\n",
      "  read_id: ATAC_S1_L001_R1_001.fastq.gz\n",
      "  name: Read 1\n",
      "  modality: atac\n",
      "  primer_id: atac-nextera_read1\n",
      "  min_len: 100\n",
      "  max_len: 100\n",
      "  strand: pos\n",
      "- !Read\n",
      "  read_id: atac-I1.fastq.gz\n",
      "  name: Index 1 (i7 index)\n",
      "  modality: atac\n",
      "  primer_id: atac-nextera_read2\n",
      "  min_len: 8\n",
      "  max_len: 8\n",
      "  strand: pos\n",
      "- !Read\n",
      "  read_id: ATAC_S1_L001_R2_001.fastq.gz\n",
      "  name: Technicall index 2 (i5 index), but called R2\n",
      "  modality: atac\n",
      "  primer_id: atac-nextera_read1\n",
      "  min_len: 24\n",
      "  max_len: 24\n",
      "  strand: neg\n",
      "- !Read\n",
      "  read_id: ATAC_S1_L001_R3_001.fastq.gz\n",
      "  name: Read 2\n",
      "  modality: atac\n",
      "  primer_id: atac-nextera_read2\n",
      "  min_len: 100\n",
      "  max_len: 100\n",
      "  strand: neg\n",
      "library_spec:\n",
      "- !Region\n",
      "  parent_id: null\n",
      "  region_id: rna\n",
      "  region_type: rna\n",
      "  name: 10x-ATAC-RNA-seq RNA\n",
      "  sequence_type: joined\n",
      "  sequence: AATGATACGGCGACCACCGAGATCTACACTCTTTCCCTACACGACGCTCTTCCGATCTNNNNNNNNNNNNNNNNXXXXXXXXXXXXXXXXXXXXXXXXXXXXXXXXXXXXXXXXXXXXXXXXXXXXXXXXXXXXXXXXXXXXXXXXXXXXXXXXXXXXXXXXXXXXXXXXXXXXXXXXXXXXXXXXAGATCGGAAGAGCACACGTCTGAACTCCAGTCACNNNNNNNNATCTCGTATGCCGTCTTCTGCTTG\n",
      "  min_len: 153\n",
      "  max_len: 252\n",
      "  onlist: null\n",
      "  regions:\n",
      "  - !Region\n",
      "    parent_id: rna\n",
      "    region_id: rna-illumina_p5\n",
      "    region_type: illumina_p5\n",
      "    name: Illumina P5\n",
      "    sequence_type: fixed\n",
      "    sequence: AATGATACGGCGACCACCGAGATCTACAC\n",
      "    min_len: 29\n",
      "    max_len: 29\n",
      "    onlist: null\n",
      "    regions: null\n",
      "  - !Region\n",
      "    parent_id: rna\n",
      "    region_id: rna-truseq_read1\n",
      "    region_type: truseq_read1\n",
      "    name: RNA Truseq Read 1\n",
      "    sequence_type: fixed\n",
      "    sequence: TCTTTCCCTACACGACGCTCTTCCGATCT\n",
      "    min_len: 29\n",
      "    max_len: 29\n",
      "    onlist: null\n",
      "    regions: null\n",
      "  - !Region\n",
      "    parent_id: rna\n",
      "    region_id: rna-cell_barcode\n",
      "    region_type: barcode\n",
      "    name: Cell Barcode\n",
      "    sequence_type: onlist\n",
      "    sequence: NNNNNNNNNNNNNNNN\n",
      "    min_len: 16\n",
      "    max_len: 16\n",
      "    onlist: !Onlist\n",
      "      filename: 737K-arc-v1_GEX_whitelist.txt.gz\n",
      "      md5: \n",
      "      location: local\n",
      "    regions: null\n",
      "  - !Region\n",
      "    region_id: rna-umi\n",
      "    region_type: umi\n",
      "    name: GEX UMI\n",
      "    sequence_type: random\n",
      "    sequence: XXXXXXXXXXXX\n",
      "    min_len: 12\n",
      "    max_len: 12\n",
      "    onlist: null\n",
      "    regions: null\n",
      "    parent_id: rna\n",
      "  - !Region\n",
      "    parent_id: rna\n",
      "    region_id: rna-cDNA\n",
      "    region_type: cdna\n",
      "    name: RNA-cDNA\n",
      "    sequence_type: random\n",
      "    sequence: XXXXXXXXXXXXXXXXXXXXXXXXXXXXXXXXXXXXXXXXXXXXXXXXXXXXXXXXXXXXXXXXXXXXXXXXXXXXXXXXXXXXXXXXXXXXXXXXXXXX\n",
      "    min_len: 1\n",
      "    max_len: 100\n",
      "    onlist: null\n",
      "    regions: null\n",
      "  - !Region\n",
      "    parent_id: rna\n",
      "    region_id: rna-truseq_read2\n",
      "    region_type: truseq_read2\n",
      "    name: Truseq Read 2\n",
      "    sequence_type: fixed\n",
      "    sequence: AGATCGGAAGAGCACACGTCTGAACTCCAGTCAC\n",
      "    min_len: 34\n",
      "    max_len: 34\n",
      "    onlist: null\n",
      "    regions: null\n",
      "  - !Region\n",
      "    parent_id: rna\n",
      "    region_id: rna-index7\n",
      "    region_type: index7\n",
      "    name: Truseq Read 2\n",
      "    sequence_type: onlist\n",
      "    sequence: NNNNNNNN\n",
      "    min_len: 8\n",
      "    max_len: 8\n",
      "    onlist: !Onlist\n",
      "      filename: index7_onlist_RNA-ATAC.txt\n",
      "      md5: fcb5fe7d14ffc9984cd5450413c7a742\n",
      "      location: local\n",
      "    regions: null\n",
      "  - !Region\n",
      "    parent_id: rna\n",
      "    region_id: rna-illumina_p7\n",
      "    region_type: illumina_p7\n",
      "    name: Illumina P7\n",
      "    sequence_type: fixed\n",
      "    sequence: ATCTCGTATGCCGTCTTCTGCTTG\n",
      "    min_len: 24\n",
      "    max_len: 24\n",
      "    onlist: null\n",
      "    regions: null\n",
      "- !Region\n",
      "  parent_id: null\n",
      "  region_id: atac\n",
      "  region_type: atac\n",
      "  name: ATAC\n",
      "  sequence_type: joined\n",
      "  sequence: AATGATACGGCGACCACCGAGATCTACACNNNNNNNNNNNNNNNNCGCGTCTGTCGTCGGCAGCGTCAGATGTGTATAAGAGACAGXXXXXXXXXXXXXXXXXXXXXXXXXXXXXXXXXXXXXXXXXXXXXXXXXXXXXXXXXXXXXXXXXXXXXXXXXXXXXXXXXXXXXXXXXXXXXXXXXXXXCTGTCTCTTATACACATCTCCGAGCCCACGAGACNNNNNNNNATCTCGTATGCCGTCTTCTGCTTG\n",
      "  min_len: 153\n",
      "  max_len: 252\n",
      "  onlist: null\n",
      "  regions:\n",
      "  - !Region\n",
      "    parent_id: atac\n",
      "    region_id: atac-illumina_p5\n",
      "    region_type: illumina_p5\n",
      "    name: Illumina P5\n",
      "    sequence_type: fixed\n",
      "    sequence: AATGATACGGCGACCACCGAGATCTACAC\n",
      "    min_len: 29\n",
      "    max_len: 29\n",
      "    onlist: null\n",
      "    regions: null\n",
      "  - !Region\n",
      "    parent_id: atac\n",
      "    region_id: atac-cell_barcode\n",
      "    region_type: barcode\n",
      "    name: R2 Cell Barcode\n",
      "    sequence_type: onlist\n",
      "    sequence: NNNNNNNNNNNNNNNN\n",
      "    min_len: 16\n",
      "    max_len: 16\n",
      "    onlist: !Onlist\n",
      "      filename: 737K-arc-v1_ATAC_whitelist.txt.gz\n",
      "      md5: \n",
      "      location: local\n",
      "    regions: null\n",
      "  - !Region\n",
      "    parent_id: atac\n",
      "    region_id: atac-linker\n",
      "    region_type: linker\n",
      "    name: atac linker\n",
      "    sequence_type: fixed\n",
      "    sequence: CGCGTCTG\n",
      "    min_len: 8\n",
      "    max_len: 8\n",
      "    onlist: null\n",
      "    regions: null\n",
      "  - !Region\n",
      "    parent_id: atac\n",
      "    region_id: atac-nextera_read1\n",
      "    region_type: nextera_read1\n",
      "    name: nextera_read1\n",
      "    sequence_type: fixed\n",
      "    sequence: TCGTCGGCAGCGTCAGATGTGTATAAGAGACAG\n",
      "    min_len: 33\n",
      "    max_len: 33\n",
      "    onlist: null\n",
      "    regions: null\n",
      "  - !Region\n",
      "    parent_id: atac\n",
      "    region_id: gDNA\n",
      "    region_type: gdna\n",
      "    name: gDNA\n",
      "    sequence_type: random\n",
      "    sequence: XXXXXXXXXXXXXXXXXXXXXXXXXXXXXXXXXXXXXXXXXXXXXXXXXXXXXXXXXXXXXXXXXXXXXXXXXXXXXXXXXXXXXXXXXXXXXXXXXXXX\n",
      "    min_len: 1\n",
      "    max_len: 100\n",
      "    onlist: null\n",
      "    regions: null\n",
      "  - !Region\n",
      "    parent_id: atac\n",
      "    region_id: atac-nextera_read2\n",
      "    region_type: nextera_read2\n",
      "    name: nextera_read2\n",
      "    sequence_type: fixed\n",
      "    sequence: CTGTCTCTTATACACATCTCCGAGCCCACGAGAC\n",
      "    min_len: 34\n",
      "    max_len: 34\n",
      "    onlist: null\n",
      "    regions: null\n",
      "  - !Region\n",
      "    parent_id: atac\n",
      "    region_id: atac-index7\n",
      "    region_type: index7\n",
      "    name: ATAC index7\n",
      "    sequence_type: onlist\n",
      "    sequence: NNNNNNNN\n",
      "    min_len: 8\n",
      "    max_len: 8\n",
      "    onlist: !Onlist\n",
      "      filename: index7_onlist_RNA-ATAC.txt\n",
      "      md5: fcb5fe7d14ffc9984cd5450413c7a742\n",
      "      location: local\n",
      "    regions: null\n",
      "  - !Region\n",
      "    parent_id: atac\n",
      "    region_id: atac-illumina_p7\n",
      "    region_type: illumina_p7\n",
      "    name: Illumina P7\n",
      "    sequence_type: fixed\n",
      "    sequence: ATCTCGTATGCCGTCTTCTGCTTG\n",
      "    min_len: 24\n",
      "    max_len: 24\n",
      "    onlist: null\n",
      "    regions: null\n"
     ]
    }
   ],
   "source": [
    "# Print the example for evaluation.\n",
    "team_id = \"Team_6\"\n",
    "example_table = load_team_table(team_id)\n",
    "example_row = example_table.iloc[1]\n",
    "print(team_id, example_row[\"Chemistry\"])\n",
    "example_yaml = render_seqspec(team_id, example_row)\n",
    "print(example_yaml)"
   ]
  },
  {
   "cell_type": "code",
   "execution_count": 14,
   "id": "opposite-merchant",
   "metadata": {},
   "outputs": [
    {
     "name": "stderr",
     "output_type": "stream",
     "text": [
      "ERROR:root:No traceback has been produced, nothing to debug.\n"
     ]
    }
   ],
   "source": [
    "%debug"
   ]
  },
  {
   "cell_type": "markdown",
   "id": "detected-impression",
   "metadata": {},
   "source": [
    "## generate seqspec charts\n",
    "\n",
    "Intended to help double check the seqspec file"
   ]
  },
  {
   "cell_type": "code",
   "execution_count": 15,
   "id": "centered-bookmark",
   "metadata": {},
   "outputs": [
    {
     "name": "stdout",
     "output_type": "stream",
     "text": [
      "                                                    ┌─'rna-illumina_p5:29'\n",
      "                                                    ├─'rna-truseq_read1:29'\n",
      "                                                    ├─'rna-cell_barcode:16'\n",
      "                                                    ├─'rna-umi:12'\n",
      "                          ┌─rna─────────────────────┤\n",
      "                          │                         ├─'rna-cDNA:100'\n",
      "                          │                         ├─'rna-truseq_read2:34'\n",
      "                          │                         ├─'rna-index7:8'\n",
      "                          │                         └─'rna-illumina_p7:24'\n",
      "──────────────────────────┤\n",
      "                          │                         ┌─'atac-illumina_p5:29'\n",
      "                          │                         ├─'atac-cell_barcode:16'\n",
      "                          │                         ├─'atac-linker:8'\n",
      "                          │                         ├─'atac-nextera_read1:33'\n",
      "                          └─atac────────────────────┤\n",
      "                                                    ├─'gDNA:100'\n",
      "                                                    ├─'atac-nextera_read2:34'\n",
      "                                                    ├─'atac-index7:8'\n",
      "                                                    └─'atac-illumina_p7:24'\n"
     ]
    }
   ],
   "source": [
    "example_spec = load_spec_stream(StringIO(example_yaml))\n",
    "print(run_print_library_tree(example_spec))"
   ]
  },
  {
   "cell_type": "code",
   "execution_count": 21,
   "id": "parental-potato",
   "metadata": {},
   "outputs": [
    {
     "data": {
      "image/png": "[encoded data removed]",
      "text/plain": [
       "<Figure size 1000x200 with 2 Axes>"
      ]
     },
     "metadata": {},
     "output_type": "display_data"
    }
   ],
   "source": [
    "_ = run_print_library_png(example_spec)"
   ]
  },
  {
   "cell_type": "markdown",
   "id": "unable-heater",
   "metadata": {},
   "source": [
    "# generate tool arguments from seqspec index command"
   ]
  },
  {
   "cell_type": "code",
   "execution_count": 17,
   "id": "dated-explorer",
   "metadata": {},
   "outputs": [
    {
     "name": "stdout",
     "output_type": "stream",
     "text": [
      "['ATAC_S1_L001_R1_001.fastq.gz', 'ATAC_S1_L001_R3_001.fastq.gz', 'ATAC_S1_L001_R2_001.fastq.gz']\n",
      "['RNA_S1_L001_R1_001.fastq.gz', 'RNA_S1_L001_R2_001.fastq.gz']\n"
     ]
    },
    {
     "data": {
      "text/plain": [
       "{'chromap': '-1 ATAC_S1_L001_R1_001.fastq.gz -2 ATAC_S1_L001_R3_001.fastq.gz --barcode ATAC_S1_L001_R2_001.fastq.gz --read-format bc:8:24,r1:0:100,r2:0:100',\n",
       " 'kb': '0,0,16:0,16,28:1,0,90'}"
      ]
     },
     "execution_count": 17,
     "metadata": {},
     "output_type": "execute_result"
    }
   ],
   "source": [
    "generate_seqspec_index(example_spec, example_row)"
   ]
  },
  {
   "cell_type": "markdown",
   "id": "worse-highland",
   "metadata": {},
   "source": [
    "## print example onlist"
   ]
  },
  {
   "cell_type": "code",
   "execution_count": 18,
   "id": "proof-poison",
   "metadata": {},
   "outputs": [
    {
     "data": {
      "text/plain": [
       "{'atac': ['737K-arc-v1_ATAC_whitelist.txt.gz'],\n",
       " 'rna': ['737K-arc-v1_GEX_whitelist.txt.gz']}"
      ]
     },
     "execution_count": 18,
     "metadata": {},
     "output_type": "execute_result"
    }
   ],
   "source": [
    "validate_seqspec_onlist(example_spec, example_row)"
   ]
  },
  {
   "cell_type": "code",
   "execution_count": null,
   "id": "unknown-cambodia",
   "metadata": {},
   "outputs": [],
   "source": []
  },
  {
   "cell_type": "code",
   "execution_count": null,
   "id": "becoming-creator",
   "metadata": {},
   "outputs": [],
   "source": []
  },
  {
   "cell_type": "markdown",
   "id": "immune-cargo",
   "metadata": {},
   "source": [
    "# Generate team seqspec tarfile"
   ]
  },
  {
   "cell_type": "markdown",
   "id": "weekly-brief",
   "metadata": {},
   "source": [
    "Once everything looks good, generate a tarfile of all the seqspecs for a team table change team_id here to pick the table you want."
   ]
  },
  {
   "cell_type": "code",
   "execution_count": 19,
   "id": "sunrise-advice",
   "metadata": {
    "scrolled": false
   },
   "outputs": [],
   "source": [
    "def save_team_seqspecs_targz(team_id, table):\n",
    "    destination = f\"{team_id}_seqspecs.tar.gz\"\n",
    "    with tarfile.open(destination, \"w:gz\") as archive:\n",
    "        for i, row in table.iterrows():\n",
    "            row_name = row[0]\n",
    "            print(\"Processing {}\".format(row_name))\n",
    "            spec_yaml = render_seqspec(team_id, row)\n",
    "            spec_stream = BytesIO(spec_yaml.encode(\"utf-8\"))\n",
    "            spec_filename = f\"{team_id}_{row_name}_seqspec.yaml\"\n",
    "            spec_tarinfo = tarfile.TarInfo(str(spec_filename))\n",
    "            spec_tarinfo.size = len(spec_yaml)\n",
    "            archive.addfile(spec_tarinfo, fileobj=spec_stream)\n",
    "\n",
    "\n",
    "def save_team_seqspecs_directory(destination, team_id, table):\n",
    "    arguments = []\n",
    "    raw_url = \"https://raw.githubusercontent.com/detrout/y2ave_seqspecs/main/{filename}\"\n",
    "    \n",
    "    for i, row in table.iterrows():\n",
    "        row_name = row[0]\n",
    "        print(\"Processing {} {}\".format(team_id, row_name))\n",
    "        spec_filename = f\"{team_id}_{row_name}_seqspec.yaml\"\n",
    "        spec_yaml = render_seqspec(team_id, row)\n",
    "        with open(destination/spec_filename, \"wt\") as outstream:\n",
    "            outstream.write(spec_yaml)\n",
    "            \n",
    "        spec = load_spec_stream(StringIO(spec_yaml))\n",
    "        arg_row = {\n",
    "            \"team_id\": team_id,\n",
    "            \"dataset_id\": row_name,\n",
    "            \"url\": raw_url.format(filename=spec_filename),\n",
    "        }\n",
    "        print(generate_seqspec_index(spec, row))\n",
    "        arg_row.update(generate_seqspec_index(spec, row))\n",
    "        arguments.append(arg_row)\n",
    "\n",
    "    return arguments\n",
    "\n",
    "arguments = []\n",
    "destination = Path(\"~/proj/y2ave_seqspecs\").expanduser()\n",
    "\n",
    "dry_run = True\n",
    "if not dry_run:\n",
    "    for team_id in [\"Team_1\", \"Team_2\", \"Team_3\", \"Team_4\", \"Team_7\", \"Team_8\"]:\n",
    "        print(f\"Processing {team_id}\")\n",
    "        arguments.extend(save_team_seqspecs_directory(destination, team_id, load_team_table(team_id)))\n",
    "\n",
    "    pandas.DataFrame(arguments).to_csv(destination/\"all_arguments.tsv\", sep=\"\\t\", index=False)    "
   ]
  },
  {
   "cell_type": "code",
   "execution_count": 20,
   "id": "sound-royalty",
   "metadata": {},
   "outputs": [
    {
     "name": "stderr",
     "output_type": "stream",
     "text": [
      "ERROR:root:No traceback has been produced, nothing to debug.\n"
     ]
    }
   ],
   "source": [
    "%debug"
   ]
  },
  {
   "cell_type": "code",
   "execution_count": null,
   "id": "material-density",
   "metadata": {},
   "outputs": [],
   "source": []
  }
 ],
 "metadata": {
  "kernelspec": {
   "display_name": "Python 3 (ipykernel)",
   "language": "python",
   "name": "python3"
  },
  "language_info": {
   "codemirror_mode": {
    "name": "ipython",
    "version": 3
   },
   "file_extension": ".py",
   "mimetype": "text/x-python",
   "name": "python",
   "nbconvert_exporter": "python",
   "pygments_lexer": "ipython3",
   "version": "3.11.2"
  }
 },
 "nbformat": 4,
 "nbformat_minor": 5
}
