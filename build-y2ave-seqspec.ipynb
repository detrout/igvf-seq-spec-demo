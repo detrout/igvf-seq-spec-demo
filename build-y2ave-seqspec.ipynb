{
 "cells": [
  {
   "cell_type": "markdown",
   "id": "expected-boutique",
   "metadata": {},
   "source": [
    "# Introduction\n",
    "\n",
    "The Y2AVE project needs seqspecs that use filenames available on synapse.\n",
    "\n",
    "- [Python environment](#Setup)\n",
    "- [Seqspec template function](#Template)\n",
    "- [Seqspec submission functions](#Seqspec-Submission-functions)\n"
   ]
  },
  {
   "cell_type": "markdown",
   "id": "systematic-binary",
   "metadata": {},
   "source": [
    "# Setup\n",
    "\n",
    "First we start with general imports"
   ]
  },
  {
   "cell_type": "code",
   "execution_count": null,
   "id": "irish-queue",
   "metadata": {},
   "outputs": [],
   "source": [
    "import hashlib\n",
    "import requests\n",
    "from pathlib import Path\n",
    "from io import StringIO, BytesIO\n",
    "import sys\n",
    "import json\n",
    "from jsonschema import Draft4Validator\n",
    "import logging\n",
    "import pandas\n",
    "import os\n",
    "import sys\n",
    "import tarfile\n",
    "from urllib.parse import urlparse\n",
    "import yaml"
   ]
  },
  {
   "cell_type": "code",
   "execution_count": null,
   "id": "double-break",
   "metadata": {},
   "outputs": [],
   "source": [
    "try:\n",
    "    from jinja2 import Environment\n",
    "except ImportError:\n",
    "    !{sys.executable} -m pip install --user jinja2\n",
    "    from jinja2 import Environment\n",
    "\n",
    "from jinja2 import FileSystemLoader, select_autoescape, Undefined, StrictUndefined, make_logging_undefined\n",
    "\n",
    "logger = logging.getLogger(__name__)\n",
    "LoggingUndefined = make_logging_undefined(\n",
    "    logger=logger,\n",
    "    base=Undefined\n",
    ")\n",
    "\n",
    "env = Environment(\n",
    "    loader=FileSystemLoader(\"templates\"),\n",
    "    autoescape=select_autoescape(),\n",
    "    undefined=LoggingUndefined,\n",
    ")"
   ]
  },
  {
   "cell_type": "markdown",
   "id": "bibliographic-jonathan",
   "metadata": {},
   "source": [
    "I want to be able to use the seqspec validator while I was writing my seqspec file.\n",
    "\n",
    "I have the repository checked out into ~/proj/seqspec. This block should either import it for me, or install it if someone elese runs it."
   ]
  },
  {
   "cell_type": "code",
   "execution_count": null,
   "id": "fleet-pillow",
   "metadata": {},
   "outputs": [],
   "source": [
    "try:\n",
    "    import seqspec\n",
    "except ImportError:\n",
    "    seqspec_root = Path(\"~/proj/seqspec\").expanduser()\n",
    "    if seqspec_root.exists() and str(seqspec_root) not in sys.path:\n",
    "        sys.path.append(str(seqspec_root))\n",
    "    else:\n",
    "        !{sys.executable} -m pip install --user seqspec\n",
    "    import seqspec"
   ]
  },
  {
   "cell_type": "markdown",
   "id": "usual-census",
   "metadata": {},
   "source": [
    "Import pieces of seqspec that we need for this notebook."
   ]
  },
  {
   "cell_type": "code",
   "execution_count": null,
   "id": "entire-faculty",
   "metadata": {},
   "outputs": [],
   "source": [
    "from seqspec.Assay import Assay\n",
    "from seqspec.Region import Region\n",
    "from seqspec.Region import Onlist\n",
    "from seqspec.utils import load_spec_stream\n",
    "from seqspec.seqspec_index import run_index, get_index\n",
    "from seqspec.seqspec_print import run_print_sequence_spec, run_print_library_tree, run_print_library_png\n",
    "from seqspec.seqspec_onlist import run_list_onlists, run_onlist_read, run_find_by_type"
   ]
  },
  {
   "cell_type": "markdown",
   "id": "valuable-meditation",
   "metadata": {},
   "source": [
    "## submission variables"
   ]
  },
  {
   "cell_type": "code",
   "execution_count": null,
   "id": "usual-greenhouse",
   "metadata": {},
   "outputs": [],
   "source": [
    "def parse_list_field(cell):\n",
    "    if cell is None:\n",
    "        return\n",
    "    elif len(cell) < 2:\n",
    "        return\n",
    "\n",
    "    if cell[0] == \"[\" and cell[-1] == \"]\":\n",
    "        values = []\n",
    "        for element in cell[1:-1].split(\",\"):\n",
    "            values.append(element[1:-1])\n",
    "        return values\n",
    "    else:\n",
    "        return cell\n",
    "\n",
    "\n",
    "def load_team_table(team_id):\n",
    "    team = pandas.read_csv(\n",
    "        Path(f\"{team_id}.tsv\"), \n",
    "        sep=\"\\t\",\n",
    "        converters = {\n",
    "            \"ATAC_fastq_R1\": parse_list_field, \n",
    "            \"ATAC_fastq_R2\": parse_list_field,\n",
    "            \"RNA_fastq_R1\": parse_list_field,\n",
    "            \"RNA_fastq_R2\": parse_list_field,\n",
    "        }\n",
    "\n",
    "    )\n",
    "    return team"
   ]
  },
  {
   "cell_type": "code",
   "execution_count": null,
   "id": "generic-notification",
   "metadata": {},
   "outputs": [],
   "source": [
    "teams = [\"Team_1\", \"Team_2\", \"Team_3\", \"Team_4\", \"Team_5\", \"Team_6\", \"Team_7\", \"Team_8\"]\n",
    "\n",
    "for team_id in teams:\n",
    "    table = load_team_table(team_id)\n",
    "    print(team_id, set(table[\"Chemistry\"]), table.columns)"
   ]
  },
  {
   "cell_type": "markdown",
   "id": "female-battery",
   "metadata": {},
   "source": [
    "## setup seqspec validation"
   ]
  },
  {
   "cell_type": "code",
   "execution_count": null,
   "id": "nearby-canon",
   "metadata": {},
   "outputs": [],
   "source": [
    "def seqspec_validate(schema, spec):\n",
    "    \"\"\"Validate a yaml object against a json schema\n",
    "    \"\"\"\n",
    "    validator = Draft4Validator(schema)\n",
    "\n",
    "    for idx, error in enumerate(validator.iter_errors(spec), 1):\n",
    "        print(f\"[{idx}] {error.message}\")"
   ]
  },
  {
   "cell_type": "code",
   "execution_count": null,
   "id": "minor-harmony",
   "metadata": {},
   "outputs": [],
   "source": [
    "schema_path = seqspec_root / \"seqspec\"/ \"schema\" / \"seqspec.schema.json\"\n",
    "\n",
    "with open(schema_path, \"rt\") as instream:\n",
    "    seqspec_schema = json.load(instream)"
   ]
  },
  {
   "cell_type": "code",
   "execution_count": null,
   "id": "regional-remedy",
   "metadata": {},
   "outputs": [],
   "source": [
    "def load_spec(filename):\n",
    "    with open(filename, \"rt\") as instream:\n",
    "        data = yaml.load(instream, Loader=yaml.Loader)\n",
    "        for r in data.assay_spec:\n",
    "            r.set_parent_id(None)\n",
    "    return data"
   ]
  },
  {
   "cell_type": "markdown",
   "id": "allied-cargo",
   "metadata": {},
   "source": [
    "# Template"
   ]
  },
  {
   "cell_type": "markdown",
   "id": "prime-terrain",
   "metadata": {},
   "source": [
    "## template context"
   ]
  },
  {
   "cell_type": "markdown",
   "id": "processed-values",
   "metadata": {},
   "source": [
    "First build up lists of barcodes onlists needed for this protocol the names will be passed to the template."
   ]
  },
  {
   "cell_type": "code",
   "execution_count": null,
   "id": "pointed-worcester",
   "metadata": {},
   "outputs": [],
   "source": [
    "# this dictionary is team_id: Chemistry: template_filename\n",
    "\n",
    "y2ave_templates = {\n",
    "    \"Team_7\": {\n",
    "        \"10x_multiome\": \"y2ave_10xmultiome_bridge_satpathy.yaml\",\n",
    "        \"parse\": \"y2ave_parse_bridge.yaml\",\n",
    "    },\n",
    "    \"Team_8\": {\n",
    "        \"share\": \"y2ave_shareseq_bmmc_single_donor.yaml\",\n",
    "    }\n",
    "}"
   ]
  },
  {
   "cell_type": "markdown",
   "id": "handled-nickname",
   "metadata": {},
   "source": [
    "Define the the file information needed to define this seqspec."
   ]
  },
  {
   "cell_type": "code",
   "execution_count": null,
   "id": "behavioral-dressing",
   "metadata": {
    "scrolled": false
   },
   "outputs": [],
   "source": [
    "def format_template_filename(filenames):\n",
    "    if len(filenames) == 0:\n",
    "        return \"\"\n",
    "    else:\n",
    "        return Path(filenames[0]).name\n",
    "\n",
    "def render_seqspec(team_id, row):\n",
    "    context = {\n",
    "        \"ATAC_fastq_R1\": format_template_filename(row[\"ATAC_fastq_R1\"]),\n",
    "        \"ATAC_fastq_R2\": format_template_filename(row[\"ATAC_fastq_R2\"]),\n",
    "        \"RNA_fastq_R1\": format_template_filename(row[\"RNA_fastq_R1\"]),\n",
    "        \"RNA_fastq_R2\": format_template_filename(row[\"RNA_fastq_R2\"]),\n",
    "    }\n",
    "    optional = [\"ATAC_fastq_R3\"]\n",
    "    for name in optional:\n",
    "        if name in row:\n",
    "            context[name] = row[name]\n",
    "    # load the template and instantiate it with the context for this specific measurement set.\n",
    "    # this version needs the libspec branch that separates the sequence and library specifications\n",
    "    template = env.get_template(y2ave_templates[team_id][row[\"Chemistry\"]])\n",
    "\n",
    "    # this version needs the original version that merges the sequence and library specification concepts\n",
    "    #parse_wt_mega_v2 = env.get_template(\"parse-wt-mega-v2-single-index-seqspec-0.yaml.j2\")\n",
    "\n",
    "    example_yaml = template.render(context)\n",
    "\n",
    "    # validate the generated seqspec file.\n",
    "    example_spec = load_spec_stream(StringIO(example_yaml))\n",
    "    seqspec_validate(seqspec_schema, example_spec.to_dict())\n",
    "    \n",
    "    return example_yaml\n",
    "\n",
    "# Print the example for evaluation.\n",
    "team_id = \"Team_7\"\n",
    "example_yaml = render_seqspec(team_id, load_team_table(team_id).iloc[8])\n",
    "print(example_yaml)"
   ]
  },
  {
   "cell_type": "code",
   "execution_count": null,
   "id": "electrical-immune",
   "metadata": {},
   "outputs": [],
   "source": []
  },
  {
   "cell_type": "code",
   "execution_count": null,
   "id": "centered-bookmark",
   "metadata": {},
   "outputs": [],
   "source": [
    "example_spec = load_spec_stream(StringIO(example_yaml))\n",
    "print(run_print_library_tree(example_spec))"
   ]
  },
  {
   "cell_type": "code",
   "execution_count": null,
   "id": "parental-potato",
   "metadata": {},
   "outputs": [],
   "source": [
    "run_print_library_png(example_spec)"
   ]
  },
  {
   "cell_type": "code",
   "execution_count": null,
   "id": "intended-broadcast",
   "metadata": {},
   "outputs": [],
   "source": []
  },
  {
   "cell_type": "code",
   "execution_count": null,
   "id": "sunrise-advice",
   "metadata": {},
   "outputs": [],
   "source": [
    "def save_team_seqspecs(team_id, table):\n",
    "    destination = f\"{team_id}_seqspecs.tar.gz\"\n",
    "    with tarfile.open(destination, \"w:gz\") as archive:\n",
    "        for i, row in table.iterrows():\n",
    "            row_name = row[0]\n",
    "            print(\"Processing {}\".format(row_name))\n",
    "            spec_yaml = render_seqspec(team_id, row)\n",
    "            spec_stream = BytesIO(spec_yaml.encode(\"utf-8\"))\n",
    "            spec_filename = f\"{team_id}_{row_name}_seqspec.yaml\"\n",
    "            spec_tarinfo = tarfile.TarInfo(str(spec_filename))\n",
    "            spec_tarinfo.size = len(spec_yaml)\n",
    "            archive.addfile(spec_tarinfo, fileobj=spec_stream)\n",
    "\n",
    "\n",
    "team_id = \"Team_7\"\n",
    "save_team_seqspecs(team_id, load_team_table(team_id))"
   ]
  },
  {
   "cell_type": "code",
   "execution_count": null,
   "id": "usual-chapter",
   "metadata": {},
   "outputs": [],
   "source": []
  }
 ],
 "metadata": {
  "kernelspec": {
   "display_name": "Python 3",
   "language": "python",
   "name": "python3"
  },
  "language_info": {
   "codemirror_mode": {
    "name": "ipython",
    "version": 3
   },
   "file_extension": ".py",
   "mimetype": "text/x-python",
   "name": "python",
   "nbconvert_exporter": "python",
   "pygments_lexer": "ipython3",
   "version": "3.9.2"
  }
 },
 "nbformat": 4,
 "nbformat_minor": 5
}
